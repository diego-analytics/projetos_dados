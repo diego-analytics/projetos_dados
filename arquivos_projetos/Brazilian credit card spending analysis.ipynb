{
 "cells": [
  {
   "cell_type": "markdown",
   "id": "7077050f",
   "metadata": {},
   "source": [
    "# Análise de Gastos com Cartão de Crédito no Brasil\n",
    "\n",
    "Neste projeto vamos analisar o perfil de gastos no crédito dos clientes de um banco mediano brasileiro. Nos dados que temos disponíveis, possuímos o ID de cada usuário, junto ao seu sexo e idade, assim como o número da agência, a cidade e o estado em que foi registrada a transação. Temos também o valor, a data, o tipo de despesa, a cidade e o país onde a compra foi realizada.\n",
    "\n",
    "Procuramos entender como é o perfil de gastos dos clientes, o valor gasto por dia, a diferença entre os consumidores de cada cidade e os tipos de compras mais comuns.\n",
    "\n",
    "Os dados foram obtidos através [deste dataset](https://www.kaggle.com/datasets/sufyant/brazilian-real-bank-dataset) do Kaggle."
   ]
  },
  {
   "cell_type": "markdown",
   "id": "16cadff9",
   "metadata": {},
   "source": [
    "## Pré-processamento dos dados"
   ]
  },
  {
   "cell_type": "markdown",
   "id": "0e748016",
   "metadata": {},
   "source": [
    "Vamos começar importando algumas bibliotecas que nos ajudarão na no projeto."
   ]
  },
  {
   "cell_type": "code",
   "execution_count": 1,
   "id": "330ab537",
   "metadata": {},
   "outputs": [],
   "source": [
    "# Biblioteca para criação e manipulação de bancos de dados\n",
    "import pandas as pd\n",
    "\n",
    "# Biblioteca para criação de gráficos e diagramas\n",
    "import matplotlib.pyplot as plt"
   ]
  },
  {
   "cell_type": "markdown",
   "id": "5c1f77fc",
   "metadata": {},
   "source": [
    "Agora podemos carregar nossos dados."
   ]
  },
  {
   "cell_type": "code",
   "execution_count": 2,
   "id": "509f823b",
   "metadata": {},
   "outputs": [
    {
     "data": {
      "text/html": [
       "<div>\n",
       "<style scoped>\n",
       "    .dataframe tbody tr th:only-of-type {\n",
       "        vertical-align: middle;\n",
       "    }\n",
       "\n",
       "    .dataframe tbody tr th {\n",
       "        vertical-align: top;\n",
       "    }\n",
       "\n",
       "    .dataframe thead th {\n",
       "        text-align: right;\n",
       "    }\n",
       "</style>\n",
       "<table border=\"1\" class=\"dataframe\">\n",
       "  <thead>\n",
       "    <tr style=\"text-align: right;\">\n",
       "      <th></th>\n",
       "      <th>id</th>\n",
       "      <th>safra_abertura</th>\n",
       "      <th>cidade</th>\n",
       "      <th>estado</th>\n",
       "      <th>idade</th>\n",
       "      <th>sexo</th>\n",
       "      <th>limite_total</th>\n",
       "      <th>limite_disp</th>\n",
       "      <th>data</th>\n",
       "      <th>valor</th>\n",
       "      <th>grupo_estabelecimento</th>\n",
       "      <th>cidade_estabelecimento</th>\n",
       "      <th>pais_estabelecimento</th>\n",
       "    </tr>\n",
       "  </thead>\n",
       "  <tbody>\n",
       "    <tr>\n",
       "      <th>0</th>\n",
       "      <td>4.530000e+11</td>\n",
       "      <td>201405</td>\n",
       "      <td>CAMPO LIMPO PAULISTA</td>\n",
       "      <td>SP</td>\n",
       "      <td>37</td>\n",
       "      <td>F</td>\n",
       "      <td>4700</td>\n",
       "      <td>5605</td>\n",
       "      <td>2019-12-04</td>\n",
       "      <td>31.00</td>\n",
       "      <td>SERVI‚O</td>\n",
       "      <td>SAO PAULO</td>\n",
       "      <td>BR</td>\n",
       "    </tr>\n",
       "    <tr>\n",
       "      <th>1</th>\n",
       "      <td>4.530000e+11</td>\n",
       "      <td>201405</td>\n",
       "      <td>CAMPO LIMPO PAULISTA</td>\n",
       "      <td>SP</td>\n",
       "      <td>37</td>\n",
       "      <td>F</td>\n",
       "      <td>4700</td>\n",
       "      <td>5343</td>\n",
       "      <td>2019-11-09</td>\n",
       "      <td>150.01</td>\n",
       "      <td>FARMACIAS</td>\n",
       "      <td>SANTOS</td>\n",
       "      <td>BR</td>\n",
       "    </tr>\n",
       "    <tr>\n",
       "      <th>2</th>\n",
       "      <td>4.530000e+11</td>\n",
       "      <td>201405</td>\n",
       "      <td>CAMPO LIMPO PAULISTA</td>\n",
       "      <td>SP</td>\n",
       "      <td>37</td>\n",
       "      <td>F</td>\n",
       "      <td>4700</td>\n",
       "      <td>2829</td>\n",
       "      <td>2019-05-06</td>\n",
       "      <td>50.00</td>\n",
       "      <td>SERVI‚O</td>\n",
       "      <td>SAO PAULO</td>\n",
       "      <td>BR</td>\n",
       "    </tr>\n",
       "    <tr>\n",
       "      <th>3</th>\n",
       "      <td>4.530000e+11</td>\n",
       "      <td>201405</td>\n",
       "      <td>CAMPO LIMPO PAULISTA</td>\n",
       "      <td>SP</td>\n",
       "      <td>37</td>\n",
       "      <td>F</td>\n",
       "      <td>4700</td>\n",
       "      <td>2547</td>\n",
       "      <td>2019-06-01</td>\n",
       "      <td>54.40</td>\n",
       "      <td>M.O.T.O.</td>\n",
       "      <td>OSASCO</td>\n",
       "      <td>BR</td>\n",
       "    </tr>\n",
       "    <tr>\n",
       "      <th>4</th>\n",
       "      <td>4.530000e+11</td>\n",
       "      <td>201405</td>\n",
       "      <td>CAMPO LIMPO PAULISTA</td>\n",
       "      <td>SP</td>\n",
       "      <td>37</td>\n",
       "      <td>F</td>\n",
       "      <td>4700</td>\n",
       "      <td>2515</td>\n",
       "      <td>2019-06-01</td>\n",
       "      <td>32.79</td>\n",
       "      <td>M.O.T.O.</td>\n",
       "      <td>OSASCO</td>\n",
       "      <td>BR</td>\n",
       "    </tr>\n",
       "  </tbody>\n",
       "</table>\n",
       "</div>"
      ],
      "text/plain": [
       "             id  safra_abertura                  cidade estado  idade sexo  \\\n",
       "0  4.530000e+11          201405  CAMPO LIMPO PAULISTA      SP      37    F   \n",
       "1  4.530000e+11          201405  CAMPO LIMPO PAULISTA      SP      37    F   \n",
       "2  4.530000e+11          201405  CAMPO LIMPO PAULISTA      SP      37    F   \n",
       "3  4.530000e+11          201405  CAMPO LIMPO PAULISTA      SP      37    F   \n",
       "4  4.530000e+11          201405  CAMPO LIMPO PAULISTA      SP      37    F   \n",
       "\n",
       "   limite_total  limite_disp       data   valor  grupo_estabelecimento  \\\n",
       "0          4700         5605 2019-12-04    31.00               SERVI‚O   \n",
       "1          4700         5343 2019-11-09   150.01             FARMACIAS   \n",
       "2          4700         2829 2019-05-06    50.00               SERVI‚O   \n",
       "3          4700         2547 2019-06-01    54.40              M.O.T.O.   \n",
       "4          4700         2515 2019-06-01    32.79              M.O.T.O.   \n",
       "\n",
       "  cidade_estabelecimento pais_estabelecimento  \n",
       "0              SAO PAULO                   BR  \n",
       "1                 SANTOS                   BR  \n",
       "2              SAO PAULO                   BR  \n",
       "3                 OSASCO                   BR  \n",
       "4                 OSASCO                   BR  "
      ]
     },
     "execution_count": 2,
     "metadata": {},
     "output_type": "execute_result"
    }
   ],
   "source": [
    "# Carregando os dados na tabela 'df'\n",
    "df = pd.read_csv('C:/Users/atlas/documents/projetos_dados/datasets/br-credit-card.csv',\n",
    "                 encoding='CP1252', \n",
    "                 sep=';', \n",
    "                 decimal=',', \n",
    "                 na_values=' -   ',\n",
    "                 thousands='.',\n",
    "                 parse_dates=[8], \n",
    "                 dayfirst=True)\n",
    "\n",
    "# Imprimindo as 5 primeiras linhas\n",
    "df.head()"
   ]
  },
  {
   "cell_type": "markdown",
   "id": "4f29855a",
   "metadata": {},
   "source": [
    "Vamos solicitar algumas informações sobre os dados:"
   ]
  },
  {
   "cell_type": "code",
   "execution_count": 3,
   "id": "716f3337",
   "metadata": {},
   "outputs": [
    {
     "name": "stdout",
     "output_type": "stream",
     "text": [
      "<class 'pandas.core.frame.DataFrame'>\n",
      "RangeIndex: 4955 entries, 0 to 4954\n",
      "Data columns (total 13 columns):\n",
      " #   Column                  Non-Null Count  Dtype         \n",
      "---  ------                  --------------  -----         \n",
      " 0   id                      4955 non-null   float64       \n",
      " 1   safra_abertura          4955 non-null   int64         \n",
      " 2   cidade                  4955 non-null   object        \n",
      " 3   estado                  4955 non-null   object        \n",
      " 4   idade                   4955 non-null   int64         \n",
      " 5   sexo                    4955 non-null   object        \n",
      " 6   limite_total            4955 non-null   int64         \n",
      " 7   limite_disp             4955 non-null   int64         \n",
      " 8   data                    4955 non-null   datetime64[ns]\n",
      " 9    valor                  4942 non-null   float64       \n",
      " 10  grupo_estabelecimento   4955 non-null   object        \n",
      " 11  cidade_estabelecimento  4936 non-null   object        \n",
      " 12  pais_estabelecimento    4937 non-null   object        \n",
      "dtypes: datetime64[ns](1), float64(2), int64(4), object(6)\n",
      "memory usage: 2.2 MB\n"
     ]
    }
   ],
   "source": [
    "df.info(memory_usage='deep')"
   ]
  },
  {
   "cell_type": "markdown",
   "id": "380c29e9",
   "metadata": {},
   "source": [
    "Todas as colunas estão com valores corretos. Porém, podemos notar que a coluna ``valor`` parece conter espaços no início, além de valores ausentes nessa e nas colunas ``grupo_estabelecimento``, ``cidade_estabelecimento`` e ``país estabelecimento``. Vamos imprimir uma lista com os nomes das colunas para verificar se existem mesmo espaços desnecessários nos nomes das colunas."
   ]
  },
  {
   "cell_type": "code",
   "execution_count": 4,
   "id": "6bda2197",
   "metadata": {},
   "outputs": [
    {
     "data": {
      "text/plain": [
       "Index(['id', 'safra_abertura', 'cidade', 'estado', 'idade', 'sexo',\n",
       "       'limite_total', 'limite_disp', 'data', ' valor ',\n",
       "       'grupo_estabelecimento', 'cidade_estabelecimento',\n",
       "       'pais_estabelecimento'],\n",
       "      dtype='object')"
      ]
     },
     "execution_count": 4,
     "metadata": {},
     "output_type": "execute_result"
    }
   ],
   "source": [
    "df.columns"
   ]
  },
  {
   "cell_type": "markdown",
   "id": "a4a2e473",
   "metadata": {},
   "source": [
    "A única coluna com espaços ao redor do nome é realmente a coluna ``valor``. Vamos renomeá-la."
   ]
  },
  {
   "cell_type": "code",
   "execution_count": 5,
   "id": "5235999b",
   "metadata": {},
   "outputs": [],
   "source": [
    "df.rename(columns={' valor ': 'valor'}, inplace=True)"
   ]
  },
  {
   "cell_type": "markdown",
   "id": "314cd0e3",
   "metadata": {},
   "source": [
    "Agora vamos conferir os valores ausentes. As ausências mais importantes são na coluna ``valor``, uma vez que é uma informação essencial para nossas análises. Vamos ver se há um padrão nas ausências."
   ]
  },
  {
   "cell_type": "code",
   "execution_count": 6,
   "id": "c671ad78",
   "metadata": {},
   "outputs": [
    {
     "data": {
      "text/html": [
       "<div>\n",
       "<style scoped>\n",
       "    .dataframe tbody tr th:only-of-type {\n",
       "        vertical-align: middle;\n",
       "    }\n",
       "\n",
       "    .dataframe tbody tr th {\n",
       "        vertical-align: top;\n",
       "    }\n",
       "\n",
       "    .dataframe thead th {\n",
       "        text-align: right;\n",
       "    }\n",
       "</style>\n",
       "<table border=\"1\" class=\"dataframe\">\n",
       "  <thead>\n",
       "    <tr style=\"text-align: right;\">\n",
       "      <th></th>\n",
       "      <th>id</th>\n",
       "      <th>safra_abertura</th>\n",
       "      <th>cidade</th>\n",
       "      <th>estado</th>\n",
       "      <th>idade</th>\n",
       "      <th>sexo</th>\n",
       "      <th>limite_total</th>\n",
       "      <th>limite_disp</th>\n",
       "      <th>data</th>\n",
       "      <th>valor</th>\n",
       "      <th>grupo_estabelecimento</th>\n",
       "      <th>cidade_estabelecimento</th>\n",
       "      <th>pais_estabelecimento</th>\n",
       "    </tr>\n",
       "  </thead>\n",
       "  <tbody>\n",
       "    <tr>\n",
       "      <th>712</th>\n",
       "      <td>9.487371e+10</td>\n",
       "      <td>201710</td>\n",
       "      <td>SAO PAULO</td>\n",
       "      <td>SP</td>\n",
       "      <td>32</td>\n",
       "      <td>F</td>\n",
       "      <td>2200</td>\n",
       "      <td>628</td>\n",
       "      <td>2019-05-12</td>\n",
       "      <td>NaN</td>\n",
       "      <td>TRANS FINANC</td>\n",
       "      <td>NaN</td>\n",
       "      <td>NaN</td>\n",
       "    </tr>\n",
       "    <tr>\n",
       "      <th>775</th>\n",
       "      <td>9.487371e+10</td>\n",
       "      <td>201710</td>\n",
       "      <td>SAO PAULO</td>\n",
       "      <td>SP</td>\n",
       "      <td>32</td>\n",
       "      <td>F</td>\n",
       "      <td>2200</td>\n",
       "      <td>9</td>\n",
       "      <td>2019-09-10</td>\n",
       "      <td>NaN</td>\n",
       "      <td>TRANS FINANC</td>\n",
       "      <td>NaN</td>\n",
       "      <td>NaN</td>\n",
       "    </tr>\n",
       "    <tr>\n",
       "      <th>1071</th>\n",
       "      <td>5.020000e+11</td>\n",
       "      <td>201901</td>\n",
       "      <td>SAO PAULO</td>\n",
       "      <td>SP</td>\n",
       "      <td>34</td>\n",
       "      <td>F</td>\n",
       "      <td>5750</td>\n",
       "      <td>1012</td>\n",
       "      <td>2019-12-27</td>\n",
       "      <td>NaN</td>\n",
       "      <td>TRANS FINANC</td>\n",
       "      <td>NaN</td>\n",
       "      <td>NaN</td>\n",
       "    </tr>\n",
       "    <tr>\n",
       "      <th>1380</th>\n",
       "      <td>5.020000e+11</td>\n",
       "      <td>201901</td>\n",
       "      <td>SAO PAULO</td>\n",
       "      <td>SP</td>\n",
       "      <td>34</td>\n",
       "      <td>F</td>\n",
       "      <td>3400</td>\n",
       "      <td>110</td>\n",
       "      <td>2019-08-13</td>\n",
       "      <td>NaN</td>\n",
       "      <td>TRANS FINANC</td>\n",
       "      <td>NaN</td>\n",
       "      <td>NaN</td>\n",
       "    </tr>\n",
       "    <tr>\n",
       "      <th>1427</th>\n",
       "      <td>5.020000e+11</td>\n",
       "      <td>201901</td>\n",
       "      <td>SAO PAULO</td>\n",
       "      <td>SP</td>\n",
       "      <td>34</td>\n",
       "      <td>F</td>\n",
       "      <td>4000</td>\n",
       "      <td>934</td>\n",
       "      <td>2019-10-19</td>\n",
       "      <td>NaN</td>\n",
       "      <td>TRANS FINANC</td>\n",
       "      <td>NaN</td>\n",
       "      <td>NaN</td>\n",
       "    </tr>\n",
       "    <tr>\n",
       "      <th>1432</th>\n",
       "      <td>5.020000e+11</td>\n",
       "      <td>201901</td>\n",
       "      <td>SAO PAULO</td>\n",
       "      <td>SP</td>\n",
       "      <td>34</td>\n",
       "      <td>F</td>\n",
       "      <td>4000</td>\n",
       "      <td>333</td>\n",
       "      <td>2019-10-22</td>\n",
       "      <td>NaN</td>\n",
       "      <td>TRANS FINANC</td>\n",
       "      <td>NaN</td>\n",
       "      <td>NaN</td>\n",
       "    </tr>\n",
       "    <tr>\n",
       "      <th>1890</th>\n",
       "      <td>3.310000e+11</td>\n",
       "      <td>201903</td>\n",
       "      <td>SAO PAULO</td>\n",
       "      <td>SP</td>\n",
       "      <td>33</td>\n",
       "      <td>M</td>\n",
       "      <td>12000</td>\n",
       "      <td>9090</td>\n",
       "      <td>2020-02-17</td>\n",
       "      <td>NaN</td>\n",
       "      <td>RESTAURANTE</td>\n",
       "      <td>NaN</td>\n",
       "      <td>NaN</td>\n",
       "    </tr>\n",
       "    <tr>\n",
       "      <th>2449</th>\n",
       "      <td>6.060000e+11</td>\n",
       "      <td>201711</td>\n",
       "      <td>LOUVEIRA</td>\n",
       "      <td>SP</td>\n",
       "      <td>43</td>\n",
       "      <td>M</td>\n",
       "      <td>40000</td>\n",
       "      <td>24390</td>\n",
       "      <td>2020-02-17</td>\n",
       "      <td>NaN</td>\n",
       "      <td>SERVI‚O</td>\n",
       "      <td>NaN</td>\n",
       "      <td>NaN</td>\n",
       "    </tr>\n",
       "    <tr>\n",
       "      <th>3429</th>\n",
       "      <td>5.020000e+11</td>\n",
       "      <td>201901</td>\n",
       "      <td>SAO PAULO</td>\n",
       "      <td>SP</td>\n",
       "      <td>34</td>\n",
       "      <td>F</td>\n",
       "      <td>5200</td>\n",
       "      <td>36</td>\n",
       "      <td>2019-08-27</td>\n",
       "      <td>NaN</td>\n",
       "      <td>TRANS FINANC</td>\n",
       "      <td>NaN</td>\n",
       "      <td>NaN</td>\n",
       "    </tr>\n",
       "    <tr>\n",
       "      <th>3452</th>\n",
       "      <td>5.020000e+11</td>\n",
       "      <td>201901</td>\n",
       "      <td>SAO PAULO</td>\n",
       "      <td>SP</td>\n",
       "      <td>34</td>\n",
       "      <td>F</td>\n",
       "      <td>5200</td>\n",
       "      <td>2004</td>\n",
       "      <td>2019-11-10</td>\n",
       "      <td>NaN</td>\n",
       "      <td>TRANS FINANC</td>\n",
       "      <td>NaN</td>\n",
       "      <td>NaN</td>\n",
       "    </tr>\n",
       "    <tr>\n",
       "      <th>3460</th>\n",
       "      <td>5.020000e+11</td>\n",
       "      <td>201901</td>\n",
       "      <td>SAO PAULO</td>\n",
       "      <td>SP</td>\n",
       "      <td>34</td>\n",
       "      <td>F</td>\n",
       "      <td>6500</td>\n",
       "      <td>955</td>\n",
       "      <td>2019-08-31</td>\n",
       "      <td>NaN</td>\n",
       "      <td>TRANS FINANC</td>\n",
       "      <td>NaN</td>\n",
       "      <td>NaN</td>\n",
       "    </tr>\n",
       "    <tr>\n",
       "      <th>3743</th>\n",
       "      <td>8.140000e+11</td>\n",
       "      <td>201705</td>\n",
       "      <td>SAO PAULO</td>\n",
       "      <td>SP</td>\n",
       "      <td>28</td>\n",
       "      <td>M</td>\n",
       "      <td>4700</td>\n",
       "      <td>2102</td>\n",
       "      <td>2019-04-12</td>\n",
       "      <td>NaN</td>\n",
       "      <td>TRANS FINANC</td>\n",
       "      <td>NaN</td>\n",
       "      <td>NaN</td>\n",
       "    </tr>\n",
       "    <tr>\n",
       "      <th>4171</th>\n",
       "      <td>6.483130e+10</td>\n",
       "      <td>201008</td>\n",
       "      <td>ITAQUAQUECETUBA</td>\n",
       "      <td>SP</td>\n",
       "      <td>51</td>\n",
       "      <td>M</td>\n",
       "      <td>1420</td>\n",
       "      <td>580</td>\n",
       "      <td>2020-01-23</td>\n",
       "      <td>NaN</td>\n",
       "      <td>VAREJO</td>\n",
       "      <td>SAO PAULO</td>\n",
       "      <td>SP</td>\n",
       "    </tr>\n",
       "  </tbody>\n",
       "</table>\n",
       "</div>"
      ],
      "text/plain": [
       "                id  safra_abertura                  cidade estado  idade sexo  \\\n",
       "712   9.487371e+10          201710  SAO PAULO                 SP      32    F   \n",
       "775   9.487371e+10          201710  SAO PAULO                 SP      32    F   \n",
       "1071  5.020000e+11          201901  SAO PAULO                 SP      34    F   \n",
       "1380  5.020000e+11          201901  SAO PAULO                 SP      34    F   \n",
       "1427  5.020000e+11          201901  SAO PAULO                 SP      34    F   \n",
       "1432  5.020000e+11          201901  SAO PAULO                 SP      34    F   \n",
       "1890  3.310000e+11          201903  SAO PAULO                 SP      33    M   \n",
       "2449  6.060000e+11          201711  LOUVEIRA                  SP      43    M   \n",
       "3429  5.020000e+11          201901  SAO PAULO                 SP      34    F   \n",
       "3452  5.020000e+11          201901  SAO PAULO                 SP      34    F   \n",
       "3460  5.020000e+11          201901  SAO PAULO                 SP      34    F   \n",
       "3743  8.140000e+11          201705  SAO PAULO                 SP      28    M   \n",
       "4171  6.483130e+10          201008  ITAQUAQUECETUBA           SP      51    M   \n",
       "\n",
       "      limite_total  limite_disp       data  valor grupo_estabelecimento  \\\n",
       "712           2200          628 2019-05-12    NaN          TRANS FINANC   \n",
       "775           2200            9 2019-09-10    NaN          TRANS FINANC   \n",
       "1071          5750         1012 2019-12-27    NaN          TRANS FINANC   \n",
       "1380          3400          110 2019-08-13    NaN          TRANS FINANC   \n",
       "1427          4000          934 2019-10-19    NaN          TRANS FINANC   \n",
       "1432          4000          333 2019-10-22    NaN          TRANS FINANC   \n",
       "1890         12000         9090 2020-02-17    NaN           RESTAURANTE   \n",
       "2449         40000        24390 2020-02-17    NaN               SERVI‚O   \n",
       "3429          5200           36 2019-08-27    NaN          TRANS FINANC   \n",
       "3452          5200         2004 2019-11-10    NaN          TRANS FINANC   \n",
       "3460          6500          955 2019-08-31    NaN          TRANS FINANC   \n",
       "3743          4700         2102 2019-04-12    NaN          TRANS FINANC   \n",
       "4171          1420          580 2020-01-23    NaN                VAREJO   \n",
       "\n",
       "     cidade_estabelecimento pais_estabelecimento  \n",
       "712                     NaN                  NaN  \n",
       "775                     NaN                  NaN  \n",
       "1071                    NaN                  NaN  \n",
       "1380                    NaN                  NaN  \n",
       "1427                    NaN                  NaN  \n",
       "1432                    NaN                  NaN  \n",
       "1890                    NaN                  NaN  \n",
       "2449                    NaN                  NaN  \n",
       "3429                    NaN                  NaN  \n",
       "3452                    NaN                  NaN  \n",
       "3460                    NaN                  NaN  \n",
       "3743                    NaN                  NaN  \n",
       "4171              SAO PAULO                   SP  "
      ]
     },
     "execution_count": 6,
     "metadata": {},
     "output_type": "execute_result"
    }
   ],
   "source": [
    "df[df['valor'].isnull()]"
   ]
  },
  {
   "cell_type": "markdown",
   "id": "c7fcbc4e",
   "metadata": {},
   "source": [
    "Não parece haver uma justificativa para essas ausências. Para evitar problemas na nossa análise, é melhor excluir essas linhas. São poucas, então não impactará de forma significativa nossos dados."
   ]
  },
  {
   "cell_type": "code",
   "execution_count": 7,
   "id": "906ef59f",
   "metadata": {},
   "outputs": [
    {
     "data": {
      "text/html": [
       "<div>\n",
       "<style scoped>\n",
       "    .dataframe tbody tr th:only-of-type {\n",
       "        vertical-align: middle;\n",
       "    }\n",
       "\n",
       "    .dataframe tbody tr th {\n",
       "        vertical-align: top;\n",
       "    }\n",
       "\n",
       "    .dataframe thead th {\n",
       "        text-align: right;\n",
       "    }\n",
       "</style>\n",
       "<table border=\"1\" class=\"dataframe\">\n",
       "  <thead>\n",
       "    <tr style=\"text-align: right;\">\n",
       "      <th></th>\n",
       "      <th>id</th>\n",
       "      <th>safra_abertura</th>\n",
       "      <th>cidade</th>\n",
       "      <th>estado</th>\n",
       "      <th>idade</th>\n",
       "      <th>sexo</th>\n",
       "      <th>limite_total</th>\n",
       "      <th>limite_disp</th>\n",
       "      <th>data</th>\n",
       "      <th>valor</th>\n",
       "      <th>grupo_estabelecimento</th>\n",
       "      <th>cidade_estabelecimento</th>\n",
       "      <th>pais_estabelecimento</th>\n",
       "    </tr>\n",
       "  </thead>\n",
       "  <tbody>\n",
       "  </tbody>\n",
       "</table>\n",
       "</div>"
      ],
      "text/plain": [
       "Empty DataFrame\n",
       "Columns: [id, safra_abertura, cidade, estado, idade, sexo, limite_total, limite_disp, data, valor, grupo_estabelecimento, cidade_estabelecimento, pais_estabelecimento]\n",
       "Index: []"
      ]
     },
     "execution_count": 7,
     "metadata": {},
     "output_type": "execute_result"
    }
   ],
   "source": [
    "# Excluindo as linhas com valor ausente\n",
    "df.dropna(axis=0, subset=['valor'], inplace=True)\n",
    "\n",
    "# Conferindo se ainda existem valores nulos\n",
    "df[df['valor'].isnull()]"
   ]
  },
  {
   "cell_type": "markdown",
   "id": "1d53378b",
   "metadata": {},
   "source": [
    "Não restaram valores ausentes na coluna ``valor``. Optamos por deixar as linhas das outras colunas com valores ausentes, uma vez que seus dados ainda serão úteis para outras análises. Agora vamos conferir se há valores duplicados."
   ]
  },
  {
   "cell_type": "code",
   "execution_count": 8,
   "id": "8cb19c32",
   "metadata": {
    "scrolled": true
   },
   "outputs": [
    {
     "data": {
      "text/html": [
       "<div>\n",
       "<style scoped>\n",
       "    .dataframe tbody tr th:only-of-type {\n",
       "        vertical-align: middle;\n",
       "    }\n",
       "\n",
       "    .dataframe tbody tr th {\n",
       "        vertical-align: top;\n",
       "    }\n",
       "\n",
       "    .dataframe thead th {\n",
       "        text-align: right;\n",
       "    }\n",
       "</style>\n",
       "<table border=\"1\" class=\"dataframe\">\n",
       "  <thead>\n",
       "    <tr style=\"text-align: right;\">\n",
       "      <th></th>\n",
       "      <th>id</th>\n",
       "      <th>safra_abertura</th>\n",
       "      <th>cidade</th>\n",
       "      <th>estado</th>\n",
       "      <th>idade</th>\n",
       "      <th>sexo</th>\n",
       "      <th>limite_total</th>\n",
       "      <th>limite_disp</th>\n",
       "      <th>data</th>\n",
       "      <th>valor</th>\n",
       "      <th>grupo_estabelecimento</th>\n",
       "      <th>cidade_estabelecimento</th>\n",
       "      <th>pais_estabelecimento</th>\n",
       "    </tr>\n",
       "  </thead>\n",
       "  <tbody>\n",
       "    <tr>\n",
       "      <th>65</th>\n",
       "      <td>4.530000e+11</td>\n",
       "      <td>201405</td>\n",
       "      <td>CAMPO LIMPO PAULISTA</td>\n",
       "      <td>SP</td>\n",
       "      <td>37</td>\n",
       "      <td>F</td>\n",
       "      <td>4700</td>\n",
       "      <td>2636</td>\n",
       "      <td>2020-05-05</td>\n",
       "      <td>44.90</td>\n",
       "      <td>ARTIGOS ELETRO</td>\n",
       "      <td>OSASCO</td>\n",
       "      <td>BR</td>\n",
       "    </tr>\n",
       "    <tr>\n",
       "      <th>1891</th>\n",
       "      <td>3.310000e+11</td>\n",
       "      <td>201903</td>\n",
       "      <td>SAO PAULO</td>\n",
       "      <td>SP</td>\n",
       "      <td>33</td>\n",
       "      <td>M</td>\n",
       "      <td>12000</td>\n",
       "      <td>9079</td>\n",
       "      <td>2020-02-17</td>\n",
       "      <td>10.68</td>\n",
       "      <td>RESTAURANTE</td>\n",
       "      <td>RIO DE JANEIR</td>\n",
       "      <td>BR</td>\n",
       "    </tr>\n",
       "    <tr>\n",
       "      <th>2717</th>\n",
       "      <td>3.310000e+11</td>\n",
       "      <td>201609</td>\n",
       "      <td>SAO PAULO</td>\n",
       "      <td>SP</td>\n",
       "      <td>31</td>\n",
       "      <td>M</td>\n",
       "      <td>7500</td>\n",
       "      <td>2238</td>\n",
       "      <td>2020-05-04</td>\n",
       "      <td>29.17</td>\n",
       "      <td>SUPERMERCADOS</td>\n",
       "      <td>SAO PAULO</td>\n",
       "      <td>BR</td>\n",
       "    </tr>\n",
       "    <tr>\n",
       "      <th>2718</th>\n",
       "      <td>3.310000e+11</td>\n",
       "      <td>201609</td>\n",
       "      <td>SAO PAULO</td>\n",
       "      <td>SP</td>\n",
       "      <td>31</td>\n",
       "      <td>M</td>\n",
       "      <td>7500</td>\n",
       "      <td>2184</td>\n",
       "      <td>2020-05-05</td>\n",
       "      <td>53.79</td>\n",
       "      <td>VAREJO</td>\n",
       "      <td>OSASCO</td>\n",
       "      <td>BR</td>\n",
       "    </tr>\n",
       "    <tr>\n",
       "      <th>4072</th>\n",
       "      <td>6.510000e+11</td>\n",
       "      <td>201705</td>\n",
       "      <td>SAO PAULO</td>\n",
       "      <td>SP</td>\n",
       "      <td>27</td>\n",
       "      <td>M</td>\n",
       "      <td>3650</td>\n",
       "      <td>3783</td>\n",
       "      <td>2019-07-18</td>\n",
       "      <td>6.53</td>\n",
       "      <td>SERVI‚O</td>\n",
       "      <td>SAO PAULO</td>\n",
       "      <td>BR</td>\n",
       "    </tr>\n",
       "    <tr>\n",
       "      <th>4091</th>\n",
       "      <td>6.510000e+11</td>\n",
       "      <td>201705</td>\n",
       "      <td>SAO PAULO</td>\n",
       "      <td>SP</td>\n",
       "      <td>27</td>\n",
       "      <td>M</td>\n",
       "      <td>3650</td>\n",
       "      <td>2665</td>\n",
       "      <td>2019-08-01</td>\n",
       "      <td>5.55</td>\n",
       "      <td>SERVI‚O</td>\n",
       "      <td>SAO PAULO</td>\n",
       "      <td>BR</td>\n",
       "    </tr>\n",
       "    <tr>\n",
       "      <th>4563</th>\n",
       "      <td>1.000000e+12</td>\n",
       "      <td>201905</td>\n",
       "      <td>SAO PAULO</td>\n",
       "      <td>SP</td>\n",
       "      <td>39</td>\n",
       "      <td>M</td>\n",
       "      <td>18000</td>\n",
       "      <td>2118</td>\n",
       "      <td>2020-05-04</td>\n",
       "      <td>74.95</td>\n",
       "      <td>SERVI‚O</td>\n",
       "      <td>SAO PAULO</td>\n",
       "      <td>BR</td>\n",
       "    </tr>\n",
       "    <tr>\n",
       "      <th>4564</th>\n",
       "      <td>1.000000e+12</td>\n",
       "      <td>201905</td>\n",
       "      <td>SAO PAULO</td>\n",
       "      <td>SP</td>\n",
       "      <td>39</td>\n",
       "      <td>M</td>\n",
       "      <td>18000</td>\n",
       "      <td>1119</td>\n",
       "      <td>2020-05-05</td>\n",
       "      <td>999.66</td>\n",
       "      <td>SERVI‚O</td>\n",
       "      <td>VITORIA</td>\n",
       "      <td>BR</td>\n",
       "    </tr>\n",
       "    <tr>\n",
       "      <th>4684</th>\n",
       "      <td>1.790000e+11</td>\n",
       "      <td>201408</td>\n",
       "      <td>SAO PAULO</td>\n",
       "      <td>SP</td>\n",
       "      <td>42</td>\n",
       "      <td>F</td>\n",
       "      <td>7500</td>\n",
       "      <td>4809</td>\n",
       "      <td>2020-05-05</td>\n",
       "      <td>3.50</td>\n",
       "      <td>VAREJO</td>\n",
       "      <td>SAO PAULO</td>\n",
       "      <td>BR</td>\n",
       "    </tr>\n",
       "  </tbody>\n",
       "</table>\n",
       "</div>"
      ],
      "text/plain": [
       "                id  safra_abertura                  cidade estado  idade sexo  \\\n",
       "65    4.530000e+11          201405  CAMPO LIMPO PAULISTA      SP      37    F   \n",
       "1891  3.310000e+11          201903  SAO PAULO                 SP      33    M   \n",
       "2717  3.310000e+11          201609  SAO PAULO                 SP      31    M   \n",
       "2718  3.310000e+11          201609  SAO PAULO                 SP      31    M   \n",
       "4072  6.510000e+11          201705  SAO PAULO                 SP      27    M   \n",
       "4091  6.510000e+11          201705  SAO PAULO                 SP      27    M   \n",
       "4563  1.000000e+12          201905  SAO PAULO                 SP      39    M   \n",
       "4564  1.000000e+12          201905  SAO PAULO                 SP      39    M   \n",
       "4684  1.790000e+11          201408  SAO PAULO                 SP      42    F   \n",
       "\n",
       "      limite_total  limite_disp       data   valor grupo_estabelecimento  \\\n",
       "65            4700         2636 2020-05-05   44.90        ARTIGOS ELETRO   \n",
       "1891         12000         9079 2020-02-17   10.68           RESTAURANTE   \n",
       "2717          7500         2238 2020-05-04   29.17         SUPERMERCADOS   \n",
       "2718          7500         2184 2020-05-05   53.79                VAREJO   \n",
       "4072          3650         3783 2019-07-18    6.53               SERVI‚O   \n",
       "4091          3650         2665 2019-08-01    5.55               SERVI‚O   \n",
       "4563         18000         2118 2020-05-04   74.95               SERVI‚O   \n",
       "4564         18000         1119 2020-05-05  999.66               SERVI‚O   \n",
       "4684          7500         4809 2020-05-05    3.50                VAREJO   \n",
       "\n",
       "     cidade_estabelecimento pais_estabelecimento  \n",
       "65                   OSASCO                   BR  \n",
       "1891          RIO DE JANEIR                   BR  \n",
       "2717              SAO PAULO                   BR  \n",
       "2718                 OSASCO                   BR  \n",
       "4072              SAO PAULO                   BR  \n",
       "4091              SAO PAULO                   BR  \n",
       "4563              SAO PAULO                   BR  \n",
       "4564                VITORIA                   BR  \n",
       "4684              SAO PAULO                   BR  "
      ]
     },
     "execution_count": 8,
     "metadata": {},
     "output_type": "execute_result"
    }
   ],
   "source": [
    "df[df.duplicated()]"
   ]
  },
  {
   "cell_type": "markdown",
   "id": "2e5ca13a",
   "metadata": {},
   "source": [
    "Existem algumas linhas duplicadas, vamos excluí-las e ver como ficaram as informações da nossa tabela."
   ]
  },
  {
   "cell_type": "code",
   "execution_count": 9,
   "id": "973d1dba",
   "metadata": {
    "scrolled": true
   },
   "outputs": [
    {
     "name": "stdout",
     "output_type": "stream",
     "text": [
      "<class 'pandas.core.frame.DataFrame'>\n",
      "Int64Index: 4933 entries, 0 to 4954\n",
      "Data columns (total 13 columns):\n",
      " #   Column                  Non-Null Count  Dtype         \n",
      "---  ------                  --------------  -----         \n",
      " 0   id                      4933 non-null   float64       \n",
      " 1   safra_abertura          4933 non-null   int64         \n",
      " 2   cidade                  4933 non-null   object        \n",
      " 3   estado                  4933 non-null   object        \n",
      " 4   idade                   4933 non-null   int64         \n",
      " 5   sexo                    4933 non-null   object        \n",
      " 6   limite_total            4933 non-null   int64         \n",
      " 7   limite_disp             4933 non-null   int64         \n",
      " 8   data                    4933 non-null   datetime64[ns]\n",
      " 9   valor                   4933 non-null   float64       \n",
      " 10  grupo_estabelecimento   4933 non-null   object        \n",
      " 11  cidade_estabelecimento  4926 non-null   object        \n",
      " 12  pais_estabelecimento    4927 non-null   object        \n",
      "dtypes: datetime64[ns](1), float64(2), int64(4), object(6)\n",
      "memory usage: 539.5+ KB\n"
     ]
    }
   ],
   "source": [
    "df.drop_duplicates(inplace=True)\n",
    "\n",
    "df.info()"
   ]
  },
  {
   "cell_type": "markdown",
   "id": "b84df746",
   "metadata": {},
   "source": [
    "Tudo parece correto. Vamos iniciar a análise exploratória dos dados (EDA)."
   ]
  },
  {
   "cell_type": "markdown",
   "id": "38b879d4",
   "metadata": {},
   "source": [
    "## Análise Exploratória de Dados (EDA)"
   ]
  },
  {
   "cell_type": "markdown",
   "id": "24a2fdb8",
   "metadata": {},
   "source": [
    "Primeiro, vamos ver alguns dados da distribuição do valor das compras."
   ]
  },
  {
   "cell_type": "code",
   "execution_count": 10,
   "id": "0fdbf6c7",
   "metadata": {},
   "outputs": [
    {
     "data": {
      "text/plain": [
       "count     4933.000000\n",
       "mean       117.726617\n",
       "std        529.500188\n",
       "min          0.030000\n",
       "25%         13.850000\n",
       "50%         32.700000\n",
       "75%         86.020000\n",
       "max      14618.360000\n",
       "Name: valor, dtype: float64"
      ]
     },
     "execution_count": 10,
     "metadata": {},
     "output_type": "execute_result"
    }
   ],
   "source": [
    "df['valor'].describe()"
   ]
  },
  {
   "cell_type": "markdown",
   "id": "53747612",
   "metadata": {},
   "source": [
    "75% das compras custa menos que 86,02. O valor médio é 117,73 e mediana 32,70, o que indica que há uma assimetria positiva na distribuição, ou seja, que existem valores incomuns muito acima da mediana influenciando a média. Isso é visível pelo valor máximo de 14618,36. Vamos ver alguns cálculos da distribuição de gastos por pessoa."
   ]
  },
  {
   "cell_type": "code",
   "execution_count": 11,
   "id": "2b07d320",
   "metadata": {},
   "outputs": [
    {
     "data": {
      "text/html": [
       "<div>\n",
       "<style scoped>\n",
       "    .dataframe tbody tr th:only-of-type {\n",
       "        vertical-align: middle;\n",
       "    }\n",
       "\n",
       "    .dataframe tbody tr th {\n",
       "        vertical-align: top;\n",
       "    }\n",
       "\n",
       "    .dataframe thead th {\n",
       "        text-align: right;\n",
       "    }\n",
       "</style>\n",
       "<table border=\"1\" class=\"dataframe\">\n",
       "  <thead>\n",
       "    <tr style=\"text-align: right;\">\n",
       "      <th></th>\n",
       "      <th>valor</th>\n",
       "    </tr>\n",
       "  </thead>\n",
       "  <tbody>\n",
       "    <tr>\n",
       "      <th>count</th>\n",
       "      <td>28.000000</td>\n",
       "    </tr>\n",
       "    <tr>\n",
       "      <th>mean</th>\n",
       "      <td>20740.907143</td>\n",
       "    </tr>\n",
       "    <tr>\n",
       "      <th>std</th>\n",
       "      <td>27898.418124</td>\n",
       "    </tr>\n",
       "    <tr>\n",
       "      <th>min</th>\n",
       "      <td>1686.980000</td>\n",
       "    </tr>\n",
       "    <tr>\n",
       "      <th>25%</th>\n",
       "      <td>7910.422500</td>\n",
       "    </tr>\n",
       "    <tr>\n",
       "      <th>50%</th>\n",
       "      <td>13263.565000</td>\n",
       "    </tr>\n",
       "    <tr>\n",
       "      <th>75%</th>\n",
       "      <td>20219.735000</td>\n",
       "    </tr>\n",
       "    <tr>\n",
       "      <th>max</th>\n",
       "      <td>151744.490000</td>\n",
       "    </tr>\n",
       "  </tbody>\n",
       "</table>\n",
       "</div>"
      ],
      "text/plain": [
       "               valor\n",
       "count      28.000000\n",
       "mean    20740.907143\n",
       "std     27898.418124\n",
       "min      1686.980000\n",
       "25%      7910.422500\n",
       "50%     13263.565000\n",
       "75%     20219.735000\n",
       "max    151744.490000"
      ]
     },
     "execution_count": 11,
     "metadata": {},
     "output_type": "execute_result"
    }
   ],
   "source": [
    "df.groupby('id').agg({'valor':'sum'}).describe()"
   ]
  },
  {
   "cell_type": "markdown",
   "id": "ffac2655",
   "metadata": {},
   "source": [
    "O gasto médio dos 28 clientes do conjunto de dados no período é de 20740,91, já a mediana é de 13263,56. Tal como no valor das compras, parecem haver alguns clientes que gastam bem acima da média, o que causa uma assimetria positiva na distribuição. 75% dos clientes gastaram menos que 20219,73. Vamos criar um histograma para observar melhor como esses dados se distribuem."
   ]
  },
  {
   "cell_type": "code",
   "execution_count": 12,
   "id": "9dab2a12",
   "metadata": {},
   "outputs": [
    {
     "data": {
      "image/png": "[encoded data removed]",
      "text/plain": [
       "<Figure size 640x480 with 1 Axes>"
      ]
     },
     "metadata": {},
     "output_type": "display_data"
    }
   ],
   "source": [
    "df.groupby('id').agg({'valor':'sum'}).hist(bins=20)\n",
    "plt.title('Histograma do valor gasto por ID')\n",
    "plt.show()"
   ]
  },
  {
   "cell_type": "markdown",
   "id": "088ef55c",
   "metadata": {},
   "source": [
    "A grande maioria dos clientes gastou entre 0 e 20000, mas há um grupo que gastou mais que 140000, que deve estar influenciando a média da distribuição.\n",
    "\n",
    "Vamos ver como é o gasto de acordo com a cidade dos clientes. Primeiro, vejamos algumas informações da disitruição."
   ]
  },
  {
   "cell_type": "code",
   "execution_count": 13,
   "id": "ed9a7cdf",
   "metadata": {},
   "outputs": [
    {
     "data": {
      "text/html": [
       "<div>\n",
       "<style scoped>\n",
       "    .dataframe tbody tr th:only-of-type {\n",
       "        vertical-align: middle;\n",
       "    }\n",
       "\n",
       "    .dataframe tbody tr th {\n",
       "        vertical-align: top;\n",
       "    }\n",
       "\n",
       "    .dataframe thead th {\n",
       "        text-align: right;\n",
       "    }\n",
       "</style>\n",
       "<table border=\"1\" class=\"dataframe\">\n",
       "  <thead>\n",
       "    <tr style=\"text-align: right;\">\n",
       "      <th></th>\n",
       "      <th>valor</th>\n",
       "    </tr>\n",
       "  </thead>\n",
       "  <tbody>\n",
       "    <tr>\n",
       "      <th>count</th>\n",
       "      <td>10.000000</td>\n",
       "    </tr>\n",
       "    <tr>\n",
       "      <th>mean</th>\n",
       "      <td>58074.540000</td>\n",
       "    </tr>\n",
       "    <tr>\n",
       "      <th>std</th>\n",
       "      <td>98309.169002</td>\n",
       "    </tr>\n",
       "    <tr>\n",
       "      <th>min</th>\n",
       "      <td>5191.300000</td>\n",
       "    </tr>\n",
       "    <tr>\n",
       "      <th>25%</th>\n",
       "      <td>10953.745000</td>\n",
       "    </tr>\n",
       "    <tr>\n",
       "      <th>50%</th>\n",
       "      <td>13766.585000</td>\n",
       "    </tr>\n",
       "    <tr>\n",
       "      <th>75%</th>\n",
       "      <td>33148.377500</td>\n",
       "    </tr>\n",
       "    <tr>\n",
       "      <th>max</th>\n",
       "      <td>308450.770000</td>\n",
       "    </tr>\n",
       "  </tbody>\n",
       "</table>\n",
       "</div>"
      ],
      "text/plain": [
       "               valor\n",
       "count      10.000000\n",
       "mean    58074.540000\n",
       "std     98309.169002\n",
       "min      5191.300000\n",
       "25%     10953.745000\n",
       "50%     13766.585000\n",
       "75%     33148.377500\n",
       "max    308450.770000"
      ]
     },
     "execution_count": 13,
     "metadata": {},
     "output_type": "execute_result"
    }
   ],
   "source": [
    "cidades = df.groupby('cidade', as_index=False).agg({'valor':'sum'}).sort_values(by='valor', ascending=False)\n",
    "cidades.describe()"
   ]
  },
  {
   "cell_type": "markdown",
   "id": "72850c8f",
   "metadata": {},
   "source": [
    "A média de gastos entre as 10 cidades dos clientes do banco é de 58074,54. Já a mediana é de 13766,58, bem menor que a média, como no caso dos gastos individuais. Isso indica que algumas cidades tem gastos muito maiores que as outras. Vamos construir um gráfico de barras para comparar."
   ]
  },
  {
   "cell_type": "code",
   "execution_count": 14,
   "id": "dc506f2c",
   "metadata": {},
   "outputs": [
    {
     "data": {
      "image/png": "[encoded data removed]",
      "text/plain": [
       "<Figure size 1000x600 with 1 Axes>"
      ]
     },
     "metadata": {},
     "output_type": "display_data"
    }
   ],
   "source": [
    "plt.figure(figsize=(10, 6))\n",
    "plt.xticks(rotation=30)\n",
    "plt.bar(cidades['cidade'], cidades['valor'])\n",
    "plt.title('Valor total das transações por cidade')\n",
    "plt.show()"
   ]
  },
  {
   "cell_type": "markdown",
   "id": "2d2b220c",
   "metadata": {},
   "source": [
    "São Paulo e Louveira se destacam, sendo as cidades de onde os clientes gastaram mais. A discrepância é bem significativa quando comparamos com Rio de Janeiro e Santo André, as cidades em terceiro e quarto lugares. Provavelmente há mais clientes nessas cidades. Vamos calcular o gasto médio por cliente em cada cidade."
   ]
  },
  {
   "cell_type": "code",
   "execution_count": 15,
   "id": "90ee2e68",
   "metadata": {},
   "outputs": [
    {
     "data": {
      "text/html": [
       "<div>\n",
       "<style scoped>\n",
       "    .dataframe tbody tr th:only-of-type {\n",
       "        vertical-align: middle;\n",
       "    }\n",
       "\n",
       "    .dataframe tbody tr th {\n",
       "        vertical-align: top;\n",
       "    }\n",
       "\n",
       "    .dataframe thead th {\n",
       "        text-align: right;\n",
       "    }\n",
       "</style>\n",
       "<table border=\"1\" class=\"dataframe\">\n",
       "  <thead>\n",
       "    <tr style=\"text-align: right;\">\n",
       "      <th></th>\n",
       "      <th>valor</th>\n",
       "    </tr>\n",
       "    <tr>\n",
       "      <th>cidade</th>\n",
       "      <th></th>\n",
       "    </tr>\n",
       "  </thead>\n",
       "  <tbody>\n",
       "    <tr>\n",
       "      <th>LOUVEIRA</th>\n",
       "      <td>609.415622</td>\n",
       "    </tr>\n",
       "    <tr>\n",
       "      <th>S BERNARDO CAMPO</th>\n",
       "      <td>204.668269</td>\n",
       "    </tr>\n",
       "    <tr>\n",
       "      <th>EMBU DAS ARTES</th>\n",
       "      <td>201.820758</td>\n",
       "    </tr>\n",
       "    <tr>\n",
       "      <th>GUARULHOS</th>\n",
       "      <td>173.064103</td>\n",
       "    </tr>\n",
       "    <tr>\n",
       "      <th>RIO DE JANEIRO</th>\n",
       "      <td>138.147052</td>\n",
       "    </tr>\n",
       "    <tr>\n",
       "      <th>CAMPO LIMPO PAULISTA</th>\n",
       "      <td>95.860726</td>\n",
       "    </tr>\n",
       "    <tr>\n",
       "      <th>SAO PAULO</th>\n",
       "      <td>86.063273</td>\n",
       "    </tr>\n",
       "    <tr>\n",
       "      <th>SANTO ANDRE</th>\n",
       "      <td>83.748171</td>\n",
       "    </tr>\n",
       "    <tr>\n",
       "      <th>OSASCO</th>\n",
       "      <td>68.004785</td>\n",
       "    </tr>\n",
       "    <tr>\n",
       "      <th>ITAQUAQUECETUBA</th>\n",
       "      <td>61.074118</td>\n",
       "    </tr>\n",
       "  </tbody>\n",
       "</table>\n",
       "</div>"
      ],
      "text/plain": [
       "                             valor\n",
       "cidade                            \n",
       "LOUVEIRA                609.415622\n",
       "S BERNARDO CAMPO        204.668269\n",
       "EMBU DAS ARTES          201.820758\n",
       "GUARULHOS               173.064103\n",
       "RIO DE JANEIRO          138.147052\n",
       "CAMPO LIMPO PAULISTA     95.860726\n",
       "SAO PAULO                86.063273\n",
       "SANTO ANDRE              83.748171\n",
       "OSASCO                   68.004785\n",
       "ITAQUAQUECETUBA          61.074118"
      ]
     },
     "execution_count": 15,
     "metadata": {},
     "output_type": "execute_result"
    }
   ],
   "source": [
    "df.groupby('cidade').agg({'valor':'mean'}).sort_values(by='valor', ascending=False)"
   ]
  },
  {
   "cell_type": "markdown",
   "id": "81d15c94",
   "metadata": {},
   "source": [
    "Quando tratamos do gasto médio, Louveira tem um grande destaque. É possível afirmar que os clientes dessa cidade são realmente os que mais compram no cartão de crédito do nosso conjunto de dados. Já São Paulo, que registrava o maior volume de gastos, ficou apenas na posição 7, o que demonstra que o volume se dá devido a quantidade de clientes.\n",
    "\n",
    "Vamos ver algumas informações sobre os gastos diários."
   ]
  },
  {
   "cell_type": "code",
   "execution_count": 16,
   "id": "7804c088",
   "metadata": {
    "scrolled": true
   },
   "outputs": [
    {
     "data": {
      "text/html": [
       "<div>\n",
       "<style scoped>\n",
       "    .dataframe tbody tr th:only-of-type {\n",
       "        vertical-align: middle;\n",
       "    }\n",
       "\n",
       "    .dataframe tbody tr th {\n",
       "        vertical-align: top;\n",
       "    }\n",
       "\n",
       "    .dataframe thead th {\n",
       "        text-align: right;\n",
       "    }\n",
       "</style>\n",
       "<table border=\"1\" class=\"dataframe\">\n",
       "  <thead>\n",
       "    <tr style=\"text-align: right;\">\n",
       "      <th></th>\n",
       "      <th>valor</th>\n",
       "    </tr>\n",
       "  </thead>\n",
       "  <tbody>\n",
       "    <tr>\n",
       "      <th>count</th>\n",
       "      <td>403.000000</td>\n",
       "    </tr>\n",
       "    <tr>\n",
       "      <th>mean</th>\n",
       "      <td>1441.055583</td>\n",
       "    </tr>\n",
       "    <tr>\n",
       "      <th>std</th>\n",
       "      <td>3164.205450</td>\n",
       "    </tr>\n",
       "    <tr>\n",
       "      <th>min</th>\n",
       "      <td>5.900000</td>\n",
       "    </tr>\n",
       "    <tr>\n",
       "      <th>25%</th>\n",
       "      <td>483.245000</td>\n",
       "    </tr>\n",
       "    <tr>\n",
       "      <th>50%</th>\n",
       "      <td>864.120000</td>\n",
       "    </tr>\n",
       "    <tr>\n",
       "      <th>75%</th>\n",
       "      <td>1495.030000</td>\n",
       "    </tr>\n",
       "    <tr>\n",
       "      <th>max</th>\n",
       "      <td>54506.290000</td>\n",
       "    </tr>\n",
       "  </tbody>\n",
       "</table>\n",
       "</div>"
      ],
      "text/plain": [
       "              valor\n",
       "count    403.000000\n",
       "mean    1441.055583\n",
       "std     3164.205450\n",
       "min        5.900000\n",
       "25%      483.245000\n",
       "50%      864.120000\n",
       "75%     1495.030000\n",
       "max    54506.290000"
      ]
     },
     "execution_count": 16,
     "metadata": {},
     "output_type": "execute_result"
    }
   ],
   "source": [
    "df_dt = df.groupby('data', as_index=False).agg({'valor':'sum'})\n",
    "\n",
    "df_dt.describe()"
   ]
  },
  {
   "cell_type": "markdown",
   "id": "7b979ecc",
   "metadata": {},
   "source": [
    "Nos 403 dias cobertos pelos nossos dados, tivemos uma média diária de gastos de 1441,05. O gasto mediana foi mais modesto, de 864,12. Houve uma variação de 5,9, no dia com menos gastos, até 54506,29, o dia com mais. Vamos criar um gráfico de linhas com esses dados."
   ]
  },
  {
   "cell_type": "code",
   "execution_count": 17,
   "id": "47c2ec5a",
   "metadata": {},
   "outputs": [
    {
     "data": {
      "image/png": "[encoded data removed]",
      "text/plain": [
       "<Figure size 1000x800 with 1 Axes>"
      ]
     },
     "metadata": {},
     "output_type": "display_data"
    }
   ],
   "source": [
    "plt.figure(figsize=(10,8))\n",
    "plt.plot(df_dt['data'], df_dt['valor'])\n",
    "plt.title('Valor gasto por dia')\n",
    "plt.show()"
   ]
  },
  {
   "cell_type": "markdown",
   "id": "1e7e8e18",
   "metadata": {},
   "source": [
    "Os gastos oscilam mais ou menos ao redor do mesmo nível, com excessão de alguns picos, um bem demarcado em especial. Vamos tentar descobrir a data para saber se pode ser relacionado a algum feriado ou acontecimento especial."
   ]
  },
  {
   "cell_type": "code",
   "execution_count": 18,
   "id": "18f6e654",
   "metadata": {},
   "outputs": [
    {
     "data": {
      "text/html": [
       "<div>\n",
       "<style scoped>\n",
       "    .dataframe tbody tr th:only-of-type {\n",
       "        vertical-align: middle;\n",
       "    }\n",
       "\n",
       "    .dataframe tbody tr th {\n",
       "        vertical-align: top;\n",
       "    }\n",
       "\n",
       "    .dataframe thead th {\n",
       "        text-align: right;\n",
       "    }\n",
       "</style>\n",
       "<table border=\"1\" class=\"dataframe\">\n",
       "  <thead>\n",
       "    <tr style=\"text-align: right;\">\n",
       "      <th></th>\n",
       "      <th>data</th>\n",
       "      <th>valor</th>\n",
       "    </tr>\n",
       "  </thead>\n",
       "  <tbody>\n",
       "    <tr>\n",
       "      <th>301</th>\n",
       "      <td>2020-01-27</td>\n",
       "      <td>54506.29</td>\n",
       "    </tr>\n",
       "  </tbody>\n",
       "</table>\n",
       "</div>"
      ],
      "text/plain": [
       "          data     valor\n",
       "301 2020-01-27  54506.29"
      ]
     },
     "execution_count": 18,
     "metadata": {},
     "output_type": "execute_result"
    }
   ],
   "source": [
    "df_dt[df_dt['valor']==df_dt['valor'].max()]"
   ]
  },
  {
   "cell_type": "markdown",
   "id": "b4f779e0",
   "metadata": {},
   "source": [
    "Apesar de incomum, não parece ter nada especial nesse dia. Talvez alguma promoção específica ou movimento espontâneo. Vamos ver como os gastos variam, em média, de acordo com o sexo dos clientes."
   ]
  },
  {
   "cell_type": "code",
   "execution_count": 19,
   "id": "56e97f3b",
   "metadata": {},
   "outputs": [
    {
     "data": {
      "text/html": [
       "<div>\n",
       "<style scoped>\n",
       "    .dataframe tbody tr th:only-of-type {\n",
       "        vertical-align: middle;\n",
       "    }\n",
       "\n",
       "    .dataframe tbody tr th {\n",
       "        vertical-align: top;\n",
       "    }\n",
       "\n",
       "    .dataframe thead th {\n",
       "        text-align: right;\n",
       "    }\n",
       "</style>\n",
       "<table border=\"1\" class=\"dataframe\">\n",
       "  <thead>\n",
       "    <tr style=\"text-align: right;\">\n",
       "      <th></th>\n",
       "      <th>valor</th>\n",
       "    </tr>\n",
       "    <tr>\n",
       "      <th>sexo</th>\n",
       "      <th></th>\n",
       "    </tr>\n",
       "  </thead>\n",
       "  <tbody>\n",
       "    <tr>\n",
       "      <th>F</th>\n",
       "      <td>88.488283</td>\n",
       "    </tr>\n",
       "    <tr>\n",
       "      <th>M</th>\n",
       "      <td>150.258176</td>\n",
       "    </tr>\n",
       "  </tbody>\n",
       "</table>\n",
       "</div>"
      ],
      "text/plain": [
       "           valor\n",
       "sexo            \n",
       "F      88.488283\n",
       "M     150.258176"
      ]
     },
     "execution_count": 19,
     "metadata": {},
     "output_type": "execute_result"
    }
   ],
   "source": [
    "df.groupby('sexo').agg({'valor':'mean'})"
   ]
  },
  {
   "cell_type": "markdown",
   "id": "87090ca3",
   "metadata": {},
   "source": [
    "Entre os clientes do nosso conjunto de dados, os homens gastam, em média, quase o dobro que as mulheres. Por último, vamos conferir quais os tipos de gastos mais comuns."
   ]
  },
  {
   "cell_type": "code",
   "execution_count": 22,
   "id": "76a44467",
   "metadata": {},
   "outputs": [
    {
     "data": {
      "text/html": [
       "<div>\n",
       "<style scoped>\n",
       "    .dataframe tbody tr th:only-of-type {\n",
       "        vertical-align: middle;\n",
       "    }\n",
       "\n",
       "    .dataframe tbody tr th {\n",
       "        vertical-align: top;\n",
       "    }\n",
       "\n",
       "    .dataframe thead th {\n",
       "        text-align: right;\n",
       "    }\n",
       "</style>\n",
       "<table border=\"1\" class=\"dataframe\">\n",
       "  <thead>\n",
       "    <tr style=\"text-align: right;\">\n",
       "      <th></th>\n",
       "      <th>grupo_estabelecimento</th>\n",
       "      <th>valor</th>\n",
       "    </tr>\n",
       "  </thead>\n",
       "  <tbody>\n",
       "    <tr>\n",
       "      <th>17</th>\n",
       "      <td>SERVI‚O</td>\n",
       "      <td>91037.48</td>\n",
       "    </tr>\n",
       "    <tr>\n",
       "      <th>19</th>\n",
       "      <td>VAREJO</td>\n",
       "      <td>77422.46</td>\n",
       "    </tr>\n",
       "    <tr>\n",
       "      <th>15</th>\n",
       "      <td>RESTAURANTE</td>\n",
       "      <td>62595.42</td>\n",
       "    </tr>\n",
       "    <tr>\n",
       "      <th>4</th>\n",
       "      <td>CIA AEREAS</td>\n",
       "      <td>58953.98</td>\n",
       "    </tr>\n",
       "    <tr>\n",
       "      <th>20</th>\n",
       "      <td>VESTUARIO</td>\n",
       "      <td>50344.57</td>\n",
       "    </tr>\n",
       "    <tr>\n",
       "      <th>18</th>\n",
       "      <td>SUPERMERCADOS</td>\n",
       "      <td>42208.05</td>\n",
       "    </tr>\n",
       "    <tr>\n",
       "      <th>11</th>\n",
       "      <td>M.O.T.O.</td>\n",
       "      <td>36996.78</td>\n",
       "    </tr>\n",
       "    <tr>\n",
       "      <th>8</th>\n",
       "      <td>INEXISTENTE</td>\n",
       "      <td>24213.83</td>\n",
       "    </tr>\n",
       "    <tr>\n",
       "      <th>2</th>\n",
       "      <td>ARTIGOS ELETRO</td>\n",
       "      <td>20826.69</td>\n",
       "    </tr>\n",
       "    <tr>\n",
       "      <th>5</th>\n",
       "      <td>FARMACIAS</td>\n",
       "      <td>17389.84</td>\n",
       "    </tr>\n",
       "  </tbody>\n",
       "</table>\n",
       "</div>"
      ],
      "text/plain": [
       "   grupo_estabelecimento     valor\n",
       "17               SERVI‚O  91037.48\n",
       "19                VAREJO  77422.46\n",
       "15           RESTAURANTE  62595.42\n",
       "4             CIA AEREAS  58953.98\n",
       "20             VESTUARIO  50344.57\n",
       "18         SUPERMERCADOS  42208.05\n",
       "11              M.O.T.O.  36996.78\n",
       "8            INEXISTENTE  24213.83\n",
       "2         ARTIGOS ELETRO  20826.69\n",
       "5              FARMACIAS  17389.84"
      ]
     },
     "execution_count": 22,
     "metadata": {},
     "output_type": "execute_result"
    }
   ],
   "source": [
    "gp_df = df.groupby('grupo_estabelecimento', as_index=False).agg({'valor':'sum'}).sort_values(by='valor', ascending=False).head(10)\n",
    "\n",
    "gp_df"
   ]
  },
  {
   "cell_type": "markdown",
   "id": "1cf9d360",
   "metadata": {},
   "source": [
    "Temos que Serviços são o tipo de uso mais comum feito pelos clientes no cartão. Depois temos Varejo e Restaurante, seguidos por Companhias Aéreas. Há uma certa quantidade de gastos não definidos, na categoria Inexistente. Em último lugar, temos as farmácias. Isso provavelmente reflete a quantidade de itens de Serviço, Varejo e Restaurante que é contratada pelos clientes regularmente. Já gastos menos corriqueiros, como Artigos Eletrônicos, ficaram nas últimas posições. Vamos observar esses dados em um gráfico de barras."
   ]
  },
  {
   "cell_type": "code",
   "execution_count": 28,
   "id": "f08b512d",
   "metadata": {},
   "outputs": [
    {
     "data": {
      "image/png": "[encoded data removed]",
      "text/plain": [
       "<Figure size 1200x800 with 1 Axes>"
      ]
     },
     "metadata": {},
     "output_type": "display_data"
    }
   ],
   "source": [
    "plt.figure(figsize=(12,8))\n",
    "plt.xticks(rotation=20)\n",
    "plt.bar(gp_df['grupo_estabelecimento'], gp_df['valor'], color='goldenrod')\n",
    "plt.title('Setores com maior média de vendas')\n",
    "plt.show()"
   ]
  },
  {
   "cell_type": "markdown",
   "id": "0d6e88d9",
   "metadata": {},
   "source": [
    "Podemos observar como os gastos com Serviço são os mais comuns entre os clientes, e como Varejo vem logo em seguida. Visualmente, vemos como os gastos com Eletrônicos e Farmácias ficam atrás da maioria."
   ]
  },
  {
   "cell_type": "markdown",
   "id": "c250442e",
   "metadata": {},
   "source": [
    "## Conclusões\n",
    "\n",
    "Através das nossas análises, pudemos observar que 75% dos usuários gastaram menos de 20219,73 no período, ao passo que a mediana foi de 13263,56. Porém, há uma assimetria positiva na distribuição, o que pudemos constatar pela média bem maior que a mediana e pelo formato do histograma criado.\n",
    "\n",
    "Vimos como a cidade de São Paulo se destaca no volume total de transações, o que reflete a maior quantidade de clientes na cidade. Já o gasto médio por cliente é maior na cidade de Louveira, seguido por São Bernardo do Campo. Isso demonstra como os perfis dos clientes das cidades varia, sendo São Paulo, uma cidade com mais habitantes, é comum ter mais clientes e um volume total maior de transações. Já as cidades com maior gasto médio por cliente se destacam por serem lar de clientes com hábitos de consumo no crédito mais frequente ou em maior valor. Talvez focar em trazer novos clientes dessas cidades seja uma ação mais interessante do que focar em expandir a clientela paulistana, que já é grande.\n",
    "\n",
    "Há uma certa estabilidade nos gastos diários, com apenas alguns picos que com os dados disponibilizados não foi possível justificar.\n",
    "\n",
    "Já os tipos de gastos com maior volume são Serviços, Varejo e Restaurantes. Provavelmente devido a frequência maior de gastos com essas categorias, é mais comum que sejam feitos no cartão de crédito do que outras despesas como Eletrônicos. Estes, sendo bens de maior valor, também costumam oferecer maiores descontos quando comprados à vista."
   ]
  }
 ],
 "metadata": {
  "kernelspec": {
   "display_name": "Python 3 (ipykernel)",
   "language": "python",
   "name": "python3"
  },
  "language_info": {
   "codemirror_mode": {
    "name": "ipython",
    "version": 3
   },
   "file_extension": ".py",
   "mimetype": "text/x-python",
   "name": "python",
   "nbconvert_exporter": "python",
   "pygments_lexer": "ipython3",
   "version": "3.8.8"
  }
 },
 "nbformat": 4,
 "nbformat_minor": 5
}
