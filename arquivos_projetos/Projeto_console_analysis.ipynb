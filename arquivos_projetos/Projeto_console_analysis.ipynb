{
 "cells": [
  {
   "cell_type": "markdown",
   "metadata": {},
   "source": [
    "# As características que determinam o sucesso dos videogames: uma análise de dados\n",
    "\n",
    "A loja de videogames Ice deseja saber quais são so fatores que determinam o sucesso dos jogos. Para isso, nos foram fornecidas várias informações sobre diversos jogos, como gênero, plataforma de lançamento, avaliação de especialistas e do público, além dos dados históricos de vendas. Através da nossa análise, buscamos determinar os elementos que foram mais determinantes para o sucesso comercial dos jogos."
   ]
  },
  {
   "cell_type": "markdown",
   "metadata": {},
   "source": [
    "## Carregandos os dados\n",
    "\n",
    "Antes de começar a trabalhar com os dados, vamos importar algumas bibliotecas que serão úteis para nossa análise:"
   ]
  },
  {
   "cell_type": "code",
   "execution_count": 1,
   "metadata": {},
   "outputs": [],
   "source": [
    "# Biblioteca para carregar e manipular tabelas (DataFrames)\n",
    "import pandas as pd\n",
    "\n",
    "# Biblioteca para geração de gráficos e diagramas\n",
    "import matplotlib.pyplot as plt\n",
    "\n",
    "# Biblioteca para cálculos estatísticos\n",
    "from scipy import stats as st\n",
    "\n",
    "# Bibliotecas para cálculos matemáticos avançados\n",
    "import numpy as np\n",
    "import math"
   ]
  },
  {
   "cell_type": "markdown",
   "metadata": {},
   "source": [
    "Agora vamos carregar nossos dados em um tabela (DataFrame):"
   ]
  },
  {
   "cell_type": "code",
   "execution_count": 2,
   "metadata": {},
   "outputs": [
    {
     "data": {
      "text/html": [
       "<div>\n",
       "<style scoped>\n",
       "    .dataframe tbody tr th:only-of-type {\n",
       "        vertical-align: middle;\n",
       "    }\n",
       "\n",
       "    .dataframe tbody tr th {\n",
       "        vertical-align: top;\n",
       "    }\n",
       "\n",
       "    .dataframe thead th {\n",
       "        text-align: right;\n",
       "    }\n",
       "</style>\n",
       "<table border=\"1\" class=\"dataframe\">\n",
       "  <thead>\n",
       "    <tr style=\"text-align: right;\">\n",
       "      <th></th>\n",
       "      <th>Name</th>\n",
       "      <th>Platform</th>\n",
       "      <th>Year_of_Release</th>\n",
       "      <th>Genre</th>\n",
       "      <th>NA_sales</th>\n",
       "      <th>EU_sales</th>\n",
       "      <th>JP_sales</th>\n",
       "      <th>Other_sales</th>\n",
       "      <th>Critic_Score</th>\n",
       "      <th>User_Score</th>\n",
       "      <th>Rating</th>\n",
       "    </tr>\n",
       "  </thead>\n",
       "  <tbody>\n",
       "    <tr>\n",
       "      <th>0</th>\n",
       "      <td>Wii Sports</td>\n",
       "      <td>Wii</td>\n",
       "      <td>2006.0</td>\n",
       "      <td>Sports</td>\n",
       "      <td>41.36</td>\n",
       "      <td>28.96</td>\n",
       "      <td>3.77</td>\n",
       "      <td>8.45</td>\n",
       "      <td>76.0</td>\n",
       "      <td>8</td>\n",
       "      <td>E</td>\n",
       "    </tr>\n",
       "    <tr>\n",
       "      <th>1</th>\n",
       "      <td>Super Mario Bros.</td>\n",
       "      <td>NES</td>\n",
       "      <td>1985.0</td>\n",
       "      <td>Platform</td>\n",
       "      <td>29.08</td>\n",
       "      <td>3.58</td>\n",
       "      <td>6.81</td>\n",
       "      <td>0.77</td>\n",
       "      <td>NaN</td>\n",
       "      <td>NaN</td>\n",
       "      <td>NaN</td>\n",
       "    </tr>\n",
       "    <tr>\n",
       "      <th>2</th>\n",
       "      <td>Mario Kart Wii</td>\n",
       "      <td>Wii</td>\n",
       "      <td>2008.0</td>\n",
       "      <td>Racing</td>\n",
       "      <td>15.68</td>\n",
       "      <td>12.76</td>\n",
       "      <td>3.79</td>\n",
       "      <td>3.29</td>\n",
       "      <td>82.0</td>\n",
       "      <td>8.3</td>\n",
       "      <td>E</td>\n",
       "    </tr>\n",
       "    <tr>\n",
       "      <th>3</th>\n",
       "      <td>Wii Sports Resort</td>\n",
       "      <td>Wii</td>\n",
       "      <td>2009.0</td>\n",
       "      <td>Sports</td>\n",
       "      <td>15.61</td>\n",
       "      <td>10.93</td>\n",
       "      <td>3.28</td>\n",
       "      <td>2.95</td>\n",
       "      <td>80.0</td>\n",
       "      <td>8</td>\n",
       "      <td>E</td>\n",
       "    </tr>\n",
       "    <tr>\n",
       "      <th>4</th>\n",
       "      <td>Pokemon Red/Pokemon Blue</td>\n",
       "      <td>GB</td>\n",
       "      <td>1996.0</td>\n",
       "      <td>Role-Playing</td>\n",
       "      <td>11.27</td>\n",
       "      <td>8.89</td>\n",
       "      <td>10.22</td>\n",
       "      <td>1.00</td>\n",
       "      <td>NaN</td>\n",
       "      <td>NaN</td>\n",
       "      <td>NaN</td>\n",
       "    </tr>\n",
       "  </tbody>\n",
       "</table>\n",
       "</div>"
      ],
      "text/plain": [
       "                       Name Platform  Year_of_Release         Genre  NA_sales  \\\n",
       "0                Wii Sports      Wii           2006.0        Sports     41.36   \n",
       "1         Super Mario Bros.      NES           1985.0      Platform     29.08   \n",
       "2            Mario Kart Wii      Wii           2008.0        Racing     15.68   \n",
       "3         Wii Sports Resort      Wii           2009.0        Sports     15.61   \n",
       "4  Pokemon Red/Pokemon Blue       GB           1996.0  Role-Playing     11.27   \n",
       "\n",
       "   EU_sales  JP_sales  Other_sales  Critic_Score User_Score Rating  \n",
       "0     28.96      3.77         8.45          76.0          8      E  \n",
       "1      3.58      6.81         0.77           NaN        NaN    NaN  \n",
       "2     12.76      3.79         3.29          82.0        8.3      E  \n",
       "3     10.93      3.28         2.95          80.0          8      E  \n",
       "4      8.89     10.22         1.00           NaN        NaN    NaN  "
      ]
     },
     "execution_count": 2,
     "metadata": {},
     "output_type": "execute_result"
    }
   ],
   "source": [
    "game_data = pd.read_csv('C:/Users/atlas/documents/projetos_dados/datasets/games.csv')\n",
    "\n",
    "# Imprimindo as primeiras 5 linhas\n",
    "game_data.head()"
   ]
  },
  {
   "cell_type": "markdown",
   "metadata": {},
   "source": [
    "Vamos ver as informações gerais da tabela:"
   ]
  },
  {
   "cell_type": "code",
   "execution_count": 3,
   "metadata": {},
   "outputs": [
    {
     "name": "stdout",
     "output_type": "stream",
     "text": [
      "<class 'pandas.core.frame.DataFrame'>\n",
      "RangeIndex: 16715 entries, 0 to 16714\n",
      "Data columns (total 11 columns):\n",
      " #   Column           Non-Null Count  Dtype  \n",
      "---  ------           --------------  -----  \n",
      " 0   Name             16713 non-null  object \n",
      " 1   Platform         16715 non-null  object \n",
      " 2   Year_of_Release  16446 non-null  float64\n",
      " 3   Genre            16713 non-null  object \n",
      " 4   NA_sales         16715 non-null  float64\n",
      " 5   EU_sales         16715 non-null  float64\n",
      " 6   JP_sales         16715 non-null  float64\n",
      " 7   Other_sales      16715 non-null  float64\n",
      " 8   Critic_Score     8137 non-null   float64\n",
      " 9   User_Score       10014 non-null  object \n",
      " 10  Rating           9949 non-null   object \n",
      "dtypes: float64(6), object(5)\n",
      "memory usage: 1.4+ MB\n"
     ]
    }
   ],
   "source": [
    "game_data.info()"
   ]
  },
  {
   "cell_type": "markdown",
   "metadata": {},
   "source": [
    "Por essas informações, podemos ver alguns procedimentos que precisam ser executados antes da análise: é preciso decidir o que fazer com os valores ausentes nas colunas ``Name``, ``Year_of_Release``, ``Genre``, ``Critic_Score``, ``User_Score`` e ``Rating``. Como há letras maiúsculas entre os nomes das colunas, será necessário mudá-los para apenas letras minúsculas, porque isso facilita o trabalho com os dados e evita erros. Esse procedimento também precisa ser feito para os dados nas colunas ``Name``, ``Pratform`` e ``Genre``."
   ]
  },
  {
   "cell_type": "markdown",
   "metadata": {},
   "source": [
    "## Pré-processamento\n",
    "\n",
    "Vamos começar procurando por linhas duplicadas na tabela:"
   ]
  },
  {
   "cell_type": "code",
   "execution_count": 4,
   "metadata": {},
   "outputs": [
    {
     "data": {
      "text/plain": [
       "0"
      ]
     },
     "execution_count": 4,
     "metadata": {},
     "output_type": "execute_result"
    }
   ],
   "source": [
    "game_data.duplicated().sum()"
   ]
  },
  {
   "cell_type": "markdown",
   "metadata": {},
   "source": [
    "Ótimo, não temos linhas duplicadas. Agora podemos seguir para as alterações nos dados."
   ]
  },
  {
   "cell_type": "markdown",
   "metadata": {},
   "source": [
    "### Alterando os nomes das colunas\n",
    "\n",
    "Para simplificar os códigos, vamos substituir os nomes das colunas por suas versões em minúsculas:"
   ]
  },
  {
   "cell_type": "code",
   "execution_count": 5,
   "metadata": {},
   "outputs": [
    {
     "name": "stdout",
     "output_type": "stream",
     "text": [
      "<class 'pandas.core.frame.DataFrame'>\n",
      "RangeIndex: 16715 entries, 0 to 16714\n",
      "Data columns (total 11 columns):\n",
      " #   Column           Non-Null Count  Dtype  \n",
      "---  ------           --------------  -----  \n",
      " 0   name             16713 non-null  object \n",
      " 1   platform         16715 non-null  object \n",
      " 2   year_of_release  16446 non-null  float64\n",
      " 3   genre            16713 non-null  object \n",
      " 4   na_sales         16715 non-null  float64\n",
      " 5   eu_sales         16715 non-null  float64\n",
      " 6   jp_sales         16715 non-null  float64\n",
      " 7   other_sales      16715 non-null  float64\n",
      " 8   critic_score     8137 non-null   float64\n",
      " 9   user_score       10014 non-null  object \n",
      " 10  rating           9949 non-null   object \n",
      "dtypes: float64(6), object(5)\n",
      "memory usage: 1.4+ MB\n"
     ]
    }
   ],
   "source": [
    "game_data.rename(columns={'Name':'name', 'Platform':'platform', 'Year_of_Release':'year_of_release',\n",
    "                  'Genre':'genre', 'NA_sales':'na_sales', 'EU_sales':'eu_sales', 'JP_sales':'jp_sales',\n",
    "                  'Other_sales':'other_sales', 'Critic_Score':'critic_score', 'User_Score':'user_score', 'Rating':'rating'}, \n",
    "                 inplace=True)\n",
    "\n",
    "# Vamos ver como ficaram as informações novamente\n",
    "game_data.info()"
   ]
  },
  {
   "cell_type": "markdown",
   "metadata": {},
   "source": [
    "Agora todas as colunas estão em minúsculas. Isso vai facilitar o nosso trabalho."
   ]
  },
  {
   "cell_type": "markdown",
   "metadata": {},
   "source": [
    "### A coluna ``name``\n",
    "\n",
    "Vamos começar convertendo os nomes dos jogos para minúsculas, pelo mesmo motivo que convertemos os nomes das colunas:"
   ]
  },
  {
   "cell_type": "code",
   "execution_count": 6,
   "metadata": {},
   "outputs": [
    {
     "data": {
      "text/plain": [
       "array(['wii sports', 'super mario bros.', 'mario kart wii', ...,\n",
       "       'woody woodpecker in crazy castle 5', 'lma manager 2007',\n",
       "       'haitaka no psychedelica'], dtype=object)"
      ]
     },
     "execution_count": 6,
     "metadata": {},
     "output_type": "execute_result"
    }
   ],
   "source": [
    "game_data['name'] = game_data['name'].str.lower()\n",
    "\n",
    "# Vendo os valores resultante\n",
    "game_data['name'].unique()"
   ]
  },
  {
   "cell_type": "markdown",
   "metadata": {},
   "source": [
    "Agora vamos conferir as linhas com valores ausentes:"
   ]
  },
  {
   "cell_type": "code",
   "execution_count": 7,
   "metadata": {},
   "outputs": [
    {
     "data": {
      "text/html": [
       "<div>\n",
       "<style scoped>\n",
       "    .dataframe tbody tr th:only-of-type {\n",
       "        vertical-align: middle;\n",
       "    }\n",
       "\n",
       "    .dataframe tbody tr th {\n",
       "        vertical-align: top;\n",
       "    }\n",
       "\n",
       "    .dataframe thead th {\n",
       "        text-align: right;\n",
       "    }\n",
       "</style>\n",
       "<table border=\"1\" class=\"dataframe\">\n",
       "  <thead>\n",
       "    <tr style=\"text-align: right;\">\n",
       "      <th></th>\n",
       "      <th>name</th>\n",
       "      <th>platform</th>\n",
       "      <th>year_of_release</th>\n",
       "      <th>genre</th>\n",
       "      <th>na_sales</th>\n",
       "      <th>eu_sales</th>\n",
       "      <th>jp_sales</th>\n",
       "      <th>other_sales</th>\n",
       "      <th>critic_score</th>\n",
       "      <th>user_score</th>\n",
       "      <th>rating</th>\n",
       "    </tr>\n",
       "  </thead>\n",
       "  <tbody>\n",
       "    <tr>\n",
       "      <th>659</th>\n",
       "      <td>NaN</td>\n",
       "      <td>GEN</td>\n",
       "      <td>1993.0</td>\n",
       "      <td>NaN</td>\n",
       "      <td>1.78</td>\n",
       "      <td>0.53</td>\n",
       "      <td>0.00</td>\n",
       "      <td>0.08</td>\n",
       "      <td>NaN</td>\n",
       "      <td>NaN</td>\n",
       "      <td>NaN</td>\n",
       "    </tr>\n",
       "    <tr>\n",
       "      <th>14244</th>\n",
       "      <td>NaN</td>\n",
       "      <td>GEN</td>\n",
       "      <td>1993.0</td>\n",
       "      <td>NaN</td>\n",
       "      <td>0.00</td>\n",
       "      <td>0.00</td>\n",
       "      <td>0.03</td>\n",
       "      <td>0.00</td>\n",
       "      <td>NaN</td>\n",
       "      <td>NaN</td>\n",
       "      <td>NaN</td>\n",
       "    </tr>\n",
       "  </tbody>\n",
       "</table>\n",
       "</div>"
      ],
      "text/plain": [
       "      name platform  year_of_release genre  na_sales  eu_sales  jp_sales  \\\n",
       "659    NaN      GEN           1993.0   NaN      1.78      0.53      0.00   \n",
       "14244  NaN      GEN           1993.0   NaN      0.00      0.00      0.03   \n",
       "\n",
       "       other_sales  critic_score user_score rating  \n",
       "659           0.08           NaN        NaN    NaN  \n",
       "14244         0.00           NaN        NaN    NaN  "
      ]
     },
     "execution_count": 7,
     "metadata": {},
     "output_type": "execute_result"
    }
   ],
   "source": [
    "game_data[game_data['name'].isna()]"
   ]
  },
  {
   "cell_type": "markdown",
   "metadata": {},
   "source": [
    "Como sem o nome não é possível identificar o jogo, excluir essas linhas não vai causar impacto na análise:"
   ]
  },
  {
   "cell_type": "code",
   "execution_count": 8,
   "metadata": {},
   "outputs": [
    {
     "name": "stdout",
     "output_type": "stream",
     "text": [
      "<class 'pandas.core.frame.DataFrame'>\n",
      "Int64Index: 16713 entries, 0 to 16714\n",
      "Data columns (total 11 columns):\n",
      " #   Column           Non-Null Count  Dtype  \n",
      "---  ------           --------------  -----  \n",
      " 0   name             16713 non-null  object \n",
      " 1   platform         16713 non-null  object \n",
      " 2   year_of_release  16444 non-null  float64\n",
      " 3   genre            16713 non-null  object \n",
      " 4   na_sales         16713 non-null  float64\n",
      " 5   eu_sales         16713 non-null  float64\n",
      " 6   jp_sales         16713 non-null  float64\n",
      " 7   other_sales      16713 non-null  float64\n",
      " 8   critic_score     8137 non-null   float64\n",
      " 9   user_score       10014 non-null  object \n",
      " 10  rating           9949 non-null   object \n",
      "dtypes: float64(6), object(5)\n",
      "memory usage: 1.5+ MB\n"
     ]
    }
   ],
   "source": [
    "game_data.dropna(subset=['name'], inplace=True)\n",
    "\n",
    "# Conferindo as informações\n",
    "game_data.info()"
   ]
  },
  {
   "cell_type": "markdown",
   "metadata": {},
   "source": [
    "As duas linhas forma excluídas."
   ]
  },
  {
   "cell_type": "markdown",
   "metadata": {},
   "source": [
    "### A coluna ``platform``\n",
    "\n",
    "Vamos alterar os nomes das plataformas para que todas estejam em letras minúsculas, assim como fizemos com os nomes dos consoles:"
   ]
  },
  {
   "cell_type": "code",
   "execution_count": 9,
   "metadata": {},
   "outputs": [
    {
     "data": {
      "text/plain": [
       "array(['wii', 'nes', 'gb', 'ds', 'x360', 'ps3', 'ps2', 'snes', 'gba',\n",
       "       'ps4', '3ds', 'n64', 'ps', 'xb', 'pc', '2600', 'psp', 'xone',\n",
       "       'wiiu', 'gc', 'gen', 'dc', 'psv', 'sat', 'scd', 'ws', 'ng', 'tg16',\n",
       "       '3do', 'gg', 'pcfx'], dtype=object)"
      ]
     },
     "execution_count": 9,
     "metadata": {},
     "output_type": "execute_result"
    }
   ],
   "source": [
    "game_data['platform'] = game_data['platform'].str.lower()\n",
    "\n",
    "# Vamos ver os valores da coluna\n",
    "game_data['platform'].unique()"
   ]
  },
  {
   "cell_type": "markdown",
   "metadata": {},
   "source": [
    "Tudo certo por aqui, vamos seguir adiante."
   ]
  },
  {
   "cell_type": "markdown",
   "metadata": {},
   "source": [
    "### A coluna ``year_of_release``\n",
    "\n",
    "Há alguns valores ausentes na coluna com o ano de lançamento. Vamos observar as características da coluna para decidir que valor utilizar para preencher essas linhas:"
   ]
  },
  {
   "cell_type": "code",
   "execution_count": 10,
   "metadata": {},
   "outputs": [
    {
     "data": {
      "text/plain": [
       "count    16444.000000\n",
       "mean      2006.486256\n",
       "std          5.875525\n",
       "min       1980.000000\n",
       "25%       2003.000000\n",
       "50%       2007.000000\n",
       "75%       2010.000000\n",
       "max       2016.000000\n",
       "Name: year_of_release, dtype: float64"
      ]
     },
     "execution_count": 10,
     "metadata": {},
     "output_type": "execute_result"
    }
   ],
   "source": [
    "game_data['year_of_release'].describe()"
   ]
  },
  {
   "cell_type": "markdown",
   "metadata": {},
   "source": [
    "Os valores da média e da mediana são bem próximos, porém vemos que há uma boa distância entre o valor mínimo e o máximo, logo ficamos mais tentados a utilizar a mediana. Por outro lado, o ano de lançamento é impactado pela plataforma, uma vez que cada uma tem um período de atividade, entre o lançamento e o encerramento da produção. Logo, vamos criar uma função para substituir os valores ausentes com a mediana da plataforma em questão. Primeiro vamos agrupar a tabela pela mediana de cada plataforma e depois utilizá-la em nossa função."
   ]
  },
  {
   "cell_type": "code",
   "execution_count": 11,
   "metadata": {},
   "outputs": [
    {
     "data": {
      "text/plain": [
       "1985.0"
      ]
     },
     "execution_count": 11,
     "metadata": {},
     "output_type": "execute_result"
    }
   ],
   "source": [
    "# Criando a tabela dinâmica com a mediana do ano de lançamento por plataforma\n",
    "release_table = game_data.groupby('platform')['year_of_release'].median()\n",
    "\n",
    "# Criando a função para preencher as linhas ausentes\n",
    "def release_filler(row):\n",
    "    if pd.isna(row['year_of_release']):\n",
    "        return release_table[row['platform']]\n",
    "    else:\n",
    "        return row['year_of_release']\n",
    "    \n",
    "# Testando a função\n",
    "release_filler(game_data.loc[1])"
   ]
  },
  {
   "cell_type": "markdown",
   "metadata": {},
   "source": [
    "Aplicando a função a coluna ``year_of_release``:"
   ]
  },
  {
   "cell_type": "code",
   "execution_count": 12,
   "metadata": {},
   "outputs": [
    {
     "name": "stdout",
     "output_type": "stream",
     "text": [
      "<class 'pandas.core.frame.DataFrame'>\n",
      "Int64Index: 16713 entries, 0 to 16714\n",
      "Data columns (total 11 columns):\n",
      " #   Column           Non-Null Count  Dtype  \n",
      "---  ------           --------------  -----  \n",
      " 0   name             16713 non-null  object \n",
      " 1   platform         16713 non-null  object \n",
      " 2   year_of_release  16713 non-null  float64\n",
      " 3   genre            16713 non-null  object \n",
      " 4   na_sales         16713 non-null  float64\n",
      " 5   eu_sales         16713 non-null  float64\n",
      " 6   jp_sales         16713 non-null  float64\n",
      " 7   other_sales      16713 non-null  float64\n",
      " 8   critic_score     8137 non-null   float64\n",
      " 9   user_score       10014 non-null  object \n",
      " 10  rating           9949 non-null   object \n",
      "dtypes: float64(6), object(5)\n",
      "memory usage: 2.0+ MB\n"
     ]
    }
   ],
   "source": [
    "game_data['year_of_release'] = game_data.apply(release_filler, axis=1)\n",
    "\n",
    "# Conferindo as informações\n",
    "game_data.info()"
   ]
  },
  {
   "cell_type": "markdown",
   "metadata": {},
   "source": [
    "Como o formato está como decimal (*float64*), vamos converter a coluna para inteiros, por convenção:"
   ]
  },
  {
   "cell_type": "code",
   "execution_count": 13,
   "metadata": {},
   "outputs": [
    {
     "data": {
      "text/html": [
       "<div>\n",
       "<style scoped>\n",
       "    .dataframe tbody tr th:only-of-type {\n",
       "        vertical-align: middle;\n",
       "    }\n",
       "\n",
       "    .dataframe tbody tr th {\n",
       "        vertical-align: top;\n",
       "    }\n",
       "\n",
       "    .dataframe thead th {\n",
       "        text-align: right;\n",
       "    }\n",
       "</style>\n",
       "<table border=\"1\" class=\"dataframe\">\n",
       "  <thead>\n",
       "    <tr style=\"text-align: right;\">\n",
       "      <th></th>\n",
       "      <th>name</th>\n",
       "      <th>platform</th>\n",
       "      <th>year_of_release</th>\n",
       "      <th>genre</th>\n",
       "      <th>na_sales</th>\n",
       "      <th>eu_sales</th>\n",
       "      <th>jp_sales</th>\n",
       "      <th>other_sales</th>\n",
       "      <th>critic_score</th>\n",
       "      <th>user_score</th>\n",
       "      <th>rating</th>\n",
       "    </tr>\n",
       "  </thead>\n",
       "  <tbody>\n",
       "    <tr>\n",
       "      <th>0</th>\n",
       "      <td>wii sports</td>\n",
       "      <td>wii</td>\n",
       "      <td>2006</td>\n",
       "      <td>Sports</td>\n",
       "      <td>41.36</td>\n",
       "      <td>28.96</td>\n",
       "      <td>3.77</td>\n",
       "      <td>8.45</td>\n",
       "      <td>76.0</td>\n",
       "      <td>8</td>\n",
       "      <td>E</td>\n",
       "    </tr>\n",
       "    <tr>\n",
       "      <th>1</th>\n",
       "      <td>super mario bros.</td>\n",
       "      <td>nes</td>\n",
       "      <td>1985</td>\n",
       "      <td>Platform</td>\n",
       "      <td>29.08</td>\n",
       "      <td>3.58</td>\n",
       "      <td>6.81</td>\n",
       "      <td>0.77</td>\n",
       "      <td>NaN</td>\n",
       "      <td>NaN</td>\n",
       "      <td>NaN</td>\n",
       "    </tr>\n",
       "    <tr>\n",
       "      <th>2</th>\n",
       "      <td>mario kart wii</td>\n",
       "      <td>wii</td>\n",
       "      <td>2008</td>\n",
       "      <td>Racing</td>\n",
       "      <td>15.68</td>\n",
       "      <td>12.76</td>\n",
       "      <td>3.79</td>\n",
       "      <td>3.29</td>\n",
       "      <td>82.0</td>\n",
       "      <td>8.3</td>\n",
       "      <td>E</td>\n",
       "    </tr>\n",
       "    <tr>\n",
       "      <th>3</th>\n",
       "      <td>wii sports resort</td>\n",
       "      <td>wii</td>\n",
       "      <td>2009</td>\n",
       "      <td>Sports</td>\n",
       "      <td>15.61</td>\n",
       "      <td>10.93</td>\n",
       "      <td>3.28</td>\n",
       "      <td>2.95</td>\n",
       "      <td>80.0</td>\n",
       "      <td>8</td>\n",
       "      <td>E</td>\n",
       "    </tr>\n",
       "    <tr>\n",
       "      <th>4</th>\n",
       "      <td>pokemon red/pokemon blue</td>\n",
       "      <td>gb</td>\n",
       "      <td>1996</td>\n",
       "      <td>Role-Playing</td>\n",
       "      <td>11.27</td>\n",
       "      <td>8.89</td>\n",
       "      <td>10.22</td>\n",
       "      <td>1.00</td>\n",
       "      <td>NaN</td>\n",
       "      <td>NaN</td>\n",
       "      <td>NaN</td>\n",
       "    </tr>\n",
       "  </tbody>\n",
       "</table>\n",
       "</div>"
      ],
      "text/plain": [
       "                       name platform  year_of_release         genre  na_sales  \\\n",
       "0                wii sports      wii             2006        Sports     41.36   \n",
       "1         super mario bros.      nes             1985      Platform     29.08   \n",
       "2            mario kart wii      wii             2008        Racing     15.68   \n",
       "3         wii sports resort      wii             2009        Sports     15.61   \n",
       "4  pokemon red/pokemon blue       gb             1996  Role-Playing     11.27   \n",
       "\n",
       "   eu_sales  jp_sales  other_sales  critic_score user_score rating  \n",
       "0     28.96      3.77         8.45          76.0          8      E  \n",
       "1      3.58      6.81         0.77           NaN        NaN    NaN  \n",
       "2     12.76      3.79         3.29          82.0        8.3      E  \n",
       "3     10.93      3.28         2.95          80.0          8      E  \n",
       "4      8.89     10.22         1.00           NaN        NaN    NaN  "
      ]
     },
     "execution_count": 13,
     "metadata": {},
     "output_type": "execute_result"
    }
   ],
   "source": [
    "game_data['year_of_release'] = game_data['year_of_release'].astype('int')\n",
    "\n",
    "# Vamos ver como ficaram as primeiras linhas da tabela\n",
    "game_data.head()"
   ]
  },
  {
   "cell_type": "markdown",
   "metadata": {},
   "source": [
    "Tudo certo por aqui."
   ]
  },
  {
   "cell_type": "markdown",
   "metadata": {},
   "source": [
    "### A coluna ``genre``\n",
    "\n",
    "A coluna com os gêneros dos jogos não possui valores ausentes. Vamos ver os valores únicos:"
   ]
  },
  {
   "cell_type": "code",
   "execution_count": 14,
   "metadata": {},
   "outputs": [
    {
     "data": {
      "text/plain": [
       "array(['Sports', 'Platform', 'Racing', 'Role-Playing', 'Puzzle', 'Misc',\n",
       "       'Shooter', 'Simulation', 'Action', 'Fighting', 'Adventure',\n",
       "       'Strategy'], dtype=object)"
      ]
     },
     "execution_count": 14,
     "metadata": {},
     "output_type": "execute_result"
    }
   ],
   "source": [
    "game_data['genre'].unique()"
   ]
  },
  {
   "cell_type": "markdown",
   "metadata": {},
   "source": [
    "Vamos converter os nomes para letras mínusculas:"
   ]
  },
  {
   "cell_type": "code",
   "execution_count": 15,
   "metadata": {},
   "outputs": [
    {
     "data": {
      "text/html": [
       "<div>\n",
       "<style scoped>\n",
       "    .dataframe tbody tr th:only-of-type {\n",
       "        vertical-align: middle;\n",
       "    }\n",
       "\n",
       "    .dataframe tbody tr th {\n",
       "        vertical-align: top;\n",
       "    }\n",
       "\n",
       "    .dataframe thead th {\n",
       "        text-align: right;\n",
       "    }\n",
       "</style>\n",
       "<table border=\"1\" class=\"dataframe\">\n",
       "  <thead>\n",
       "    <tr style=\"text-align: right;\">\n",
       "      <th></th>\n",
       "      <th>name</th>\n",
       "      <th>platform</th>\n",
       "      <th>year_of_release</th>\n",
       "      <th>genre</th>\n",
       "      <th>na_sales</th>\n",
       "      <th>eu_sales</th>\n",
       "      <th>jp_sales</th>\n",
       "      <th>other_sales</th>\n",
       "      <th>critic_score</th>\n",
       "      <th>user_score</th>\n",
       "      <th>rating</th>\n",
       "    </tr>\n",
       "  </thead>\n",
       "  <tbody>\n",
       "    <tr>\n",
       "      <th>0</th>\n",
       "      <td>wii sports</td>\n",
       "      <td>wii</td>\n",
       "      <td>2006</td>\n",
       "      <td>sports</td>\n",
       "      <td>41.36</td>\n",
       "      <td>28.96</td>\n",
       "      <td>3.77</td>\n",
       "      <td>8.45</td>\n",
       "      <td>76.0</td>\n",
       "      <td>8</td>\n",
       "      <td>E</td>\n",
       "    </tr>\n",
       "    <tr>\n",
       "      <th>1</th>\n",
       "      <td>super mario bros.</td>\n",
       "      <td>nes</td>\n",
       "      <td>1985</td>\n",
       "      <td>platform</td>\n",
       "      <td>29.08</td>\n",
       "      <td>3.58</td>\n",
       "      <td>6.81</td>\n",
       "      <td>0.77</td>\n",
       "      <td>NaN</td>\n",
       "      <td>NaN</td>\n",
       "      <td>NaN</td>\n",
       "    </tr>\n",
       "    <tr>\n",
       "      <th>2</th>\n",
       "      <td>mario kart wii</td>\n",
       "      <td>wii</td>\n",
       "      <td>2008</td>\n",
       "      <td>racing</td>\n",
       "      <td>15.68</td>\n",
       "      <td>12.76</td>\n",
       "      <td>3.79</td>\n",
       "      <td>3.29</td>\n",
       "      <td>82.0</td>\n",
       "      <td>8.3</td>\n",
       "      <td>E</td>\n",
       "    </tr>\n",
       "    <tr>\n",
       "      <th>3</th>\n",
       "      <td>wii sports resort</td>\n",
       "      <td>wii</td>\n",
       "      <td>2009</td>\n",
       "      <td>sports</td>\n",
       "      <td>15.61</td>\n",
       "      <td>10.93</td>\n",
       "      <td>3.28</td>\n",
       "      <td>2.95</td>\n",
       "      <td>80.0</td>\n",
       "      <td>8</td>\n",
       "      <td>E</td>\n",
       "    </tr>\n",
       "    <tr>\n",
       "      <th>4</th>\n",
       "      <td>pokemon red/pokemon blue</td>\n",
       "      <td>gb</td>\n",
       "      <td>1996</td>\n",
       "      <td>role-playing</td>\n",
       "      <td>11.27</td>\n",
       "      <td>8.89</td>\n",
       "      <td>10.22</td>\n",
       "      <td>1.00</td>\n",
       "      <td>NaN</td>\n",
       "      <td>NaN</td>\n",
       "      <td>NaN</td>\n",
       "    </tr>\n",
       "  </tbody>\n",
       "</table>\n",
       "</div>"
      ],
      "text/plain": [
       "                       name platform  year_of_release         genre  na_sales  \\\n",
       "0                wii sports      wii             2006        sports     41.36   \n",
       "1         super mario bros.      nes             1985      platform     29.08   \n",
       "2            mario kart wii      wii             2008        racing     15.68   \n",
       "3         wii sports resort      wii             2009        sports     15.61   \n",
       "4  pokemon red/pokemon blue       gb             1996  role-playing     11.27   \n",
       "\n",
       "   eu_sales  jp_sales  other_sales  critic_score user_score rating  \n",
       "0     28.96      3.77         8.45          76.0          8      E  \n",
       "1      3.58      6.81         0.77           NaN        NaN    NaN  \n",
       "2     12.76      3.79         3.29          82.0        8.3      E  \n",
       "3     10.93      3.28         2.95          80.0          8      E  \n",
       "4      8.89     10.22         1.00           NaN        NaN    NaN  "
      ]
     },
     "execution_count": 15,
     "metadata": {},
     "output_type": "execute_result"
    }
   ],
   "source": [
    "game_data['genre'] = game_data['genre'].str.lower()\n",
    "\n",
    "# Vendo as primeiras linhas da tabela\n",
    "game_data.head()"
   ]
  },
  {
   "cell_type": "markdown",
   "metadata": {},
   "source": [
    "### A coluna ``critic_score``\n",
    "\n",
    "Vamos ver os valores únicos da coluna com a pontuação da crítica:"
   ]
  },
  {
   "cell_type": "code",
   "execution_count": 16,
   "metadata": {},
   "outputs": [
    {
     "data": {
      "text/plain": [
       "array([76., nan, 82., 80., 89., 58., 87., 91., 61., 97., 95., 77., 88.,\n",
       "       83., 94., 93., 85., 86., 98., 96., 90., 84., 73., 74., 78., 92.,\n",
       "       71., 72., 68., 62., 49., 67., 81., 66., 56., 79., 70., 59., 64.,\n",
       "       75., 60., 63., 69., 50., 25., 42., 44., 55., 48., 57., 29., 47.,\n",
       "       65., 54., 20., 53., 37., 38., 33., 52., 30., 32., 43., 45., 51.,\n",
       "       40., 46., 39., 34., 35., 41., 36., 28., 31., 27., 26., 19., 23.,\n",
       "       24., 21., 17., 22., 13.])"
      ]
     },
     "execution_count": 16,
     "metadata": {},
     "output_type": "execute_result"
    }
   ],
   "source": [
    "game_data['critic_score'].unique()"
   ]
  },
  {
   "cell_type": "markdown",
   "metadata": {},
   "source": [
    "Vamos começar tratando dos valores ausentes. Para isso, precisamos observar as características da coluna:"
   ]
  },
  {
   "cell_type": "code",
   "execution_count": 17,
   "metadata": {},
   "outputs": [
    {
     "data": {
      "text/plain": [
       "count    8137.000000\n",
       "mean       68.967679\n",
       "std        13.938165\n",
       "min        13.000000\n",
       "25%        60.000000\n",
       "50%        71.000000\n",
       "75%        79.000000\n",
       "max        98.000000\n",
       "Name: critic_score, dtype: float64"
      ]
     },
     "execution_count": 17,
     "metadata": {},
     "output_type": "execute_result"
    }
   ],
   "source": [
    "game_data['critic_score'].describe()"
   ]
  },
  {
   "cell_type": "markdown",
   "metadata": {},
   "source": [
    "A média e a mediana são valores próximos, mas vamos ver também como esses valores variam por gênero:"
   ]
  },
  {
   "cell_type": "code",
   "execution_count": 18,
   "metadata": {},
   "outputs": [
    {
     "data": {
      "text/html": [
       "<div>\n",
       "<style scoped>\n",
       "    .dataframe tbody tr th:only-of-type {\n",
       "        vertical-align: middle;\n",
       "    }\n",
       "\n",
       "    .dataframe tbody tr th {\n",
       "        vertical-align: top;\n",
       "    }\n",
       "\n",
       "    .dataframe thead tr th {\n",
       "        text-align: left;\n",
       "    }\n",
       "\n",
       "    .dataframe thead tr:last-of-type th {\n",
       "        text-align: right;\n",
       "    }\n",
       "</style>\n",
       "<table border=\"1\" class=\"dataframe\">\n",
       "  <thead>\n",
       "    <tr>\n",
       "      <th></th>\n",
       "      <th>median</th>\n",
       "      <th>mean</th>\n",
       "    </tr>\n",
       "    <tr>\n",
       "      <th></th>\n",
       "      <th>critic_score</th>\n",
       "      <th>critic_score</th>\n",
       "    </tr>\n",
       "    <tr>\n",
       "      <th>genre</th>\n",
       "      <th></th>\n",
       "      <th></th>\n",
       "    </tr>\n",
       "  </thead>\n",
       "  <tbody>\n",
       "    <tr>\n",
       "      <th>action</th>\n",
       "      <td>68.0</td>\n",
       "      <td>66.629101</td>\n",
       "    </tr>\n",
       "    <tr>\n",
       "      <th>adventure</th>\n",
       "      <td>66.0</td>\n",
       "      <td>65.331269</td>\n",
       "    </tr>\n",
       "    <tr>\n",
       "      <th>fighting</th>\n",
       "      <td>72.0</td>\n",
       "      <td>69.217604</td>\n",
       "    </tr>\n",
       "    <tr>\n",
       "      <th>misc</th>\n",
       "      <td>69.0</td>\n",
       "      <td>66.619503</td>\n",
       "    </tr>\n",
       "    <tr>\n",
       "      <th>platform</th>\n",
       "      <td>69.0</td>\n",
       "      <td>68.058350</td>\n",
       "    </tr>\n",
       "    <tr>\n",
       "      <th>puzzle</th>\n",
       "      <td>70.0</td>\n",
       "      <td>67.424107</td>\n",
       "    </tr>\n",
       "    <tr>\n",
       "      <th>racing</th>\n",
       "      <td>69.0</td>\n",
       "      <td>67.963612</td>\n",
       "    </tr>\n",
       "    <tr>\n",
       "      <th>role-playing</th>\n",
       "      <td>74.0</td>\n",
       "      <td>72.652646</td>\n",
       "    </tr>\n",
       "    <tr>\n",
       "      <th>shooter</th>\n",
       "      <td>73.0</td>\n",
       "      <td>70.181144</td>\n",
       "    </tr>\n",
       "    <tr>\n",
       "      <th>simulation</th>\n",
       "      <td>70.0</td>\n",
       "      <td>68.619318</td>\n",
       "    </tr>\n",
       "    <tr>\n",
       "      <th>sports</th>\n",
       "      <td>75.0</td>\n",
       "      <td>71.968174</td>\n",
       "    </tr>\n",
       "    <tr>\n",
       "      <th>strategy</th>\n",
       "      <td>73.0</td>\n",
       "      <td>72.086093</td>\n",
       "    </tr>\n",
       "  </tbody>\n",
       "</table>\n",
       "</div>"
      ],
      "text/plain": [
       "                   median         mean\n",
       "             critic_score critic_score\n",
       "genre                                 \n",
       "action               68.0    66.629101\n",
       "adventure            66.0    65.331269\n",
       "fighting             72.0    69.217604\n",
       "misc                 69.0    66.619503\n",
       "platform             69.0    68.058350\n",
       "puzzle               70.0    67.424107\n",
       "racing               69.0    67.963612\n",
       "role-playing         74.0    72.652646\n",
       "shooter              73.0    70.181144\n",
       "simulation           70.0    68.619318\n",
       "sports               75.0    71.968174\n",
       "strategy             73.0    72.086093"
      ]
     },
     "execution_count": 18,
     "metadata": {},
     "output_type": "execute_result"
    }
   ],
   "source": [
    "game_data.pivot_table(index='genre', values='critic_score', aggfunc=['median', 'mean'])"
   ]
  },
  {
   "cell_type": "markdown",
   "metadata": {},
   "source": [
    "Como a variação é pequena, optamos por substituir os valores ausentes pela mediana total ao invés de condicionar a mediana de cada gênero:"
   ]
  },
  {
   "cell_type": "code",
   "execution_count": 19,
   "metadata": {},
   "outputs": [
    {
     "data": {
      "text/plain": [
       "0"
      ]
     },
     "execution_count": 19,
     "metadata": {},
     "output_type": "execute_result"
    }
   ],
   "source": [
    "game_data['critic_score'] = game_data['critic_score'].fillna(game_data['critic_score'].mean())\n",
    "\n",
    "# Conferindo se restam linhas em branco\n",
    "game_data['critic_score'].isna().sum()"
   ]
  },
  {
   "cell_type": "markdown",
   "metadata": {},
   "source": [
    "Vamos agora converter os valores para inteiros, uma vez que não há decimais nos dados:"
   ]
  },
  {
   "cell_type": "code",
   "execution_count": 20,
   "metadata": {},
   "outputs": [
    {
     "name": "stdout",
     "output_type": "stream",
     "text": [
      "<class 'pandas.core.frame.DataFrame'>\n",
      "Int64Index: 16713 entries, 0 to 16714\n",
      "Data columns (total 11 columns):\n",
      " #   Column           Non-Null Count  Dtype  \n",
      "---  ------           --------------  -----  \n",
      " 0   name             16713 non-null  object \n",
      " 1   platform         16713 non-null  object \n",
      " 2   year_of_release  16713 non-null  int32  \n",
      " 3   genre            16713 non-null  object \n",
      " 4   na_sales         16713 non-null  float64\n",
      " 5   eu_sales         16713 non-null  float64\n",
      " 6   jp_sales         16713 non-null  float64\n",
      " 7   other_sales      16713 non-null  float64\n",
      " 8   critic_score     16713 non-null  int32  \n",
      " 9   user_score       10014 non-null  object \n",
      " 10  rating           9949 non-null   object \n",
      "dtypes: float64(4), int32(2), object(5)\n",
      "memory usage: 1.9+ MB\n"
     ]
    }
   ],
   "source": [
    "game_data['critic_score'] = game_data['critic_score'].astype('int')\n",
    "\n",
    "# Imprimindo as informações da tabela mais uma vez\n",
    "game_data.info()"
   ]
  },
  {
   "cell_type": "markdown",
   "metadata": {},
   "source": [
    "### A coluna ``user_score``\n",
    "\n",
    "A coluna com a avaliação dos usuários está em formato de texto (object), vejamos porquê:"
   ]
  },
  {
   "cell_type": "code",
   "execution_count": 21,
   "metadata": {},
   "outputs": [
    {
     "data": {
      "text/plain": [
       "array(['8', nan, '8.3', '8.5', '6.6', '8.4', '8.6', '7.7', '6.3', '7.4',\n",
       "       '8.2', '9', '7.9', '8.1', '8.7', '7.1', '3.4', '5.3', '4.8', '3.2',\n",
       "       '8.9', '6.4', '7.8', '7.5', '2.6', '7.2', '9.2', '7', '7.3', '4.3',\n",
       "       '7.6', '5.7', '5', '9.1', '6.5', 'tbd', '8.8', '6.9', '9.4', '6.8',\n",
       "       '6.1', '6.7', '5.4', '4', '4.9', '4.5', '9.3', '6.2', '4.2', '6',\n",
       "       '3.7', '4.1', '5.8', '5.6', '5.5', '4.4', '4.6', '5.9', '3.9',\n",
       "       '3.1', '2.9', '5.2', '3.3', '4.7', '5.1', '3.5', '2.5', '1.9', '3',\n",
       "       '2.7', '2.2', '2', '9.5', '2.1', '3.6', '2.8', '1.8', '3.8', '0',\n",
       "       '1.6', '9.6', '2.4', '1.7', '1.1', '0.3', '1.5', '0.7', '1.2',\n",
       "       '2.3', '0.5', '1.3', '0.2', '0.6', '1.4', '0.9', '1', '9.7'],\n",
       "      dtype=object)"
      ]
     },
     "execution_count": 21,
     "metadata": {},
     "output_type": "execute_result"
    }
   ],
   "source": [
    "game_data['user_score'].unique()"
   ]
  },
  {
   "cell_type": "markdown",
   "metadata": {},
   "source": [
    "Vemos que há um 'tbd' entre os valores. Isso significa \"to be defined\" (\"a ser definido\"), ele é usado para jogos que não tinham pontuação definida no momento em que os dados foram gerados. Vamos substituir o seu valor por NA:"
   ]
  },
  {
   "cell_type": "code",
   "execution_count": 22,
   "metadata": {},
   "outputs": [
    {
     "data": {
      "text/plain": [
       "7.8    324\n",
       "8      290\n",
       "8.2    282\n",
       "8.3    254\n",
       "8.5    253\n",
       "      ... \n",
       "0.7      2\n",
       "1.1      2\n",
       "2.3      2\n",
       "0        1\n",
       "9.7      1\n",
       "Name: user_score, Length: 95, dtype: int64"
      ]
     },
     "execution_count": 22,
     "metadata": {},
     "output_type": "execute_result"
    }
   ],
   "source": [
    "game_data['user_score'] = game_data['user_score'].replace({'tbd': np.nan})\n",
    "\n",
    "# Vendo quanto temos de cada valor\n",
    "game_data['user_score'].value_counts()"
   ]
  },
  {
   "cell_type": "markdown",
   "metadata": {},
   "source": [
    "Vamos converter os dados para decimais e conferir alguns dados da coluna antes de decidir como substituí-los:"
   ]
  },
  {
   "cell_type": "code",
   "execution_count": 23,
   "metadata": {},
   "outputs": [
    {
     "data": {
      "text/plain": [
       "count    7590.000000\n",
       "mean        7.125046\n",
       "std         1.500006\n",
       "min         0.000000\n",
       "25%         6.400000\n",
       "50%         7.500000\n",
       "75%         8.200000\n",
       "max         9.700000\n",
       "Name: user_score, dtype: float64"
      ]
     },
     "execution_count": 23,
     "metadata": {},
     "output_type": "execute_result"
    }
   ],
   "source": [
    "game_data['user_score'] = game_data['user_score'].astype('float')\n",
    "\n",
    "game_data['user_score'].describe()"
   ]
  },
  {
   "cell_type": "markdown",
   "metadata": {},
   "source": [
    "Como o desvio padrão não é muito alto, vamos substituir os valores pela média:"
   ]
  },
  {
   "cell_type": "code",
   "execution_count": 24,
   "metadata": {},
   "outputs": [
    {
     "name": "stdout",
     "output_type": "stream",
     "text": [
      "<class 'pandas.core.frame.DataFrame'>\n",
      "Int64Index: 16713 entries, 0 to 16714\n",
      "Data columns (total 11 columns):\n",
      " #   Column           Non-Null Count  Dtype  \n",
      "---  ------           --------------  -----  \n",
      " 0   name             16713 non-null  object \n",
      " 1   platform         16713 non-null  object \n",
      " 2   year_of_release  16713 non-null  int32  \n",
      " 3   genre            16713 non-null  object \n",
      " 4   na_sales         16713 non-null  float64\n",
      " 5   eu_sales         16713 non-null  float64\n",
      " 6   jp_sales         16713 non-null  float64\n",
      " 7   other_sales      16713 non-null  float64\n",
      " 8   critic_score     16713 non-null  int32  \n",
      " 9   user_score       16713 non-null  float64\n",
      " 10  rating           9949 non-null   object \n",
      "dtypes: float64(5), int32(2), object(4)\n",
      "memory usage: 1.9+ MB\n"
     ]
    }
   ],
   "source": [
    "game_data['user_score'] = game_data['user_score'].fillna(game_data['user_score'].mean())\n",
    "\n",
    "# Vendo as informações\n",
    "game_data.info()"
   ]
  },
  {
   "cell_type": "markdown",
   "metadata": {},
   "source": [
    "### A coluna ``rating``\n",
    "\n",
    "Existem valores ausentes na coluna ``rating``. Vamos ver quais são os valores dessa coluna:"
   ]
  },
  {
   "cell_type": "code",
   "execution_count": 25,
   "metadata": {},
   "outputs": [
    {
     "data": {
      "text/plain": [
       "array(['E', nan, 'M', 'T', 'E10+', 'K-A', 'AO', 'EC', 'RP'], dtype=object)"
      ]
     },
     "execution_count": 25,
     "metadata": {},
     "output_type": "execute_result"
    }
   ],
   "source": [
    "game_data['rating'].unique()"
   ]
  },
  {
   "cell_type": "markdown",
   "metadata": {},
   "source": [
    "A coluna contém a classificação indicativa dos jogos, portando é uma variável categórica. Dessa forma, não podemos susbstituir os valores pela média ou pela mediana. Porém, como a classificação está bastante relacionada ao gênero do jogo, nós precisamos encontrar os valores mais comuns para cada gênero e utilizá-lo para preencher as linhas ausentes. Vamos agrupar os dados por gênero e utilizar a moda para encontrar a classificação mais comum de cada um."
   ]
  },
  {
   "cell_type": "code",
   "execution_count": 26,
   "metadata": {},
   "outputs": [
    {
     "data": {
      "text/plain": [
       "'E'"
      ]
     },
     "execution_count": 26,
     "metadata": {},
     "output_type": "execute_result"
    }
   ],
   "source": [
    "rating_table = game_data.groupby('genre')['rating'].agg(pd.Series.mode)\n",
    "\n",
    "# Criando a função\n",
    "def rating_filler(row):\n",
    "    if pd.isna(row['rating']):\n",
    "        return rating_table[row['genre']]\n",
    "    else:\n",
    "        return row['rating']\n",
    "    \n",
    "# Testando a função\n",
    "rating_filler(game_data.loc[0])"
   ]
  },
  {
   "cell_type": "markdown",
   "metadata": {},
   "source": [
    "Aplicando à coluna ``rating``:"
   ]
  },
  {
   "cell_type": "code",
   "execution_count": 27,
   "metadata": {},
   "outputs": [
    {
     "name": "stdout",
     "output_type": "stream",
     "text": [
      "<class 'pandas.core.frame.DataFrame'>\n",
      "Int64Index: 16713 entries, 0 to 16714\n",
      "Data columns (total 11 columns):\n",
      " #   Column           Non-Null Count  Dtype  \n",
      "---  ------           --------------  -----  \n",
      " 0   name             16713 non-null  object \n",
      " 1   platform         16713 non-null  object \n",
      " 2   year_of_release  16713 non-null  int32  \n",
      " 3   genre            16713 non-null  object \n",
      " 4   na_sales         16713 non-null  float64\n",
      " 5   eu_sales         16713 non-null  float64\n",
      " 6   jp_sales         16713 non-null  float64\n",
      " 7   other_sales      16713 non-null  float64\n",
      " 8   critic_score     16713 non-null  int32  \n",
      " 9   user_score       16713 non-null  float64\n",
      " 10  rating           16713 non-null  object \n",
      "dtypes: float64(5), int32(2), object(4)\n",
      "memory usage: 1.9+ MB\n"
     ]
    }
   ],
   "source": [
    "game_data['rating'] = game_data.apply(rating_filler, axis=1)\n",
    "\n",
    "# Vendo as informações da tabela\n",
    "game_data.info()"
   ]
  },
  {
   "cell_type": "markdown",
   "metadata": {},
   "source": [
    "Os formatos foram corrigidos e os valores ausentes foram todos preenchidos."
   ]
  },
  {
   "cell_type": "markdown",
   "metadata": {},
   "source": [
    "### Calculando o total de vendas"
   ]
  },
  {
   "cell_type": "markdown",
   "metadata": {},
   "source": [
    "Para calcular o total de vendas de cada jogo, precisamos somar as vendas na América do Norte (coluna ``na_sales``), na Europa (``eu_sales``), no Japão (``jp_sales``) e em outras regiões (``other_sales``). Vamos fazer isso e armazenar o valor na coluna ``total_sales``:"
   ]
  },
  {
   "cell_type": "code",
   "execution_count": 28,
   "metadata": {},
   "outputs": [
    {
     "data": {
      "text/html": [
       "<div>\n",
       "<style scoped>\n",
       "    .dataframe tbody tr th:only-of-type {\n",
       "        vertical-align: middle;\n",
       "    }\n",
       "\n",
       "    .dataframe tbody tr th {\n",
       "        vertical-align: top;\n",
       "    }\n",
       "\n",
       "    .dataframe thead th {\n",
       "        text-align: right;\n",
       "    }\n",
       "</style>\n",
       "<table border=\"1\" class=\"dataframe\">\n",
       "  <thead>\n",
       "    <tr style=\"text-align: right;\">\n",
       "      <th></th>\n",
       "      <th>name</th>\n",
       "      <th>platform</th>\n",
       "      <th>year_of_release</th>\n",
       "      <th>genre</th>\n",
       "      <th>na_sales</th>\n",
       "      <th>eu_sales</th>\n",
       "      <th>jp_sales</th>\n",
       "      <th>other_sales</th>\n",
       "      <th>critic_score</th>\n",
       "      <th>user_score</th>\n",
       "      <th>rating</th>\n",
       "      <th>total_sales</th>\n",
       "    </tr>\n",
       "  </thead>\n",
       "  <tbody>\n",
       "    <tr>\n",
       "      <th>0</th>\n",
       "      <td>wii sports</td>\n",
       "      <td>wii</td>\n",
       "      <td>2006</td>\n",
       "      <td>sports</td>\n",
       "      <td>41.36</td>\n",
       "      <td>28.96</td>\n",
       "      <td>3.77</td>\n",
       "      <td>8.45</td>\n",
       "      <td>76</td>\n",
       "      <td>8.000000</td>\n",
       "      <td>E</td>\n",
       "      <td>82.54</td>\n",
       "    </tr>\n",
       "    <tr>\n",
       "      <th>1</th>\n",
       "      <td>super mario bros.</td>\n",
       "      <td>nes</td>\n",
       "      <td>1985</td>\n",
       "      <td>platform</td>\n",
       "      <td>29.08</td>\n",
       "      <td>3.58</td>\n",
       "      <td>6.81</td>\n",
       "      <td>0.77</td>\n",
       "      <td>68</td>\n",
       "      <td>7.125046</td>\n",
       "      <td>E</td>\n",
       "      <td>40.24</td>\n",
       "    </tr>\n",
       "    <tr>\n",
       "      <th>2</th>\n",
       "      <td>mario kart wii</td>\n",
       "      <td>wii</td>\n",
       "      <td>2008</td>\n",
       "      <td>racing</td>\n",
       "      <td>15.68</td>\n",
       "      <td>12.76</td>\n",
       "      <td>3.79</td>\n",
       "      <td>3.29</td>\n",
       "      <td>82</td>\n",
       "      <td>8.300000</td>\n",
       "      <td>E</td>\n",
       "      <td>35.52</td>\n",
       "    </tr>\n",
       "    <tr>\n",
       "      <th>3</th>\n",
       "      <td>wii sports resort</td>\n",
       "      <td>wii</td>\n",
       "      <td>2009</td>\n",
       "      <td>sports</td>\n",
       "      <td>15.61</td>\n",
       "      <td>10.93</td>\n",
       "      <td>3.28</td>\n",
       "      <td>2.95</td>\n",
       "      <td>80</td>\n",
       "      <td>8.000000</td>\n",
       "      <td>E</td>\n",
       "      <td>32.77</td>\n",
       "    </tr>\n",
       "    <tr>\n",
       "      <th>4</th>\n",
       "      <td>pokemon red/pokemon blue</td>\n",
       "      <td>gb</td>\n",
       "      <td>1996</td>\n",
       "      <td>role-playing</td>\n",
       "      <td>11.27</td>\n",
       "      <td>8.89</td>\n",
       "      <td>10.22</td>\n",
       "      <td>1.00</td>\n",
       "      <td>68</td>\n",
       "      <td>7.125046</td>\n",
       "      <td>T</td>\n",
       "      <td>31.38</td>\n",
       "    </tr>\n",
       "  </tbody>\n",
       "</table>\n",
       "</div>"
      ],
      "text/plain": [
       "                       name platform  year_of_release         genre  na_sales  \\\n",
       "0                wii sports      wii             2006        sports     41.36   \n",
       "1         super mario bros.      nes             1985      platform     29.08   \n",
       "2            mario kart wii      wii             2008        racing     15.68   \n",
       "3         wii sports resort      wii             2009        sports     15.61   \n",
       "4  pokemon red/pokemon blue       gb             1996  role-playing     11.27   \n",
       "\n",
       "   eu_sales  jp_sales  other_sales  critic_score  user_score rating  \\\n",
       "0     28.96      3.77         8.45            76    8.000000      E   \n",
       "1      3.58      6.81         0.77            68    7.125046      E   \n",
       "2     12.76      3.79         3.29            82    8.300000      E   \n",
       "3     10.93      3.28         2.95            80    8.000000      E   \n",
       "4      8.89     10.22         1.00            68    7.125046      T   \n",
       "\n",
       "   total_sales  \n",
       "0        82.54  \n",
       "1        40.24  \n",
       "2        35.52  \n",
       "3        32.77  \n",
       "4        31.38  "
      ]
     },
     "execution_count": 28,
     "metadata": {},
     "output_type": "execute_result"
    }
   ],
   "source": [
    "game_data['total_sales'] = game_data['na_sales'] + game_data['eu_sales'] + game_data['jp_sales'] + game_data['other_sales']\n",
    "\n",
    "# Observando as primeiras linhas da tabela\n",
    "game_data.head()"
   ]
  },
  {
   "cell_type": "markdown",
   "metadata": {},
   "source": [
    "Uma última olhada de como ficou nosso DataFrame:"
   ]
  },
  {
   "cell_type": "code",
   "execution_count": 29,
   "metadata": {},
   "outputs": [
    {
     "name": "stdout",
     "output_type": "stream",
     "text": [
      "<class 'pandas.core.frame.DataFrame'>\n",
      "Int64Index: 16713 entries, 0 to 16714\n",
      "Data columns (total 12 columns):\n",
      " #   Column           Non-Null Count  Dtype  \n",
      "---  ------           --------------  -----  \n",
      " 0   name             16713 non-null  object \n",
      " 1   platform         16713 non-null  object \n",
      " 2   year_of_release  16713 non-null  int32  \n",
      " 3   genre            16713 non-null  object \n",
      " 4   na_sales         16713 non-null  float64\n",
      " 5   eu_sales         16713 non-null  float64\n",
      " 6   jp_sales         16713 non-null  float64\n",
      " 7   other_sales      16713 non-null  float64\n",
      " 8   critic_score     16713 non-null  int32  \n",
      " 9   user_score       16713 non-null  float64\n",
      " 10  rating           16713 non-null  object \n",
      " 11  total_sales      16713 non-null  float64\n",
      "dtypes: float64(6), int32(2), object(4)\n",
      "memory usage: 2.0+ MB\n"
     ]
    }
   ],
   "source": [
    "game_data.info()"
   ]
  },
  {
   "cell_type": "markdown",
   "metadata": {},
   "source": [
    "**Conclusão parcial**\n",
    "\n",
    "Na etapa de pré-processamento, nós convertemos alguns formatos de dados e transformamos letras maiúsculas em minúsculas nos nomes das colunas e nas variáveis categóricas. Também tratamos dos valores ausentes, decidindo caso a caso qual o melhor método para preenchê-los. Por fim, somamos as vendas em cada região para criar uma coluna com os dados do total de vendas de cada jogo."
   ]
  },
  {
   "cell_type": "markdown",
   "metadata": {},
   "source": [
    "## Analisando os dados\n",
    "\n",
    "Nesta seção, vamos analisar os anos de lançamento dos jogos, como as vendas variam de acordo com a plataforma, quanto as avaliações da crítica e dos usuários impactam as vendas e como os gêneros afetam o desempenho comercial dos jogos."
   ]
  },
  {
   "cell_type": "markdown",
   "metadata": {},
   "source": [
    "### Lançamento de jogos por ano\n",
    "\n",
    "Vamos observar quantos jogos foram lançados em cada ano:"
   ]
  },
  {
   "cell_type": "code",
   "execution_count": 30,
   "metadata": {},
   "outputs": [
    {
     "data": {
      "text/plain": [
       "2009    1476\n",
       "2008    1457\n",
       "2010    1302\n",
       "2007    1197\n",
       "2011    1161\n",
       "2006    1006\n",
       "2005     973\n",
       "2002     829\n",
       "2003     800\n",
       "2004     783\n",
       "2012     653\n",
       "2015     606\n",
       "2014     582\n",
       "2013     552\n",
       "2016     502\n",
       "2001     482\n",
       "1998     386\n",
       "2000     350\n",
       "1999     341\n",
       "1997     290\n",
       "1996     263\n",
       "1995     219\n",
       "1994     121\n",
       "1993      60\n",
       "1982      53\n",
       "1981      46\n",
       "1992      43\n",
       "1991      41\n",
       "1986      21\n",
       "1983      17\n",
       "1989      17\n",
       "1990      16\n",
       "1987      16\n",
       "1988      15\n",
       "1985      14\n",
       "1984      14\n",
       "1980       9\n",
       "Name: year_of_release, dtype: int64"
      ]
     },
     "execution_count": 30,
     "metadata": {},
     "output_type": "execute_result"
    }
   ],
   "source": [
    "game_data['year_of_release'].value_counts()"
   ]
  },
  {
   "cell_type": "markdown",
   "metadata": {},
   "source": [
    "Vemos que poucos jogos foram lançados na década de 1980 e que o volume passa a crescer a partir do meio da década de 1990. Visualizar esses dados também pode nos dar uma boa noção da frequência de lançamentos:"
   ]
  },
  {
   "cell_type": "code",
   "execution_count": 31,
   "metadata": {},
   "outputs": [
    {
     "data": {
      "image/png": "[encoded data removed]",
      "text/plain": [
       "<Figure size 1008x576 with 1 Axes>"
      ]
     },
     "metadata": {
      "needs_background": "light"
     },
     "output_type": "display_data"
    }
   ],
   "source": [
    "# Criando um histograma por ano de lançamento com 35 colunas\n",
    "game_data['year_of_release'].hist(bins=35, figsize=(14,8))\n",
    "\n",
    "# Nomeando o gráfico\n",
    "plt.title('Histograma com a quantidade de lançamentos por ano')\n",
    "\n",
    "# Exibindo o gráfico\n",
    "plt.show()"
   ]
  },
  {
   "cell_type": "markdown",
   "metadata": {},
   "source": [
    "Fica claro que o ritmo de lançamento de jogos se intensifica a partir de 1995, com um salto significativo depois do ano 2000. Os picos de lançamento são entre 2007 e 2012. Mas como podemos observar, há um longo período, entre 1980 e 1995, com comparativamente poucos lançamentos, o que indica que pode ser interessante excluir os jogos lançados entre essas datas da nossa análise."
   ]
  },
  {
   "cell_type": "markdown",
   "metadata": {},
   "source": [
    "### Lançamentos e vendas por plataforma\n",
    "\n",
    "Vamos analisar agora como os jogos se distribuem por plataforma:"
   ]
  },
  {
   "cell_type": "code",
   "execution_count": 32,
   "metadata": {},
   "outputs": [
    {
     "data": {
      "text/plain": [
       "ps2     2161\n",
       "ds      2151\n",
       "ps3     1331\n",
       "wii     1320\n",
       "x360    1262\n",
       "psp     1209\n",
       "ps      1197\n",
       "pc       974\n",
       "xb       824\n",
       "gba      822\n",
       "Name: platform, dtype: int64"
      ]
     },
     "execution_count": 32,
     "metadata": {},
     "output_type": "execute_result"
    }
   ],
   "source": [
    "game_data['platform'].value_counts().head(10)"
   ]
  },
  {
   "cell_type": "markdown",
   "metadata": {},
   "source": [
    "Vemos que em popularidade de lançamentos, PS2, DS, PS3, Wii, Xbox360 e PSP lideram. Vamos ver se essa ordem se mantém quando agrupamos os dados pelo total de vendas:"
   ]
  },
  {
   "cell_type": "code",
   "execution_count": 33,
   "metadata": {},
   "outputs": [
    {
     "data": {
      "text/plain": [
       "platform\n",
       "ps2     1255.77\n",
       "x360     971.42\n",
       "ps3      939.65\n",
       "wii      907.51\n",
       "ds       806.12\n",
       "ps       730.86\n",
       "gba      317.85\n",
       "ps4      314.14\n",
       "psp      294.05\n",
       "pc       259.52\n",
       "Name: total_sales, dtype: float64"
      ]
     },
     "execution_count": 33,
     "metadata": {},
     "output_type": "execute_result"
    }
   ],
   "source": [
    "game_data.groupby('platform')['total_sales'].sum().sort_values(ascending=False).head(10)"
   ]
  },
  {
   "cell_type": "markdown",
   "metadata": {},
   "source": [
    "Agora o PS2 aparece com uma vantagem bem definida em relação as outras plataformas e, apesar dos outros terem apenas trocados de posições, o PSP não está mais entre os 6 primeiros, perdendo seu lugar para o PS. Vamos visualizar agora como as vendas variam por ano para cada plataforma:"
   ]
  },
  {
   "cell_type": "code",
   "execution_count": 34,
   "metadata": {
    "scrolled": false
   },
   "outputs": [
    {
     "data": {
      "image/png": "[encoded data removed]",
      "text/plain": [
       "<Figure size 1008x432 with 1 Axes>"
      ]
     },
     "metadata": {
      "needs_background": "light"
     },
     "output_type": "display_data"
    },
    {
     "data": {
      "image/png": "[encoded data removed]",
      "text/plain": [
       "<Figure size 1008x432 with 1 Axes>"
      ]
     },
     "metadata": {
      "needs_background": "light"
     },
     "output_type": "display_data"
    },
    {
     "data": {
      "image/png": "[encoded data removed]",
      "text/plain": [
       "<Figure size 1008x432 with 1 Axes>"
      ]
     },
     "metadata": {
      "needs_background": "light"
     },
     "output_type": "display_data"
    },
    {
     "data": {
      "image/png": "[encoded data removed]",
      "text/plain": [
       "<Figure size 1008x432 with 1 Axes>"
      ]
     },
     "metadata": {
      "needs_background": "light"
     },
     "output_type": "display_data"
    },
    {
     "data": {
      "image/png": "[encoded data removed]",
      "text/plain": [
       "<Figure size 1008x432 with 1 Axes>"
      ]
     },
     "metadata": {
      "needs_background": "light"
     },
     "output_type": "display_data"
    },
    {
     "data": {
      "image/png": "[encoded data removed]",
      "text/plain": [
       "<Figure size 1008x432 with 1 Axes>"
      ]
     },
     "metadata": {
      "needs_background": "light"
     },
     "output_type": "display_data"
    }
   ],
   "source": [
    "# Primeiro, vamos criar separar as 6 plataformas com maior soma de vendas em uma tabela\n",
    "biggest_six = game_data.groupby('platform')['total_sales'].sum().sort_values(ascending=False).head(6)\n",
    "\n",
    "# Agora vamos utilizar um loop \"for\" para criar gráficos de barras para as vendas de cada plaforma\n",
    "for platform in biggest_six.index:\n",
    "    data = game_data.query('platform == @platform')\n",
    "    data.groupby('year_of_release')['total_sales'].sum().plot(kind='bar', figsize=(14,6))\n",
    "    plt.title(f\"Vendas por ano da Plataforma {platform.upper()}\")\n",
    "    plt.show()"
   ]
  },
  {
   "cell_type": "markdown",
   "metadata": {},
   "source": [
    "Vemos que a maioria das plataformas tem um período de atividade de 10 ou 11 anos. PS2, que começou suas vendas em 2000, teve um desempenho ótimo de 2001 a 2005, e começou um declínio em 2006, culminando no fim das vendas em 2011. O Xbox360, PS3 e o PS têm desempenhos similares, com 5 anos de ascensão nas vendas, seguidos por um périodo de 4 a 6 anos de declínio até sua extinção. O Nintendo Wii teve 4 anos de ascenção, a partir de 2006, seu ano de lançamento, seguido de forte queda após 2010, com vendas pouco expressivas entre 2013 e 2016. Já o DS, depois de um primeiro ano com poucas vendas, teve um grande salto nas vendas no ano seguinte, 2005, mantendo um bom desempenho até 2010, quando iniciou um rápido declínio nas vendas. Comparando a performance do PS2 com seu sucesso, o PS3, vemos que demorou um périodo de cerca de 5 anos (de 2006 a 2011) para que uma plataforma fosse substituída pela outra."
   ]
  },
  {
   "cell_type": "markdown",
   "metadata": {},
   "source": [
    "### Fatiando os dados úteis\n",
    "\n",
    "Como vimos nas análises anteriores, o período que parece mais interessante para nosso estudo é o que se inicia em 2000 e vai até 2016. Com excessão do PS, todas as outras 5 grandes plataformas tiveram seus ciclos de vida nesse período. Portanto, vamos criar uma fatia da nossa tabela apenas com os dados posteriores a 2000:"
   ]
  },
  {
   "cell_type": "code",
   "execution_count": 35,
   "metadata": {},
   "outputs": [
    {
     "data": {
      "text/plain": [
       "ps2     2161\n",
       "ds      2150\n",
       "ps3     1331\n",
       "wii     1320\n",
       "x360    1262\n",
       "psp     1209\n",
       "pc       934\n",
       "xb       824\n",
       "gba      822\n",
       "gc       556\n",
       "3ds      520\n",
       "psv      430\n",
       "ps4      392\n",
       "ps       274\n",
       "xone     247\n",
       "wiiu     147\n",
       "n64       70\n",
       "dc        31\n",
       "gb        27\n",
       "ws         4\n",
       "Name: platform, dtype: int64"
      ]
     },
     "execution_count": 35,
     "metadata": {},
     "output_type": "execute_result"
    }
   ],
   "source": [
    "game_filt = game_data.loc[(game_data['year_of_release']>1999)]\n",
    "\n",
    "# Observando as plataformas que restaram\n",
    "game_filt['platform'].value_counts()"
   ]
  },
  {
   "cell_type": "markdown",
   "metadata": {},
   "source": [
    "Pelo visto, nos anos 2000, o PS2 é o console com maior número de jogos lançados. Vamos se isso se mantém ao calcularmos o total de vendas:"
   ]
  },
  {
   "cell_type": "code",
   "execution_count": 36,
   "metadata": {},
   "outputs": [
    {
     "data": {
      "text/plain": [
       "platform\n",
       "ps2     1255.77\n",
       "x360     971.42\n",
       "ps3      939.65\n",
       "wii      907.51\n",
       "ds       806.10\n",
       "gba      317.85\n",
       "ps4      314.14\n",
       "psp      294.05\n",
       "3ds      259.00\n",
       "xb       257.74\n",
       "pc       209.48\n",
       "gc       198.93\n",
       "xone     159.32\n",
       "ps       140.70\n",
       "wiiu      82.19\n",
       "psv       54.07\n",
       "n64       37.30\n",
       "gb        29.00\n",
       "dc         7.41\n",
       "ws         0.96\n",
       "Name: total_sales, dtype: float64"
      ]
     },
     "execution_count": 36,
     "metadata": {},
     "output_type": "execute_result"
    }
   ],
   "source": [
    "game_filt_sales = game_filt.groupby('platform')['total_sales'].sum().sort_values(ascending=False)\n",
    "game_filt_sales"
   ]
  },
  {
   "cell_type": "markdown",
   "metadata": {},
   "source": [
    "Há trocas de lugares, mas parece haver uma relação entre o somatória das vendas da plataforma e a quantidade de jogos lançados no périodo. O PS2 continua liderando, agora seguido pelo Xbox360 e o PS3. Vamos criar alguns gráficos de barras para observar como as vendas de cada plataforma é distribuída por ano, mas antes vamos separar apenas as 15 plataformas mais lucrativas:"
   ]
  },
  {
   "cell_type": "code",
   "execution_count": 37,
   "metadata": {
    "scrolled": false
   },
   "outputs": [
    {
     "data": {
      "image/png": "[encoded data removed]",
      "text/plain": [
       "<Figure size 1008x432 with 1 Axes>"
      ]
     },
     "metadata": {
      "needs_background": "light"
     },
     "output_type": "display_data"
    },
    {
     "data": {
      "image/png": "[encoded data removed]",
      "text/plain": [
       "<Figure size 1008x432 with 1 Axes>"
      ]
     },
     "metadata": {
      "needs_background": "light"
     },
     "output_type": "display_data"
    },
    {
     "data": {
      "image/png": "[encoded data removed]",
      "text/plain": [
       "<Figure size 1008x432 with 1 Axes>"
      ]
     },
     "metadata": {
      "needs_background": "light"
     },
     "output_type": "display_data"
    },
    {
     "data": {
      "image/png": "[encoded data removed]",
      "text/plain": [
       "<Figure size 1008x432 with 1 Axes>"
      ]
     },
     "metadata": {
      "needs_background": "light"
     },
     "output_type": "display_data"
    },
    {
     "data": {
      "image/png": "[encoded data removed]",
      "text/plain": [
       "<Figure size 1008x432 with 1 Axes>"
      ]
     },
     "metadata": {
      "needs_background": "light"
     },
     "output_type": "display_data"
    },
    {
     "data": {
      "image/png": "[encoded data removed]",
      "text/plain": [
       "<Figure size 1008x432 with 1 Axes>"
      ]
     },
     "metadata": {
      "needs_background": "light"
     },
     "output_type": "display_data"
    },
    {
     "data": {
      "image/png": "[encoded data removed]",
      "text/plain": [
       "<Figure size 1008x432 with 1 Axes>"
      ]
     },
     "metadata": {
      "needs_background": "light"
     },
     "output_type": "display_data"
    },
    {
     "data": {
      "image/png": "[encoded data removed]",
      "text/plain": [
       "<Figure size 1008x432 with 1 Axes>"
      ]
     },
     "metadata": {
      "needs_background": "light"
     },
     "output_type": "display_data"
    },
    {
     "data": {
      "image/png": "[encoded data removed]",
      "text/plain": [
       "<Figure size 1008x432 with 1 Axes>"
      ]
     },
     "metadata": {
      "needs_background": "light"
     },
     "output_type": "display_data"
    },
    {
     "data": {
      "image/png": "[encoded data removed]",
      "text/plain": [
       "<Figure size 1008x432 with 1 Axes>"
      ]
     },
     "metadata": {
      "needs_background": "light"
     },
     "output_type": "display_data"
    },
    {
     "data": {
      "image/png": "[encoded data removed]",
      "text/plain": [
       "<Figure size 1008x432 with 1 Axes>"
      ]
     },
     "metadata": {
      "needs_background": "light"
     },
     "output_type": "display_data"
    },
    {
     "data": {
      "image/png": "[encoded data removed]",
      "text/plain": [
       "<Figure size 1008x432 with 1 Axes>"
      ]
     },
     "metadata": {
      "needs_background": "light"
     },
     "output_type": "display_data"
    },
    {
     "data": {
      "image/png": "[encoded data removed]",
      "text/plain": [
       "<Figure size 1008x432 with 1 Axes>"
      ]
     },
     "metadata": {
      "needs_background": "light"
     },
     "output_type": "display_data"
    },
    {
     "data": {
      "image/png": "[encoded data removed]",
      "text/plain": [
       "<Figure size 1008x432 with 1 Axes>"
      ]
     },
     "metadata": {
      "needs_background": "light"
     },
     "output_type": "display_data"
    },
    {
     "data": {
      "image/png": "[encoded data removed]",
      "text/plain": [
       "<Figure size 1008x432 with 1 Axes>"
      ]
     },
     "metadata": {
      "needs_background": "light"
     },
     "output_type": "display_data"
    }
   ],
   "source": [
    "# Criando uma fatia de \"game_filt_sales\" com apenas as 10 primeiras plataformas\n",
    "game_sales_head = game_filt_sales.head(15)\n",
    "\n",
    "# Criando um loop \"for\" para criar os gráficos\n",
    "for platform in game_sales_head.index:\n",
    "    data = game_data.query('platform == @platform')\n",
    "    data.groupby('year_of_release')['total_sales'].sum().plot(kind='bar', figsize=(14,6))\n",
    "    plt.title(f'Total de vendas da plataforma {platform.upper()} (2000-2016)')\n",
    "    plt.show()"
   ]
  },
  {
   "cell_type": "markdown",
   "metadata": {},
   "source": [
    "É importante considerar que os dados para o ano de 2016 podem estar incompletos. Mas considerando a atualidade, as plataformas PS2, DS, GBA, PSB, XB, GC e PS já não têm atividade; X360, PS3, Wii, 3DS, PC e Wiiu estão em declínio; ao passo que PS4 e Xone são as únicas plataformas das top 15 de 2000-2016 ainda em ascensão. Provavelmente os anos seguintes trarão ainda mais vendas antes que o declínio dessas plataformas se inicie."
   ]
  },
  {
   "cell_type": "markdown",
   "metadata": {},
   "source": [
    "### Lucratividade atual das plataformas\n",
    "\n",
    "Vamos observar a lucratividade das plataformas na atualidade, para tentar prever as que ainda terão vendas significativas em 2017. Assim, precisamos selecionar as plataformas que ainda têm atividade significativa em 2016: PS4, 3DS, PC, Xone e Wiiu. Vamos criar diagramas de caixa para observar as vendas dessas plataformas mundialmente:"
   ]
  },
  {
   "cell_type": "code",
   "execution_count": 38,
   "metadata": {},
   "outputs": [
    {
     "data": {
      "text/plain": [
       "<AxesSubplot:title={'center':'total_sales'}, xlabel='platform'>"
      ]
     },
     "execution_count": 38,
     "metadata": {},
     "output_type": "execute_result"
    },
    {
     "data": {
      "image/png": "[encoded data removed]",
      "text/plain": [
       "<Figure size 1008x1008 with 1 Axes>"
      ]
     },
     "metadata": {
      "needs_background": "light"
     },
     "output_type": "display_data"
    }
   ],
   "source": [
    "game_filt.query('platform == \"ps4\" | platform == \"3ds\" | platform == \"pc\" | platform == \"xone\" | platform == \"wiiu\"').boxplot(column='total_sales', by='platform', figsize=(14,14))"
   ]
  },
  {
   "cell_type": "markdown",
   "metadata": {},
   "source": [
    "Temos medianas muito parecidas entre 3DS, PS4, Wiiu e Xone. Já PC tem uma mediana mais próxima de 0. PS4 e 3DS são as plataformas com a maior quantidade de pontos além do limite superior, o que dá certo destaque a essas plataformas em relações as outras."
   ]
  },
  {
   "cell_type": "markdown",
   "metadata": {},
   "source": [
    "### Os efeitos das avaliações nas vendas\n",
    "\n",
    "Avaliações indicam as opiniões dos críticos profissionais e do público em geral em relação aos jogos. É possível que essas avaliações impactem (ou sejam resultado) do sucesso das plataformas. A plataforma 3DS, ainda em atividade, mas lançada desde 2011, pode nos trazer alguns insights interessantes sobre isso. Vamos ver como as vendas dos jogos se saem em relação as críticas profissionais e as críticas feitas por usuários:"
   ]
  },
  {
   "cell_type": "code",
   "execution_count": 39,
   "metadata": {},
   "outputs": [
    {
     "data": {
      "text/plain": [
       "Text(0.5, 1.0, 'Relação entre avaliação da crítica e vendas de jogos do 3DS')"
      ]
     },
     "execution_count": 39,
     "metadata": {},
     "output_type": "execute_result"
    },
    {
     "data": {
      "image/png": "[encoded data removed]",
      "text/plain": [
       "<Figure size 720x576 with 1 Axes>"
      ]
     },
     "metadata": {
      "needs_background": "light"
     },
     "output_type": "display_data"
    }
   ],
   "source": [
    "# Criando uma fatia do DataFrame com os dados apenas da plataforma 3DS\n",
    "ratings_3ds = game_filt.loc[(game_filt['platform'] == '3ds')]\n",
    "\n",
    "# Gerando gráficos de dispersão para a relação das críticas profissionais com as vendas dos jogos\n",
    "ratings_3ds.plot(x='critic_score', y='total_sales', kind='scatter', figsize=(10,8))\n",
    "plt.title('Relação entre avaliação da crítica e vendas de jogos do 3DS')"
   ]
  },
  {
   "cell_type": "markdown",
   "metadata": {},
   "source": [
    "Observando é possível notar uma certa correlação positiva entre as avaliações positivas da crítica e o desempenho dos jogos para o 3DS. Vamos conferir o coeficiente de correlação para entender melhor essa relação:"
   ]
  },
  {
   "cell_type": "code",
   "execution_count": 40,
   "metadata": {},
   "outputs": [
    {
     "data": {
      "text/plain": [
       "0.22785374168278597"
      ]
     },
     "execution_count": 40,
     "metadata": {},
     "output_type": "execute_result"
    }
   ],
   "source": [
    "ratings_3ds['total_sales'].corr(ratings_3ds['critic_score'])"
   ]
  },
  {
   "cell_type": "markdown",
   "metadata": {},
   "source": [
    "O coeficiente não parece indicar uma correlação entre a avaliação dos críticos e as vendas. Vamos analisar a relação das vendas com a avaliação dos usuários agora:"
   ]
  },
  {
   "cell_type": "code",
   "execution_count": 41,
   "metadata": {},
   "outputs": [
    {
     "data": {
      "text/plain": [
       "Text(0.5, 1.0, 'Relação entre avaliação dos usuários e vendas de jogos do 3DS')"
      ]
     },
     "execution_count": 41,
     "metadata": {},
     "output_type": "execute_result"
    },
    {
     "data": {
      "image/png": "[encoded data removed]",
      "text/plain": [
       "<Figure size 720x576 with 1 Axes>"
      ]
     },
     "metadata": {
      "needs_background": "light"
     },
     "output_type": "display_data"
    }
   ],
   "source": [
    "# Criando o gráfico para as avaliações de usuários\n",
    "ratings_3ds.plot(x='user_score', y='total_sales', kind='scatter', figsize=(10,8))\n",
    "plt.title('Relação entre avaliação dos usuários e vendas de jogos do 3DS')"
   ]
  },
  {
   "cell_type": "markdown",
   "metadata": {},
   "source": [
    "Parece haver correlação positiva ainda mais leve entre a avaliação dos usuários e as vendas. Vamos ver se o coeficiente de correlação pode confirmar isso:"
   ]
  },
  {
   "cell_type": "code",
   "execution_count": 42,
   "metadata": {},
   "outputs": [
    {
     "data": {
      "text/plain": [
       "0.13025025741691698"
      ]
     },
     "execution_count": 42,
     "metadata": {},
     "output_type": "execute_result"
    }
   ],
   "source": [
    "ratings_3ds['total_sales'].corr(ratings_3ds['user_score'])"
   ]
  },
  {
   "cell_type": "markdown",
   "metadata": {},
   "source": [
    "O coeficiente de correlação também não indica uma relação as avaliações dos usuários e as vendas: o valor é tão baixo que é impossível afirmar se há de fato alguma relação. É importante ressaltar que o coeficiente de correlação é capaz de apontar apenas uma relação linear entre as variáveis, ou seja, outras formas de correlação podem existir, mas passar despercebidas pela coeficiente.\n",
    "\n",
    "Pelo menos para os jogos lançados em 3DS, não parece haver relação significativa entre avaliações, seja de críticos ou de usuários, e o total de venda dos jogos. Porém, vamos executar esse procedimento para outra plataforma, o PS3."
   ]
  },
  {
   "cell_type": "code",
   "execution_count": 43,
   "metadata": {},
   "outputs": [
    {
     "data": {
      "text/plain": [
       "Text(0.5, 1.0, 'Relação entre avaliação dos usuários e vendas de jogos do PS3')"
      ]
     },
     "execution_count": 43,
     "metadata": {},
     "output_type": "execute_result"
    },
    {
     "data": {
      "image/png": "[encoded data removed]",
      "text/plain": [
       "<Figure size 720x576 with 1 Axes>"
      ]
     },
     "metadata": {
      "needs_background": "light"
     },
     "output_type": "display_data"
    }
   ],
   "source": [
    "# Criando uma fatia do DataFrame com os dados apenas da plataforma PS3\n",
    "ratings_ps3 = game_filt.loc[(game_filt['platform'] == 'ps3')]\n",
    "\n",
    "# Gerando gráficos de dispersão para a relação das avaliações de usuários com as vendas dos jogos\n",
    "ratings_ps3.plot(x='user_score', y='total_sales', kind='scatter', figsize=(10,8))\n",
    "plt.title('Relação entre avaliação dos usuários e vendas de jogos do PS3')"
   ]
  },
  {
   "cell_type": "code",
   "execution_count": 44,
   "metadata": {},
   "outputs": [
    {
     "data": {
      "text/plain": [
       "0.07909374515704992"
      ]
     },
     "execution_count": 44,
     "metadata": {},
     "output_type": "execute_result"
    }
   ],
   "source": [
    "# Estimando o coeficiente de correlação\n",
    "ratings_ps3['total_sales'].corr(ratings_ps3['user_score'])"
   ]
  },
  {
   "cell_type": "markdown",
   "metadata": {},
   "source": [
    "Observando o gráfico e o coeficiente de correlação, parece não ser possível afirmar que há qualquer correlação lienar e"
   ]
  },
  {
   "cell_type": "markdown",
   "metadata": {},
   "source": [
    "### O lucro por gênero\n",
    "\n",
    "Vamos analisar os gêneros em relação ao lucro e tentar estabelecer quais foram os gêneros mais lucrativos no período que selecionamos. De início, vamos organizar os gêneros por total de vendas:"
   ]
  },
  {
   "cell_type": "code",
   "execution_count": 45,
   "metadata": {},
   "outputs": [
    {
     "data": {
      "text/plain": [
       "genre\n",
       "action          1549.41\n",
       "sports          1150.19\n",
       "shooter          920.28\n",
       "role-playing     734.37\n",
       "misc             730.57\n",
       "racing           565.35\n",
       "platform         495.61\n",
       "simulation       337.42\n",
       "fighting         316.30\n",
       "adventure        186.50\n",
       "puzzle           139.86\n",
       "strategy         116.73\n",
       "Name: total_sales, dtype: float64"
      ]
     },
     "execution_count": 45,
     "metadata": {},
     "output_type": "execute_result"
    }
   ],
   "source": [
    "game_filt.groupby('genre')['total_sales'].sum().sort_values(ascending=False)"
   ]
  },
  {
   "cell_type": "markdown",
   "metadata": {},
   "source": [
    "Os gêneros mais lucrativos no périodo foram \"action\", \"sports\", \"shooter\", \"role-playing\" e \"misc\". Do outro lado, \"platform\", \"fighting\", \"adventure\", \"puzzle\" e \"strategy\" são os gêneros com menores vendas. Vamos criar um gráfico de barras para ter outra visão dos dados:"
   ]
  },
  {
   "cell_type": "code",
   "execution_count": 46,
   "metadata": {},
   "outputs": [
    {
     "data": {
      "image/png": "[encoded data removed]",
      "text/plain": [
       "<Figure size 1008x432 with 1 Axes>"
      ]
     },
     "metadata": {
      "needs_background": "light"
     },
     "output_type": "display_data"
    }
   ],
   "source": [
    "game_filt.groupby('genre')['total_sales'].sum().sort_values(ascending=False).plot(kind='bar', figsize=(14,6))\n",
    "\n",
    "# Dando um título ao gráfico\n",
    "plt.title('Vendas por gênero (2000-2016)')\n",
    "\n",
    "# Mostrando o gráfico\n",
    "plt.show()"
   ]
  },
  {
   "cell_type": "markdown",
   "metadata": {},
   "source": [
    "\"Action\", o gênero com maior número de vendas, possui cerca do dobro das vendas do quarto e quinto gêneros mais vendidos, \"role-playing\" e \"misc\". Vamos ver gráficos para a quantidade jogos lançados por plataforma."
   ]
  },
  {
   "cell_type": "code",
   "execution_count": 47,
   "metadata": {},
   "outputs": [
    {
     "data": {
      "image/png": "[encoded data removed]",
      "text/plain": [
       "<Figure size 1008x432 with 1 Axes>"
      ]
     },
     "metadata": {
      "needs_background": "light"
     },
     "output_type": "display_data"
    }
   ],
   "source": [
    "# Criando o gráfico de quantidade de jogos por gênero\n",
    "game_filt.groupby('genre')['name'].count().sort_values(ascending=False).plot(kind='bar', figsize=(14,6))\n",
    "\n",
    "# Nomeando o gráfico\n",
    "plt.title('Jogos divididos por gênero (2000-2016)')\n",
    "\n",
    "# Mostrando o gráfico\n",
    "plt.show()"
   ]
  },
  {
   "cell_type": "markdown",
   "metadata": {},
   "source": [
    "Fica aparente que a quantidade de jogos lançados tem uma relação direta com a lucratividade de cada gênero. Com excessão de \"adventure\", os gêneros mais vendidos são também os gêneros com mais lançamentos. Assim, há fortes evidências que essas duas características tem uma forte correlação entre si, sendo um bom reflexo da popularidade dos gêneros. O mesmo se pode dizer sobre os gêneros com baixa lucratividade, também relacionados com os gêneros com menos lançamentos."
   ]
  },
  {
   "cell_type": "markdown",
   "metadata": {},
   "source": [
    "## Os perfis dos usuários de cada região\n",
    "\n",
    "Agora, vamos estabelecer perfis para os usuários das regiões AN, UE e JP, e observar as características particulares de cada um."
   ]
  },
  {
   "cell_type": "markdown",
   "metadata": {},
   "source": [
    "### As plataformas favoritas por região\n",
    "\n",
    "Vamos criar gráficos de pizza com as 5 plataformas com maiores vendas em cada região:"
   ]
  },
  {
   "cell_type": "code",
   "execution_count": 48,
   "metadata": {},
   "outputs": [
    {
     "data": {
      "image/png": "[encoded data removed]",
      "text/plain": [
       "<Figure size 1152x720 with 1 Axes>"
      ]
     },
     "metadata": {},
     "output_type": "display_data"
    },
    {
     "data": {
      "image/png": "[encoded data removed]",
      "text/plain": [
       "<Figure size 1152x720 with 1 Axes>"
      ]
     },
     "metadata": {},
     "output_type": "display_data"
    },
    {
     "data": {
      "image/png": "[encoded data removed]",
      "text/plain": [
       "<Figure size 1152x720 with 1 Axes>"
      ]
     },
     "metadata": {},
     "output_type": "display_data"
    }
   ],
   "source": [
    "# Criando o gráfico para a América do Norte\n",
    "game_filt.groupby('platform')['na_sales'].sum().sort_values(ascending=False).head().plot(kind='pie', figsize=(16,10))\n",
    "\n",
    "# Nomenado o gráfico\n",
    "plt.title('Plataformas mais populares em NA (2000-2016)')\n",
    "\n",
    "# Exibindo o gráfico\n",
    "plt.show()\n",
    "\n",
    "# Criando o gráfico para a América do Norte\n",
    "game_filt.groupby('platform')['eu_sales'].sum().sort_values(ascending=False).head().plot(kind='pie', figsize=(16,10))\n",
    "\n",
    "# Nomenado o gráfico\n",
    "plt.title('Plataformas mais populares em EU (2000-2016)')\n",
    "\n",
    "# Exibindo o gráfico\n",
    "plt.show()\n",
    "\n",
    "# Criando o gráfico para a América do Norte\n",
    "game_filt.groupby('platform')['jp_sales'].sum().sort_values(ascending=False).head().plot(kind='pie', figsize=(16,10))\n",
    "\n",
    "# Nomenado o gráfico\n",
    "plt.title('Plataformas mais populares em JP (2000-2016)')\n",
    "\n",
    "# Exibindo o gráfico\n",
    "plt.show()"
   ]
  },
  {
   "cell_type": "markdown",
   "metadata": {},
   "source": [
    "Vemos que há certas similaridades entre as plataformas preferidas pelos consumidores da América do Norte e da Europa: apesar de haver certa mudança na posição de popularidades das plataformas, as 5 mais lucrativas são as mesmas, X360, PS2, PS3, Wii e DS. Uma das diferenças se dá na popularidade do PS3, que está em segundo lugar na Europa, com uma boa fatia de vendas, e em quarto na América, com uma fatia comparativamente menor. Nos dois casos, o DS ocupa a quinta posição, com proporção de vendas semelhantes.\n",
    "\n",
    "Já para os consumidores do Japão, as 5 plataformas mais populares são DS, PS2, 3DS, PS3 e PSP, nessa ordem. PS2, PS3 e DS são similares a NA e EU, mas as outras plataformas são diferentes. Temos aqui a DS como a plataforma com maiores vendas e uma fatia de mercado ainda maior que as que ocupavam o primeiro lugar para as outras regiões. Já o PSP e o PS3 tem fatias de vendas menores e bem próximas em proporção."
   ]
  },
  {
   "cell_type": "markdown",
   "metadata": {},
   "source": [
    "### Os gêneros favoritos de cada região\n",
    "\n",
    "Vamos agora observar as preferências de cada região em relação aos gêneros."
   ]
  },
  {
   "cell_type": "code",
   "execution_count": 49,
   "metadata": {},
   "outputs": [
    {
     "data": {
      "image/png": "[encoded data removed]",
      "text/plain": [
       "<Figure size 1152x720 with 1 Axes>"
      ]
     },
     "metadata": {},
     "output_type": "display_data"
    },
    {
     "data": {
      "image/png": "[encoded data removed]",
      "text/plain": [
       "<Figure size 1152x720 with 1 Axes>"
      ]
     },
     "metadata": {},
     "output_type": "display_data"
    },
    {
     "data": {
      "image/png": "[encoded data removed]",
      "text/plain": [
       "<Figure size 1152x720 with 1 Axes>"
      ]
     },
     "metadata": {},
     "output_type": "display_data"
    }
   ],
   "source": [
    "# Criando o gráfico para a América do Norte\n",
    "game_filt.groupby('genre')['na_sales'].sum().sort_values(ascending=False).head().plot(kind='pie', figsize=(16,10))\n",
    "\n",
    "# Nomenado o gráfico\n",
    "plt.title('Gêneros mais populares em NA (2000-2016)')\n",
    "\n",
    "# Exibindo o gráfico\n",
    "plt.show()\n",
    "\n",
    "# Criando o gráfico para a América do Norte\n",
    "game_filt.groupby('genre')['eu_sales'].sum().sort_values(ascending=False).head().plot(kind='pie', figsize=(16,10))\n",
    "\n",
    "# Nomenado o gráfico\n",
    "plt.title('Gêneros mais populares em EU (2000-2016)')\n",
    "\n",
    "# Exibindo o gráfico\n",
    "plt.show()\n",
    "\n",
    "# Criando o gráfico para a América do Norte\n",
    "game_filt.groupby('genre')['jp_sales'].sum().sort_values(ascending=False).head().plot(kind='pie', figsize=(16,10))\n",
    "\n",
    "# Nomenado o gráfico\n",
    "plt.title('Gêneros mais populares em JP (2000-2016)')\n",
    "\n",
    "# Exibindo o gráfico\n",
    "plt.show()"
   ]
  },
  {
   "cell_type": "markdown",
   "metadata": {},
   "source": [
    "Novamente, os usuários da América do Norte tem preferências similares aos da Europa. O único gênero diferente entre os 5 mais lucrativos das duas regiões é \"role-playing\", que é substituído por \"racing\" na EU. Quanto as fatias, são também bem similares, com \"action\", \"sports\" e \"shooter\" tendo proporções bastante próximas.\n",
    "\n",
    "No Japão, porém, o gênero com mais vendas, \"role-playing\", possui uma grande fatia do mercado, em comparação ao primeiro lugar das outras regiões. \"Action\", mais vendido na América e na Europa, aqui ocupa o segundo lugar, com uma quota similar ao segundo lugar dessas duas regiões. Os últimos 3 gêneros do \"top 5\" japonês, \"misc\", \"sports\" e \"platform\", têm fatias bem inferiores em comparação aos seus correspondentes nas outras regiões. Isso mostra o mercado do Japão como bem mais concentrado no tocante ao gênenro mais vendido."
   ]
  },
  {
   "cell_type": "markdown",
   "metadata": {},
   "source": [
    "### A classificação para cada região\n",
    "\n",
    "Vamos ver como a classificação ESRB afeta as vendas nas três regiões."
   ]
  },
  {
   "cell_type": "code",
   "execution_count": 50,
   "metadata": {},
   "outputs": [
    {
     "data": {
      "image/png": "[encoded data removed]",
      "text/plain": [
       "<Figure size 1152x720 with 1 Axes>"
      ]
     },
     "metadata": {},
     "output_type": "display_data"
    },
    {
     "data": {
      "image/png": "[encoded data removed]",
      "text/plain": [
       "<Figure size 1152x720 with 1 Axes>"
      ]
     },
     "metadata": {},
     "output_type": "display_data"
    },
    {
     "data": {
      "image/png": "[encoded data removed]",
      "text/plain": [
       "<Figure size 1152x720 with 1 Axes>"
      ]
     },
     "metadata": {},
     "output_type": "display_data"
    }
   ],
   "source": [
    "# Criando o gráfico para a América do Norte\n",
    "game_filt.groupby('rating')['na_sales'].sum().sort_values(ascending=False).head().plot(kind='pie', figsize=(16,10))\n",
    "\n",
    "# Nomenado o gráfico\n",
    "plt.title('Lucro por classificação em NA (2000-2016)')\n",
    "\n",
    "# Exibindo o gráfico\n",
    "plt.show()\n",
    "\n",
    "# Criando o gráfico para a América do Norte\n",
    "game_filt.groupby('rating')['eu_sales'].sum().sort_values(ascending=False).head().plot(kind='pie', figsize=(16,10))\n",
    "\n",
    "# Nomenado o gráfico\n",
    "plt.title('Lucro por classificação em EU (2000-2016)')\n",
    "\n",
    "# Exibindo o gráfico\n",
    "plt.show()\n",
    "\n",
    "# Criando o gráfico para a América do Norte\n",
    "game_filt.groupby('rating')['jp_sales'].sum().sort_values(ascending=False).head().plot(kind='pie', figsize=(16,10))\n",
    "\n",
    "# Nomenado o gráfico\n",
    "plt.title('Lucro por classificação em JP (2000-2016)')\n",
    "\n",
    "# Exibindo o gráfico\n",
    "plt.show()"
   ]
  },
  {
   "cell_type": "markdown",
   "metadata": {},
   "source": [
    "Como nos outros aspectos, América do Norte e Europa são bem similares na classificação. Temos que \"E\", \"T\", \"M\" e \"E10+\" ocupam os primeiros 4 lugares para as duas regiões, na mesma ordem e com quotas similares. O quinto lugar, com fatias mínimas, fica com \"EC\" no caso da NA e \"AO\" na EU.\n",
    "\n",
    "Novamente, o Japão possui um perfil bem diferente, com as classificações com mais vendas sendo, em ordem, \"T\", \"E\", \"M\" e \"E10+\". Quase todo o mercado fica dividido entre as duas primeiras, com pequenas quotas para as duas últimas. Novamente, o mercado japonês parece mais concentrado na questão da classificação."
   ]
  },
  {
   "cell_type": "markdown",
   "metadata": {},
   "source": [
    "**Conclusão**\n",
    "\n",
    "O perfil dos consumidores da América do Norte é muito similar ao da Europa: ambos tem preferências pelas mesmas plataformas ( X360, PS2, PS3, Wii e DS), com leves diferenças, consomem gêneros muito parecidos (\"action\", \"sports\" e \"shooter\" e \"misc\") e em proporções próximas, e tem as mesmas classificações entre as mais lucrativas (\"E\", \"T\", \"M\" e \"E10+\", nessa ordem). No geral, as preferências desses usuários são mais equilibradas, sem um gênero ou classificação dominante.\n",
    "\n",
    "Já o perfil do usuário japonês é bem diferente, preferindo outros tipos de plataformas, como DS, PS2, 3DS, PS3 e PSP, e outros gêneros, \"role-playing\", \"action\", \"misc\", \"sports\" e \"platform\". As classificações mais lucrativas também são bem particulares, ordenadas da seguinte maneira: \"T\", \"E\", \"M\" e \"E10+\". Também há uma dominação maior do mercado por parte dos gêneros \"role-playing\" e \"action\", e das classificações \"T\" e \"E\"."
   ]
  },
  {
   "cell_type": "markdown",
   "metadata": {},
   "source": [
    "## Testes de hipóteses"
   ]
  },
  {
   "cell_type": "markdown",
   "metadata": {},
   "source": [
    "Algumas hipóteses precisam ser testadas, são elas:\n",
    "* As classificações médias dos usuários das plataformas Xbox One e PC são as mesmas.\n",
    "* As classificações médias de usuários para os gêneros Action (ação) e Sports (esportes) são diferentes.\n",
    "\n",
    "Vamos realizar dois testes para saber se essas hipóteses são válidas ou não."
   ]
  },
  {
   "cell_type": "markdown",
   "metadata": {},
   "source": [
    "### Testando se as classificações médias dos usuários das plataformas Xbox One e PC são as mesmas\n",
    "\n",
    "Primeiro, precisamos estabelecer nossa hipótese nula, ou seja, a hipótese que desejamos estabelecer se os dados são suficientes para rejeitar. Sendo assim, nossa hipótese nula será: \"A classificação média dos usuários das plataformas Xbox One e PC são as mesmas.\" Já a hipótese alternativa, que é o contrário da nula, será: \"A classificação média dos usuários das plataformas Xbox One e PC são diferentes.\" Com essas hipóteses executaremos um teste bicaudal, e o resultado, o valor P, indica a propabilidade de obter esses dados se a hipótese nula for verdadeira. Assim, se o valor P for menor que o valor que decidimos para \"alfa\" (o nível de significância mínimo) teremos razões suficientes para rejeitar nossa hipótese nula (que as classificações médias são iguais). Caso contrário, não podemos rejeitá-la. Para este teste, escolhemos o valor de 5% para alfa."
   ]
  },
  {
   "cell_type": "markdown",
   "metadata": {},
   "source": [
    "Vamos começar criando duas fatias dos dados: uma com os dados da plataforma Xbox One (\"xone\") e outra para PC."
   ]
  },
  {
   "cell_type": "code",
   "execution_count": 51,
   "metadata": {},
   "outputs": [
    {
     "data": {
      "text/html": [
       "<div>\n",
       "<style scoped>\n",
       "    .dataframe tbody tr th:only-of-type {\n",
       "        vertical-align: middle;\n",
       "    }\n",
       "\n",
       "    .dataframe tbody tr th {\n",
       "        vertical-align: top;\n",
       "    }\n",
       "\n",
       "    .dataframe thead th {\n",
       "        text-align: right;\n",
       "    }\n",
       "</style>\n",
       "<table border=\"1\" class=\"dataframe\">\n",
       "  <thead>\n",
       "    <tr style=\"text-align: right;\">\n",
       "      <th></th>\n",
       "      <th>name</th>\n",
       "      <th>platform</th>\n",
       "      <th>year_of_release</th>\n",
       "      <th>genre</th>\n",
       "      <th>na_sales</th>\n",
       "      <th>eu_sales</th>\n",
       "      <th>jp_sales</th>\n",
       "      <th>other_sales</th>\n",
       "      <th>critic_score</th>\n",
       "      <th>user_score</th>\n",
       "      <th>rating</th>\n",
       "      <th>total_sales</th>\n",
       "    </tr>\n",
       "  </thead>\n",
       "  <tbody>\n",
       "    <tr>\n",
       "      <th>0</th>\n",
       "      <td>call of duty: black ops 3</td>\n",
       "      <td>xone</td>\n",
       "      <td>2015</td>\n",
       "      <td>shooter</td>\n",
       "      <td>4.59</td>\n",
       "      <td>2.11</td>\n",
       "      <td>0.01</td>\n",
       "      <td>0.68</td>\n",
       "      <td>68</td>\n",
       "      <td>7.125046</td>\n",
       "      <td>M</td>\n",
       "      <td>7.39</td>\n",
       "    </tr>\n",
       "    <tr>\n",
       "      <th>1</th>\n",
       "      <td>grand theft auto v</td>\n",
       "      <td>xone</td>\n",
       "      <td>2014</td>\n",
       "      <td>action</td>\n",
       "      <td>2.81</td>\n",
       "      <td>2.19</td>\n",
       "      <td>0.00</td>\n",
       "      <td>0.47</td>\n",
       "      <td>97</td>\n",
       "      <td>7.900000</td>\n",
       "      <td>M</td>\n",
       "      <td>5.47</td>\n",
       "    </tr>\n",
       "    <tr>\n",
       "      <th>2</th>\n",
       "      <td>call of duty: advanced warfare</td>\n",
       "      <td>xone</td>\n",
       "      <td>2014</td>\n",
       "      <td>shooter</td>\n",
       "      <td>3.22</td>\n",
       "      <td>1.55</td>\n",
       "      <td>0.01</td>\n",
       "      <td>0.48</td>\n",
       "      <td>81</td>\n",
       "      <td>5.400000</td>\n",
       "      <td>M</td>\n",
       "      <td>5.26</td>\n",
       "    </tr>\n",
       "    <tr>\n",
       "      <th>3</th>\n",
       "      <td>halo 5: guardians</td>\n",
       "      <td>xone</td>\n",
       "      <td>2015</td>\n",
       "      <td>shooter</td>\n",
       "      <td>2.78</td>\n",
       "      <td>1.27</td>\n",
       "      <td>0.03</td>\n",
       "      <td>0.41</td>\n",
       "      <td>84</td>\n",
       "      <td>6.400000</td>\n",
       "      <td>T</td>\n",
       "      <td>4.49</td>\n",
       "    </tr>\n",
       "    <tr>\n",
       "      <th>4</th>\n",
       "      <td>fallout 4</td>\n",
       "      <td>xone</td>\n",
       "      <td>2015</td>\n",
       "      <td>role-playing</td>\n",
       "      <td>2.51</td>\n",
       "      <td>1.32</td>\n",
       "      <td>0.01</td>\n",
       "      <td>0.38</td>\n",
       "      <td>88</td>\n",
       "      <td>6.200000</td>\n",
       "      <td>M</td>\n",
       "      <td>4.22</td>\n",
       "    </tr>\n",
       "  </tbody>\n",
       "</table>\n",
       "</div>"
      ],
      "text/plain": [
       "                             name platform  year_of_release         genre  \\\n",
       "0       call of duty: black ops 3     xone             2015       shooter   \n",
       "1              grand theft auto v     xone             2014        action   \n",
       "2  call of duty: advanced warfare     xone             2014       shooter   \n",
       "3               halo 5: guardians     xone             2015       shooter   \n",
       "4                       fallout 4     xone             2015  role-playing   \n",
       "\n",
       "   na_sales  eu_sales  jp_sales  other_sales  critic_score  user_score rating  \\\n",
       "0      4.59      2.11      0.01         0.68            68    7.125046      M   \n",
       "1      2.81      2.19      0.00         0.47            97    7.900000      M   \n",
       "2      3.22      1.55      0.01         0.48            81    5.400000      M   \n",
       "3      2.78      1.27      0.03         0.41            84    6.400000      T   \n",
       "4      2.51      1.32      0.01         0.38            88    6.200000      M   \n",
       "\n",
       "   total_sales  \n",
       "0         7.39  \n",
       "1         5.47  \n",
       "2         5.26  \n",
       "3         4.49  \n",
       "4         4.22  "
      ]
     },
     "execution_count": 51,
     "metadata": {},
     "output_type": "execute_result"
    }
   ],
   "source": [
    "# Dados do Xbox One\n",
    "xone_data = game_filt.loc[(game_filt['platform'] == 'xone')]\n",
    "\n",
    "# Resetando o índice da tabela\n",
    "xone_data.reset_index(drop=True, inplace=True)\n",
    "\n",
    "# Exibindo as primeiras linhas\n",
    "xone_data.head()"
   ]
  },
  {
   "cell_type": "code",
   "execution_count": 52,
   "metadata": {},
   "outputs": [
    {
     "data": {
      "text/html": [
       "<div>\n",
       "<style scoped>\n",
       "    .dataframe tbody tr th:only-of-type {\n",
       "        vertical-align: middle;\n",
       "    }\n",
       "\n",
       "    .dataframe tbody tr th {\n",
       "        vertical-align: top;\n",
       "    }\n",
       "\n",
       "    .dataframe thead th {\n",
       "        text-align: right;\n",
       "    }\n",
       "</style>\n",
       "<table border=\"1\" class=\"dataframe\">\n",
       "  <thead>\n",
       "    <tr style=\"text-align: right;\">\n",
       "      <th></th>\n",
       "      <th>name</th>\n",
       "      <th>platform</th>\n",
       "      <th>year_of_release</th>\n",
       "      <th>genre</th>\n",
       "      <th>na_sales</th>\n",
       "      <th>eu_sales</th>\n",
       "      <th>jp_sales</th>\n",
       "      <th>other_sales</th>\n",
       "      <th>critic_score</th>\n",
       "      <th>user_score</th>\n",
       "      <th>rating</th>\n",
       "      <th>total_sales</th>\n",
       "    </tr>\n",
       "  </thead>\n",
       "  <tbody>\n",
       "    <tr>\n",
       "      <th>0</th>\n",
       "      <td>the sims 3</td>\n",
       "      <td>pc</td>\n",
       "      <td>2009</td>\n",
       "      <td>simulation</td>\n",
       "      <td>0.99</td>\n",
       "      <td>6.42</td>\n",
       "      <td>0.0</td>\n",
       "      <td>0.60</td>\n",
       "      <td>86</td>\n",
       "      <td>7.6</td>\n",
       "      <td>T</td>\n",
       "      <td>8.01</td>\n",
       "    </tr>\n",
       "    <tr>\n",
       "      <th>1</th>\n",
       "      <td>world of warcraft</td>\n",
       "      <td>pc</td>\n",
       "      <td>2004</td>\n",
       "      <td>role-playing</td>\n",
       "      <td>0.08</td>\n",
       "      <td>6.21</td>\n",
       "      <td>0.0</td>\n",
       "      <td>0.00</td>\n",
       "      <td>93</td>\n",
       "      <td>7.3</td>\n",
       "      <td>T</td>\n",
       "      <td>6.29</td>\n",
       "    </tr>\n",
       "    <tr>\n",
       "      <th>2</th>\n",
       "      <td>diablo iii</td>\n",
       "      <td>pc</td>\n",
       "      <td>2012</td>\n",
       "      <td>role-playing</td>\n",
       "      <td>2.44</td>\n",
       "      <td>2.16</td>\n",
       "      <td>0.0</td>\n",
       "      <td>0.54</td>\n",
       "      <td>88</td>\n",
       "      <td>4.0</td>\n",
       "      <td>M</td>\n",
       "      <td>5.14</td>\n",
       "    </tr>\n",
       "    <tr>\n",
       "      <th>3</th>\n",
       "      <td>starcraft ii: wings of liberty</td>\n",
       "      <td>pc</td>\n",
       "      <td>2010</td>\n",
       "      <td>strategy</td>\n",
       "      <td>2.57</td>\n",
       "      <td>1.68</td>\n",
       "      <td>0.0</td>\n",
       "      <td>0.58</td>\n",
       "      <td>93</td>\n",
       "      <td>8.2</td>\n",
       "      <td>T</td>\n",
       "      <td>4.83</td>\n",
       "    </tr>\n",
       "    <tr>\n",
       "      <th>4</th>\n",
       "      <td>world of warcraft: the burning crusade</td>\n",
       "      <td>pc</td>\n",
       "      <td>2007</td>\n",
       "      <td>role-playing</td>\n",
       "      <td>2.57</td>\n",
       "      <td>1.52</td>\n",
       "      <td>0.0</td>\n",
       "      <td>0.00</td>\n",
       "      <td>91</td>\n",
       "      <td>7.9</td>\n",
       "      <td>T</td>\n",
       "      <td>4.09</td>\n",
       "    </tr>\n",
       "  </tbody>\n",
       "</table>\n",
       "</div>"
      ],
      "text/plain": [
       "                                     name platform  year_of_release  \\\n",
       "0                              the sims 3       pc             2009   \n",
       "1                       world of warcraft       pc             2004   \n",
       "2                              diablo iii       pc             2012   \n",
       "3          starcraft ii: wings of liberty       pc             2010   \n",
       "4  world of warcraft: the burning crusade       pc             2007   \n",
       "\n",
       "          genre  na_sales  eu_sales  jp_sales  other_sales  critic_score  \\\n",
       "0    simulation      0.99      6.42       0.0         0.60            86   \n",
       "1  role-playing      0.08      6.21       0.0         0.00            93   \n",
       "2  role-playing      2.44      2.16       0.0         0.54            88   \n",
       "3      strategy      2.57      1.68       0.0         0.58            93   \n",
       "4  role-playing      2.57      1.52       0.0         0.00            91   \n",
       "\n",
       "   user_score rating  total_sales  \n",
       "0         7.6      T         8.01  \n",
       "1         7.3      T         6.29  \n",
       "2         4.0      M         5.14  \n",
       "3         8.2      T         4.83  \n",
       "4         7.9      T         4.09  "
      ]
     },
     "execution_count": 52,
     "metadata": {},
     "output_type": "execute_result"
    }
   ],
   "source": [
    "# Dados do PC\n",
    "pc_data = game_filt.loc[(game_filt['platform'] == 'pc')]\n",
    "\n",
    "# Resetando o índice da tabela\n",
    "pc_data.reset_index(drop=True, inplace=True)\n",
    "\n",
    "# Exibindo as primeiras linhas\n",
    "pc_data.head()"
   ]
  },
  {
   "cell_type": "markdown",
   "metadata": {},
   "source": [
    "Vamos averiguar se as variâncias das duas amostras são similares. Isso é importante para quando calcularmos o valor P."
   ]
  },
  {
   "cell_type": "code",
   "execution_count": 53,
   "metadata": {},
   "outputs": [
    {
     "data": {
      "text/plain": [
       "1.468085320136976"
      ]
     },
     "execution_count": 53,
     "metadata": {},
     "output_type": "execute_result"
    }
   ],
   "source": [
    "# Variância das classificações do Xbox One\n",
    "np.var(xone_data['user_score'])"
   ]
  },
  {
   "cell_type": "code",
   "execution_count": 54,
   "metadata": {},
   "outputs": [
    {
     "data": {
      "text/plain": [
       "1.8477455342766311"
      ]
     },
     "execution_count": 54,
     "metadata": {},
     "output_type": "execute_result"
    }
   ],
   "source": [
    "# Variância das classificações do PC\n",
    "np.var(pc_data['user_score'])"
   ]
  },
  {
   "cell_type": "markdown",
   "metadata": {},
   "source": [
    "Podemos comparar as variâncias com uma regra básica: se a razâo da variância maior para a variância menor for maior que 4, consideramos as variâncias diferentes."
   ]
  },
  {
   "cell_type": "code",
   "execution_count": 55,
   "metadata": {},
   "outputs": [
    {
     "data": {
      "text/plain": [
       "1.258609093716864"
      ]
     },
     "execution_count": 55,
     "metadata": {},
     "output_type": "execute_result"
    }
   ],
   "source": [
    "np.var(pc_data['user_score'])/np.var(xone_data['user_score'])"
   ]
  },
  {
   "cell_type": "markdown",
   "metadata": {},
   "source": [
    "Como a razão é 1,26, portanto menor que 4, vamos executar um teste T considerando que a variância das duas amostras são iguais. Essa informação será passada ao método \"st.ttest_ind()\" que utilizaremos a seguir para o teste de hipóteses."
   ]
  },
  {
   "cell_type": "code",
   "execution_count": 56,
   "metadata": {},
   "outputs": [
    {
     "name": "stdout",
     "output_type": "stream",
     "text": [
      "P-value: 0.00011040729679183205\n",
      "Nós rejeitamos a hipótese da média das classificações serem iguais\n"
     ]
    }
   ],
   "source": [
    "# Definindo nosso valor de alfa para 5%\n",
    "alpha = 0.05\n",
    "\n",
    "# Executando o teste\n",
    "result = st.ttest_ind(pc_data['user_score'], xone_data['user_score'], equal_var=True)\n",
    "\n",
    "# Exibindo p valor P\n",
    "print('P-value:', result.pvalue)\n",
    "\n",
    "# Estrutura condicional para rejeitar ou não a hipótese nula\n",
    "if result.pvalue < alpha:\n",
    "    print('Nós rejeitamos a hipótese da média das classificações serem iguais')\n",
    "else:\n",
    "    print('Nós não rejeitamos a hipótese da médias das classificações serem iguais')"
   ]
  },
  {
   "cell_type": "markdown",
   "metadata": {},
   "source": [
    "Como nosso valor P é menor que nosso valor alfa, nós podemos rejeitar a hipóteses da média das classificações dos usuários de Xbox One e PC serem as mesmas. Isso implica que muito provavelmente as classificações dos usuários das duas plataformas são diferentes."
   ]
  },
  {
   "cell_type": "markdown",
   "metadata": {},
   "source": [
    "### Testando se as classificações médias dos usuários dos gêneros \"action\" e \"sports\" são diferentes\n",
    "\n",
    "Agora, vamos testar se é possível afirmar que as classificações dos usuários dos gêneros \"action\" (ação) e \"sports\" (esportes) podem ser consideradas iguais. Precisamos estabelecer nossa hipótese nula, que neste caso será: \"A média das classificações dos usuários dos gêneros 'action' e 'sports' são iguais\". Assim, a hipótese alternativa é: \"A média das classificações dos usuários dos gêneros 'action' e 'sports' são diferentes.\" Com essas hipóteses, vamos realizar um teste T bicaudal para decidir se podemos rejeitar ou não a hipótese nula.\n",
    "\n",
    "Como fizemos no teste anterior, vamos criar fatias com os dados de cada um dos gêneros:"
   ]
  },
  {
   "cell_type": "code",
   "execution_count": 57,
   "metadata": {},
   "outputs": [
    {
     "data": {
      "text/html": [
       "<div>\n",
       "<style scoped>\n",
       "    .dataframe tbody tr th:only-of-type {\n",
       "        vertical-align: middle;\n",
       "    }\n",
       "\n",
       "    .dataframe tbody tr th {\n",
       "        vertical-align: top;\n",
       "    }\n",
       "\n",
       "    .dataframe thead th {\n",
       "        text-align: right;\n",
       "    }\n",
       "</style>\n",
       "<table border=\"1\" class=\"dataframe\">\n",
       "  <thead>\n",
       "    <tr style=\"text-align: right;\">\n",
       "      <th></th>\n",
       "      <th>name</th>\n",
       "      <th>platform</th>\n",
       "      <th>year_of_release</th>\n",
       "      <th>genre</th>\n",
       "      <th>na_sales</th>\n",
       "      <th>eu_sales</th>\n",
       "      <th>jp_sales</th>\n",
       "      <th>other_sales</th>\n",
       "      <th>critic_score</th>\n",
       "      <th>user_score</th>\n",
       "      <th>rating</th>\n",
       "      <th>total_sales</th>\n",
       "    </tr>\n",
       "  </thead>\n",
       "  <tbody>\n",
       "    <tr>\n",
       "      <th>0</th>\n",
       "      <td>grand theft auto v</td>\n",
       "      <td>ps3</td>\n",
       "      <td>2013</td>\n",
       "      <td>action</td>\n",
       "      <td>7.02</td>\n",
       "      <td>9.09</td>\n",
       "      <td>0.98</td>\n",
       "      <td>3.96</td>\n",
       "      <td>97</td>\n",
       "      <td>8.2</td>\n",
       "      <td>M</td>\n",
       "      <td>21.05</td>\n",
       "    </tr>\n",
       "    <tr>\n",
       "      <th>1</th>\n",
       "      <td>grand theft auto: san andreas</td>\n",
       "      <td>ps2</td>\n",
       "      <td>2004</td>\n",
       "      <td>action</td>\n",
       "      <td>9.43</td>\n",
       "      <td>0.40</td>\n",
       "      <td>0.41</td>\n",
       "      <td>10.57</td>\n",
       "      <td>95</td>\n",
       "      <td>9.0</td>\n",
       "      <td>M</td>\n",
       "      <td>20.81</td>\n",
       "    </tr>\n",
       "    <tr>\n",
       "      <th>2</th>\n",
       "      <td>grand theft auto v</td>\n",
       "      <td>x360</td>\n",
       "      <td>2013</td>\n",
       "      <td>action</td>\n",
       "      <td>9.66</td>\n",
       "      <td>5.14</td>\n",
       "      <td>0.06</td>\n",
       "      <td>1.41</td>\n",
       "      <td>97</td>\n",
       "      <td>8.1</td>\n",
       "      <td>M</td>\n",
       "      <td>16.27</td>\n",
       "    </tr>\n",
       "    <tr>\n",
       "      <th>3</th>\n",
       "      <td>grand theft auto: vice city</td>\n",
       "      <td>ps2</td>\n",
       "      <td>2002</td>\n",
       "      <td>action</td>\n",
       "      <td>8.41</td>\n",
       "      <td>5.49</td>\n",
       "      <td>0.47</td>\n",
       "      <td>1.78</td>\n",
       "      <td>95</td>\n",
       "      <td>8.7</td>\n",
       "      <td>M</td>\n",
       "      <td>16.15</td>\n",
       "    </tr>\n",
       "    <tr>\n",
       "      <th>4</th>\n",
       "      <td>grand theft auto iii</td>\n",
       "      <td>ps2</td>\n",
       "      <td>2001</td>\n",
       "      <td>action</td>\n",
       "      <td>6.99</td>\n",
       "      <td>4.51</td>\n",
       "      <td>0.30</td>\n",
       "      <td>1.30</td>\n",
       "      <td>97</td>\n",
       "      <td>8.5</td>\n",
       "      <td>M</td>\n",
       "      <td>13.10</td>\n",
       "    </tr>\n",
       "  </tbody>\n",
       "</table>\n",
       "</div>"
      ],
      "text/plain": [
       "                            name platform  year_of_release   genre  na_sales  \\\n",
       "0             grand theft auto v      ps3             2013  action      7.02   \n",
       "1  grand theft auto: san andreas      ps2             2004  action      9.43   \n",
       "2             grand theft auto v     x360             2013  action      9.66   \n",
       "3    grand theft auto: vice city      ps2             2002  action      8.41   \n",
       "4           grand theft auto iii      ps2             2001  action      6.99   \n",
       "\n",
       "   eu_sales  jp_sales  other_sales  critic_score  user_score rating  \\\n",
       "0      9.09      0.98         3.96            97         8.2      M   \n",
       "1      0.40      0.41        10.57            95         9.0      M   \n",
       "2      5.14      0.06         1.41            97         8.1      M   \n",
       "3      5.49      0.47         1.78            95         8.7      M   \n",
       "4      4.51      0.30         1.30            97         8.5      M   \n",
       "\n",
       "   total_sales  \n",
       "0        21.05  \n",
       "1        20.81  \n",
       "2        16.27  \n",
       "3        16.15  \n",
       "4        13.10  "
      ]
     },
     "execution_count": 57,
     "metadata": {},
     "output_type": "execute_result"
    }
   ],
   "source": [
    "# Criando a tabela com os dados do gênero \"action\"\n",
    "action_data = game_filt.loc[(game_filt['genre'] == 'action')]\n",
    "\n",
    "# Resetando o índice da tabela\n",
    "action_data.reset_index(drop=True, inplace=True)\n",
    "\n",
    "# Exibindo as primeiras linhas\n",
    "action_data.head()"
   ]
  },
  {
   "cell_type": "code",
   "execution_count": 58,
   "metadata": {},
   "outputs": [
    {
     "data": {
      "text/html": [
       "<div>\n",
       "<style scoped>\n",
       "    .dataframe tbody tr th:only-of-type {\n",
       "        vertical-align: middle;\n",
       "    }\n",
       "\n",
       "    .dataframe tbody tr th {\n",
       "        vertical-align: top;\n",
       "    }\n",
       "\n",
       "    .dataframe thead th {\n",
       "        text-align: right;\n",
       "    }\n",
       "</style>\n",
       "<table border=\"1\" class=\"dataframe\">\n",
       "  <thead>\n",
       "    <tr style=\"text-align: right;\">\n",
       "      <th></th>\n",
       "      <th>name</th>\n",
       "      <th>platform</th>\n",
       "      <th>year_of_release</th>\n",
       "      <th>genre</th>\n",
       "      <th>na_sales</th>\n",
       "      <th>eu_sales</th>\n",
       "      <th>jp_sales</th>\n",
       "      <th>other_sales</th>\n",
       "      <th>critic_score</th>\n",
       "      <th>user_score</th>\n",
       "      <th>rating</th>\n",
       "      <th>total_sales</th>\n",
       "    </tr>\n",
       "  </thead>\n",
       "  <tbody>\n",
       "    <tr>\n",
       "      <th>0</th>\n",
       "      <td>wii sports</td>\n",
       "      <td>wii</td>\n",
       "      <td>2006</td>\n",
       "      <td>sports</td>\n",
       "      <td>41.36</td>\n",
       "      <td>28.96</td>\n",
       "      <td>3.77</td>\n",
       "      <td>8.45</td>\n",
       "      <td>76</td>\n",
       "      <td>8.0</td>\n",
       "      <td>E</td>\n",
       "      <td>82.54</td>\n",
       "    </tr>\n",
       "    <tr>\n",
       "      <th>1</th>\n",
       "      <td>wii sports resort</td>\n",
       "      <td>wii</td>\n",
       "      <td>2009</td>\n",
       "      <td>sports</td>\n",
       "      <td>15.61</td>\n",
       "      <td>10.93</td>\n",
       "      <td>3.28</td>\n",
       "      <td>2.95</td>\n",
       "      <td>80</td>\n",
       "      <td>8.0</td>\n",
       "      <td>E</td>\n",
       "      <td>32.77</td>\n",
       "    </tr>\n",
       "    <tr>\n",
       "      <th>2</th>\n",
       "      <td>wii fit</td>\n",
       "      <td>wii</td>\n",
       "      <td>2007</td>\n",
       "      <td>sports</td>\n",
       "      <td>8.92</td>\n",
       "      <td>8.03</td>\n",
       "      <td>3.60</td>\n",
       "      <td>2.15</td>\n",
       "      <td>80</td>\n",
       "      <td>7.7</td>\n",
       "      <td>E</td>\n",
       "      <td>22.70</td>\n",
       "    </tr>\n",
       "    <tr>\n",
       "      <th>3</th>\n",
       "      <td>wii fit plus</td>\n",
       "      <td>wii</td>\n",
       "      <td>2009</td>\n",
       "      <td>sports</td>\n",
       "      <td>9.01</td>\n",
       "      <td>8.49</td>\n",
       "      <td>2.53</td>\n",
       "      <td>1.77</td>\n",
       "      <td>80</td>\n",
       "      <td>7.4</td>\n",
       "      <td>E</td>\n",
       "      <td>21.80</td>\n",
       "    </tr>\n",
       "    <tr>\n",
       "      <th>4</th>\n",
       "      <td>fifa 16</td>\n",
       "      <td>ps4</td>\n",
       "      <td>2015</td>\n",
       "      <td>sports</td>\n",
       "      <td>1.12</td>\n",
       "      <td>6.12</td>\n",
       "      <td>0.06</td>\n",
       "      <td>1.28</td>\n",
       "      <td>82</td>\n",
       "      <td>4.3</td>\n",
       "      <td>E</td>\n",
       "      <td>8.58</td>\n",
       "    </tr>\n",
       "  </tbody>\n",
       "</table>\n",
       "</div>"
      ],
      "text/plain": [
       "                name platform  year_of_release   genre  na_sales  eu_sales  \\\n",
       "0         wii sports      wii             2006  sports     41.36     28.96   \n",
       "1  wii sports resort      wii             2009  sports     15.61     10.93   \n",
       "2            wii fit      wii             2007  sports      8.92      8.03   \n",
       "3       wii fit plus      wii             2009  sports      9.01      8.49   \n",
       "4            fifa 16      ps4             2015  sports      1.12      6.12   \n",
       "\n",
       "   jp_sales  other_sales  critic_score  user_score rating  total_sales  \n",
       "0      3.77         8.45            76         8.0      E        82.54  \n",
       "1      3.28         2.95            80         8.0      E        32.77  \n",
       "2      3.60         2.15            80         7.7      E        22.70  \n",
       "3      2.53         1.77            80         7.4      E        21.80  \n",
       "4      0.06         1.28            82         4.3      E         8.58  "
      ]
     },
     "execution_count": 58,
     "metadata": {},
     "output_type": "execute_result"
    }
   ],
   "source": [
    "# Criando a tabela com os dados do gênero \"sports\"\n",
    "sports_data = game_filt.loc[(game_filt['genre'] == 'sports')]\n",
    "\n",
    "# Resetando o índice da tabela\n",
    "sports_data.reset_index(drop=True, inplace=True)\n",
    "\n",
    "# Exibindo as primeiras linhas\n",
    "sports_data.head()"
   ]
  },
  {
   "cell_type": "markdown",
   "metadata": {},
   "source": [
    "Vamos estimar as variâncias de cada tabela e descobrir a razão entre elas:"
   ]
  },
  {
   "cell_type": "code",
   "execution_count": 59,
   "metadata": {},
   "outputs": [
    {
     "data": {
      "text/plain": [
       "1.1753037253348573"
      ]
     },
     "execution_count": 59,
     "metadata": {},
     "output_type": "execute_result"
    }
   ],
   "source": [
    "# Calculando a variância das classificações para o gênero \"action\"\n",
    "np.var(action_data['user_score'])"
   ]
  },
  {
   "cell_type": "code",
   "execution_count": 60,
   "metadata": {},
   "outputs": [
    {
     "data": {
      "text/plain": [
       "1.4215821384230098"
      ]
     },
     "execution_count": 60,
     "metadata": {},
     "output_type": "execute_result"
    }
   ],
   "source": [
    "# Calculando a variância das classificações para o gênero \"sports\"\n",
    "np.var(sports_data['user_score'])"
   ]
  },
  {
   "cell_type": "code",
   "execution_count": 61,
   "metadata": {},
   "outputs": [
    {
     "data": {
      "text/plain": [
       "1.209544484356999"
      ]
     },
     "execution_count": 61,
     "metadata": {},
     "output_type": "execute_result"
    }
   ],
   "source": [
    "# Calculando a razão entre as variâncias\n",
    "np.var(sports_data['user_score'])/np.var(action_data['user_score'])"
   ]
  },
  {
   "cell_type": "markdown",
   "metadata": {},
   "source": [
    "Como a razão entre as variâncias é menor que 4, podemos considerá-las iguais. Vamos agora executar o teste T:"
   ]
  },
  {
   "cell_type": "code",
   "execution_count": 62,
   "metadata": {},
   "outputs": [
    {
     "name": "stdout",
     "output_type": "stream",
     "text": [
      "P-value: 0.18822204769779177\n",
      "Nós não rejeitamos a hipótese da médias das classificações serem iguais\n"
     ]
    }
   ],
   "source": [
    "# Definindo nosso valor de alfa para 5%\n",
    "alpha = 0.05\n",
    "\n",
    "# Executando o teste\n",
    "result = st.ttest_ind(action_data['user_score'], sports_data['user_score'], equal_var=True)\n",
    "\n",
    "# Exibindo p valor P\n",
    "print('P-value:', result.pvalue)\n",
    "\n",
    "# Estrutura condicional para rejeitar ou não a hipótese nula\n",
    "if result.pvalue < alpha:\n",
    "    print('Nós rejeitamos a hipótese da média das classificações serem iguais')\n",
    "else:\n",
    "    print('Nós não rejeitamos a hipótese da médias das classificações serem iguais')"
   ]
  },
  {
   "cell_type": "markdown",
   "metadata": {},
   "source": [
    "O resultado é que não podemos rejeitar a hipótese de que as médias das classificações dos gêneros \"action\" e \"sports\" são iguais, uma vez que nosso valor P é maior que nosso valor alfa."
   ]
  },
  {
   "cell_type": "markdown",
   "metadata": {},
   "source": [
    "## Conclusão\n",
    "\n",
    "Iniciamos este projeto com uma fase de pré-processamento dos dados. Nessa estapa nós corrigimos os formatos de algumas colunas, alteramos alguns nomes de colunas e categorias para letras minúsculas para facilitar a análise, e averiguamos a presença de valores ausentes. Tratamos as ausências caso a caso, substituindo-as pela média ou mediana condicionada a aspectos relacionados a cada uma. Também somamos os valores das vendas nas três regiões, América do Norte, Europa e Japão, com as vendas no resto do mundo, para obter as vendas totais para cada jogo.\n",
    "\n",
    "Na fase de análise dos dados, nós podemos como a frequência de lançamentos de jogos se intensificou a partir dos anos 2000. Vimos também como acontece o ciclo de vida das plataformas, durante um período de cerca de 10 anos, onde os primeiros 5 anos normalmente são de aumento de popularidade e os últimos 5 anos são de declínio. Com essas informações, decidimos selecionar os dados de 2000 a 2016 para nossa análise, de modo a englobar todo o período de atividade das plataformas ativas nos últimos anos. Estudamos a lucratividade das plataformas, e observamos que PS4 e Xbox One são as únicas que estão em ascensão no momento, apesar de outras plataformas, como X360 e PS3, ainda terem um volume considerável de vendas. Concluímos que no quesito vendas globais, PS4 e 3DS são as plataformas com maior destaque em lucratividade, enquanto PC é a com mais baixa mediana entre as mais populares.\n",
    "\n",
    "Também observamos que as classificações dos usuários e dos críticos não têm impacto aparente sobre as vendas dos jogos. "
   ]
  }
 ],
 "metadata": {
  "ExecuteTimeLog": [
   {
    "duration": 1251,
    "start_time": "2022-05-13T20:40:31.868Z"
   },
   {
    "duration": 85,
    "start_time": "2022-05-13T20:41:45.488Z"
   },
   {
    "duration": 70,
    "start_time": "2022-05-13T20:41:54.617Z"
   },
   {
    "duration": 15,
    "start_time": "2022-05-13T20:42:16.936Z"
   },
   {
    "duration": 16,
    "start_time": "2022-05-13T20:51:59.355Z"
   },
   {
    "duration": 4,
    "start_time": "2022-05-13T20:54:19.936Z"
   },
   {
    "duration": 26,
    "start_time": "2022-05-13T20:57:05.650Z"
   },
   {
    "duration": 20,
    "start_time": "2022-05-13T20:57:38.659Z"
   },
   {
    "duration": 14,
    "start_time": "2022-05-13T20:58:04.922Z"
   },
   {
    "duration": 19,
    "start_time": "2022-05-13T21:08:22.636Z"
   },
   {
    "duration": 17,
    "start_time": "2022-05-13T21:08:48.721Z"
   },
   {
    "duration": 13,
    "start_time": "2022-05-13T21:08:57.930Z"
   },
   {
    "duration": 17,
    "start_time": "2022-05-13T21:09:23.472Z"
   },
   {
    "duration": 18,
    "start_time": "2022-05-13T21:09:28.761Z"
   },
   {
    "duration": 18,
    "start_time": "2022-05-13T21:09:40.361Z"
   },
   {
    "duration": 17,
    "start_time": "2022-05-13T21:09:50.120Z"
   },
   {
    "duration": 16,
    "start_time": "2022-05-13T21:10:00.303Z"
   },
   {
    "duration": 12,
    "start_time": "2022-05-13T21:10:22.331Z"
   },
   {
    "duration": 17,
    "start_time": "2022-05-13T21:10:51.841Z"
   },
   {
    "duration": 13,
    "start_time": "2022-05-13T21:11:51.302Z"
   },
   {
    "duration": 13,
    "start_time": "2022-05-13T21:12:12.282Z"
   },
   {
    "duration": 23,
    "start_time": "2022-05-13T21:14:23.529Z"
   },
   {
    "duration": 15,
    "start_time": "2022-05-13T21:14:40.025Z"
   },
   {
    "duration": 6,
    "start_time": "2022-05-13T21:15:28.119Z"
   },
   {
    "duration": 13,
    "start_time": "2022-05-13T21:15:38.544Z"
   },
   {
    "duration": 9,
    "start_time": "2022-05-13T21:17:34.585Z"
   },
   {
    "duration": 10,
    "start_time": "2022-05-13T21:18:09.363Z"
   },
   {
    "duration": 14,
    "start_time": "2022-05-13T21:18:18.065Z"
   },
   {
    "duration": 10,
    "start_time": "2022-05-13T21:18:34.035Z"
   },
   {
    "duration": 18,
    "start_time": "2022-05-13T21:18:48.875Z"
   },
   {
    "duration": 1346,
    "start_time": "2022-05-15T21:02:25.062Z"
   },
   {
    "duration": 71,
    "start_time": "2022-05-15T21:02:26.410Z"
   },
   {
    "duration": 15,
    "start_time": "2022-05-15T21:02:26.483Z"
   },
   {
    "duration": 16,
    "start_time": "2022-05-15T21:02:26.499Z"
   },
   {
    "duration": 30,
    "start_time": "2022-05-15T21:02:26.517Z"
   },
   {
    "duration": 14,
    "start_time": "2022-05-15T21:02:26.549Z"
   },
   {
    "duration": 18,
    "start_time": "2022-05-15T21:02:26.564Z"
   },
   {
    "duration": 22,
    "start_time": "2022-05-15T21:02:26.583Z"
   },
   {
    "duration": 12,
    "start_time": "2022-05-15T21:05:19.541Z"
   },
   {
    "duration": 10,
    "start_time": "2022-05-15T21:10:27.523Z"
   },
   {
    "duration": 14,
    "start_time": "2022-05-15T21:23:16.234Z"
   },
   {
    "duration": 2942,
    "start_time": "2022-05-15T21:25:09.488Z"
   },
   {
    "duration": 9,
    "start_time": "2022-05-15T21:25:34.073Z"
   },
   {
    "duration": 14,
    "start_time": "2022-05-15T21:25:51.453Z"
   },
   {
    "duration": 2755,
    "start_time": "2022-05-15T21:25:55.523Z"
   },
   {
    "duration": 16,
    "start_time": "2022-05-15T21:26:11.394Z"
   },
   {
    "duration": 3139,
    "start_time": "2022-05-15T21:26:16.244Z"
   },
   {
    "duration": 22,
    "start_time": "2022-05-15T21:26:48.143Z"
   },
   {
    "duration": 18,
    "start_time": "2022-05-15T21:27:20.803Z"
   },
   {
    "duration": 2751,
    "start_time": "2022-05-15T21:27:30.466Z"
   },
   {
    "duration": 10,
    "start_time": "2022-05-15T21:27:42.445Z"
   },
   {
    "duration": 2694,
    "start_time": "2022-05-15T21:27:52.705Z"
   },
   {
    "duration": 2731,
    "start_time": "2022-05-15T21:28:00.634Z"
   },
   {
    "duration": 9,
    "start_time": "2022-05-15T21:28:22.644Z"
   },
   {
    "duration": 15,
    "start_time": "2022-05-15T21:29:13.715Z"
   },
   {
    "duration": 15,
    "start_time": "2022-05-15T21:29:18.245Z"
   },
   {
    "duration": 14,
    "start_time": "2022-05-15T21:29:22.578Z"
   },
   {
    "duration": 16,
    "start_time": "2022-05-15T21:29:26.995Z"
   },
   {
    "duration": 15,
    "start_time": "2022-05-15T21:29:32.029Z"
   },
   {
    "duration": 15,
    "start_time": "2022-05-15T21:29:35.661Z"
   },
   {
    "duration": 25,
    "start_time": "2022-05-15T21:30:32.926Z"
   },
   {
    "duration": 15,
    "start_time": "2022-05-15T21:30:41.736Z"
   },
   {
    "duration": 2661,
    "start_time": "2022-05-15T21:30:46.116Z"
   },
   {
    "duration": 2720,
    "start_time": "2022-05-15T21:31:13.179Z"
   },
   {
    "duration": 2592,
    "start_time": "2022-05-15T21:31:31.601Z"
   },
   {
    "duration": 160,
    "start_time": "2022-05-15T21:33:12.737Z"
   },
   {
    "duration": 21,
    "start_time": "2022-05-15T21:33:20.539Z"
   },
   {
    "duration": 157,
    "start_time": "2022-05-15T21:34:13.718Z"
   },
   {
    "duration": 49,
    "start_time": "2022-05-15T21:34:18.982Z"
   },
   {
    "duration": 7,
    "start_time": "2022-05-15T21:34:28.220Z"
   },
   {
    "duration": 25,
    "start_time": "2022-05-15T21:37:14.823Z"
   },
   {
    "duration": 4586,
    "start_time": "2022-05-15T21:37:17.403Z"
   },
   {
    "duration": 2748,
    "start_time": "2022-05-15T21:37:36.640Z"
   },
   {
    "duration": 9,
    "start_time": "2022-05-15T21:39:41.863Z"
   },
   {
    "duration": 4,
    "start_time": "2022-05-15T21:39:48.062Z"
   },
   {
    "duration": 199,
    "start_time": "2022-05-15T21:39:51.388Z"
   },
   {
    "duration": 16,
    "start_time": "2022-05-15T21:41:53.573Z"
   },
   {
    "duration": 6,
    "start_time": "2022-05-15T21:43:55.915Z"
   },
   {
    "duration": 22,
    "start_time": "2022-05-15T21:45:35.392Z"
   },
   {
    "duration": 5,
    "start_time": "2022-05-15T21:47:14.791Z"
   },
   {
    "duration": 5,
    "start_time": "2022-05-15T21:49:42.642Z"
   },
   {
    "duration": 11,
    "start_time": "2022-05-15T21:49:48.800Z"
   },
   {
    "duration": 18,
    "start_time": "2022-05-15T21:54:20.552Z"
   },
   {
    "duration": 25,
    "start_time": "2022-05-15T21:55:53.101Z"
   },
   {
    "duration": 7,
    "start_time": "2022-05-15T21:58:32.934Z"
   },
   {
    "duration": 17,
    "start_time": "2022-05-15T21:59:43.646Z"
   },
   {
    "duration": 5,
    "start_time": "2022-05-15T22:06:40.291Z"
   },
   {
    "duration": 10,
    "start_time": "2022-05-15T22:09:20.423Z"
   },
   {
    "duration": 9,
    "start_time": "2022-05-15T22:09:32.655Z"
   },
   {
    "duration": 9,
    "start_time": "2022-05-15T22:09:56.263Z"
   },
   {
    "duration": 17,
    "start_time": "2022-05-15T22:10:03.992Z"
   },
   {
    "duration": 15,
    "start_time": "2022-05-15T22:10:35.654Z"
   },
   {
    "duration": 9,
    "start_time": "2022-05-15T22:12:12.543Z"
   },
   {
    "duration": 17,
    "start_time": "2022-05-15T22:13:05.095Z"
   },
   {
    "duration": 18,
    "start_time": "2022-05-15T22:16:21.446Z"
   },
   {
    "duration": 41,
    "start_time": "2022-05-15T22:16:34.107Z"
   },
   {
    "duration": 1180,
    "start_time": "2022-05-15T22:17:02.722Z"
   },
   {
    "duration": 62,
    "start_time": "2022-05-15T22:17:03.904Z"
   },
   {
    "duration": 17,
    "start_time": "2022-05-15T22:17:03.968Z"
   },
   {
    "duration": 27,
    "start_time": "2022-05-15T22:17:03.988Z"
   },
   {
    "duration": 27,
    "start_time": "2022-05-15T22:17:04.017Z"
   },
   {
    "duration": 28,
    "start_time": "2022-05-15T22:17:04.046Z"
   },
   {
    "duration": 21,
    "start_time": "2022-05-15T22:17:04.077Z"
   },
   {
    "duration": 29,
    "start_time": "2022-05-15T22:17:04.100Z"
   },
   {
    "duration": 16,
    "start_time": "2022-05-15T22:17:04.131Z"
   },
   {
    "duration": 18,
    "start_time": "2022-05-15T22:17:04.150Z"
   },
   {
    "duration": 17,
    "start_time": "2022-05-15T22:17:04.170Z"
   },
   {
    "duration": 186,
    "start_time": "2022-05-15T22:17:04.189Z"
   },
   {
    "duration": 14,
    "start_time": "2022-05-15T22:17:04.377Z"
   },
   {
    "duration": 11,
    "start_time": "2022-05-15T22:17:04.393Z"
   },
   {
    "duration": 31,
    "start_time": "2022-05-15T22:17:04.405Z"
   },
   {
    "duration": 17,
    "start_time": "2022-05-15T22:17:04.438Z"
   },
   {
    "duration": 23,
    "start_time": "2022-05-15T22:17:04.457Z"
   },
   {
    "duration": 26,
    "start_time": "2022-05-15T22:17:04.482Z"
   },
   {
    "duration": 12,
    "start_time": "2022-05-15T22:17:04.510Z"
   },
   {
    "duration": 26,
    "start_time": "2022-05-15T22:17:04.524Z"
   },
   {
    "duration": 5,
    "start_time": "2022-05-15T22:17:04.552Z"
   },
   {
    "duration": 34,
    "start_time": "2022-05-15T22:17:04.559Z"
   },
   {
    "duration": 105,
    "start_time": "2022-05-15T22:17:04.595Z"
   },
   {
    "duration": 11,
    "start_time": "2022-05-15T22:18:00.450Z"
   },
   {
    "duration": 19,
    "start_time": "2022-05-15T22:18:09.619Z"
   },
   {
    "duration": 13,
    "start_time": "2022-05-15T22:18:25.759Z"
   },
   {
    "duration": 1164,
    "start_time": "2022-05-15T22:19:07.528Z"
   },
   {
    "duration": 62,
    "start_time": "2022-05-15T22:19:08.694Z"
   },
   {
    "duration": 16,
    "start_time": "2022-05-15T22:19:08.758Z"
   },
   {
    "duration": 18,
    "start_time": "2022-05-15T22:19:08.777Z"
   },
   {
    "duration": 40,
    "start_time": "2022-05-15T22:19:08.797Z"
   },
   {
    "duration": 15,
    "start_time": "2022-05-15T22:19:08.838Z"
   },
   {
    "duration": 16,
    "start_time": "2022-05-15T22:19:08.854Z"
   },
   {
    "duration": 23,
    "start_time": "2022-05-15T22:19:08.872Z"
   },
   {
    "duration": 10,
    "start_time": "2022-05-15T22:19:08.897Z"
   },
   {
    "duration": 10,
    "start_time": "2022-05-15T22:19:08.932Z"
   },
   {
    "duration": 8,
    "start_time": "2022-05-15T22:19:08.944Z"
   },
   {
    "duration": 194,
    "start_time": "2022-05-15T22:19:08.954Z"
   },
   {
    "duration": 15,
    "start_time": "2022-05-15T22:19:09.150Z"
   },
   {
    "duration": 5,
    "start_time": "2022-05-15T22:19:09.167Z"
   },
   {
    "duration": 22,
    "start_time": "2022-05-15T22:19:09.174Z"
   },
   {
    "duration": 5,
    "start_time": "2022-05-15T22:19:09.198Z"
   },
   {
    "duration": 10,
    "start_time": "2022-05-15T22:19:09.233Z"
   },
   {
    "duration": 26,
    "start_time": "2022-05-15T22:19:09.245Z"
   },
   {
    "duration": 5,
    "start_time": "2022-05-15T22:19:09.273Z"
   },
   {
    "duration": 19,
    "start_time": "2022-05-15T22:19:09.280Z"
   },
   {
    "duration": 34,
    "start_time": "2022-05-15T22:19:09.301Z"
   },
   {
    "duration": 17,
    "start_time": "2022-05-15T22:19:09.337Z"
   },
   {
    "duration": 13,
    "start_time": "2022-05-15T22:19:09.355Z"
   },
   {
    "duration": 5,
    "start_time": "2022-05-15T22:20:55.058Z"
   },
   {
    "duration": 17,
    "start_time": "2022-05-15T22:21:07.587Z"
   },
   {
    "duration": 1205,
    "start_time": "2022-05-15T22:22:26.513Z"
   },
   {
    "duration": 61,
    "start_time": "2022-05-15T22:22:27.720Z"
   },
   {
    "duration": 17,
    "start_time": "2022-05-15T22:22:27.783Z"
   },
   {
    "duration": 34,
    "start_time": "2022-05-15T22:22:27.802Z"
   },
   {
    "duration": 16,
    "start_time": "2022-05-15T22:22:27.838Z"
   },
   {
    "duration": 14,
    "start_time": "2022-05-15T22:22:27.856Z"
   },
   {
    "duration": 17,
    "start_time": "2022-05-15T22:22:27.872Z"
   },
   {
    "duration": 49,
    "start_time": "2022-05-15T22:22:27.891Z"
   },
   {
    "duration": 11,
    "start_time": "2022-05-15T22:22:27.942Z"
   },
   {
    "duration": 22,
    "start_time": "2022-05-15T22:22:27.956Z"
   },
   {
    "duration": 16,
    "start_time": "2022-05-15T22:22:27.979Z"
   },
   {
    "duration": 186,
    "start_time": "2022-05-15T22:22:27.997Z"
   },
   {
    "duration": 16,
    "start_time": "2022-05-15T22:22:28.184Z"
   },
   {
    "duration": 5,
    "start_time": "2022-05-15T22:22:28.201Z"
   },
   {
    "duration": 43,
    "start_time": "2022-05-15T22:22:28.208Z"
   },
   {
    "duration": 6,
    "start_time": "2022-05-15T22:22:28.252Z"
   },
   {
    "duration": 19,
    "start_time": "2022-05-15T22:22:28.259Z"
   },
   {
    "duration": 25,
    "start_time": "2022-05-15T22:22:28.280Z"
   },
   {
    "duration": 5,
    "start_time": "2022-05-15T22:22:28.307Z"
   },
   {
    "duration": 16,
    "start_time": "2022-05-15T22:22:28.334Z"
   },
   {
    "duration": 5,
    "start_time": "2022-05-15T22:22:28.352Z"
   },
   {
    "duration": 14,
    "start_time": "2022-05-15T22:22:28.359Z"
   },
   {
    "duration": 133,
    "start_time": "2022-05-15T22:22:28.375Z"
   },
   {
    "duration": 0,
    "start_time": "2022-05-15T22:22:28.510Z"
   },
   {
    "duration": 12,
    "start_time": "2022-05-15T22:23:18.138Z"
   },
   {
    "duration": 50,
    "start_time": "2022-05-15T22:24:14.646Z"
   },
   {
    "duration": 1170,
    "start_time": "2022-05-15T22:24:20.337Z"
   },
   {
    "duration": 62,
    "start_time": "2022-05-15T22:24:21.509Z"
   },
   {
    "duration": 16,
    "start_time": "2022-05-15T22:24:21.573Z"
   },
   {
    "duration": 26,
    "start_time": "2022-05-15T22:24:21.591Z"
   },
   {
    "duration": 23,
    "start_time": "2022-05-15T22:24:21.619Z"
   },
   {
    "duration": 15,
    "start_time": "2022-05-15T22:24:21.644Z"
   },
   {
    "duration": 28,
    "start_time": "2022-05-15T22:24:21.661Z"
   },
   {
    "duration": 26,
    "start_time": "2022-05-15T22:24:21.691Z"
   },
   {
    "duration": 19,
    "start_time": "2022-05-15T22:24:21.719Z"
   },
   {
    "duration": 22,
    "start_time": "2022-05-15T22:24:21.740Z"
   },
   {
    "duration": 14,
    "start_time": "2022-05-15T22:24:21.764Z"
   },
   {
    "duration": 184,
    "start_time": "2022-05-15T22:24:21.780Z"
   },
   {
    "duration": 16,
    "start_time": "2022-05-15T22:24:21.966Z"
   },
   {
    "duration": 9,
    "start_time": "2022-05-15T22:24:21.986Z"
   },
   {
    "duration": 43,
    "start_time": "2022-05-15T22:24:21.997Z"
   },
   {
    "duration": 12,
    "start_time": "2022-05-15T22:24:22.042Z"
   },
   {
    "duration": 26,
    "start_time": "2022-05-15T22:24:22.056Z"
   },
   {
    "duration": 26,
    "start_time": "2022-05-15T22:24:22.084Z"
   },
   {
    "duration": 7,
    "start_time": "2022-05-15T22:24:22.112Z"
   },
   {
    "duration": 17,
    "start_time": "2022-05-15T22:24:22.133Z"
   },
   {
    "duration": 6,
    "start_time": "2022-05-15T22:24:22.152Z"
   },
   {
    "duration": 17,
    "start_time": "2022-05-15T22:24:22.160Z"
   },
   {
    "duration": 93,
    "start_time": "2022-05-15T22:24:22.179Z"
   },
   {
    "duration": 0,
    "start_time": "2022-05-15T22:24:22.274Z"
   },
   {
    "duration": 11,
    "start_time": "2022-05-15T22:25:22.481Z"
   },
   {
    "duration": 10,
    "start_time": "2022-05-15T22:25:32.543Z"
   },
   {
    "duration": 12,
    "start_time": "2022-05-15T22:25:41.013Z"
   },
   {
    "duration": 17,
    "start_time": "2022-05-15T22:25:44.761Z"
   },
   {
    "duration": 17,
    "start_time": "2022-05-15T22:26:33.752Z"
   },
   {
    "duration": 1676,
    "start_time": "2022-05-16T00:23:03.829Z"
   },
   {
    "duration": 80,
    "start_time": "2022-05-16T00:23:05.509Z"
   },
   {
    "duration": 22,
    "start_time": "2022-05-16T00:23:05.591Z"
   },
   {
    "duration": 39,
    "start_time": "2022-05-16T00:23:05.616Z"
   },
   {
    "duration": 21,
    "start_time": "2022-05-16T00:23:05.658Z"
   },
   {
    "duration": 16,
    "start_time": "2022-05-16T00:23:05.681Z"
   },
   {
    "duration": 24,
    "start_time": "2022-05-16T00:23:05.699Z"
   },
   {
    "duration": 28,
    "start_time": "2022-05-16T00:23:05.752Z"
   },
   {
    "duration": 16,
    "start_time": "2022-05-16T00:23:05.783Z"
   },
   {
    "duration": 51,
    "start_time": "2022-05-16T00:23:05.802Z"
   },
   {
    "duration": 14,
    "start_time": "2022-05-16T00:23:05.856Z"
   },
   {
    "duration": 302,
    "start_time": "2022-05-16T00:23:05.873Z"
   },
   {
    "duration": 22,
    "start_time": "2022-05-16T00:23:06.178Z"
   },
   {
    "duration": 19,
    "start_time": "2022-05-16T00:23:06.206Z"
   },
   {
    "duration": 46,
    "start_time": "2022-05-16T00:23:06.228Z"
   },
   {
    "duration": 8,
    "start_time": "2022-05-16T00:23:06.277Z"
   },
   {
    "duration": 17,
    "start_time": "2022-05-16T00:23:06.287Z"
   },
   {
    "duration": 62,
    "start_time": "2022-05-16T00:23:06.307Z"
   },
   {
    "duration": 7,
    "start_time": "2022-05-16T00:23:06.372Z"
   },
   {
    "duration": 22,
    "start_time": "2022-05-16T00:23:06.381Z"
   },
   {
    "duration": 11,
    "start_time": "2022-05-16T00:23:06.406Z"
   },
   {
    "duration": 41,
    "start_time": "2022-05-16T00:23:06.420Z"
   },
   {
    "duration": 15,
    "start_time": "2022-05-16T00:23:06.463Z"
   },
   {
    "duration": 29,
    "start_time": "2022-05-16T00:23:06.480Z"
   },
   {
    "duration": 8,
    "start_time": "2022-05-16T00:25:04.292Z"
   },
   {
    "duration": 134,
    "start_time": "2022-05-16T00:30:55.385Z"
   },
   {
    "duration": 101,
    "start_time": "2022-05-16T00:31:07.885Z"
   },
   {
    "duration": 18,
    "start_time": "2022-05-16T00:31:10.773Z"
   },
   {
    "duration": 24,
    "start_time": "2022-05-16T00:31:18.752Z"
   },
   {
    "duration": 16,
    "start_time": "2022-05-16T00:31:43.964Z"
   },
   {
    "duration": 23,
    "start_time": "2022-05-16T00:34:01.925Z"
   },
   {
    "duration": 358,
    "start_time": "2022-05-16T00:34:49.227Z"
   },
   {
    "duration": 1591,
    "start_time": "2022-05-16T00:35:17.097Z"
   },
   {
    "duration": 17,
    "start_time": "2022-05-16T00:38:41.598Z"
   },
   {
    "duration": 1428,
    "start_time": "2022-05-16T00:38:44.168Z"
   },
   {
    "duration": 22,
    "start_time": "2022-05-16T00:38:58.747Z"
   },
   {
    "duration": 94,
    "start_time": "2022-05-16T00:39:07.958Z"
   },
   {
    "duration": 121,
    "start_time": "2022-05-16T00:40:07.109Z"
   },
   {
    "duration": 17,
    "start_time": "2022-05-16T00:40:42.820Z"
   },
   {
    "duration": 299,
    "start_time": "2022-05-16T00:40:46.236Z"
   },
   {
    "duration": 270,
    "start_time": "2022-05-16T00:41:33.320Z"
   },
   {
    "duration": 1233,
    "start_time": "2022-05-16T13:49:06.823Z"
   },
   {
    "duration": 58,
    "start_time": "2022-05-16T13:49:08.058Z"
   },
   {
    "duration": 15,
    "start_time": "2022-05-16T13:49:08.117Z"
   },
   {
    "duration": 21,
    "start_time": "2022-05-16T13:49:08.134Z"
   },
   {
    "duration": 36,
    "start_time": "2022-05-16T13:49:08.157Z"
   },
   {
    "duration": 14,
    "start_time": "2022-05-16T13:49:08.195Z"
   },
   {
    "duration": 15,
    "start_time": "2022-05-16T13:49:08.211Z"
   },
   {
    "duration": 21,
    "start_time": "2022-05-16T13:49:08.228Z"
   },
   {
    "duration": 39,
    "start_time": "2022-05-16T13:49:08.251Z"
   },
   {
    "duration": 10,
    "start_time": "2022-05-16T13:49:08.293Z"
   },
   {
    "duration": 8,
    "start_time": "2022-05-16T13:49:08.305Z"
   },
   {
    "duration": 186,
    "start_time": "2022-05-16T13:49:08.314Z"
   },
   {
    "duration": 14,
    "start_time": "2022-05-16T13:49:08.502Z"
   },
   {
    "duration": 4,
    "start_time": "2022-05-16T13:49:08.519Z"
   },
   {
    "duration": 22,
    "start_time": "2022-05-16T13:49:08.524Z"
   },
   {
    "duration": 5,
    "start_time": "2022-05-16T13:49:08.547Z"
   },
   {
    "duration": 35,
    "start_time": "2022-05-16T13:49:08.554Z"
   },
   {
    "duration": 23,
    "start_time": "2022-05-16T13:49:08.590Z"
   },
   {
    "duration": 5,
    "start_time": "2022-05-16T13:49:08.615Z"
   },
   {
    "duration": 16,
    "start_time": "2022-05-16T13:49:08.621Z"
   },
   {
    "duration": 5,
    "start_time": "2022-05-16T13:49:08.638Z"
   },
   {
    "duration": 44,
    "start_time": "2022-05-16T13:49:08.645Z"
   },
   {
    "duration": 12,
    "start_time": "2022-05-16T13:49:08.691Z"
   },
   {
    "duration": 46,
    "start_time": "2022-05-16T13:49:08.705Z"
   },
   {
    "duration": 11,
    "start_time": "2022-05-16T13:49:08.753Z"
   },
   {
    "duration": 44,
    "start_time": "2022-05-16T13:49:08.766Z"
   },
   {
    "duration": 178,
    "start_time": "2022-05-16T13:49:08.812Z"
   },
   {
    "duration": 15,
    "start_time": "2022-05-16T14:12:35.712Z"
   },
   {
    "duration": 1123,
    "start_time": "2022-05-16T14:13:23.099Z"
   },
   {
    "duration": 50,
    "start_time": "2022-05-16T14:13:24.224Z"
   },
   {
    "duration": 23,
    "start_time": "2022-05-16T14:13:24.276Z"
   },
   {
    "duration": 15,
    "start_time": "2022-05-16T14:13:24.300Z"
   },
   {
    "duration": 14,
    "start_time": "2022-05-16T14:13:24.317Z"
   },
   {
    "duration": 12,
    "start_time": "2022-05-16T14:13:24.333Z"
   },
   {
    "duration": 42,
    "start_time": "2022-05-16T14:13:24.346Z"
   },
   {
    "duration": 19,
    "start_time": "2022-05-16T14:13:24.390Z"
   },
   {
    "duration": 10,
    "start_time": "2022-05-16T14:13:24.411Z"
   },
   {
    "duration": 18,
    "start_time": "2022-05-16T14:13:24.423Z"
   },
   {
    "duration": 9,
    "start_time": "2022-05-16T14:13:24.443Z"
   },
   {
    "duration": 180,
    "start_time": "2022-05-16T14:13:24.454Z"
   },
   {
    "duration": 13,
    "start_time": "2022-05-16T14:13:24.635Z"
   },
   {
    "duration": 6,
    "start_time": "2022-05-16T14:13:24.651Z"
   },
   {
    "duration": 36,
    "start_time": "2022-05-16T14:13:24.658Z"
   },
   {
    "duration": 5,
    "start_time": "2022-05-16T14:13:24.696Z"
   },
   {
    "duration": 13,
    "start_time": "2022-05-16T14:13:24.703Z"
   },
   {
    "duration": 22,
    "start_time": "2022-05-16T14:13:24.717Z"
   },
   {
    "duration": 6,
    "start_time": "2022-05-16T14:13:24.741Z"
   },
   {
    "duration": 53,
    "start_time": "2022-05-16T14:13:24.749Z"
   },
   {
    "duration": 6,
    "start_time": "2022-05-16T14:13:24.804Z"
   },
   {
    "duration": 12,
    "start_time": "2022-05-16T14:13:24.812Z"
   },
   {
    "duration": 12,
    "start_time": "2022-05-16T14:13:24.826Z"
   },
   {
    "duration": 15,
    "start_time": "2022-05-16T14:13:24.840Z"
   },
   {
    "duration": 35,
    "start_time": "2022-05-16T14:13:24.857Z"
   },
   {
    "duration": 16,
    "start_time": "2022-05-16T14:13:24.893Z"
   },
   {
    "duration": 189,
    "start_time": "2022-05-16T14:13:24.910Z"
   },
   {
    "duration": 15,
    "start_time": "2022-05-16T14:13:25.100Z"
   },
   {
    "duration": 14,
    "start_time": "2022-05-16T14:14:03.360Z"
   },
   {
    "duration": 7,
    "start_time": "2022-05-16T14:25:30.199Z"
   },
   {
    "duration": 6,
    "start_time": "2022-05-16T14:26:22.023Z"
   },
   {
    "duration": 9,
    "start_time": "2022-05-16T14:26:29.088Z"
   },
   {
    "duration": 7,
    "start_time": "2022-05-16T14:26:40.927Z"
   },
   {
    "duration": 7,
    "start_time": "2022-05-16T14:26:45.004Z"
   },
   {
    "duration": 6,
    "start_time": "2022-05-16T14:27:05.472Z"
   },
   {
    "duration": 209,
    "start_time": "2022-05-16T14:29:10.872Z"
   },
   {
    "duration": 175,
    "start_time": "2022-05-16T14:29:20.059Z"
   },
   {
    "duration": 149,
    "start_time": "2022-05-16T14:29:24.730Z"
   },
   {
    "duration": 178,
    "start_time": "2022-05-16T14:29:52.590Z"
   },
   {
    "duration": 165,
    "start_time": "2022-05-16T14:30:03.052Z"
   },
   {
    "duration": 192,
    "start_time": "2022-05-16T14:30:09.592Z"
   },
   {
    "duration": 168,
    "start_time": "2022-05-16T14:31:18.396Z"
   },
   {
    "duration": 159,
    "start_time": "2022-05-16T14:31:39.523Z"
   },
   {
    "duration": 241,
    "start_time": "2022-05-16T14:32:38.443Z"
   },
   {
    "duration": 300,
    "start_time": "2022-05-16T14:32:50.533Z"
   },
   {
    "duration": 202,
    "start_time": "2022-05-16T14:32:57.014Z"
   },
   {
    "duration": 224,
    "start_time": "2022-05-16T14:33:11.513Z"
   },
   {
    "duration": 202,
    "start_time": "2022-05-16T14:33:33.302Z"
   },
   {
    "duration": 8,
    "start_time": "2022-05-16T14:38:23.046Z"
   },
   {
    "duration": 93,
    "start_time": "2022-05-16T14:41:19.577Z"
   },
   {
    "duration": 9,
    "start_time": "2022-05-16T14:41:26.759Z"
   },
   {
    "duration": 15,
    "start_time": "2022-05-16T14:41:38.967Z"
   },
   {
    "duration": 13,
    "start_time": "2022-05-16T14:41:42.519Z"
   },
   {
    "duration": 9,
    "start_time": "2022-05-16T14:42:39.936Z"
   },
   {
    "duration": 14,
    "start_time": "2022-05-16T14:42:49.935Z"
   },
   {
    "duration": 9,
    "start_time": "2022-05-16T14:43:01.094Z"
   },
   {
    "duration": 8,
    "start_time": "2022-05-16T14:43:10.575Z"
   },
   {
    "duration": 26,
    "start_time": "2022-05-16T14:53:00.287Z"
   },
   {
    "duration": 133,
    "start_time": "2022-05-16T14:53:28.846Z"
   },
   {
    "duration": 119,
    "start_time": "2022-05-16T14:55:03.676Z"
   },
   {
    "duration": 253,
    "start_time": "2022-05-16T14:55:44.975Z"
   },
   {
    "duration": 123,
    "start_time": "2022-05-16T14:56:02.086Z"
   },
   {
    "duration": 272,
    "start_time": "2022-05-16T14:56:07.595Z"
   },
   {
    "duration": 395,
    "start_time": "2022-05-16T14:56:15.212Z"
   },
   {
    "duration": 289,
    "start_time": "2022-05-16T14:58:18.890Z"
   },
   {
    "duration": 292,
    "start_time": "2022-05-16T14:58:55.337Z"
   },
   {
    "duration": 1105,
    "start_time": "2022-05-16T14:59:02.805Z"
   },
   {
    "duration": 1201,
    "start_time": "2022-05-16T14:59:24.748Z"
   },
   {
    "duration": 1192,
    "start_time": "2022-05-16T15:01:03.181Z"
   },
   {
    "duration": 1092,
    "start_time": "2022-05-16T15:04:03.648Z"
   },
   {
    "duration": 80,
    "start_time": "2022-05-16T15:21:45.231Z"
   },
   {
    "duration": 2047,
    "start_time": "2022-05-16T15:21:56.730Z"
   },
   {
    "duration": 11,
    "start_time": "2022-05-16T15:22:04.562Z"
   },
   {
    "duration": 2264,
    "start_time": "2022-05-16T20:49:14.221Z"
   },
   {
    "duration": 68,
    "start_time": "2022-05-16T20:49:16.487Z"
   },
   {
    "duration": 15,
    "start_time": "2022-05-16T20:49:16.556Z"
   },
   {
    "duration": 15,
    "start_time": "2022-05-16T20:49:16.572Z"
   },
   {
    "duration": 13,
    "start_time": "2022-05-16T20:49:16.588Z"
   },
   {
    "duration": 13,
    "start_time": "2022-05-16T20:49:16.603Z"
   },
   {
    "duration": 11,
    "start_time": "2022-05-16T20:49:16.617Z"
   },
   {
    "duration": 40,
    "start_time": "2022-05-16T20:49:16.629Z"
   },
   {
    "duration": 9,
    "start_time": "2022-05-16T20:49:16.670Z"
   },
   {
    "duration": 10,
    "start_time": "2022-05-16T20:49:16.680Z"
   },
   {
    "duration": 7,
    "start_time": "2022-05-16T20:49:16.691Z"
   },
   {
    "duration": 169,
    "start_time": "2022-05-16T20:49:16.700Z"
   },
   {
    "duration": 12,
    "start_time": "2022-05-16T20:49:16.871Z"
   },
   {
    "duration": 8,
    "start_time": "2022-05-16T20:49:16.885Z"
   },
   {
    "duration": 16,
    "start_time": "2022-05-16T20:49:16.894Z"
   },
   {
    "duration": 9,
    "start_time": "2022-05-16T20:49:16.911Z"
   },
   {
    "duration": 8,
    "start_time": "2022-05-16T20:49:16.922Z"
   },
   {
    "duration": 45,
    "start_time": "2022-05-16T20:49:16.931Z"
   },
   {
    "duration": 4,
    "start_time": "2022-05-16T20:49:16.978Z"
   },
   {
    "duration": 17,
    "start_time": "2022-05-16T20:49:16.983Z"
   },
   {
    "duration": 4,
    "start_time": "2022-05-16T20:49:17.001Z"
   },
   {
    "duration": 12,
    "start_time": "2022-05-16T20:49:17.007Z"
   },
   {
    "duration": 11,
    "start_time": "2022-05-16T20:49:17.020Z"
   },
   {
    "duration": 33,
    "start_time": "2022-05-16T20:49:17.033Z"
   },
   {
    "duration": 4,
    "start_time": "2022-05-16T20:49:17.067Z"
   },
   {
    "duration": 14,
    "start_time": "2022-05-16T20:49:17.072Z"
   },
   {
    "duration": 177,
    "start_time": "2022-05-16T20:49:17.088Z"
   },
   {
    "duration": 14,
    "start_time": "2022-05-16T20:49:17.266Z"
   },
   {
    "duration": 13,
    "start_time": "2022-05-16T20:49:17.281Z"
   },
   {
    "duration": 5,
    "start_time": "2022-05-16T20:49:17.296Z"
   },
   {
    "duration": 209,
    "start_time": "2022-05-16T20:49:17.302Z"
   },
   {
    "duration": 7,
    "start_time": "2022-05-16T20:49:17.513Z"
   },
   {
    "duration": 10,
    "start_time": "2022-05-16T20:49:17.521Z"
   },
   {
    "duration": 895,
    "start_time": "2022-05-16T20:49:17.533Z"
   },
   {
    "duration": 9,
    "start_time": "2022-05-16T20:49:18.430Z"
   },
   {
    "duration": 5,
    "start_time": "2022-05-16T20:51:20.982Z"
   },
   {
    "duration": 7,
    "start_time": "2022-05-16T20:51:40.723Z"
   },
   {
    "duration": 2168,
    "start_time": "2022-05-16T21:01:26.477Z"
   },
   {
    "duration": 2270,
    "start_time": "2022-05-16T21:09:12.366Z"
   },
   {
    "duration": 91,
    "start_time": "2022-05-16T21:24:13.189Z"
   },
   {
    "duration": 8,
    "start_time": "2022-05-16T21:24:50.930Z"
   },
   {
    "duration": 270,
    "start_time": "2022-05-16T21:26:13.385Z"
   },
   {
    "duration": 214,
    "start_time": "2022-05-16T21:26:30.910Z"
   },
   {
    "duration": 145,
    "start_time": "2022-05-16T21:39:06.250Z"
   },
   {
    "duration": 198,
    "start_time": "2022-05-16T21:39:46.581Z"
   },
   {
    "duration": 145,
    "start_time": "2022-05-16T21:41:27.762Z"
   },
   {
    "duration": 6,
    "start_time": "2022-05-16T21:43:58.300Z"
   },
   {
    "duration": 5,
    "start_time": "2022-05-16T21:46:34.778Z"
   },
   {
    "duration": 3,
    "start_time": "2022-05-18T18:38:42.525Z"
   },
   {
    "duration": 49,
    "start_time": "2022-05-18T18:38:42.529Z"
   },
   {
    "duration": 13,
    "start_time": "2022-05-18T18:38:42.579Z"
   },
   {
    "duration": 17,
    "start_time": "2022-05-18T18:38:42.593Z"
   },
   {
    "duration": 12,
    "start_time": "2022-05-18T18:38:42.612Z"
   },
   {
    "duration": 10,
    "start_time": "2022-05-18T18:38:42.626Z"
   },
   {
    "duration": 13,
    "start_time": "2022-05-18T18:38:42.637Z"
   },
   {
    "duration": 16,
    "start_time": "2022-05-18T18:38:42.652Z"
   },
   {
    "duration": 28,
    "start_time": "2022-05-18T18:38:42.669Z"
   },
   {
    "duration": 11,
    "start_time": "2022-05-18T18:38:42.699Z"
   },
   {
    "duration": 8,
    "start_time": "2022-05-18T18:38:42.711Z"
   },
   {
    "duration": 161,
    "start_time": "2022-05-18T18:38:42.720Z"
   },
   {
    "duration": 18,
    "start_time": "2022-05-18T18:38:42.883Z"
   },
   {
    "duration": 7,
    "start_time": "2022-05-18T18:38:42.904Z"
   },
   {
    "duration": 19,
    "start_time": "2022-05-18T18:38:42.912Z"
   },
   {
    "duration": 8,
    "start_time": "2022-05-18T18:38:42.932Z"
   },
   {
    "duration": 13,
    "start_time": "2022-05-18T18:38:42.941Z"
   },
   {
    "duration": 40,
    "start_time": "2022-05-18T18:38:42.955Z"
   },
   {
    "duration": 5,
    "start_time": "2022-05-18T18:38:42.996Z"
   },
   {
    "duration": 15,
    "start_time": "2022-05-18T18:38:43.003Z"
   },
   {
    "duration": 4,
    "start_time": "2022-05-18T18:38:43.020Z"
   },
   {
    "duration": 9,
    "start_time": "2022-05-18T18:38:43.026Z"
   },
   {
    "duration": 10,
    "start_time": "2022-05-18T18:38:43.037Z"
   },
   {
    "duration": 14,
    "start_time": "2022-05-18T18:38:43.048Z"
   },
   {
    "duration": 5,
    "start_time": "2022-05-18T18:38:43.093Z"
   },
   {
    "duration": 14,
    "start_time": "2022-05-18T18:38:43.099Z"
   },
   {
    "duration": 182,
    "start_time": "2022-05-18T18:38:43.114Z"
   },
   {
    "duration": 13,
    "start_time": "2022-05-18T18:38:43.298Z"
   },
   {
    "duration": 13,
    "start_time": "2022-05-18T18:38:43.312Z"
   },
   {
    "duration": 4,
    "start_time": "2022-05-18T18:38:43.326Z"
   },
   {
    "duration": 210,
    "start_time": "2022-05-18T18:38:43.332Z"
   },
   {
    "duration": 9,
    "start_time": "2022-05-18T18:38:43.543Z"
   },
   {
    "duration": 16,
    "start_time": "2022-05-18T18:38:43.554Z"
   },
   {
    "duration": 972,
    "start_time": "2022-05-18T18:38:43.571Z"
   },
   {
    "duration": 11,
    "start_time": "2022-05-18T18:38:44.544Z"
   },
   {
    "duration": 7,
    "start_time": "2022-05-18T18:38:44.556Z"
   },
   {
    "duration": 2310,
    "start_time": "2022-05-18T18:38:44.565Z"
   },
   {
    "duration": 213,
    "start_time": "2022-05-18T18:38:46.876Z"
   },
   {
    "duration": 169,
    "start_time": "2022-05-18T18:38:47.093Z"
   },
   {
    "duration": 6,
    "start_time": "2022-05-18T18:38:47.264Z"
   },
   {
    "duration": 199,
    "start_time": "2022-05-18T18:38:47.274Z"
   },
   {
    "duration": 4,
    "start_time": "2022-05-18T18:38:47.475Z"
   },
   {
    "duration": 142,
    "start_time": "2022-05-18T18:46:07.733Z"
   },
   {
    "duration": 8,
    "start_time": "2022-05-18T18:46:43.373Z"
   },
   {
    "duration": 8,
    "start_time": "2022-05-18T18:46:53.563Z"
   },
   {
    "duration": 183,
    "start_time": "2022-05-18T18:50:15.745Z"
   },
   {
    "duration": 14,
    "start_time": "2022-05-18T18:55:33.519Z"
   },
   {
    "duration": 8,
    "start_time": "2022-05-18T18:55:44.508Z"
   },
   {
    "duration": 405,
    "start_time": "2022-05-18T18:58:36.672Z"
   },
   {
    "duration": 226,
    "start_time": "2022-05-18T19:00:11.571Z"
   },
   {
    "duration": 34,
    "start_time": "2022-05-18T19:18:07.443Z"
   },
   {
    "duration": 805,
    "start_time": "2022-05-18T19:18:24.874Z"
   },
   {
    "duration": 760,
    "start_time": "2022-05-18T19:18:53.480Z"
   },
   {
    "duration": 567,
    "start_time": "2022-05-18T19:19:06.491Z"
   },
   {
    "duration": 305,
    "start_time": "2022-05-18T19:26:39.143Z"
   },
   {
    "duration": 392,
    "start_time": "2022-05-18T19:27:01.624Z"
   },
   {
    "duration": 388,
    "start_time": "2022-05-18T19:33:44.224Z"
   },
   {
    "duration": 421,
    "start_time": "2022-05-18T19:48:36.309Z"
   },
   {
    "duration": 1338,
    "start_time": "2022-05-18T21:07:43.693Z"
   },
   {
    "duration": 127,
    "start_time": "2022-05-18T21:07:45.034Z"
   },
   {
    "duration": 17,
    "start_time": "2022-05-18T21:07:45.163Z"
   },
   {
    "duration": 23,
    "start_time": "2022-05-18T21:07:45.182Z"
   },
   {
    "duration": 67,
    "start_time": "2022-05-18T21:07:45.208Z"
   },
   {
    "duration": 43,
    "start_time": "2022-05-18T21:07:45.277Z"
   },
   {
    "duration": 60,
    "start_time": "2022-05-18T21:07:45.325Z"
   },
   {
    "duration": 33,
    "start_time": "2022-05-18T21:07:45.387Z"
   },
   {
    "duration": 37,
    "start_time": "2022-05-18T21:07:45.423Z"
   },
   {
    "duration": 22,
    "start_time": "2022-05-18T21:07:45.463Z"
   },
   {
    "duration": 12,
    "start_time": "2022-05-18T21:07:45.487Z"
   },
   {
    "duration": 214,
    "start_time": "2022-05-18T21:07:45.500Z"
   },
   {
    "duration": 28,
    "start_time": "2022-05-18T21:07:45.717Z"
   },
   {
    "duration": 30,
    "start_time": "2022-05-18T21:07:45.749Z"
   },
   {
    "duration": 24,
    "start_time": "2022-05-18T21:07:45.781Z"
   },
   {
    "duration": 16,
    "start_time": "2022-05-18T21:07:45.807Z"
   },
   {
    "duration": 41,
    "start_time": "2022-05-18T21:07:45.824Z"
   },
   {
    "duration": 34,
    "start_time": "2022-05-18T21:07:45.867Z"
   },
   {
    "duration": 17,
    "start_time": "2022-05-18T21:07:45.903Z"
   },
   {
    "duration": 41,
    "start_time": "2022-05-18T21:07:45.923Z"
   },
   {
    "duration": 17,
    "start_time": "2022-05-18T21:07:45.967Z"
   },
   {
    "duration": 33,
    "start_time": "2022-05-18T21:07:45.986Z"
   },
   {
    "duration": 41,
    "start_time": "2022-05-18T21:07:46.021Z"
   },
   {
    "duration": 15,
    "start_time": "2022-05-18T21:07:46.063Z"
   },
   {
    "duration": 6,
    "start_time": "2022-05-18T21:07:46.080Z"
   },
   {
    "duration": 17,
    "start_time": "2022-05-18T21:07:46.087Z"
   },
   {
    "duration": 232,
    "start_time": "2022-05-18T21:07:46.106Z"
   },
   {
    "duration": 22,
    "start_time": "2022-05-18T21:07:46.340Z"
   },
   {
    "duration": 39,
    "start_time": "2022-05-18T21:07:46.364Z"
   },
   {
    "duration": 26,
    "start_time": "2022-05-18T21:07:46.405Z"
   },
   {
    "duration": 288,
    "start_time": "2022-05-18T21:07:46.435Z"
   },
   {
    "duration": 13,
    "start_time": "2022-05-18T21:07:46.726Z"
   },
   {
    "duration": 19,
    "start_time": "2022-05-18T21:07:46.742Z"
   },
   {
    "duration": 1233,
    "start_time": "2022-05-18T21:07:46.763Z"
   },
   {
    "duration": 14,
    "start_time": "2022-05-18T21:07:47.998Z"
   },
   {
    "duration": 55,
    "start_time": "2022-05-18T21:07:48.015Z"
   },
   {
    "duration": 2789,
    "start_time": "2022-05-18T21:07:48.072Z"
   },
   {
    "duration": 307,
    "start_time": "2022-05-18T21:07:50.863Z"
   },
   {
    "duration": 208,
    "start_time": "2022-05-18T21:07:51.172Z"
   },
   {
    "duration": 6,
    "start_time": "2022-05-18T21:07:51.382Z"
   },
   {
    "duration": 295,
    "start_time": "2022-05-18T21:07:51.392Z"
   },
   {
    "duration": 7,
    "start_time": "2022-05-18T21:07:51.689Z"
   },
   {
    "duration": 13,
    "start_time": "2022-05-18T21:07:51.698Z"
   },
   {
    "duration": 228,
    "start_time": "2022-05-18T21:07:51.730Z"
   },
   {
    "duration": 217,
    "start_time": "2022-05-18T21:07:51.960Z"
   },
   {
    "duration": 385,
    "start_time": "2022-05-18T21:07:52.179Z"
   },
   {
    "duration": 386,
    "start_time": "2022-05-18T21:07:52.566Z"
   },
   {
    "duration": 407,
    "start_time": "2022-05-18T21:07:52.954Z"
   },
   {
    "duration": 1255,
    "start_time": "2022-05-19T17:31:41.832Z"
   },
   {
    "duration": 97,
    "start_time": "2022-05-19T17:31:43.089Z"
   },
   {
    "duration": 17,
    "start_time": "2022-05-19T17:31:43.188Z"
   },
   {
    "duration": 18,
    "start_time": "2022-05-19T17:31:43.206Z"
   },
   {
    "duration": 32,
    "start_time": "2022-05-19T17:31:43.227Z"
   },
   {
    "duration": 14,
    "start_time": "2022-05-19T17:31:43.261Z"
   },
   {
    "duration": 26,
    "start_time": "2022-05-19T17:31:43.276Z"
   },
   {
    "duration": 28,
    "start_time": "2022-05-19T17:31:43.304Z"
   },
   {
    "duration": 10,
    "start_time": "2022-05-19T17:31:43.334Z"
   },
   {
    "duration": 19,
    "start_time": "2022-05-19T17:31:43.346Z"
   },
   {
    "duration": 8,
    "start_time": "2022-05-19T17:31:43.367Z"
   },
   {
    "duration": 182,
    "start_time": "2022-05-19T17:31:43.376Z"
   },
   {
    "duration": 12,
    "start_time": "2022-05-19T17:31:43.560Z"
   },
   {
    "duration": 9,
    "start_time": "2022-05-19T17:31:43.576Z"
   },
   {
    "duration": 29,
    "start_time": "2022-05-19T17:31:43.586Z"
   },
   {
    "duration": 13,
    "start_time": "2022-05-19T17:31:43.616Z"
   },
   {
    "duration": 26,
    "start_time": "2022-05-19T17:31:43.631Z"
   },
   {
    "duration": 24,
    "start_time": "2022-05-19T17:31:43.659Z"
   },
   {
    "duration": 10,
    "start_time": "2022-05-19T17:31:43.684Z"
   },
   {
    "duration": 26,
    "start_time": "2022-05-19T17:31:43.696Z"
   },
   {
    "duration": 19,
    "start_time": "2022-05-19T17:31:43.723Z"
   },
   {
    "duration": 32,
    "start_time": "2022-05-19T17:31:43.743Z"
   },
   {
    "duration": 15,
    "start_time": "2022-05-19T17:31:43.777Z"
   },
   {
    "duration": 29,
    "start_time": "2022-05-19T17:31:43.793Z"
   },
   {
    "duration": 7,
    "start_time": "2022-05-19T17:31:43.823Z"
   },
   {
    "duration": 21,
    "start_time": "2022-05-19T17:31:43.831Z"
   },
   {
    "duration": 182,
    "start_time": "2022-05-19T17:31:43.853Z"
   },
   {
    "duration": 14,
    "start_time": "2022-05-19T17:31:44.036Z"
   },
   {
    "duration": 11,
    "start_time": "2022-05-19T17:31:44.058Z"
   },
   {
    "duration": 4,
    "start_time": "2022-05-19T17:31:44.071Z"
   },
   {
    "duration": 221,
    "start_time": "2022-05-19T17:31:44.076Z"
   },
   {
    "duration": 7,
    "start_time": "2022-05-19T17:31:44.298Z"
   },
   {
    "duration": 10,
    "start_time": "2022-05-19T17:31:44.307Z"
   },
   {
    "duration": 1052,
    "start_time": "2022-05-19T17:31:44.318Z"
   },
   {
    "duration": 9,
    "start_time": "2022-05-19T17:31:45.372Z"
   },
   {
    "duration": 7,
    "start_time": "2022-05-19T17:31:45.383Z"
   },
   {
    "duration": 2469,
    "start_time": "2022-05-19T17:31:45.391Z"
   },
   {
    "duration": 230,
    "start_time": "2022-05-19T17:31:47.862Z"
   },
   {
    "duration": 183,
    "start_time": "2022-05-19T17:31:48.094Z"
   },
   {
    "duration": 5,
    "start_time": "2022-05-19T17:31:48.278Z"
   },
   {
    "duration": 251,
    "start_time": "2022-05-19T17:31:48.287Z"
   },
   {
    "duration": 5,
    "start_time": "2022-05-19T17:31:48.539Z"
   },
   {
    "duration": 18,
    "start_time": "2022-05-19T17:31:48.545Z"
   },
   {
    "duration": 188,
    "start_time": "2022-05-19T17:31:48.564Z"
   },
   {
    "duration": 194,
    "start_time": "2022-05-19T17:31:48.754Z"
   },
   {
    "duration": 401,
    "start_time": "2022-05-19T17:31:48.950Z"
   },
   {
    "duration": 396,
    "start_time": "2022-05-19T17:31:49.353Z"
   },
   {
    "duration": 328,
    "start_time": "2022-05-19T17:31:49.750Z"
   },
   {
    "duration": 17,
    "start_time": "2022-05-19T17:32:49.825Z"
   },
   {
    "duration": 17,
    "start_time": "2022-05-19T17:35:22.212Z"
   },
   {
    "duration": 17,
    "start_time": "2022-05-19T17:35:54.698Z"
   },
   {
    "duration": 17,
    "start_time": "2022-05-19T17:36:38.382Z"
   },
   {
    "duration": 103,
    "start_time": "2022-05-19T17:40:34.356Z"
   },
   {
    "duration": 5,
    "start_time": "2022-05-19T17:40:42.881Z"
   },
   {
    "duration": 10,
    "start_time": "2022-05-19T17:41:06.978Z"
   },
   {
    "duration": 5,
    "start_time": "2022-05-19T17:41:12.096Z"
   },
   {
    "duration": 6,
    "start_time": "2022-05-19T17:44:16.747Z"
   },
   {
    "duration": 5,
    "start_time": "2022-05-19T18:17:11.892Z"
   },
   {
    "duration": 17,
    "start_time": "2022-05-19T18:29:15.525Z"
   },
   {
    "duration": 17,
    "start_time": "2022-05-19T18:29:58.761Z"
   },
   {
    "duration": 4,
    "start_time": "2022-05-19T18:31:10.387Z"
   },
   {
    "duration": 4,
    "start_time": "2022-05-19T18:31:28.516Z"
   },
   {
    "duration": 4,
    "start_time": "2022-05-19T18:31:55.899Z"
   },
   {
    "duration": 5,
    "start_time": "2022-05-19T18:32:25.823Z"
   },
   {
    "duration": 4,
    "start_time": "2022-05-19T18:33:32.366Z"
   },
   {
    "duration": 149,
    "start_time": "2022-05-19T19:39:32.151Z"
   },
   {
    "duration": 6,
    "start_time": "2022-05-19T19:40:21.008Z"
   },
   {
    "duration": 1254,
    "start_time": "2022-05-19T22:54:22.374Z"
   },
   {
    "duration": 88,
    "start_time": "2022-05-19T22:54:23.630Z"
   },
   {
    "duration": 13,
    "start_time": "2022-05-19T22:54:23.720Z"
   },
   {
    "duration": 15,
    "start_time": "2022-05-19T22:54:23.735Z"
   },
   {
    "duration": 14,
    "start_time": "2022-05-19T22:54:23.752Z"
   },
   {
    "duration": 15,
    "start_time": "2022-05-19T22:54:23.768Z"
   },
   {
    "duration": 13,
    "start_time": "2022-05-19T22:54:23.784Z"
   },
   {
    "duration": 42,
    "start_time": "2022-05-19T22:54:23.799Z"
   },
   {
    "duration": 9,
    "start_time": "2022-05-19T22:54:23.843Z"
   },
   {
    "duration": 18,
    "start_time": "2022-05-19T22:54:23.855Z"
   },
   {
    "duration": 8,
    "start_time": "2022-05-19T22:54:23.875Z"
   },
   {
    "duration": 179,
    "start_time": "2022-05-19T22:54:23.884Z"
   },
   {
    "duration": 14,
    "start_time": "2022-05-19T22:54:24.065Z"
   },
   {
    "duration": 5,
    "start_time": "2022-05-19T22:54:24.080Z"
   },
   {
    "duration": 23,
    "start_time": "2022-05-19T22:54:24.086Z"
   },
   {
    "duration": 4,
    "start_time": "2022-05-19T22:54:24.127Z"
   },
   {
    "duration": 22,
    "start_time": "2022-05-19T22:54:24.133Z"
   },
   {
    "duration": 22,
    "start_time": "2022-05-19T22:54:24.157Z"
   },
   {
    "duration": 5,
    "start_time": "2022-05-19T22:54:24.181Z"
   },
   {
    "duration": 19,
    "start_time": "2022-05-19T22:54:24.187Z"
   },
   {
    "duration": 20,
    "start_time": "2022-05-19T22:54:24.208Z"
   },
   {
    "duration": 11,
    "start_time": "2022-05-19T22:54:24.229Z"
   },
   {
    "duration": 10,
    "start_time": "2022-05-19T22:54:24.242Z"
   },
   {
    "duration": 16,
    "start_time": "2022-05-19T22:54:24.253Z"
   },
   {
    "duration": 4,
    "start_time": "2022-05-19T22:54:24.271Z"
   },
   {
    "duration": 14,
    "start_time": "2022-05-19T22:54:24.277Z"
   },
   {
    "duration": 243,
    "start_time": "2022-05-19T22:54:24.293Z"
   },
   {
    "duration": 16,
    "start_time": "2022-05-19T22:54:24.540Z"
   },
   {
    "duration": 16,
    "start_time": "2022-05-19T22:54:24.557Z"
   },
   {
    "duration": 10,
    "start_time": "2022-05-19T22:54:24.574Z"
   },
   {
    "duration": 231,
    "start_time": "2022-05-19T22:54:24.585Z"
   },
   {
    "duration": 14,
    "start_time": "2022-05-19T22:54:24.817Z"
   },
   {
    "duration": 11,
    "start_time": "2022-05-19T22:54:24.833Z"
   },
   {
    "duration": 1144,
    "start_time": "2022-05-19T22:54:24.846Z"
   },
   {
    "duration": 10,
    "start_time": "2022-05-19T22:54:25.992Z"
   },
   {
    "duration": 7,
    "start_time": "2022-05-19T22:54:26.003Z"
   },
   {
    "duration": 2413,
    "start_time": "2022-05-19T22:54:26.011Z"
   },
   {
    "duration": 232,
    "start_time": "2022-05-19T22:54:28.426Z"
   },
   {
    "duration": 252,
    "start_time": "2022-05-19T22:54:28.659Z"
   },
   {
    "duration": 4,
    "start_time": "2022-05-19T22:54:28.913Z"
   },
   {
    "duration": 170,
    "start_time": "2022-05-19T22:54:28.926Z"
   },
   {
    "duration": 4,
    "start_time": "2022-05-19T22:54:29.098Z"
   },
   {
    "duration": 148,
    "start_time": "2022-05-19T22:54:29.104Z"
   },
   {
    "duration": 6,
    "start_time": "2022-05-19T22:54:29.253Z"
   },
   {
    "duration": 14,
    "start_time": "2022-05-19T22:54:29.260Z"
   },
   {
    "duration": 200,
    "start_time": "2022-05-19T22:54:29.276Z"
   },
   {
    "duration": 180,
    "start_time": "2022-05-19T22:54:29.478Z"
   },
   {
    "duration": 319,
    "start_time": "2022-05-19T22:54:29.660Z"
   },
   {
    "duration": 331,
    "start_time": "2022-05-19T22:54:29.981Z"
   },
   {
    "duration": 347,
    "start_time": "2022-05-19T22:54:30.314Z"
   },
   {
    "duration": 17,
    "start_time": "2022-05-19T22:54:30.663Z"
   },
   {
    "duration": 31,
    "start_time": "2022-05-19T22:54:30.681Z"
   },
   {
    "duration": 5,
    "start_time": "2022-05-19T22:54:30.713Z"
   },
   {
    "duration": 6,
    "start_time": "2022-05-19T22:54:30.726Z"
   },
   {
    "duration": 14,
    "start_time": "2022-05-19T22:54:30.734Z"
   },
   {
    "duration": 28,
    "start_time": "2022-05-19T22:54:30.749Z"
   },
   {
    "duration": 22,
    "start_time": "2022-05-19T22:54:30.778Z"
   },
   {
    "duration": 21,
    "start_time": "2022-05-19T22:54:30.802Z"
   },
   {
    "duration": 6,
    "start_time": "2022-05-19T22:54:30.825Z"
   },
   {
    "duration": 109,
    "start_time": "2022-05-19T22:54:30.833Z"
   },
   {
    "duration": 26,
    "start_time": "2022-05-19T22:54:30.944Z"
   },
   {
    "duration": 17,
    "start_time": "2022-05-19T22:54:30.972Z"
   }
  ],
  "kernelspec": {
   "display_name": "Python 3",
   "language": "python",
   "name": "python3"
  },
  "language_info": {
   "codemirror_mode": {
    "name": "ipython",
    "version": 3
   },
   "file_extension": ".py",
   "mimetype": "text/x-python",
   "name": "python",
   "nbconvert_exporter": "python",
   "pygments_lexer": "ipython3",
   "version": "3.8.8"
  },
  "toc": {
   "base_numbering": 1,
   "nav_menu": {},
   "number_sections": true,
   "sideBar": true,
   "skip_h1_title": true,
   "title_cell": "Table of Contents",
   "title_sidebar": "Contents",
   "toc_cell": false,
   "toc_position": {},
   "toc_section_display": true,
   "toc_window_display": false
  }
 },
 "nbformat": 4,
 "nbformat_minor": 2
}
