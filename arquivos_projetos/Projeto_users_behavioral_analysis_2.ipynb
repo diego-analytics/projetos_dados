{
 "cells": [
  {
   "cell_type": "markdown",
   "metadata": {},
   "source": [
    "# Análise do comportamento dos usuários de aplicativo #\n",
    "\n",
    "Neste projeto, vamos analisar o comportamento dos usuários de um aplicativo de venda de produtos alimentícios. Vamos investigar o funil de vendas da empresa e analisar os resultados de um teste A/A/B para diferentes fontes no aplicativo. Para começar vamos carregar os dados disponíveis e prepará-los para a análise."
   ]
  },
  {
   "cell_type": "markdown",
   "metadata": {},
   "source": [
    "## Pré-processamento ##\n",
    "\n",
    "Vamos começar carregando algumas bibliotecas de Python que serão úteis no projeto:"
   ]
  },
  {
   "cell_type": "code",
   "execution_count": 1,
   "metadata": {},
   "outputs": [],
   "source": [
    "# Biblioteca para criação e manipulação de DataFrames\n",
    "import pandas as pd\n",
    "\n",
    "# Biblioteca para operações matemáticas complexas\n",
    "import numpy as np\n",
    "\n",
    "# Bibliotecas para criação de gráficos\n",
    "import matplotlib.pyplot as plt\n",
    "from plotly import graph_objs as go\n",
    "\n",
    "# Bibliotecas para operações estatísticas\n",
    "from scipy import stats as st"
   ]
  },
  {
   "cell_type": "markdown",
   "metadata": {},
   "source": [
    "Agora vamos carregar nossos dados, que estão no arquivo ``logs_exp_us.csv``, na forma de um DataFrame na variável ``data``."
   ]
  },
  {
   "cell_type": "code",
   "execution_count": 2,
   "metadata": {},
   "outputs": [
    {
     "data": {
      "text/html": [
       "<div>\n",
       "<style scoped>\n",
       "    .dataframe tbody tr th:only-of-type {\n",
       "        vertical-align: middle;\n",
       "    }\n",
       "\n",
       "    .dataframe tbody tr th {\n",
       "        vertical-align: top;\n",
       "    }\n",
       "\n",
       "    .dataframe thead th {\n",
       "        text-align: right;\n",
       "    }\n",
       "</style>\n",
       "<table border=\"1\" class=\"dataframe\">\n",
       "  <thead>\n",
       "    <tr style=\"text-align: right;\">\n",
       "      <th></th>\n",
       "      <th>EventName</th>\n",
       "      <th>DeviceIDHash</th>\n",
       "      <th>EventTimestamp</th>\n",
       "      <th>ExpId</th>\n",
       "    </tr>\n",
       "  </thead>\n",
       "  <tbody>\n",
       "    <tr>\n",
       "      <th>0</th>\n",
       "      <td>MainScreenAppear</td>\n",
       "      <td>4575588528974610257</td>\n",
       "      <td>1564029816</td>\n",
       "      <td>246</td>\n",
       "    </tr>\n",
       "    <tr>\n",
       "      <th>1</th>\n",
       "      <td>MainScreenAppear</td>\n",
       "      <td>7416695313311560658</td>\n",
       "      <td>1564053102</td>\n",
       "      <td>246</td>\n",
       "    </tr>\n",
       "    <tr>\n",
       "      <th>2</th>\n",
       "      <td>PaymentScreenSuccessful</td>\n",
       "      <td>3518123091307005509</td>\n",
       "      <td>1564054127</td>\n",
       "      <td>248</td>\n",
       "    </tr>\n",
       "    <tr>\n",
       "      <th>3</th>\n",
       "      <td>CartScreenAppear</td>\n",
       "      <td>3518123091307005509</td>\n",
       "      <td>1564054127</td>\n",
       "      <td>248</td>\n",
       "    </tr>\n",
       "    <tr>\n",
       "      <th>4</th>\n",
       "      <td>PaymentScreenSuccessful</td>\n",
       "      <td>6217807653094995999</td>\n",
       "      <td>1564055322</td>\n",
       "      <td>248</td>\n",
       "    </tr>\n",
       "  </tbody>\n",
       "</table>\n",
       "</div>"
      ],
      "text/plain": [
       "                 EventName         DeviceIDHash  EventTimestamp  ExpId\n",
       "0         MainScreenAppear  4575588528974610257      1564029816    246\n",
       "1         MainScreenAppear  7416695313311560658      1564053102    246\n",
       "2  PaymentScreenSuccessful  3518123091307005509      1564054127    248\n",
       "3         CartScreenAppear  3518123091307005509      1564054127    248\n",
       "4  PaymentScreenSuccessful  6217807653094995999      1564055322    248"
      ]
     },
     "execution_count": 2,
     "metadata": {},
     "output_type": "execute_result"
    }
   ],
   "source": [
    "data = pd.read_csv('C:/Users/atlas/documents/projetos_dados/datasets/logs_exp_us.csv', sep='\\t')\n",
    "\n",
    "# Imprimindo as pimeiras linhas\n",
    "data.head()"
   ]
  },
  {
   "cell_type": "markdown",
   "metadata": {},
   "source": [
    "Vamos ver as informações gerais sobre nossa tabela:"
   ]
  },
  {
   "cell_type": "code",
   "execution_count": 3,
   "metadata": {},
   "outputs": [
    {
     "name": "stdout",
     "output_type": "stream",
     "text": [
      "<class 'pandas.core.frame.DataFrame'>\n",
      "RangeIndex: 244126 entries, 0 to 244125\n",
      "Data columns (total 4 columns):\n",
      " #   Column          Non-Null Count   Dtype \n",
      "---  ------          --------------   ----- \n",
      " 0   EventName       244126 non-null  object\n",
      " 1   DeviceIDHash    244126 non-null  int64 \n",
      " 2   EventTimestamp  244126 non-null  int64 \n",
      " 3   ExpId           244126 non-null  int64 \n",
      "dtypes: int64(3), object(1)\n",
      "memory usage: 22.9 MB\n"
     ]
    }
   ],
   "source": [
    "data.info(memory_usage='deep')"
   ]
  },
  {
   "cell_type": "markdown",
   "metadata": {},
   "source": [
    "Vemos que não há valores ausentes. Mas vamos procurar por linhas duplicadas:"
   ]
  },
  {
   "cell_type": "code",
   "execution_count": 4,
   "metadata": {},
   "outputs": [
    {
     "data": {
      "text/html": [
       "<div>\n",
       "<style scoped>\n",
       "    .dataframe tbody tr th:only-of-type {\n",
       "        vertical-align: middle;\n",
       "    }\n",
       "\n",
       "    .dataframe tbody tr th {\n",
       "        vertical-align: top;\n",
       "    }\n",
       "\n",
       "    .dataframe thead th {\n",
       "        text-align: right;\n",
       "    }\n",
       "</style>\n",
       "<table border=\"1\" class=\"dataframe\">\n",
       "  <thead>\n",
       "    <tr style=\"text-align: right;\">\n",
       "      <th></th>\n",
       "      <th>EventName</th>\n",
       "      <th>DeviceIDHash</th>\n",
       "      <th>EventTimestamp</th>\n",
       "      <th>ExpId</th>\n",
       "    </tr>\n",
       "  </thead>\n",
       "  <tbody>\n",
       "    <tr>\n",
       "      <th>453</th>\n",
       "      <td>MainScreenAppear</td>\n",
       "      <td>5613408041324010552</td>\n",
       "      <td>1564474784</td>\n",
       "      <td>248</td>\n",
       "    </tr>\n",
       "    <tr>\n",
       "      <th>2350</th>\n",
       "      <td>CartScreenAppear</td>\n",
       "      <td>1694940645335807244</td>\n",
       "      <td>1564609899</td>\n",
       "      <td>248</td>\n",
       "    </tr>\n",
       "    <tr>\n",
       "      <th>3573</th>\n",
       "      <td>MainScreenAppear</td>\n",
       "      <td>434103746454591587</td>\n",
       "      <td>1564628377</td>\n",
       "      <td>248</td>\n",
       "    </tr>\n",
       "    <tr>\n",
       "      <th>4076</th>\n",
       "      <td>MainScreenAppear</td>\n",
       "      <td>3761373764179762633</td>\n",
       "      <td>1564631266</td>\n",
       "      <td>247</td>\n",
       "    </tr>\n",
       "    <tr>\n",
       "      <th>4803</th>\n",
       "      <td>MainScreenAppear</td>\n",
       "      <td>2835328739789306622</td>\n",
       "      <td>1564634641</td>\n",
       "      <td>248</td>\n",
       "    </tr>\n",
       "    <tr>\n",
       "      <th>...</th>\n",
       "      <td>...</td>\n",
       "      <td>...</td>\n",
       "      <td>...</td>\n",
       "      <td>...</td>\n",
       "    </tr>\n",
       "    <tr>\n",
       "      <th>242329</th>\n",
       "      <td>MainScreenAppear</td>\n",
       "      <td>8870358373313968633</td>\n",
       "      <td>1565206004</td>\n",
       "      <td>247</td>\n",
       "    </tr>\n",
       "    <tr>\n",
       "      <th>242332</th>\n",
       "      <td>PaymentScreenSuccessful</td>\n",
       "      <td>4718002964983105693</td>\n",
       "      <td>1565206005</td>\n",
       "      <td>247</td>\n",
       "    </tr>\n",
       "    <tr>\n",
       "      <th>242360</th>\n",
       "      <td>PaymentScreenSuccessful</td>\n",
       "      <td>2382591782303281935</td>\n",
       "      <td>1565206049</td>\n",
       "      <td>246</td>\n",
       "    </tr>\n",
       "    <tr>\n",
       "      <th>242362</th>\n",
       "      <td>CartScreenAppear</td>\n",
       "      <td>2382591782303281935</td>\n",
       "      <td>1565206049</td>\n",
       "      <td>246</td>\n",
       "    </tr>\n",
       "    <tr>\n",
       "      <th>242635</th>\n",
       "      <td>MainScreenAppear</td>\n",
       "      <td>4097782667445790512</td>\n",
       "      <td>1565206618</td>\n",
       "      <td>246</td>\n",
       "    </tr>\n",
       "  </tbody>\n",
       "</table>\n",
       "<p>413 rows × 4 columns</p>\n",
       "</div>"
      ],
      "text/plain": [
       "                      EventName         DeviceIDHash  EventTimestamp  ExpId\n",
       "453            MainScreenAppear  5613408041324010552      1564474784    248\n",
       "2350           CartScreenAppear  1694940645335807244      1564609899    248\n",
       "3573           MainScreenAppear   434103746454591587      1564628377    248\n",
       "4076           MainScreenAppear  3761373764179762633      1564631266    247\n",
       "4803           MainScreenAppear  2835328739789306622      1564634641    248\n",
       "...                         ...                  ...             ...    ...\n",
       "242329         MainScreenAppear  8870358373313968633      1565206004    247\n",
       "242332  PaymentScreenSuccessful  4718002964983105693      1565206005    247\n",
       "242360  PaymentScreenSuccessful  2382591782303281935      1565206049    246\n",
       "242362         CartScreenAppear  2382591782303281935      1565206049    246\n",
       "242635         MainScreenAppear  4097782667445790512      1565206618    246\n",
       "\n",
       "[413 rows x 4 columns]"
      ]
     },
     "execution_count": 4,
     "metadata": {},
     "output_type": "execute_result"
    }
   ],
   "source": [
    "data[data.duplicated()]"
   ]
  },
  {
   "cell_type": "markdown",
   "metadata": {},
   "source": [
    "Parece que existem várias linhas duplicadas. Provavelmente algum erro no momento da captura dos dados os duplicou. Vamos retirá-los de nossa tabela:"
   ]
  },
  {
   "cell_type": "code",
   "execution_count": 5,
   "metadata": {},
   "outputs": [
    {
     "name": "stdout",
     "output_type": "stream",
     "text": [
      "<class 'pandas.core.frame.DataFrame'>\n",
      "RangeIndex: 243713 entries, 0 to 243712\n",
      "Data columns (total 4 columns):\n",
      " #   Column          Non-Null Count   Dtype \n",
      "---  ------          --------------   ----- \n",
      " 0   EventName       243713 non-null  object\n",
      " 1   DeviceIDHash    243713 non-null  int64 \n",
      " 2   EventTimestamp  243713 non-null  int64 \n",
      " 3   ExpId           243713 non-null  int64 \n",
      "dtypes: int64(3), object(1)\n",
      "memory usage: 7.4+ MB\n"
     ]
    }
   ],
   "source": [
    "data = data.drop_duplicates().reset_index(drop=True)\n",
    "\n",
    "# Conferindo os dados\n",
    "data.info()"
   ]
  },
  {
   "cell_type": "markdown",
   "metadata": {},
   "source": [
    "Apagamos as linhas duplicadas. Agora vamos alterar os nomes das colunas para minúsculas para facilitar os cálculos:"
   ]
  },
  {
   "cell_type": "code",
   "execution_count": 6,
   "metadata": {
    "scrolled": true
   },
   "outputs": [
    {
     "data": {
      "text/html": [
       "<div>\n",
       "<style scoped>\n",
       "    .dataframe tbody tr th:only-of-type {\n",
       "        vertical-align: middle;\n",
       "    }\n",
       "\n",
       "    .dataframe tbody tr th {\n",
       "        vertical-align: top;\n",
       "    }\n",
       "\n",
       "    .dataframe thead th {\n",
       "        text-align: right;\n",
       "    }\n",
       "</style>\n",
       "<table border=\"1\" class=\"dataframe\">\n",
       "  <thead>\n",
       "    <tr style=\"text-align: right;\">\n",
       "      <th></th>\n",
       "      <th>eventname</th>\n",
       "      <th>deviceidhash</th>\n",
       "      <th>eventtimestamp</th>\n",
       "      <th>expid</th>\n",
       "    </tr>\n",
       "  </thead>\n",
       "  <tbody>\n",
       "    <tr>\n",
       "      <th>0</th>\n",
       "      <td>MainScreenAppear</td>\n",
       "      <td>4575588528974610257</td>\n",
       "      <td>1564029816</td>\n",
       "      <td>246</td>\n",
       "    </tr>\n",
       "    <tr>\n",
       "      <th>1</th>\n",
       "      <td>MainScreenAppear</td>\n",
       "      <td>7416695313311560658</td>\n",
       "      <td>1564053102</td>\n",
       "      <td>246</td>\n",
       "    </tr>\n",
       "    <tr>\n",
       "      <th>2</th>\n",
       "      <td>PaymentScreenSuccessful</td>\n",
       "      <td>3518123091307005509</td>\n",
       "      <td>1564054127</td>\n",
       "      <td>248</td>\n",
       "    </tr>\n",
       "    <tr>\n",
       "      <th>3</th>\n",
       "      <td>CartScreenAppear</td>\n",
       "      <td>3518123091307005509</td>\n",
       "      <td>1564054127</td>\n",
       "      <td>248</td>\n",
       "    </tr>\n",
       "    <tr>\n",
       "      <th>4</th>\n",
       "      <td>PaymentScreenSuccessful</td>\n",
       "      <td>6217807653094995999</td>\n",
       "      <td>1564055322</td>\n",
       "      <td>248</td>\n",
       "    </tr>\n",
       "  </tbody>\n",
       "</table>\n",
       "</div>"
      ],
      "text/plain": [
       "                 eventname         deviceidhash  eventtimestamp  expid\n",
       "0         MainScreenAppear  4575588528974610257      1564029816    246\n",
       "1         MainScreenAppear  7416695313311560658      1564053102    246\n",
       "2  PaymentScreenSuccessful  3518123091307005509      1564054127    248\n",
       "3         CartScreenAppear  3518123091307005509      1564054127    248\n",
       "4  PaymentScreenSuccessful  6217807653094995999      1564055322    248"
      ]
     },
     "execution_count": 6,
     "metadata": {},
     "output_type": "execute_result"
    }
   ],
   "source": [
    "data.columns = data.columns.str.lower()\n",
    "\n",
    "# Conferinodas primeiras linhas\n",
    "data.head()"
   ]
  },
  {
   "cell_type": "markdown",
   "metadata": {},
   "source": [
    "A coluna ``eventtimestamp`` está no formato **TimeStamp**, vamos convertê-la para o formato data-hora e salvar o resultado na coluna ``date_time`` e criar uma coluna ``date`` com apenas a data:"
   ]
  },
  {
   "cell_type": "code",
   "execution_count": 7,
   "metadata": {},
   "outputs": [
    {
     "data": {
      "text/html": [
       "<div>\n",
       "<style scoped>\n",
       "    .dataframe tbody tr th:only-of-type {\n",
       "        vertical-align: middle;\n",
       "    }\n",
       "\n",
       "    .dataframe tbody tr th {\n",
       "        vertical-align: top;\n",
       "    }\n",
       "\n",
       "    .dataframe thead th {\n",
       "        text-align: right;\n",
       "    }\n",
       "</style>\n",
       "<table border=\"1\" class=\"dataframe\">\n",
       "  <thead>\n",
       "    <tr style=\"text-align: right;\">\n",
       "      <th></th>\n",
       "      <th>eventname</th>\n",
       "      <th>deviceidhash</th>\n",
       "      <th>eventtimestamp</th>\n",
       "      <th>expid</th>\n",
       "      <th>date_time</th>\n",
       "      <th>date</th>\n",
       "    </tr>\n",
       "  </thead>\n",
       "  <tbody>\n",
       "    <tr>\n",
       "      <th>0</th>\n",
       "      <td>MainScreenAppear</td>\n",
       "      <td>4575588528974610257</td>\n",
       "      <td>1564029816</td>\n",
       "      <td>246</td>\n",
       "      <td>2019-07-25 04:43:36</td>\n",
       "      <td>2019-07-25</td>\n",
       "    </tr>\n",
       "    <tr>\n",
       "      <th>1</th>\n",
       "      <td>MainScreenAppear</td>\n",
       "      <td>7416695313311560658</td>\n",
       "      <td>1564053102</td>\n",
       "      <td>246</td>\n",
       "      <td>2019-07-25 11:11:42</td>\n",
       "      <td>2019-07-25</td>\n",
       "    </tr>\n",
       "    <tr>\n",
       "      <th>2</th>\n",
       "      <td>PaymentScreenSuccessful</td>\n",
       "      <td>3518123091307005509</td>\n",
       "      <td>1564054127</td>\n",
       "      <td>248</td>\n",
       "      <td>2019-07-25 11:28:47</td>\n",
       "      <td>2019-07-25</td>\n",
       "    </tr>\n",
       "    <tr>\n",
       "      <th>3</th>\n",
       "      <td>CartScreenAppear</td>\n",
       "      <td>3518123091307005509</td>\n",
       "      <td>1564054127</td>\n",
       "      <td>248</td>\n",
       "      <td>2019-07-25 11:28:47</td>\n",
       "      <td>2019-07-25</td>\n",
       "    </tr>\n",
       "    <tr>\n",
       "      <th>4</th>\n",
       "      <td>PaymentScreenSuccessful</td>\n",
       "      <td>6217807653094995999</td>\n",
       "      <td>1564055322</td>\n",
       "      <td>248</td>\n",
       "      <td>2019-07-25 11:48:42</td>\n",
       "      <td>2019-07-25</td>\n",
       "    </tr>\n",
       "  </tbody>\n",
       "</table>\n",
       "</div>"
      ],
      "text/plain": [
       "                 eventname         deviceidhash  eventtimestamp  expid  \\\n",
       "0         MainScreenAppear  4575588528974610257      1564029816    246   \n",
       "1         MainScreenAppear  7416695313311560658      1564053102    246   \n",
       "2  PaymentScreenSuccessful  3518123091307005509      1564054127    248   \n",
       "3         CartScreenAppear  3518123091307005509      1564054127    248   \n",
       "4  PaymentScreenSuccessful  6217807653094995999      1564055322    248   \n",
       "\n",
       "            date_time       date  \n",
       "0 2019-07-25 04:43:36 2019-07-25  \n",
       "1 2019-07-25 11:11:42 2019-07-25  \n",
       "2 2019-07-25 11:28:47 2019-07-25  \n",
       "3 2019-07-25 11:28:47 2019-07-25  \n",
       "4 2019-07-25 11:48:42 2019-07-25  "
      ]
     },
     "execution_count": 7,
     "metadata": {},
     "output_type": "execute_result"
    }
   ],
   "source": [
    "# Criando a coluna com as informações de data e hora\n",
    "data['date_time'] = pd.to_datetime(data['eventtimestamp'], unit='s')\n",
    "\n",
    "# Criando a coluna com as informações da data\n",
    "data['date'] = data['date_time'].dt.floor('1D')\n",
    "\n",
    "# Imprimindo as primeiras linhas\n",
    "data.head()"
   ]
  },
  {
   "cell_type": "markdown",
   "metadata": {},
   "source": [
    "## Análise inicial dos dados ##\n",
    "\n",
    "Vamos estudar os dados para descobrir como a quantidade de eventos se distribui e qual o período coberto pelos dados. Primeiro, vamos ver a média de eventos por dia:"
   ]
  },
  {
   "cell_type": "code",
   "execution_count": 8,
   "metadata": {},
   "outputs": [
    {
     "data": {
      "text/plain": [
       "count       14.000000\n",
       "mean     17408.071429\n",
       "std      17703.817817\n",
       "min          9.000000\n",
       "25%        124.750000\n",
       "50%      16563.000000\n",
       "75%      34986.000000\n",
       "max      36141.000000\n",
       "Name: events, dtype: float64"
      ]
     },
     "execution_count": 8,
     "metadata": {},
     "output_type": "execute_result"
    }
   ],
   "source": [
    "# Agrupando os dados por data na tabela \"daily_events\"\n",
    "daily_events = data.groupby('date', as_index=False).agg({'eventname':'count'})\n",
    "\n",
    "# Renomeando as colunas\n",
    "daily_events.columns = ['date', 'events']\n",
    "\n",
    "# Obtendo algumas estatísticas sobre o eventos\n",
    "daily_events['events'].describe()"
   ]
  },
  {
   "cell_type": "markdown",
   "metadata": {},
   "source": [
    "Vemos que temos dados de 14 dias. A quantidade média de eventos é 17408,07, próxima da mediana 16563. 75% dos dias têm até 34986 eventos. Vamos ver quantos eventos ocorreram no total:"
   ]
  },
  {
   "cell_type": "code",
   "execution_count": 9,
   "metadata": {},
   "outputs": [
    {
     "data": {
      "text/plain": [
       "243713"
      ]
     },
     "execution_count": 9,
     "metadata": {},
     "output_type": "execute_result"
    }
   ],
   "source": [
    "daily_events['events'].sum()"
   ]
  },
  {
   "cell_type": "markdown",
   "metadata": {},
   "source": [
    "No período que os dados cobrem, tivemos 243713 eventos. Vamos ver como a quantidade de eventos se divide por usuário:"
   ]
  },
  {
   "cell_type": "code",
   "execution_count": 10,
   "metadata": {},
   "outputs": [
    {
     "data": {
      "text/plain": [
       "count    7551.000000\n",
       "mean       32.275593\n",
       "std        65.154219\n",
       "min         1.000000\n",
       "25%         9.000000\n",
       "50%        20.000000\n",
       "75%        37.000000\n",
       "max      2307.000000\n",
       "Name: events, dtype: float64"
      ]
     },
     "execution_count": 10,
     "metadata": {},
     "output_type": "execute_result"
    }
   ],
   "source": [
    "# Agrupando os dados por usuário\n",
    "user_events = data.groupby('deviceidhash', as_index=False).agg({'eventname':'count'})\n",
    "\n",
    "# Renomeando as colunas\n",
    "user_events.columns = ['user', 'events']\n",
    "\n",
    "# Obtendo algumas estatísticas sobre os eventos\n",
    "user_events['events'].describe()"
   ]
  },
  {
   "cell_type": "markdown",
   "metadata": {},
   "source": [
    "Temos 7551 usuários nos nossos dados. A média de eventos por usuário é 32,27, já a mediana é de 20, o que pode indicar que alguns usuários mais assíduos estão distorcendo a média para cima. Temos que 75% dos usuários realizaram até 37 eventos.\n",
    "\n",
    "Precisamos ver como os eventos se distribuem por cada dia. Para isso, vamos imprimir nossa tabela ``daily_events``:"
   ]
  },
  {
   "cell_type": "code",
   "execution_count": 11,
   "metadata": {},
   "outputs": [
    {
     "data": {
      "text/html": [
       "<div>\n",
       "<style scoped>\n",
       "    .dataframe tbody tr th:only-of-type {\n",
       "        vertical-align: middle;\n",
       "    }\n",
       "\n",
       "    .dataframe tbody tr th {\n",
       "        vertical-align: top;\n",
       "    }\n",
       "\n",
       "    .dataframe thead th {\n",
       "        text-align: right;\n",
       "    }\n",
       "</style>\n",
       "<table border=\"1\" class=\"dataframe\">\n",
       "  <thead>\n",
       "    <tr style=\"text-align: right;\">\n",
       "      <th></th>\n",
       "      <th>date</th>\n",
       "      <th>events</th>\n",
       "    </tr>\n",
       "  </thead>\n",
       "  <tbody>\n",
       "    <tr>\n",
       "      <th>0</th>\n",
       "      <td>2019-07-25</td>\n",
       "      <td>9</td>\n",
       "    </tr>\n",
       "    <tr>\n",
       "      <th>1</th>\n",
       "      <td>2019-07-26</td>\n",
       "      <td>31</td>\n",
       "    </tr>\n",
       "    <tr>\n",
       "      <th>2</th>\n",
       "      <td>2019-07-27</td>\n",
       "      <td>55</td>\n",
       "    </tr>\n",
       "    <tr>\n",
       "      <th>3</th>\n",
       "      <td>2019-07-28</td>\n",
       "      <td>105</td>\n",
       "    </tr>\n",
       "    <tr>\n",
       "      <th>4</th>\n",
       "      <td>2019-07-29</td>\n",
       "      <td>184</td>\n",
       "    </tr>\n",
       "    <tr>\n",
       "      <th>5</th>\n",
       "      <td>2019-07-30</td>\n",
       "      <td>412</td>\n",
       "    </tr>\n",
       "    <tr>\n",
       "      <th>6</th>\n",
       "      <td>2019-07-31</td>\n",
       "      <td>2030</td>\n",
       "    </tr>\n",
       "    <tr>\n",
       "      <th>7</th>\n",
       "      <td>2019-08-01</td>\n",
       "      <td>36141</td>\n",
       "    </tr>\n",
       "    <tr>\n",
       "      <th>8</th>\n",
       "      <td>2019-08-02</td>\n",
       "      <td>35554</td>\n",
       "    </tr>\n",
       "    <tr>\n",
       "      <th>9</th>\n",
       "      <td>2019-08-03</td>\n",
       "      <td>33282</td>\n",
       "    </tr>\n",
       "    <tr>\n",
       "      <th>10</th>\n",
       "      <td>2019-08-04</td>\n",
       "      <td>32968</td>\n",
       "    </tr>\n",
       "    <tr>\n",
       "      <th>11</th>\n",
       "      <td>2019-08-05</td>\n",
       "      <td>36058</td>\n",
       "    </tr>\n",
       "    <tr>\n",
       "      <th>12</th>\n",
       "      <td>2019-08-06</td>\n",
       "      <td>35788</td>\n",
       "    </tr>\n",
       "    <tr>\n",
       "      <th>13</th>\n",
       "      <td>2019-08-07</td>\n",
       "      <td>31096</td>\n",
       "    </tr>\n",
       "  </tbody>\n",
       "</table>\n",
       "</div>"
      ],
      "text/plain": [
       "         date  events\n",
       "0  2019-07-25       9\n",
       "1  2019-07-26      31\n",
       "2  2019-07-27      55\n",
       "3  2019-07-28     105\n",
       "4  2019-07-29     184\n",
       "5  2019-07-30     412\n",
       "6  2019-07-31    2030\n",
       "7  2019-08-01   36141\n",
       "8  2019-08-02   35554\n",
       "9  2019-08-03   33282\n",
       "10 2019-08-04   32968\n",
       "11 2019-08-05   36058\n",
       "12 2019-08-06   35788\n",
       "13 2019-08-07   31096"
      ]
     },
     "execution_count": 11,
     "metadata": {},
     "output_type": "execute_result"
    }
   ],
   "source": [
    "daily_events"
   ]
  },
  {
   "cell_type": "markdown",
   "metadata": {},
   "source": [
    "Os eventos vão de 25/07/2019 até 07/08/2019. O que vemos é que até o dia 31/07/2019, exatamente a primeira semana dos dados, a quantidade de eventos é bem inferior ao período da segunda semana, onde os números permanecem na casa dos 30000. Provavelmente apenas a segunda semana resgistra o conjunto completo de eventos, logo é interessante criar um DataFrame sem os dados da primeria semana, para evitar distorções na análise."
   ]
  },
  {
   "cell_type": "code",
   "execution_count": 12,
   "metadata": {},
   "outputs": [
    {
     "data": {
      "text/html": [
       "<div>\n",
       "<style scoped>\n",
       "    .dataframe tbody tr th:only-of-type {\n",
       "        vertical-align: middle;\n",
       "    }\n",
       "\n",
       "    .dataframe tbody tr th {\n",
       "        vertical-align: top;\n",
       "    }\n",
       "\n",
       "    .dataframe thead th {\n",
       "        text-align: right;\n",
       "    }\n",
       "</style>\n",
       "<table border=\"1\" class=\"dataframe\">\n",
       "  <thead>\n",
       "    <tr style=\"text-align: right;\">\n",
       "      <th></th>\n",
       "      <th>eventname</th>\n",
       "      <th>deviceidhash</th>\n",
       "      <th>eventtimestamp</th>\n",
       "      <th>expid</th>\n",
       "      <th>date_time</th>\n",
       "      <th>date</th>\n",
       "    </tr>\n",
       "  </thead>\n",
       "  <tbody>\n",
       "    <tr>\n",
       "      <th>0</th>\n",
       "      <td>Tutorial</td>\n",
       "      <td>3737462046622621720</td>\n",
       "      <td>1564618048</td>\n",
       "      <td>246</td>\n",
       "      <td>2019-08-01 00:07:28</td>\n",
       "      <td>2019-08-01</td>\n",
       "    </tr>\n",
       "    <tr>\n",
       "      <th>1</th>\n",
       "      <td>MainScreenAppear</td>\n",
       "      <td>3737462046622621720</td>\n",
       "      <td>1564618080</td>\n",
       "      <td>246</td>\n",
       "      <td>2019-08-01 00:08:00</td>\n",
       "      <td>2019-08-01</td>\n",
       "    </tr>\n",
       "    <tr>\n",
       "      <th>2</th>\n",
       "      <td>MainScreenAppear</td>\n",
       "      <td>3737462046622621720</td>\n",
       "      <td>1564618135</td>\n",
       "      <td>246</td>\n",
       "      <td>2019-08-01 00:08:55</td>\n",
       "      <td>2019-08-01</td>\n",
       "    </tr>\n",
       "    <tr>\n",
       "      <th>3</th>\n",
       "      <td>OffersScreenAppear</td>\n",
       "      <td>3737462046622621720</td>\n",
       "      <td>1564618138</td>\n",
       "      <td>246</td>\n",
       "      <td>2019-08-01 00:08:58</td>\n",
       "      <td>2019-08-01</td>\n",
       "    </tr>\n",
       "    <tr>\n",
       "      <th>4</th>\n",
       "      <td>MainScreenAppear</td>\n",
       "      <td>1433840883824088890</td>\n",
       "      <td>1564618139</td>\n",
       "      <td>247</td>\n",
       "      <td>2019-08-01 00:08:59</td>\n",
       "      <td>2019-08-01</td>\n",
       "    </tr>\n",
       "  </tbody>\n",
       "</table>\n",
       "</div>"
      ],
      "text/plain": [
       "            eventname         deviceidhash  eventtimestamp  expid  \\\n",
       "0            Tutorial  3737462046622621720      1564618048    246   \n",
       "1    MainScreenAppear  3737462046622621720      1564618080    246   \n",
       "2    MainScreenAppear  3737462046622621720      1564618135    246   \n",
       "3  OffersScreenAppear  3737462046622621720      1564618138    246   \n",
       "4    MainScreenAppear  1433840883824088890      1564618139    247   \n",
       "\n",
       "            date_time       date  \n",
       "0 2019-08-01 00:07:28 2019-08-01  \n",
       "1 2019-08-01 00:08:00 2019-08-01  \n",
       "2 2019-08-01 00:08:55 2019-08-01  \n",
       "3 2019-08-01 00:08:58 2019-08-01  \n",
       "4 2019-08-01 00:08:59 2019-08-01  "
      ]
     },
     "execution_count": 12,
     "metadata": {},
     "output_type": "execute_result"
    }
   ],
   "source": [
    "# Criando o DataFrame \"data\" apenas com dados a partir de 01/08/2019\n",
    "data_ = data[data['date']>'2019-07-31'].reset_index(drop=True)\n",
    "\n",
    "# Imprimindo as primeiras linhas\n",
    "data_.head()"
   ]
  },
  {
   "cell_type": "markdown",
   "metadata": {},
   "source": [
    "Vamos calcular qual o percentual de usuários foram perdidos com a exclusão dessa parte dos dados:"
   ]
  },
  {
   "cell_type": "code",
   "execution_count": 13,
   "metadata": {},
   "outputs": [
    {
     "data": {
      "text/plain": [
       "0.22513574361011784"
      ]
     },
     "execution_count": 13,
     "metadata": {},
     "output_type": "execute_result"
    }
   ],
   "source": [
    "((data['deviceidhash'].nunique() - data_['deviceidhash'].nunique()) / data['deviceidhash'].nunique()) * 100"
   ]
  },
  {
   "cell_type": "markdown",
   "metadata": {},
   "source": [
    "Perdemos apenas 0,22% dos usuários, uma diferença razoavelmente pequena. Vamos ver o percentual de eventos perdidos:"
   ]
  },
  {
   "cell_type": "code",
   "execution_count": 14,
   "metadata": {},
   "outputs": [
    {
     "data": {
      "text/plain": [
       "1.159560630741897"
      ]
     },
     "execution_count": 14,
     "metadata": {},
     "output_type": "execute_result"
    }
   ],
   "source": [
    "((data['eventname'].count() - data_['eventname'].count()) / data['eventname'].count()) * 100"
   ]
  },
  {
   "cell_type": "markdown",
   "metadata": {},
   "source": [
    "Os eventos perdidos representavam apenas 1,16% do total, o que também não é uma perda muito significativa. Logo, faz sentido retirar esses dados dos nossos cálculos, uma vez que representam uma fatia pequena do total e têm o potencial de distorcer nossas análises. Porém, precisamos verificar se sobraram usuários suficientes de cada grupo do experimento A/A/B."
   ]
  },
  {
   "cell_type": "code",
   "execution_count": 15,
   "metadata": {},
   "outputs": [
    {
     "data": {
      "text/plain": [
       "248    84563\n",
       "246    79302\n",
       "247    77022\n",
       "Name: expid, dtype: int64"
      ]
     },
     "execution_count": 15,
     "metadata": {},
     "output_type": "execute_result"
    }
   ],
   "source": [
    "data_['expid'].value_counts()"
   ]
  },
  {
   "cell_type": "markdown",
   "metadata": {},
   "source": [
    "Continuamos com quantidades similares de usuários entre os três grupos do experimento, podemos passar para a fase seguinte de nossa análise."
   ]
  },
  {
   "cell_type": "markdown",
   "metadata": {},
   "source": [
    "## Análise do funil de eventos ##\n",
    "\n",
    "Agora, vamos estudar a frequência de ocorrência dos eventos, a quantidade de usuários que executou cada ação e a ordem em que os eventos ocorreram. Com essas informações, vamos construir o funil de eventos e calcular as etapas em que mais usuários são perdidos.\n",
    "\n",
    "Para começar, vamos ver quais eventos temos e qual sua frequência:"
   ]
  },
  {
   "cell_type": "code",
   "execution_count": 16,
   "metadata": {},
   "outputs": [
    {
     "data": {
      "text/plain": [
       "MainScreenAppear           117328\n",
       "OffersScreenAppear          46333\n",
       "CartScreenAppear            42303\n",
       "PaymentScreenSuccessful     33918\n",
       "Tutorial                     1005\n",
       "Name: eventname, dtype: int64"
      ]
     },
     "execution_count": 16,
     "metadata": {},
     "output_type": "execute_result"
    }
   ],
   "source": [
    "data_['eventname'].value_counts()"
   ]
  },
  {
   "cell_type": "markdown",
   "metadata": {},
   "source": [
    "*MainScreenAppear* é o evento mais comum, o que faz sentido, é esperado que o aparecimento da tela principal seja o evento mais frequente para os usuários. Em seguida temos os aparecimentos das telas de oferta, *OffersScreenAppear* e do carrinho, *CartScreenAppear*. Então temos a tela de pagamento, *PaymentScreenSuccessful*, com um ocorrência um pouco menor, e por último, o *Tutorial*, sendo acionado por bem poucos usuários.\n",
    "\n",
    "Vamos descobrir agora a quantidade de usuários únicos que realizaram cada um dos eventos."
   ]
  },
  {
   "cell_type": "code",
   "execution_count": 17,
   "metadata": {},
   "outputs": [
    {
     "data": {
      "text/html": [
       "<div>\n",
       "<style scoped>\n",
       "    .dataframe tbody tr th:only-of-type {\n",
       "        vertical-align: middle;\n",
       "    }\n",
       "\n",
       "    .dataframe tbody tr th {\n",
       "        vertical-align: top;\n",
       "    }\n",
       "\n",
       "    .dataframe thead th {\n",
       "        text-align: right;\n",
       "    }\n",
       "</style>\n",
       "<table border=\"1\" class=\"dataframe\">\n",
       "  <thead>\n",
       "    <tr style=\"text-align: right;\">\n",
       "      <th></th>\n",
       "      <th>eventname</th>\n",
       "      <th>deviceidhash</th>\n",
       "    </tr>\n",
       "  </thead>\n",
       "  <tbody>\n",
       "    <tr>\n",
       "      <th>1</th>\n",
       "      <td>MainScreenAppear</td>\n",
       "      <td>7419</td>\n",
       "    </tr>\n",
       "    <tr>\n",
       "      <th>2</th>\n",
       "      <td>OffersScreenAppear</td>\n",
       "      <td>4593</td>\n",
       "    </tr>\n",
       "    <tr>\n",
       "      <th>0</th>\n",
       "      <td>CartScreenAppear</td>\n",
       "      <td>3734</td>\n",
       "    </tr>\n",
       "    <tr>\n",
       "      <th>3</th>\n",
       "      <td>PaymentScreenSuccessful</td>\n",
       "      <td>3539</td>\n",
       "    </tr>\n",
       "    <tr>\n",
       "      <th>4</th>\n",
       "      <td>Tutorial</td>\n",
       "      <td>840</td>\n",
       "    </tr>\n",
       "  </tbody>\n",
       "</table>\n",
       "</div>"
      ],
      "text/plain": [
       "                 eventname  deviceidhash\n",
       "1         MainScreenAppear          7419\n",
       "2       OffersScreenAppear          4593\n",
       "0         CartScreenAppear          3734\n",
       "3  PaymentScreenSuccessful          3539\n",
       "4                 Tutorial           840"
      ]
     },
     "execution_count": 17,
     "metadata": {},
     "output_type": "execute_result"
    }
   ],
   "source": [
    "# Criando uma tabela com as informações\n",
    "events_users = data_.groupby('eventname', as_index=False).agg({'deviceidhash':'nunique'}).sort_values(by='deviceidhash', ascending=False)\n",
    "\n",
    "# Imprimindo a tabela\n",
    "events_users"
   ]
  },
  {
   "cell_type": "markdown",
   "metadata": {},
   "source": [
    "As posições dos eventos se mantém a mesma, agora com números significativamente menores. A única excessão é o evento *Tutorial*, que tem um número de menor de acessos únicos, porém ainda próximo ao do número de acessos total: faz sentido a maioria dos usuários só acessarem o tutorial uma vez.\n",
    "\n",
    "É possível enxergar algumas opções de ordenações dos eventos aqui. Os usuários podem chegar na tela principal (*MainScreenAppear*), ir então para o carrinho (*CartScreenAppear*) e, em seguida, para a tela de pagamento concluído (*PaymentScreenSuccessful*). Ou, podem sair da tela principal para a tela de oferta (*OffersScreenAppear*), depois para o carrinho e para o pagamento. Já o *Tutorial* deve ser acessado a partir da tela principal, é possível que os usuários retornem a tela principal depois de concluí-lo e seguir um dos outros dois caminhos. Pela frequência dos eventos, não parece que todos fazem parte de uma mesma sequência, apesar da tela principal provavelmente ser o ponto de partida dos usuários.\n",
    "\n",
    "Vamos criar um funil de eventos para calcular a proporção de usuários que passa de uma fase para a seguinte, considerando a seguinte ordem: Aparecimento da Tela Principal > Aparecimento da Tela do Carrinho > Tela de Pagamento Bem-Sucedido. Primeiro, vamos criar uma tabela dinâmica com a hora da primeira ocorrência de cada evento."
   ]
  },
  {
   "cell_type": "code",
   "execution_count": 18,
   "metadata": {},
   "outputs": [
    {
     "data": {
      "text/html": [
       "<div>\n",
       "<style scoped>\n",
       "    .dataframe tbody tr th:only-of-type {\n",
       "        vertical-align: middle;\n",
       "    }\n",
       "\n",
       "    .dataframe tbody tr th {\n",
       "        vertical-align: top;\n",
       "    }\n",
       "\n",
       "    .dataframe thead th {\n",
       "        text-align: right;\n",
       "    }\n",
       "</style>\n",
       "<table border=\"1\" class=\"dataframe\">\n",
       "  <thead>\n",
       "    <tr style=\"text-align: right;\">\n",
       "      <th>eventname</th>\n",
       "      <th>CartScreenAppear</th>\n",
       "      <th>MainScreenAppear</th>\n",
       "      <th>OffersScreenAppear</th>\n",
       "      <th>PaymentScreenSuccessful</th>\n",
       "      <th>Tutorial</th>\n",
       "    </tr>\n",
       "    <tr>\n",
       "      <th>deviceidhash</th>\n",
       "      <th></th>\n",
       "      <th></th>\n",
       "      <th></th>\n",
       "      <th></th>\n",
       "      <th></th>\n",
       "    </tr>\n",
       "  </thead>\n",
       "  <tbody>\n",
       "    <tr>\n",
       "      <th>6888746892508752</th>\n",
       "      <td>NaT</td>\n",
       "      <td>2019-08-06 14:06:34</td>\n",
       "      <td>NaT</td>\n",
       "      <td>NaT</td>\n",
       "      <td>NaT</td>\n",
       "    </tr>\n",
       "    <tr>\n",
       "      <th>6909561520679493</th>\n",
       "      <td>2019-08-06 18:52:58</td>\n",
       "      <td>2019-08-06 18:52:54</td>\n",
       "      <td>2019-08-06 18:53:04</td>\n",
       "      <td>2019-08-06 18:52:58</td>\n",
       "      <td>NaT</td>\n",
       "    </tr>\n",
       "    <tr>\n",
       "      <th>6922444491712477</th>\n",
       "      <td>2019-08-04 14:19:40</td>\n",
       "      <td>2019-08-04 14:19:33</td>\n",
       "      <td>2019-08-04 14:19:46</td>\n",
       "      <td>2019-08-04 14:19:40</td>\n",
       "      <td>NaT</td>\n",
       "    </tr>\n",
       "    <tr>\n",
       "      <th>7435777799948366</th>\n",
       "      <td>NaT</td>\n",
       "      <td>2019-08-05 08:06:34</td>\n",
       "      <td>NaT</td>\n",
       "      <td>NaT</td>\n",
       "      <td>NaT</td>\n",
       "    </tr>\n",
       "    <tr>\n",
       "      <th>7702139951469979</th>\n",
       "      <td>2019-08-02 14:28:45</td>\n",
       "      <td>2019-08-01 04:29:54</td>\n",
       "      <td>2019-08-01 04:29:56</td>\n",
       "      <td>2019-08-02 14:28:45</td>\n",
       "      <td>NaT</td>\n",
       "    </tr>\n",
       "  </tbody>\n",
       "</table>\n",
       "</div>"
      ],
      "text/plain": [
       "eventname           CartScreenAppear    MainScreenAppear  OffersScreenAppear  \\\n",
       "deviceidhash                                                                   \n",
       "6888746892508752                 NaT 2019-08-06 14:06:34                 NaT   \n",
       "6909561520679493 2019-08-06 18:52:58 2019-08-06 18:52:54 2019-08-06 18:53:04   \n",
       "6922444491712477 2019-08-04 14:19:40 2019-08-04 14:19:33 2019-08-04 14:19:46   \n",
       "7435777799948366                 NaT 2019-08-05 08:06:34                 NaT   \n",
       "7702139951469979 2019-08-02 14:28:45 2019-08-01 04:29:54 2019-08-01 04:29:56   \n",
       "\n",
       "eventname        PaymentScreenSuccessful Tutorial  \n",
       "deviceidhash                                       \n",
       "6888746892508752                     NaT      NaT  \n",
       "6909561520679493     2019-08-06 18:52:58      NaT  \n",
       "6922444491712477     2019-08-04 14:19:40      NaT  \n",
       "7435777799948366                     NaT      NaT  \n",
       "7702139951469979     2019-08-02 14:28:45      NaT  "
      ]
     },
     "execution_count": 18,
     "metadata": {},
     "output_type": "execute_result"
    }
   ],
   "source": [
    "# Criando a tabela diâmica \"users\"\n",
    "users = data_.pivot_table(\n",
    "    index='deviceidhash',\n",
    "    columns='eventname',\n",
    "    values='date_time',\n",
    "    aggfunc='min')\n",
    "\n",
    "# Imprimindo as primeiras linhas\n",
    "users.head()"
   ]
  },
  {
   "cell_type": "markdown",
   "metadata": {},
   "source": [
    "Temos a hora da primeira vez que cada usuário realizou cada evento, e *NaT* quando o usuário em questão não realizou o evento. Agora vamos criar variáveis com as condições para cada estágio do funil:"
   ]
  },
  {
   "cell_type": "code",
   "execution_count": 19,
   "metadata": {},
   "outputs": [],
   "source": [
    "# Criando as condições para as três fases do funil\n",
    "step_1 = ~users['MainScreenAppear'].isna()\n",
    "step_2 = step_1 & (users['CartScreenAppear'] > users['MainScreenAppear'])\n",
    "step_3 = step_2 & (users['PaymentScreenSuccessful'] > users['CartScreenAppear'])"
   ]
  },
  {
   "cell_type": "markdown",
   "metadata": {},
   "source": [
    "Podemos então aplicar as condições para calcular nosso funil:"
   ]
  },
  {
   "cell_type": "code",
   "execution_count": 20,
   "metadata": {},
   "outputs": [
    {
     "name": "stdout",
     "output_type": "stream",
     "text": [
      "Acessos a página principal: 7419\n",
      "Acessos ao carrinho: 3424\n",
      "Pagamento bem-sucedido: 879\n"
     ]
    }
   ],
   "source": [
    "# Colhendo as informações do número de usuários em cada etapa\n",
    "n_mainscreen = users[step_1].shape[0]\n",
    "n_cartscreen = users[step_2].shape[0]\n",
    "n_paymentsuccessful = users[step_3].shape[0]\n",
    "\n",
    "# Imprimindo as informações\n",
    "print('Acessos a página principal:', n_mainscreen)\n",
    "print('Acessos ao carrinho:', n_cartscreen)\n",
    "print('Pagamento bem-sucedido:', n_paymentsuccessful)"
   ]
  },
  {
   "cell_type": "markdown",
   "metadata": {},
   "source": [
    "Vemos como os número diferem quando levamos em consideração uma sequência específica de eventos, sendo igual apenas na etapa inicial. Ou seja, outros usuários chegaram ao carrinho e a tela de pagamento seguindo outras rotas. Vamos calcular o percentual de usuários que permanece de uma fase para outra:"
   ]
  },
  {
   "cell_type": "code",
   "execution_count": 21,
   "metadata": {},
   "outputs": [
    {
     "name": "stdout",
     "output_type": "stream",
     "text": [
      "Percentual de acessos a página principal: 100.0%\n",
      "Percentual de acessos ao carrinho: 46.15%\n",
      "Percentual de pagamentos bem-sucedidos: 25.67%\n",
      "_____________________________________________________________\n"
     ]
    }
   ],
   "source": [
    "# Calculando os percentuais\n",
    "p_mainscreen = (n_mainscreen/n_mainscreen)*100\n",
    "p_cartscreen = (n_cartscreen/n_mainscreen)*100\n",
    "p_paymentsuccessful = (n_paymentsuccessful/n_cartscreen)*100\n",
    "\n",
    "# Imprimindo os valores\n",
    "print('Percentual de acessos a página principal: {}%'.format(p_mainscreen))\n",
    "print('Percentual de acessos ao carrinho: {:.2f}%'.format(p_cartscreen))\n",
    "print('Percentual de pagamentos bem-sucedidos: {:.2f}%'.format(p_paymentsuccessful))\n",
    "print('_____________________________________________________________')"
   ]
  },
  {
   "cell_type": "markdown",
   "metadata": {},
   "source": [
    "Vemos que a maior redução proporcional de usuários acontece entre o carrinho e o pagamento. Talvez algo no design do site esteja atrapalhando os usuários de concluírem suas compras ou as opções de pagamento sejam limitadas; ou apenas eles adicionam ao carrinho e depois desistem da compra por outros motivos. De qualquer forma, é interessante verificar como está essa fase do processo.\n",
    "\n",
    "Para concluir, vamos ver qual a parcela dos usuários que faz o caminho inteiro, indo desde a página principal até o pagamento:"
   ]
  },
  {
   "cell_type": "code",
   "execution_count": 22,
   "metadata": {},
   "outputs": [
    {
     "name": "stdout",
     "output_type": "stream",
     "text": [
      "Parcela dos usuários que percorre todo o caminho: 11.85%\n",
      "_____________________________________________________________\n"
     ]
    }
   ],
   "source": [
    "# Calculando a parcela\n",
    "p_total = (n_paymentsuccessful/n_mainscreen)*100\n",
    "\n",
    "# Imprimindo o resultado\n",
    "print('Parcela dos usuários que percorre todo o caminho: {:.2f}%'.format(p_total))\n",
    "print('_____________________________________________________________')"
   ]
  },
  {
   "cell_type": "markdown",
   "metadata": {},
   "source": [
    "Apenas 11,85% dos usuários concluem o processo seguindo a rota que escolhemos.\n",
    "\n",
    "Visualizar essas informações pode ajudar a ter uma interpretação melhor da situação."
   ]
  },
  {
   "cell_type": "code",
   "execution_count": 23,
   "metadata": {},
   "outputs": [
    {
     "data": {
      "image/svg+xml": [
       "<svg class=\"main-svg\" xmlns=\"http://www.w3.org/2000/svg\" xmlns:xlink=\"http://www.w3.org/1999/xlink\" width=\"700\" height=\"500\" style=\"\" viewBox=\"0 0 700 500\"><rect x=\"0\" y=\"0\" width=\"700\" height=\"500\" style=\"fill: rgb(255, 255, 255); fill-opacity: 1;\"/><defs id=\"defs-e466d6\"><g class=\"clips\"><clipPath id=\"clipe466d6xyplot\" class=\"plotclip\"><rect width=\"385\" height=\"320\"/></clipPath><clipPath class=\"axesclip\" id=\"clipe466d6x\"><rect x=\"235\" y=\"0\" width=\"385\" height=\"500\"/></clipPath><clipPath class=\"axesclip\" id=\"clipe466d6y\"><rect x=\"0\" y=\"100\" width=\"700\" height=\"320\"/></clipPath><clipPath class=\"axesclip\" id=\"clipe466d6xy\"><rect x=\"235\" y=\"100\" width=\"385\" height=\"320\"/></clipPath></g><g class=\"gradients\"/><g class=\"patterns\"/></defs><g class=\"bglayer\"><rect class=\"bg\" x=\"235\" y=\"100\" width=\"385\" height=\"320\" style=\"fill: rgb(229, 236, 246); fill-opacity: 1; stroke-width: 0;\"/></g><g class=\"layer-below\"><g class=\"imagelayer\"/><g class=\"shapelayer\"/></g><g class=\"cartesianlayer\"><g class=\"subplot xy\"><g class=\"layer-subplot\"><g class=\"shapelayer\"/><g class=\"imagelayer\"/></g><g class=\"minor-gridlayer\"><g class=\"x\"/><g class=\"y\"/></g><g class=\"gridlayer\"><g class=\"x\"/><g class=\"y\"/></g><g class=\"zerolinelayer\"/><path class=\"xlines-below\"/><path class=\"ylines-below\"/><g class=\"overlines-below\"/><g class=\"xaxislayer-below\"/><g class=\"yaxislayer-below\"/><g class=\"overaxes-below\"/><g class=\"plot\" transform=\"translate(235,100)\" clip-path=\"url(#clipe466d6xyplot)\"><g class=\"funnellayer mlayer\"><g class=\"trace bars\" style=\"opacity: 1;\"><g class=\"regions\"><g class=\"region\"><path d=\"M19.25,96L112.54,117.33H272.46L365.75,96Z\" style=\"stroke-width: 0; fill: rgb(99, 110, 250); fill-opacity: 0.5;\"/></g><g class=\"region\"><path d=\"M112.54,202.67L171.97,224H213.03L272.46,202.67Z\" style=\"stroke-width: 0; fill: rgb(99, 110, 250); fill-opacity: 0.5;\"/></g><g class=\"region\"><path d=\"M0,0Z\" style=\"stroke-width: 0; fill: rgb(99, 110, 250); fill-opacity: 0.5;\"/></g></g><g class=\"points\"><g class=\"point\"><path d=\"M19.25,10.67V96H365.75V10.67Z\" style=\"vector-effect: non-scaling-stroke; fill: rgb(99, 110, 250); fill-opacity: 1; stroke: rgb(68, 68, 68); stroke-opacity: 1; stroke-width: 0px; opacity: 1;\"/><text class=\"bartext bartext-inside\" text-anchor=\"middle\" data-notex=\"1\" x=\"0\" y=\"0\" style=\"font-family: 'Open Sans', verdana, arial, sans-serif; font-size: 12px; fill: rgb(255, 255, 255); fill-opacity: 1; white-space: pre;\" transform=\"translate(192.3125,57.835)\">7419</text></g><g class=\"point\"><path d=\"M112.54,117.33V202.67H272.46V117.33Z\" style=\"vector-effect: non-scaling-stroke; fill: rgb(99, 110, 250); fill-opacity: 1; stroke: rgb(68, 68, 68); stroke-opacity: 1; stroke-width: 0px; opacity: 1;\"/><text class=\"bartext bartext-inside\" text-anchor=\"middle\" data-notex=\"1\" x=\"0\" y=\"0\" style=\"font-family: 'Open Sans', verdana, arial, sans-serif; font-size: 12px; fill: rgb(255, 255, 255); fill-opacity: 1; white-space: pre;\" transform=\"translate(192.3125,164.5)\">3424</text></g><g class=\"point\"><path d=\"M171.97,224V309.33H213.03V224Z\" style=\"vector-effect: non-scaling-stroke; fill: rgb(99, 110, 250); fill-opacity: 1; stroke: rgb(68, 68, 68); stroke-opacity: 1; stroke-width: 0px; opacity: 1;\"/><text class=\"bartext bartext-inside\" text-anchor=\"middle\" data-notex=\"1\" x=\"0\" y=\"0\" style=\"font-family: 'Open Sans', verdana, arial, sans-serif; font-size: 12px; fill: rgb(255, 255, 255); fill-opacity: 1; white-space: pre;\" transform=\"translate(192.3125,271.16499999999996)\">879</text></g></g></g></g></g><g class=\"overplot\"/><path class=\"xlines-above crisp\" d=\"M0,0\" style=\"fill: none;\"/><path class=\"ylines-above crisp\" d=\"M0,0\" style=\"fill: none;\"/><g class=\"overlines-above\"/><g class=\"xaxislayer-above\"/><g class=\"yaxislayer-above\"><g class=\"ytick\"><text text-anchor=\"end\" x=\"234\" y=\"4.199999999999999\" transform=\"translate(0,366.67)\" style=\"font-family: 'Open Sans', verdana, arial, sans-serif; font-size: 12px; fill: rgb(42, 63, 95); fill-opacity: 1; white-space: pre; opacity: 1;\">Pagaram</text></g><g class=\"ytick\"><text text-anchor=\"end\" x=\"234\" y=\"4.199999999999999\" transform=\"translate(0,260)\" style=\"font-family: 'Open Sans', verdana, arial, sans-serif; font-size: 12px; fill: rgb(42, 63, 95); fill-opacity: 1; white-space: pre; opacity: 1;\">Adicionaram um produto ao carrinho</text></g><g class=\"ytick\"><text text-anchor=\"end\" x=\"234\" y=\"4.199999999999999\" transform=\"translate(0,153.32999999999998)\" style=\"font-family: 'Open Sans', verdana, arial, sans-serif; font-size: 12px; fill: rgb(42, 63, 95); fill-opacity: 1; white-space: pre; opacity: 1;\">Visualização da página principal</text></g></g><g class=\"overaxes-above\"/></g></g><g class=\"polarlayer\"/><g class=\"smithlayer\"/><g class=\"ternarylayer\"/><g class=\"geolayer\"/><g class=\"funnelarealayer\"/><g class=\"pielayer\"/><g class=\"iciclelayer\"/><g class=\"treemaplayer\"/><g class=\"sunburstlayer\"/><g class=\"glimages\"/><defs id=\"topdefs-e466d6\"><g class=\"clips\"/></defs><g class=\"layer-above\"><g class=\"imagelayer\"/><g class=\"shapelayer\"/></g><g class=\"infolayer\"><g class=\"g-gtitle\"/><g class=\"g-ytitle\"/></g></svg>"
      ]
     },
     "metadata": {},
     "output_type": "display_data"
    }
   ],
   "source": [
    "# Criando a figura\n",
    "funnel_fig = go.Figure(go.Funnel(\n",
    "    y=['Visualização da página principal', 'Adicionaram um produto ao carrinho', 'Pagaram'],\n",
    "    x=[n_mainscreen, n_cartscreen, n_paymentsuccessful]\n",
    "))\n",
    "\n",
    "# Exibindo o funil\n",
    "funnel_fig.show('svg')"
   ]
  },
  {
   "cell_type": "markdown",
   "metadata": {},
   "source": [
    "Vemos como a parcela de usuários que chega a pagar é menor que a parcela que acessa o carrinho. Sem dúvida investigar a passagem entre essas etapas pode trazer bons resultados para a loja."
   ]
  },
  {
   "cell_type": "markdown",
   "metadata": {},
   "source": [
    "## O experimento ##\n",
    "\n",
    "O experimento comparou a resposta dos usuários para duas opções de fonte no site. Além disso, foi realizado um teste A/A para verificar se o experimento funcionou corretamente. Os grupos do teste A/A têm os IDs 246 e 247, já o grupo B tem o ID 248. Vamos relembrar quantos usuários há em cada grupo:"
   ]
  },
  {
   "cell_type": "code",
   "execution_count": 24,
   "metadata": {},
   "outputs": [
    {
     "data": {
      "text/plain": [
       "248    84563\n",
       "246    79302\n",
       "247    77022\n",
       "Name: expid, dtype: int64"
      ]
     },
     "execution_count": 24,
     "metadata": {},
     "output_type": "execute_result"
    }
   ],
   "source": [
    "data_['expid'].value_counts()"
   ]
  },
  {
   "cell_type": "markdown",
   "metadata": {},
   "source": [
    "Para garantir que o experimentou funcionou corretamente precisamos testar se há uma diferença significativa entre os grupos A/A. Para isso, vamos utilizar um teste Mann-Whitney, que nos permite comparar as duas amostras e avaliar se a diferença é estatisticamente suficiente para considerarmos que sejam de populações distintas. Vamos começar criando um DataFrame apenas com os dados das compras concluídas e, em seguida, criando fatias dos dados contendo os grupos de cada um dos testes."
   ]
  },
  {
   "cell_type": "code",
   "execution_count": 25,
   "metadata": {},
   "outputs": [],
   "source": [
    "# Criando a tabela \"orders_\" com as linhas onde \"eventname\" é \"PaymentScreenSuccessful\"\n",
    "orders_ = data_[data_['eventname'] == 'PaymentScreenSuccessful'].reset_index(drop=True)\n",
    "\n",
    "# Criando a tabela \"orders\" apenas com as informações que precisaremos\n",
    "orders = orders_[['deviceidhash', 'expid', 'date_time', 'date']]\n",
    "\n",
    "# Criando a tabela dos grupos A, \"ordersByUsersA1\" e \"ordersByUsersA2\" e renomeando as colunas\n",
    "ordersByUsersA1 = orders[orders['expid'] == 246].groupby('deviceidhash', as_index=False).agg({'date_time':'count'})\n",
    "ordersByUsersA1.columns = ['deviceid', 'purchases']\n",
    "ordersByUsersA2 = orders[orders['expid'] == 247].groupby('deviceidhash', as_index=False).agg({'date_time':'count'})\n",
    "ordersByUsersA2.columns = ['deviceid', 'purchases']"
   ]
  },
  {
   "cell_type": "markdown",
   "metadata": {},
   "source": [
    "Agora para realizar o teste Mann-Whitney precisamos criar duas amostras, ``sampleA1`` e ``sampleA2``, com o ID de cada usuário e seu o número de pedidos, que será 0 para os que não realizaram nenhum. Também precisamos criar uma tabela com as informações dos visitantes."
   ]
  },
  {
   "cell_type": "code",
   "execution_count": 26,
   "metadata": {},
   "outputs": [],
   "source": [
    "# Criando a tabela \"visitors\" e renomeando as colunas\n",
    "visitors = (data_[data_['eventname'] == 'MainScreenAppear'].\n",
    "             groupby(['date', 'expid'], as_index=False).agg({'date_time':'count'})\n",
    "             .sort_values(by='expid').reset_index(drop=True))\n",
    "visitors.columns = ['date', 'expid', 'visits']\n",
    "\n",
    "# Criando a primeira amostra\n",
    "sampleA1 = pd.concat([ordersByUsersA1['purchases'],\n",
    "                     pd.Series(0, index=np.arange(\n",
    "                         visitors[visitors['expid']== 246]['visits'].sum() - len(ordersByUsersA1['purchases'])), name='purchases')],\n",
    "                    axis=0)\n",
    "\n",
    "# Criando a segunda amostra\n",
    "sampleA2 = pd.concat([ordersByUsersA2['purchases'],\n",
    "                     pd.Series(0, index=np.arange(\n",
    "                         visitors[visitors['expid']== 247]['visits'].sum() - len(ordersByUsersA2['purchases'])), name='purchases')],\n",
    "                    axis=0)"
   ]
  },
  {
   "cell_type": "markdown",
   "metadata": {},
   "source": [
    "Com nossas amostras criadas, podemos testar se há diferença estatística entre os grupos A:"
   ]
  },
  {
   "cell_type": "code",
   "execution_count": 27,
   "metadata": {},
   "outputs": [
    {
     "data": {
      "text/plain": [
       "'0.036'"
      ]
     },
     "execution_count": 27,
     "metadata": {},
     "output_type": "execute_result"
    }
   ],
   "source": [
    "'{:.3f}'.format(st.mannwhitneyu(sampleA1, sampleA2)[1])"
   ]
  },
  {
   "cell_type": "markdown",
   "metadata": {},
   "source": [
    "Considerando um nível de signifiância de 0,05 (5%), como é o usual, não podemos afirmar que há diferença estatística entre os grupos, uma vez que o resultado do teste foi 0,072.\n",
    "\n",
    "Vamos analisar agora se para o evento mais popular, o aparecimento da tela principal, há uma diferença estatística significativa entre os grupos. Para isso, vamos criar outra tabela apenas com os usuários que realizaram está ação. Depois, fatiaremos os dados para os grupos 246 e 247, nossos grupos de teste."
   ]
  },
  {
   "cell_type": "code",
   "execution_count": 28,
   "metadata": {},
   "outputs": [],
   "source": [
    "# Criando a tabela \"mainscreen_\" com as linhas onde \"eventname\" é \"MainScreenAppear\"\n",
    "mainscreen_ = data_[data_['eventname'] == 'MainScreenAppear'].reset_index(drop=True)\n",
    "\n",
    "# Criando a tabela \"mainscreen\" apenas com as informações que precisaremos\n",
    "mainscreen = mainscreen_[['deviceidhash', 'expid', 'date_time', 'date']]\n",
    "\n",
    "# Criando a tabela dos grupos A, \"MainscreenUsersA1\" e \"MainscreenUsersA2\" e renomeando as colunas\n",
    "MainscreenUsersA1 = mainscreen[mainscreen['expid'] == 246].groupby('deviceidhash', as_index=False).agg({'date_time':'count'})\n",
    "MainscreenUsersA1.columns = ['deviceid', 'mainscreen_views']\n",
    "MainscreenUsersA2 = mainscreen[mainscreen['expid'] == 247].groupby('deviceidhash', as_index=False).agg({'date_time':'count'})\n",
    "MainscreenUsersA2.columns = ['deviceid', 'mainscreen_views']"
   ]
  },
  {
   "cell_type": "markdown",
   "metadata": {},
   "source": [
    "Vamos ver agora a quantidade de usuários que realizaram o carregamento da página principal:"
   ]
  },
  {
   "cell_type": "code",
   "execution_count": 29,
   "metadata": {},
   "outputs": [
    {
     "name": "stdout",
     "output_type": "stream",
     "text": [
      "Usuários do primeiro grupo de controle: 2450\n",
      "Usuários do segundo grupo de controle: 2476\n",
      "_____________________________________________________________\n"
     ]
    }
   ],
   "source": [
    "print('Usuários do primeiro grupo de controle:', MainscreenUsersA1['deviceid'].nunique())\n",
    "print('Usuários do segundo grupo de controle:', MainscreenUsersA2['deviceid'].nunique())\n",
    "print('_____________________________________________________________')"
   ]
  },
  {
   "cell_type": "markdown",
   "metadata": {},
   "source": [
    "Temos números bem próximos entre os usuários que carregaram a página principal nos dois grupos de controle: a diferença é de apenas 26 usuários. Agora vamos calcular a proporção que esses usuários representam dos usuários totais em cada grupo."
   ]
  },
  {
   "cell_type": "code",
   "execution_count": 30,
   "metadata": {},
   "outputs": [
    {
     "name": "stdout",
     "output_type": "stream",
     "text": [
      "Proporção de usuários do primeiro grupo de controle: 98.63%\n",
      "Proporção de usuários do segundo grupo de controle: 98.53%\n",
      "_____________________________________________________________\n"
     ]
    }
   ],
   "source": [
    "print('Proporção de usuários do primeiro grupo de controle: {:.2f}%'.format(\n",
    "    (MainscreenUsersA1['deviceid'].nunique()/data_[data_['expid']==246]['deviceidhash'].nunique())*100))\n",
    "print('Proporção de usuários do segundo grupo de controle: {:.2f}%'.format(\n",
    "    (MainscreenUsersA2['deviceid'].nunique()/data_[data_['expid']==247]['deviceidhash'].nunique())*100))\n",
    "print('_____________________________________________________________')"
   ]
  },
  {
   "cell_type": "markdown",
   "metadata": {},
   "source": [
    "A diferença da proporção entre os grupos é bem pequena, cerca de 0,1%. Agora, vamos conferir se essa diferença é estatisticamente significante:"
   ]
  },
  {
   "cell_type": "code",
   "execution_count": 31,
   "metadata": {},
   "outputs": [
    {
     "data": {
      "text/plain": [
       "'0.358'"
      ]
     },
     "execution_count": 31,
     "metadata": {},
     "output_type": "execute_result"
    }
   ],
   "source": [
    "# Criando a primeira amostra\n",
    "sampleA1_2 = pd.concat([MainscreenUsersA1['mainscreen_views'],\n",
    "                     pd.Series(0, index=np.arange(\n",
    "                         data_[data_['expid']== 246]['deviceidhash'].nunique() - len(MainscreenUsersA1['mainscreen_views'])), name='mainscreen_views')],\n",
    "                    axis=0)\n",
    "\n",
    "# Criando a segunda amostra\n",
    "sampleA2_2 = pd.concat([MainscreenUsersA2['mainscreen_views'],\n",
    "                     pd.Series(0, index=np.arange(\n",
    "                         data_[data_['expid']== 247]['deviceidhash'].nunique() - len(MainscreenUsersA2['mainscreen_views'])), name='mainscreen_views')],\n",
    "                    axis=0)\n",
    "\n",
    "# Realizando o teste\n",
    "'{:.3f}'.format(st.mannwhitneyu(sampleA1_2, sampleA2_2)[1])"
   ]
  },
  {
   "cell_type": "markdown",
   "metadata": {},
   "source": [
    "Como o valor P do teste é bem maior que 0,05, nosso nível mínimo de significância, podemos afirmar que as duas amostras não tem diferença estatística significativa em relação a proporção de acessos a página principal.\n",
    "\n",
    "Vamos testar se isso se repete para os outros eventos. Para isso, criaremos um loop for para agilizar o processo."
   ]
  },
  {
   "cell_type": "code",
   "execution_count": 32,
   "metadata": {},
   "outputs": [
    {
     "name": "stdout",
     "output_type": "stream",
     "text": [
      "Quantidade de usuários para o evento Tutorial no primeiro grupo: 278\n",
      "Quantidade de usuários para o evento Tutorial no segundo grupo: 283\n",
      "\n",
      "Proporções de usuários para o evento Tutorial no primeiro grupo: 11.19%\n",
      "Proporções de usuários para o evento Tutorial no segundo grupo: 11.26%\n",
      "\n",
      "Valor P da diferença entre as amostras dos grupos: 0.460\n",
      "_____________________________________________________________\n",
      "\n",
      "Quantidade de usuários para o evento MainScreenAppear no primeiro grupo: 2450\n",
      "Quantidade de usuários para o evento MainScreenAppear no segundo grupo: 2476\n",
      "\n",
      "Proporções de usuários para o evento MainScreenAppear no primeiro grupo: 98.63%\n",
      "Proporções de usuários para o evento MainScreenAppear no segundo grupo: 98.53%\n",
      "\n",
      "Valor P da diferença entre as amostras dos grupos: 0.358\n",
      "_____________________________________________________________\n",
      "\n",
      "Quantidade de usuários para o evento OffersScreenAppear no primeiro grupo: 1542\n",
      "Quantidade de usuários para o evento OffersScreenAppear no segundo grupo: 1520\n",
      "\n",
      "Proporções de usuários para o evento OffersScreenAppear no primeiro grupo: 62.08%\n",
      "Proporções de usuários para o evento OffersScreenAppear no segundo grupo: 60.49%\n",
      "\n",
      "Valor P da diferença entre as amostras dos grupos: 0.135\n",
      "_____________________________________________________________\n",
      "\n",
      "Quantidade de usuários para o evento CartScreenAppear no primeiro grupo: 1266\n",
      "Quantidade de usuários para o evento CartScreenAppear no segundo grupo: 1238\n",
      "\n",
      "Proporções de usuários para o evento CartScreenAppear no primeiro grupo: 50.97%\n",
      "Proporções de usuários para o evento CartScreenAppear no segundo grupo: 49.26%\n",
      "\n",
      "Valor P da diferença entre as amostras dos grupos: 0.082\n",
      "_____________________________________________________________\n",
      "\n",
      "Quantidade de usuários para o evento PaymentScreenSuccessful no primeiro grupo: 1200\n",
      "Quantidade de usuários para o evento PaymentScreenSuccessful no segundo grupo: 1158\n",
      "\n",
      "Proporções de usuários para o evento PaymentScreenSuccessful no primeiro grupo: 48.31%\n",
      "Proporções de usuários para o evento PaymentScreenSuccessful no segundo grupo: 46.08%\n",
      "\n",
      "Valor P da diferença entre as amostras dos grupos: 0.038\n",
      "_____________________________________________________________\n",
      "\n"
     ]
    }
   ],
   "source": [
    "# Criando a lista de eventos que serão passados para o loop\n",
    "events = data_['eventname'].unique()\n",
    "\n",
    "# Criando o loop\n",
    "for event in events:\n",
    "    event_df = data_[data_['eventname'] == event].reset_index(drop=True)\n",
    "    event_df = event_df[['deviceidhash', 'expid', 'date_time', 'date']]\n",
    "    eventUsersA1 = event_df[event_df['expid'] == 246].groupby('deviceidhash', as_index=False).agg({'date_time':'count'})\n",
    "    eventUsersA1.columns = ['deviceid', 'event_count']\n",
    "    eventUsersA2 = event_df[event_df['expid'] == 247].groupby('deviceidhash', as_index=False).agg({'date_time':'count'})\n",
    "    eventUsersA2.columns = ['deviceid', 'event_count']\n",
    "    usersA1 = eventUsersA1['deviceid'].nunique()\n",
    "    usersA2 = eventUsersA2['deviceid'].nunique()\n",
    "    usersA1Prop = (eventUsersA1['deviceid'].nunique()/data_[data_['expid']==246]['deviceidhash'].nunique())*100\n",
    "    usersA2Prop = (eventUsersA2['deviceid'].nunique()/data_[data_['expid']==247]['deviceidhash'].nunique())*100\n",
    "    sampleA1_loop = pd.concat([eventUsersA1['event_count'],\n",
    "                     pd.Series(0, index=np.arange(\n",
    "                         data_[data_['expid']== 246]['deviceidhash'].nunique() - len(eventUsersA1['event_count'])), name='events')],\n",
    "                    axis=0)\n",
    "    sampleA2_loop = pd.concat([eventUsersA2['event_count'],\n",
    "                     pd.Series(0, index=np.arange(\n",
    "                         data_[data_['expid']== 247]['deviceidhash'].nunique() - len(eventUsersA2['event_count'])), name='events')],\n",
    "                    axis=0)\n",
    "    print('Quantidade de usuários para o evento {evento} no primeiro grupo: {users}'.format(evento=event, users=usersA1))\n",
    "    print('Quantidade de usuários para o evento {evento} no segundo grupo: {users}'.format(evento=event, users=usersA2))\n",
    "    print()\n",
    "    print('Proporções de usuários para o evento {evento} no primeiro grupo: {usersp:.2f}%'.format(evento=event, usersp=usersA1Prop))\n",
    "    print('Proporções de usuários para o evento {evento} no segundo grupo: {usersp:.2f}%'.format(evento=event, usersp=usersA2Prop))\n",
    "    print()\n",
    "    print('Valor P da diferença entre as amostras dos grupos: {:.3f}'.format(st.mannwhitneyu(sampleA1_loop, sampleA2_loop)[1]))\n",
    "    print('_____________________________________________________________')\n",
    "    print()"
   ]
  },
  {
   "cell_type": "markdown",
   "metadata": {},
   "source": [
    "O resultado que obtivemos é que todos nenhum dos eventos apresenta diferença estatística entre os grupos de controle, o que indica que os mecanismos utilizados no teste funcionaram corretamente. Podemos ver também que as diferenças de usuários únicos em cada evento é bastante similar entre os grupos, tanto na diferença total quanto porporcional.\n",
    "\n",
    "Vamos repetir esse mesmo processo, porém agora comparando os resultados combinados dos grupos A/A com os resultados do grupo B. Vamos calcular a quantidade de usuários em cada evento, sua proporção dos usuários totais e a significância estatística das diferenças."
   ]
  },
  {
   "cell_type": "code",
   "execution_count": 33,
   "metadata": {},
   "outputs": [
    {
     "name": "stdout",
     "output_type": "stream",
     "text": [
      "Quantidade de usuários para o evento Tutorial no grupo A: 561\n",
      "Quantidade de usuários para o evento Tutorial no grupo B: 279\n",
      "\n",
      "Proporções de usuários para o evento Tutorial no grupo A: 11.23%\n",
      "Proporções de usuários para o evento Tutorial no grupo B: 11.00%\n",
      "\n",
      "Valor P da diferença entre as amostras dos grupos A e B: 0.399\n",
      "_____________________________________________________________\n",
      "\n",
      "Quantidade de usuários para o evento MainScreenAppear no grupo A: 4926\n",
      "Quantidade de usuários para o evento MainScreenAppear no grupo B: 2493\n",
      "\n",
      "Proporções de usuários para o evento MainScreenAppear no grupo A: 98.58%\n",
      "Proporções de usuários para o evento MainScreenAppear no grupo B: 98.27%\n",
      "\n",
      "Valor P da diferença entre as amostras dos grupos A e B: 0.081\n",
      "_____________________________________________________________\n",
      "\n",
      "Quantidade de usuários para o evento OffersScreenAppear no grupo A: 3062\n",
      "Quantidade de usuários para o evento OffersScreenAppear no grupo B: 1531\n",
      "\n",
      "Proporções de usuários para o evento OffersScreenAppear no grupo A: 61.28%\n",
      "Proporções de usuários para o evento OffersScreenAppear no grupo B: 60.35%\n",
      "\n",
      "Valor P da diferença entre as amostras dos grupos A e B: 0.205\n",
      "_____________________________________________________________\n",
      "\n",
      "Quantidade de usuários para o evento CartScreenAppear no grupo A: 2504\n",
      "Quantidade de usuários para o evento CartScreenAppear no grupo B: 1230\n",
      "\n",
      "Proporções de usuários para o evento CartScreenAppear no grupo A: 50.11%\n",
      "Proporções de usuários para o evento CartScreenAppear no grupo B: 48.48%\n",
      "\n",
      "Valor P da diferença entre as amostras dos grupos A e B: 0.361\n",
      "_____________________________________________________________\n",
      "\n",
      "Quantidade de usuários para o evento PaymentScreenSuccessful no grupo A: 2358\n",
      "Quantidade de usuários para o evento PaymentScreenSuccessful no grupo B: 1181\n",
      "\n",
      "Proporções de usuários para o evento PaymentScreenSuccessful no grupo A: 47.19%\n",
      "Proporções de usuários para o evento PaymentScreenSuccessful no grupo B: 46.55%\n",
      "\n",
      "Valor P da diferença entre as amostras dos grupos A e B: 0.463\n",
      "_____________________________________________________________\n",
      "\n"
     ]
    }
   ],
   "source": [
    "# Criando o loop\n",
    "for event in events:\n",
    "    event_df = data_[data_['eventname'] == event].reset_index(drop=True)\n",
    "    event_df = event_df[['deviceidhash', 'expid', 'date_time', 'date']]\n",
    "    eventUsersA = event_df.loc[(event_df['expid'] == 246) | (event_df['expid'] == 247)].groupby('deviceidhash', as_index=False).agg({'date_time':'count'})\n",
    "    eventUsersA.columns = ['deviceid', 'event_count']\n",
    "    eventUsersB = event_df[event_df['expid'] == 248].groupby('deviceidhash', as_index=False).agg({'date_time':'count'})\n",
    "    eventUsersB.columns = ['deviceid', 'event_count']\n",
    "    usersA = eventUsersA['deviceid'].nunique()\n",
    "    usersB = eventUsersB['deviceid'].nunique()\n",
    "    usersAProp = (eventUsersA['deviceid'].nunique()/data_.loc[(data_['expid']==246) | (data_['expid']==247)]['deviceidhash'].nunique())*100\n",
    "    usersBProp = (eventUsersB['deviceid'].nunique()/data_[data_['expid']==248]['deviceidhash'].nunique())*100\n",
    "    sampleA_loop = pd.concat([eventUsersA['event_count'],\n",
    "                     pd.Series(0, index=np.arange(\n",
    "                         data_.loc[(data_['expid']== 246) | (data_['expid']==247)]['deviceidhash'].nunique() - len(eventUsersA['event_count'])), name='events')],\n",
    "                    axis=0)\n",
    "    sampleB_loop = pd.concat([eventUsersB['event_count'],\n",
    "                     pd.Series(0, index=np.arange(\n",
    "                         data_[data_['expid']== 248]['deviceidhash'].nunique() - len(eventUsersB['event_count'])), name='events')],\n",
    "                    axis=0)\n",
    "    print('Quantidade de usuários para o evento {evento} no grupo A: {users}'.format(evento=event, users=usersA))\n",
    "    print('Quantidade de usuários para o evento {evento} no grupo B: {users}'.format(evento=event, users=usersB))\n",
    "    print()\n",
    "    print('Proporções de usuários para o evento {evento} no grupo A: {usersp:.2f}%'.format(evento=event, usersp=usersAProp))\n",
    "    print('Proporções de usuários para o evento {evento} no grupo B: {usersp:.2f}%'.format(evento=event, usersp=usersBProp))\n",
    "    print()\n",
    "    print('Valor P da diferença entre as amostras dos grupos A e B: {:.3f}'.format(st.mannwhitneyu(sampleA_loop, sampleB_loop)[1]))\n",
    "    print('_____________________________________________________________')\n",
    "    print()"
   ]
  },
  {
   "cell_type": "markdown",
   "metadata": {},
   "source": [
    "A diferença de proporção entre os grupos A e B é bem similar, com o grupo A sendo levemente superior. Porém, se considerarmos um nível de significância mínina de 0,05, nenhum dos eventos atingiu diferença estatística entre os grupos. Isso nos impede de rejeitar a hipótese nula: ou seja, de que os dois grupos tem médias iguais.\n",
    "\n",
    "Para os testes que realizamos, 12 no total, consideramos o grau de significância de 0,05, caso tivéssemos optado por um grau diferente, 0,1 por exemplo, ainda assim teríamos que rejeitar a hipótese das amostras terem médias diferentes."
   ]
  },
  {
   "cell_type": "markdown",
   "metadata": {},
   "source": [
    "# Conclusão #\n",
    "\n",
    "Segundo nossa investigação, há algumas possibilidades de rotas para os usuários. No caminho que escolhemos para calcular o funil de vendas, uma grande parcela dos usuários que chegam ao carrinho de compras não chega a pagar seus pedidos. Apenas 25,7% dos usuários que chegaram ao carrinho pagaram suas compras. Logo, rever os passos entre o carrinho e o pagamento e reforçar as estratégias para relembrar os usuários dos produtos adicionados são estratégias que podem trazer resultados positivos para a loja.\n",
    "\n",
    "Nossa análise apontou que teste A/A/B foi realizado de forma correta, com o teste A/A segundo estatísticamente válido. Porém, a partir dos testes de hipóteses que realizamos, comparando cada um dos eventos registrados, a alteração da fonte testada não resultou em diferenças estatísticamente significativas. Esse resultado permanece igual mesmo considerando-se um nível de significância mais amplo, como de 0,1."
   ]
  }
 ],
 "metadata": {
  "ExecuteTimeLog": [
   {
    "duration": 763,
    "start_time": "2022-08-05T19:01:04.730Z"
   },
   {
    "duration": 130,
    "start_time": "2022-08-05T19:02:45.170Z"
   },
   {
    "duration": 1190,
    "start_time": "2022-08-05T19:02:56.380Z"
   },
   {
    "duration": 147,
    "start_time": "2022-08-05T19:03:08.871Z"
   },
   {
    "duration": 73,
    "start_time": "2022-08-05T19:03:34.280Z"
   },
   {
    "duration": 77,
    "start_time": "2022-08-05T19:04:54.250Z"
   },
   {
    "duration": 336,
    "start_time": "2022-08-05T19:05:02.713Z"
   },
   {
    "duration": 321,
    "start_time": "2022-08-05T19:06:40.712Z"
   },
   {
    "duration": 74,
    "start_time": "2022-08-05T19:06:46.921Z"
   },
   {
    "duration": 663,
    "start_time": "2022-08-05T19:06:50.322Z"
   },
   {
    "duration": 316,
    "start_time": "2022-08-05T19:08:17.992Z"
   },
   {
    "duration": 72,
    "start_time": "2022-08-05T19:08:25.072Z"
   },
   {
    "duration": 294,
    "start_time": "2022-08-05T19:08:30.053Z"
   },
   {
    "duration": 75,
    "start_time": "2022-08-05T19:09:03.212Z"
   },
   {
    "duration": 599,
    "start_time": "2022-08-05T19:09:14.433Z"
   },
   {
    "duration": 71,
    "start_time": "2022-08-05T19:09:18.373Z"
   },
   {
    "duration": 652,
    "start_time": "2022-08-05T19:09:21.975Z"
   },
   {
    "duration": 290,
    "start_time": "2022-08-05T19:09:30.083Z"
   },
   {
    "duration": 64,
    "start_time": "2022-08-05T19:10:06.323Z"
   },
   {
    "duration": 715,
    "start_time": "2022-08-05T19:10:12.256Z"
   },
   {
    "duration": 74,
    "start_time": "2022-08-05T19:10:18.743Z"
   },
   {
    "duration": 73,
    "start_time": "2022-08-05T19:10:22.743Z"
   },
   {
    "duration": 589,
    "start_time": "2022-08-05T19:13:13.075Z"
   },
   {
    "duration": 697,
    "start_time": "2022-08-05T19:14:35.706Z"
   },
   {
    "duration": 299,
    "start_time": "2022-08-05T19:15:00.887Z"
   },
   {
    "duration": 331,
    "start_time": "2022-08-05T19:15:21.487Z"
   },
   {
    "duration": 332,
    "start_time": "2022-08-05T19:15:30.857Z"
   },
   {
    "duration": 338,
    "start_time": "2022-08-05T19:16:39.808Z"
   },
   {
    "duration": 183,
    "start_time": "2022-08-05T19:17:07.588Z"
   },
   {
    "duration": 8,
    "start_time": "2022-08-05T19:17:51.478Z"
   },
   {
    "duration": 43,
    "start_time": "2022-08-05T19:17:56.889Z"
   },
   {
    "duration": 11,
    "start_time": "2022-08-05T19:24:44.242Z"
   },
   {
    "duration": 65,
    "start_time": "2022-08-05T19:24:52.091Z"
   },
   {
    "duration": 51,
    "start_time": "2022-08-05T19:26:22.924Z"
   },
   {
    "duration": 73,
    "start_time": "2022-08-05T19:27:52.874Z"
   },
   {
    "duration": 3,
    "start_time": "2022-08-05T19:33:47.908Z"
   },
   {
    "duration": 28,
    "start_time": "2022-08-05T19:33:54.587Z"
   },
   {
    "duration": 8,
    "start_time": "2022-08-05T19:34:56.581Z"
   },
   {
    "duration": 23,
    "start_time": "2022-08-05T19:36:48.650Z"
   },
   {
    "duration": 174,
    "start_time": "2022-08-05T19:37:11.842Z"
   },
   {
    "duration": 48,
    "start_time": "2022-08-05T19:37:33.409Z"
   },
   {
    "duration": 87,
    "start_time": "2022-08-05T19:37:39.109Z"
   },
   {
    "duration": 19,
    "start_time": "2022-08-05T19:39:16.478Z"
   },
   {
    "duration": 31,
    "start_time": "2022-08-05T19:39:24.663Z"
   },
   {
    "duration": 27,
    "start_time": "2022-08-05T19:40:18.193Z"
   },
   {
    "duration": 4,
    "start_time": "2022-08-05T19:43:53.195Z"
   },
   {
    "duration": 8,
    "start_time": "2022-08-05T19:44:27.225Z"
   },
   {
    "duration": 31,
    "start_time": "2022-08-05T19:44:36.472Z"
   },
   {
    "duration": 9,
    "start_time": "2022-08-05T19:44:46.286Z"
   },
   {
    "duration": 44,
    "start_time": "2022-08-05T19:44:52.894Z"
   },
   {
    "duration": 654,
    "start_time": "2022-08-05T19:45:23.496Z"
   },
   {
    "duration": 175,
    "start_time": "2022-08-05T19:45:24.152Z"
   },
   {
    "duration": 37,
    "start_time": "2022-08-05T19:45:24.328Z"
   },
   {
    "duration": 82,
    "start_time": "2022-08-05T19:45:24.367Z"
   },
   {
    "duration": 103,
    "start_time": "2022-08-05T19:45:24.452Z"
   },
   {
    "duration": 8,
    "start_time": "2022-08-05T19:45:24.556Z"
   },
   {
    "duration": 109,
    "start_time": "2022-08-05T19:46:04.432Z"
   },
   {
    "duration": 620,
    "start_time": "2022-08-08T19:08:09.490Z"
   },
   {
    "duration": 542,
    "start_time": "2022-08-08T19:08:10.112Z"
   },
   {
    "duration": 37,
    "start_time": "2022-08-08T19:08:10.655Z"
   },
   {
    "duration": 69,
    "start_time": "2022-08-08T19:08:10.694Z"
   },
   {
    "duration": 102,
    "start_time": "2022-08-08T19:08:10.765Z"
   },
   {
    "duration": 8,
    "start_time": "2022-08-08T19:08:10.868Z"
   },
   {
    "duration": 109,
    "start_time": "2022-08-08T19:09:02.690Z"
   },
   {
    "duration": 8,
    "start_time": "2022-08-08T19:09:07.433Z"
   },
   {
    "duration": 91,
    "start_time": "2022-08-08T19:09:55.029Z"
   },
   {
    "duration": 594,
    "start_time": "2022-08-08T19:10:12.132Z"
   },
   {
    "duration": 164,
    "start_time": "2022-08-08T19:10:12.727Z"
   },
   {
    "duration": 37,
    "start_time": "2022-08-08T19:10:12.892Z"
   },
   {
    "duration": 78,
    "start_time": "2022-08-08T19:10:12.931Z"
   },
   {
    "duration": 96,
    "start_time": "2022-08-08T19:10:13.010Z"
   },
   {
    "duration": 8,
    "start_time": "2022-08-08T19:10:13.108Z"
   },
   {
    "duration": 7,
    "start_time": "2022-08-08T19:14:10.556Z"
   },
   {
    "duration": 22,
    "start_time": "2022-08-08T19:21:06.012Z"
   },
   {
    "duration": 20,
    "start_time": "2022-08-08T19:39:33.291Z"
   },
   {
    "duration": 21,
    "start_time": "2022-08-08T19:40:03.562Z"
   },
   {
    "duration": 20,
    "start_time": "2022-08-08T19:40:12.169Z"
   },
   {
    "duration": 21,
    "start_time": "2022-08-08T19:40:17.448Z"
   },
   {
    "duration": 25,
    "start_time": "2022-08-08T19:40:56.630Z"
   },
   {
    "duration": 21,
    "start_time": "2022-08-08T19:41:13.289Z"
   },
   {
    "duration": 22,
    "start_time": "2022-08-08T19:44:17.035Z"
   },
   {
    "duration": 367,
    "start_time": "2022-08-08T19:52:21.570Z"
   },
   {
    "duration": 34,
    "start_time": "2022-08-08T19:52:34.109Z"
   },
   {
    "duration": 23,
    "start_time": "2022-08-08T19:52:45.908Z"
   },
   {
    "duration": 730,
    "start_time": "2022-08-08T21:27:28.637Z"
   },
   {
    "duration": 502,
    "start_time": "2022-08-08T21:27:29.369Z"
   },
   {
    "duration": 45,
    "start_time": "2022-08-08T21:27:29.873Z"
   },
   {
    "duration": 93,
    "start_time": "2022-08-08T21:27:29.920Z"
   },
   {
    "duration": 102,
    "start_time": "2022-08-08T21:27:30.016Z"
   },
   {
    "duration": 7,
    "start_time": "2022-08-08T21:27:30.120Z"
   },
   {
    "duration": 26,
    "start_time": "2022-08-08T21:27:30.129Z"
   },
   {
    "duration": 20,
    "start_time": "2022-08-08T21:27:30.157Z"
   },
   {
    "duration": 43,
    "start_time": "2022-08-08T21:27:30.179Z"
   },
   {
    "duration": 4,
    "start_time": "2022-08-08T21:29:33.713Z"
   },
   {
    "duration": 7,
    "start_time": "2022-08-08T21:31:49.118Z"
   },
   {
    "duration": 28,
    "start_time": "2022-08-08T21:41:20.764Z"
   },
   {
    "duration": 24,
    "start_time": "2022-08-08T21:41:30.704Z"
   },
   {
    "duration": 25,
    "start_time": "2022-08-08T21:42:20.537Z"
   },
   {
    "duration": 9,
    "start_time": "2022-08-08T21:44:32.970Z"
   },
   {
    "duration": 13,
    "start_time": "2022-08-08T21:45:29.189Z"
   },
   {
    "duration": 14,
    "start_time": "2022-08-08T21:46:18.159Z"
   },
   {
    "duration": 23,
    "start_time": "2022-08-08T21:46:27.393Z"
   },
   {
    "duration": 23,
    "start_time": "2022-08-08T21:47:44.855Z"
   },
   {
    "duration": 6,
    "start_time": "2022-08-08T22:03:27.150Z"
   },
   {
    "duration": 23,
    "start_time": "2022-08-08T22:19:24.185Z"
   },
   {
    "duration": 927,
    "start_time": "2022-08-09T17:41:26.977Z"
   },
   {
    "duration": 559,
    "start_time": "2022-08-09T17:41:27.907Z"
   },
   {
    "duration": 63,
    "start_time": "2022-08-09T17:41:28.468Z"
   },
   {
    "duration": 100,
    "start_time": "2022-08-09T17:41:28.534Z"
   },
   {
    "duration": 108,
    "start_time": "2022-08-09T17:41:28.637Z"
   },
   {
    "duration": 11,
    "start_time": "2022-08-09T17:41:28.757Z"
   },
   {
    "duration": 24,
    "start_time": "2022-08-09T17:41:28.769Z"
   },
   {
    "duration": 26,
    "start_time": "2022-08-09T17:41:28.796Z"
   },
   {
    "duration": 4,
    "start_time": "2022-08-09T17:41:28.824Z"
   },
   {
    "duration": 78,
    "start_time": "2022-08-09T17:41:28.830Z"
   },
   {
    "duration": 10,
    "start_time": "2022-08-09T17:41:28.911Z"
   },
   {
    "duration": 64,
    "start_time": "2022-08-09T17:41:28.923Z"
   },
   {
    "duration": 22,
    "start_time": "2022-08-09T17:41:28.990Z"
   },
   {
    "duration": 42,
    "start_time": "2022-08-09T17:41:29.016Z"
   },
   {
    "duration": 10,
    "start_time": "2022-08-09T17:41:29.061Z"
   },
   {
    "duration": 33,
    "start_time": "2022-08-09T17:41:29.073Z"
   },
   {
    "duration": 52,
    "start_time": "2022-08-09T17:51:59.593Z"
   },
   {
    "duration": 62,
    "start_time": "2022-08-09T17:52:23.704Z"
   },
   {
    "duration": 71,
    "start_time": "2022-08-09T17:52:31.053Z"
   },
   {
    "duration": 63,
    "start_time": "2022-08-09T18:13:37.486Z"
   },
   {
    "duration": 6,
    "start_time": "2022-08-09T18:27:13.282Z"
   },
   {
    "duration": 4,
    "start_time": "2022-08-09T18:28:07.950Z"
   },
   {
    "duration": 52,
    "start_time": "2022-08-09T18:33:56.511Z"
   },
   {
    "duration": 72,
    "start_time": "2022-08-09T18:34:02.418Z"
   },
   {
    "duration": 7,
    "start_time": "2022-08-09T18:34:16.339Z"
   },
   {
    "duration": 7,
    "start_time": "2022-08-09T18:45:41.976Z"
   },
   {
    "duration": 4,
    "start_time": "2022-08-09T18:46:05.590Z"
   },
   {
    "duration": 5,
    "start_time": "2022-08-09T18:46:31.197Z"
   },
   {
    "duration": 10,
    "start_time": "2022-08-09T18:48:18.757Z"
   },
   {
    "duration": 10,
    "start_time": "2022-08-09T18:48:30.368Z"
   },
   {
    "duration": 10,
    "start_time": "2022-08-09T18:49:45.189Z"
   },
   {
    "duration": 8,
    "start_time": "2022-08-09T18:49:59.134Z"
   },
   {
    "duration": 4,
    "start_time": "2022-08-09T18:50:08.228Z"
   },
   {
    "duration": 4,
    "start_time": "2022-08-09T18:50:41.839Z"
   },
   {
    "duration": 60,
    "start_time": "2022-08-09T18:57:47.194Z"
   },
   {
    "duration": 3,
    "start_time": "2022-08-09T19:01:58.008Z"
   },
   {
    "duration": 3,
    "start_time": "2022-08-09T19:02:03.298Z"
   },
   {
    "duration": 21,
    "start_time": "2022-08-09T19:05:48.059Z"
   },
   {
    "duration": 139,
    "start_time": "2022-08-09T19:07:32.401Z"
   },
   {
    "duration": 712,
    "start_time": "2022-08-09T21:36:12.579Z"
   },
   {
    "duration": 535,
    "start_time": "2022-08-09T21:36:13.293Z"
   },
   {
    "duration": 38,
    "start_time": "2022-08-09T21:36:13.829Z"
   },
   {
    "duration": 61,
    "start_time": "2022-08-09T21:36:13.868Z"
   },
   {
    "duration": 89,
    "start_time": "2022-08-09T21:36:13.931Z"
   },
   {
    "duration": 18,
    "start_time": "2022-08-09T21:36:14.021Z"
   },
   {
    "duration": 25,
    "start_time": "2022-08-09T21:36:14.040Z"
   },
   {
    "duration": 21,
    "start_time": "2022-08-09T21:36:14.067Z"
   },
   {
    "duration": 4,
    "start_time": "2022-08-09T21:36:14.089Z"
   },
   {
    "duration": 27,
    "start_time": "2022-08-09T21:36:14.094Z"
   },
   {
    "duration": 21,
    "start_time": "2022-08-09T21:36:14.122Z"
   },
   {
    "duration": 37,
    "start_time": "2022-08-09T21:36:14.145Z"
   },
   {
    "duration": 14,
    "start_time": "2022-08-09T21:36:14.184Z"
   },
   {
    "duration": 43,
    "start_time": "2022-08-09T21:36:14.200Z"
   },
   {
    "duration": 11,
    "start_time": "2022-08-09T21:36:14.244Z"
   },
   {
    "duration": 29,
    "start_time": "2022-08-09T21:36:14.257Z"
   },
   {
    "duration": 60,
    "start_time": "2022-08-09T21:36:14.288Z"
   },
   {
    "duration": 62,
    "start_time": "2022-08-09T21:36:14.349Z"
   },
   {
    "duration": 4,
    "start_time": "2022-08-09T21:36:14.413Z"
   },
   {
    "duration": 6,
    "start_time": "2022-08-09T21:36:14.419Z"
   },
   {
    "duration": 17,
    "start_time": "2022-08-09T21:36:14.426Z"
   },
   {
    "duration": 17,
    "start_time": "2022-08-09T21:36:14.444Z"
   },
   {
    "duration": 153,
    "start_time": "2022-08-09T21:36:14.463Z"
   },
   {
    "duration": 7,
    "start_time": "2022-08-09T21:42:37.217Z"
   },
   {
    "duration": 24,
    "start_time": "2022-08-09T21:56:21.632Z"
   },
   {
    "duration": 24,
    "start_time": "2022-08-09T21:56:27.297Z"
   },
   {
    "duration": 29,
    "start_time": "2022-08-09T22:00:06.429Z"
   },
   {
    "duration": 23,
    "start_time": "2022-08-09T22:00:13.967Z"
   },
   {
    "duration": 24,
    "start_time": "2022-08-09T22:01:57.978Z"
   },
   {
    "duration": 30,
    "start_time": "2022-08-09T22:04:02.049Z"
   },
   {
    "duration": 29,
    "start_time": "2022-08-09T22:05:44.912Z"
   },
   {
    "duration": 33,
    "start_time": "2022-08-09T22:13:26.772Z"
   },
   {
    "duration": 31,
    "start_time": "2022-08-09T22:15:07.975Z"
   },
   {
    "duration": 34,
    "start_time": "2022-08-09T22:15:37.453Z"
   },
   {
    "duration": 40,
    "start_time": "2022-08-09T22:15:53.320Z"
   },
   {
    "duration": 54,
    "start_time": "2022-08-09T22:16:08.524Z"
   },
   {
    "duration": 32,
    "start_time": "2022-08-09T22:16:34.273Z"
   },
   {
    "duration": 35,
    "start_time": "2022-08-09T22:16:57.356Z"
   },
   {
    "duration": 32,
    "start_time": "2022-08-09T22:17:51.179Z"
   },
   {
    "duration": 115,
    "start_time": "2022-08-09T22:22:00.335Z"
   },
   {
    "duration": 31,
    "start_time": "2022-08-09T22:22:25.686Z"
   },
   {
    "duration": 38,
    "start_time": "2022-08-09T22:22:34.515Z"
   },
   {
    "duration": 45,
    "start_time": "2022-08-09T22:23:27.125Z"
   },
   {
    "duration": 401,
    "start_time": "2022-08-09T22:25:59.779Z"
   },
   {
    "duration": 46,
    "start_time": "2022-08-09T22:26:06.927Z"
   },
   {
    "duration": 1231,
    "start_time": "2022-08-10T00:20:07.613Z"
   },
   {
    "duration": 548,
    "start_time": "2022-08-10T00:20:08.846Z"
   },
   {
    "duration": 37,
    "start_time": "2022-08-10T00:20:09.395Z"
   },
   {
    "duration": 85,
    "start_time": "2022-08-10T00:20:09.434Z"
   },
   {
    "duration": 105,
    "start_time": "2022-08-10T00:20:09.521Z"
   },
   {
    "duration": 8,
    "start_time": "2022-08-10T00:20:09.628Z"
   },
   {
    "duration": 21,
    "start_time": "2022-08-10T00:20:09.637Z"
   },
   {
    "duration": 42,
    "start_time": "2022-08-10T00:20:09.660Z"
   },
   {
    "duration": 4,
    "start_time": "2022-08-10T00:20:09.703Z"
   },
   {
    "duration": 26,
    "start_time": "2022-08-10T00:20:09.709Z"
   },
   {
    "duration": 7,
    "start_time": "2022-08-10T00:20:09.736Z"
   },
   {
    "duration": 57,
    "start_time": "2022-08-10T00:20:09.744Z"
   },
   {
    "duration": 14,
    "start_time": "2022-08-10T00:20:09.803Z"
   },
   {
    "duration": 29,
    "start_time": "2022-08-10T00:20:09.820Z"
   },
   {
    "duration": 6,
    "start_time": "2022-08-10T00:20:09.851Z"
   },
   {
    "duration": 46,
    "start_time": "2022-08-10T00:20:09.859Z"
   },
   {
    "duration": 60,
    "start_time": "2022-08-10T00:20:09.907Z"
   },
   {
    "duration": 80,
    "start_time": "2022-08-10T00:20:09.969Z"
   },
   {
    "duration": 5,
    "start_time": "2022-08-10T00:20:10.051Z"
   },
   {
    "duration": 9,
    "start_time": "2022-08-10T00:20:10.058Z"
   },
   {
    "duration": 20,
    "start_time": "2022-08-10T00:20:10.069Z"
   },
   {
    "duration": 8,
    "start_time": "2022-08-10T00:20:10.090Z"
   },
   {
    "duration": 170,
    "start_time": "2022-08-10T00:20:10.100Z"
   },
   {
    "duration": 8,
    "start_time": "2022-08-10T00:20:10.272Z"
   },
   {
    "duration": 40,
    "start_time": "2022-08-10T00:20:10.282Z"
   },
   {
    "duration": 87,
    "start_time": "2022-08-10T00:20:10.324Z"
   },
   {
    "duration": 87,
    "start_time": "2022-08-10T00:20:10.413Z"
   },
   {
    "duration": 1199,
    "start_time": "2022-08-10T17:46:41.150Z"
   },
   {
    "duration": 532,
    "start_time": "2022-08-10T17:46:42.350Z"
   },
   {
    "duration": 32,
    "start_time": "2022-08-10T17:46:42.883Z"
   },
   {
    "duration": 66,
    "start_time": "2022-08-10T17:46:42.917Z"
   },
   {
    "duration": 102,
    "start_time": "2022-08-10T17:46:42.986Z"
   },
   {
    "duration": 14,
    "start_time": "2022-08-10T17:46:43.090Z"
   },
   {
    "duration": 19,
    "start_time": "2022-08-10T17:46:43.106Z"
   },
   {
    "duration": 21,
    "start_time": "2022-08-10T17:46:43.126Z"
   },
   {
    "duration": 4,
    "start_time": "2022-08-10T17:46:43.148Z"
   },
   {
    "duration": 23,
    "start_time": "2022-08-10T17:46:43.153Z"
   },
   {
    "duration": 7,
    "start_time": "2022-08-10T17:46:43.201Z"
   },
   {
    "duration": 37,
    "start_time": "2022-08-10T17:46:43.209Z"
   },
   {
    "duration": 14,
    "start_time": "2022-08-10T17:46:43.247Z"
   },
   {
    "duration": 41,
    "start_time": "2022-08-10T17:46:43.263Z"
   },
   {
    "duration": 5,
    "start_time": "2022-08-10T17:46:43.306Z"
   },
   {
    "duration": 19,
    "start_time": "2022-08-10T17:46:43.313Z"
   },
   {
    "duration": 52,
    "start_time": "2022-08-10T17:46:43.333Z"
   },
   {
    "duration": 59,
    "start_time": "2022-08-10T17:46:43.399Z"
   },
   {
    "duration": 5,
    "start_time": "2022-08-10T17:46:43.460Z"
   },
   {
    "duration": 9,
    "start_time": "2022-08-10T17:46:43.466Z"
   },
   {
    "duration": 24,
    "start_time": "2022-08-10T17:46:43.476Z"
   },
   {
    "duration": 3,
    "start_time": "2022-08-10T17:46:43.501Z"
   },
   {
    "duration": 141,
    "start_time": "2022-08-10T17:46:43.505Z"
   },
   {
    "duration": 6,
    "start_time": "2022-08-10T17:46:43.648Z"
   },
   {
    "duration": 50,
    "start_time": "2022-08-10T17:46:43.656Z"
   },
   {
    "duration": 32,
    "start_time": "2022-08-10T17:46:43.708Z"
   },
   {
    "duration": 91,
    "start_time": "2022-08-10T17:46:43.742Z"
   },
   {
    "duration": 33,
    "start_time": "2022-08-10T17:54:44.787Z"
   },
   {
    "duration": 7,
    "start_time": "2022-08-10T18:00:55.112Z"
   },
   {
    "duration": 5,
    "start_time": "2022-08-10T18:01:10.778Z"
   },
   {
    "duration": 6,
    "start_time": "2022-08-10T18:02:10.242Z"
   },
   {
    "duration": 5,
    "start_time": "2022-08-10T18:02:20.160Z"
   },
   {
    "duration": 6,
    "start_time": "2022-08-10T18:02:32.412Z"
   },
   {
    "duration": 5,
    "start_time": "2022-08-10T18:02:49.051Z"
   },
   {
    "duration": 3,
    "start_time": "2022-08-10T18:03:16.630Z"
   },
   {
    "duration": 4,
    "start_time": "2022-08-10T18:03:31.301Z"
   },
   {
    "duration": 11,
    "start_time": "2022-08-10T18:05:31.882Z"
   },
   {
    "duration": 9,
    "start_time": "2022-08-10T18:06:18.606Z"
   },
   {
    "duration": 9,
    "start_time": "2022-08-10T18:06:40.183Z"
   },
   {
    "duration": 11,
    "start_time": "2022-08-10T18:07:08.293Z"
   },
   {
    "duration": 14,
    "start_time": "2022-08-10T18:07:39.042Z"
   },
   {
    "duration": 11,
    "start_time": "2022-08-10T18:09:48.625Z"
   },
   {
    "duration": 6,
    "start_time": "2022-08-10T18:09:55.794Z"
   },
   {
    "duration": 17,
    "start_time": "2022-08-10T18:16:27.828Z"
   },
   {
    "duration": 23,
    "start_time": "2022-08-10T18:17:20.751Z"
   },
   {
    "duration": 112,
    "start_time": "2022-08-10T18:35:36.771Z"
   },
   {
    "duration": 114,
    "start_time": "2022-08-10T18:35:52.333Z"
   },
   {
    "duration": 21,
    "start_time": "2022-08-10T18:43:53.278Z"
   },
   {
    "duration": 247,
    "start_time": "2022-08-10T18:48:58.392Z"
   },
   {
    "duration": 240,
    "start_time": "2022-08-10T18:49:35.711Z"
   },
   {
    "duration": 247,
    "start_time": "2022-08-10T18:49:52.790Z"
   },
   {
    "duration": 24,
    "start_time": "2022-08-10T18:52:27.432Z"
   },
   {
    "duration": 37,
    "start_time": "2022-08-10T18:52:35.913Z"
   },
   {
    "duration": 21,
    "start_time": "2022-08-10T18:57:06.586Z"
   },
   {
    "duration": 20,
    "start_time": "2022-08-10T18:58:11.366Z"
   },
   {
    "duration": 252,
    "start_time": "2022-08-10T19:16:54.602Z"
   },
   {
    "duration": 14,
    "start_time": "2022-08-10T19:19:12.010Z"
   },
   {
    "duration": 12,
    "start_time": "2022-08-10T19:19:59.351Z"
   },
   {
    "duration": 222,
    "start_time": "2022-08-10T19:27:58.873Z"
   },
   {
    "duration": 284,
    "start_time": "2022-08-10T19:28:25.303Z"
   },
   {
    "duration": 362,
    "start_time": "2022-08-10T19:31:40.873Z"
   },
   {
    "duration": 259,
    "start_time": "2022-08-10T19:32:42.162Z"
   },
   {
    "duration": 18,
    "start_time": "2022-08-10T19:33:34.043Z"
   },
   {
    "duration": 28,
    "start_time": "2022-08-10T19:40:32.296Z"
   },
   {
    "duration": 1266,
    "start_time": "2022-08-10T19:41:10.946Z"
   },
   {
    "duration": 12,
    "start_time": "2022-08-10T19:41:17.271Z"
   },
   {
    "duration": 1319,
    "start_time": "2022-08-10T21:21:36.695Z"
   },
   {
    "duration": 935,
    "start_time": "2022-08-10T21:21:38.016Z"
   },
   {
    "duration": 55,
    "start_time": "2022-08-10T21:21:38.958Z"
   },
   {
    "duration": 85,
    "start_time": "2022-08-10T21:21:39.015Z"
   },
   {
    "duration": 114,
    "start_time": "2022-08-10T21:21:39.103Z"
   },
   {
    "duration": 8,
    "start_time": "2022-08-10T21:21:39.219Z"
   },
   {
    "duration": 63,
    "start_time": "2022-08-10T21:21:39.238Z"
   },
   {
    "duration": 26,
    "start_time": "2022-08-10T21:21:39.303Z"
   },
   {
    "duration": 3,
    "start_time": "2022-08-10T21:21:39.331Z"
   },
   {
    "duration": 59,
    "start_time": "2022-08-10T21:21:39.336Z"
   },
   {
    "duration": 6,
    "start_time": "2022-08-10T21:21:39.396Z"
   },
   {
    "duration": 31,
    "start_time": "2022-08-10T21:21:39.403Z"
   },
   {
    "duration": 24,
    "start_time": "2022-08-10T21:21:39.436Z"
   },
   {
    "duration": 42,
    "start_time": "2022-08-10T21:21:39.470Z"
   },
   {
    "duration": 5,
    "start_time": "2022-08-10T21:21:39.513Z"
   },
   {
    "duration": 36,
    "start_time": "2022-08-10T21:21:39.520Z"
   },
   {
    "duration": 73,
    "start_time": "2022-08-10T21:21:39.562Z"
   },
   {
    "duration": 83,
    "start_time": "2022-08-10T21:21:39.636Z"
   },
   {
    "duration": 4,
    "start_time": "2022-08-10T21:21:39.721Z"
   },
   {
    "duration": 9,
    "start_time": "2022-08-10T21:21:39.726Z"
   },
   {
    "duration": 36,
    "start_time": "2022-08-10T21:21:39.737Z"
   },
   {
    "duration": 10,
    "start_time": "2022-08-10T21:21:39.774Z"
   },
   {
    "duration": 188,
    "start_time": "2022-08-10T21:21:39.785Z"
   },
   {
    "duration": 7,
    "start_time": "2022-08-10T21:21:39.975Z"
   },
   {
    "duration": 33,
    "start_time": "2022-08-10T21:21:39.983Z"
   },
   {
    "duration": 55,
    "start_time": "2022-08-10T21:21:40.038Z"
   },
   {
    "duration": 101,
    "start_time": "2022-08-10T21:21:40.094Z"
   },
   {
    "duration": 34,
    "start_time": "2022-08-10T21:21:40.196Z"
   },
   {
    "duration": 14,
    "start_time": "2022-08-10T21:21:40.231Z"
   },
   {
    "duration": 57,
    "start_time": "2022-08-10T21:21:40.248Z"
   },
   {
    "duration": 21,
    "start_time": "2022-08-10T21:21:40.307Z"
   },
   {
    "duration": 327,
    "start_time": "2022-08-10T21:21:40.330Z"
   },
   {
    "duration": 418,
    "start_time": "2022-08-10T21:21:40.658Z"
   },
   {
    "duration": 1464,
    "start_time": "2022-08-17T21:20:30.383Z"
   },
   {
    "duration": 740,
    "start_time": "2022-08-17T21:20:31.849Z"
   },
   {
    "duration": 40,
    "start_time": "2022-08-17T21:20:32.591Z"
   },
   {
    "duration": 80,
    "start_time": "2022-08-17T21:20:32.633Z"
   },
   {
    "duration": 94,
    "start_time": "2022-08-17T21:20:32.714Z"
   },
   {
    "duration": 8,
    "start_time": "2022-08-17T21:20:32.810Z"
   },
   {
    "duration": 21,
    "start_time": "2022-08-17T21:20:32.819Z"
   },
   {
    "duration": 31,
    "start_time": "2022-08-17T21:20:32.841Z"
   },
   {
    "duration": 4,
    "start_time": "2022-08-17T21:20:32.892Z"
   },
   {
    "duration": 26,
    "start_time": "2022-08-17T21:20:32.899Z"
   },
   {
    "duration": 7,
    "start_time": "2022-08-17T21:20:32.927Z"
   },
   {
    "duration": 32,
    "start_time": "2022-08-17T21:20:32.935Z"
   },
   {
    "duration": 38,
    "start_time": "2022-08-17T21:20:32.969Z"
   },
   {
    "duration": 35,
    "start_time": "2022-08-17T21:20:33.008Z"
   },
   {
    "duration": 6,
    "start_time": "2022-08-17T21:20:33.044Z"
   },
   {
    "duration": 49,
    "start_time": "2022-08-17T21:20:33.051Z"
   },
   {
    "duration": 67,
    "start_time": "2022-08-17T21:20:33.102Z"
   },
   {
    "duration": 86,
    "start_time": "2022-08-17T21:20:33.171Z"
   },
   {
    "duration": 5,
    "start_time": "2022-08-17T21:20:33.259Z"
   },
   {
    "duration": 9,
    "start_time": "2022-08-17T21:20:33.266Z"
   },
   {
    "duration": 6,
    "start_time": "2022-08-17T21:20:33.293Z"
   },
   {
    "duration": 7,
    "start_time": "2022-08-17T21:20:33.301Z"
   },
   {
    "duration": 174,
    "start_time": "2022-08-17T21:20:33.309Z"
   },
   {
    "duration": 6,
    "start_time": "2022-08-17T21:20:33.485Z"
   },
   {
    "duration": 28,
    "start_time": "2022-08-17T21:20:33.493Z"
   },
   {
    "duration": 85,
    "start_time": "2022-08-17T21:20:33.522Z"
   },
   {
    "duration": 46,
    "start_time": "2022-08-17T21:20:33.608Z"
   },
   {
    "duration": 36,
    "start_time": "2022-08-17T21:20:33.692Z"
   },
   {
    "duration": 5,
    "start_time": "2022-08-17T21:20:33.730Z"
   },
   {
    "duration": 19,
    "start_time": "2022-08-17T21:20:33.736Z"
   },
   {
    "duration": 41,
    "start_time": "2022-08-17T21:20:33.756Z"
   },
   {
    "duration": 284,
    "start_time": "2022-08-17T21:20:33.799Z"
   },
   {
    "duration": 370,
    "start_time": "2022-08-17T21:20:34.093Z"
   },
   {
    "duration": 150,
    "start_time": "2022-08-17T21:20:59.024Z"
   },
   {
    "duration": 8,
    "start_time": "2022-08-17T21:22:29.063Z"
   },
   {
    "duration": 25,
    "start_time": "2022-08-17T21:22:39.057Z"
   },
   {
    "duration": 108,
    "start_time": "2022-08-17T21:39:54.572Z"
   }
  ],
  "kernelspec": {
   "display_name": "Python 3",
   "language": "python",
   "name": "python3"
  },
  "language_info": {
   "codemirror_mode": {
    "name": "ipython",
    "version": 3
   },
   "file_extension": ".py",
   "mimetype": "text/x-python",
   "name": "python",
   "nbconvert_exporter": "python",
   "pygments_lexer": "ipython3",
   "version": "3.8.8"
  },
  "toc": {
   "base_numbering": 1,
   "nav_menu": {},
   "number_sections": true,
   "sideBar": true,
   "skip_h1_title": true,
   "title_cell": "Table of Contents",
   "title_sidebar": "Contents",
   "toc_cell": false,
   "toc_position": {},
   "toc_section_display": true,
   "toc_window_display": false
  }
 },
 "nbformat": 4,
 "nbformat_minor": 2
}
