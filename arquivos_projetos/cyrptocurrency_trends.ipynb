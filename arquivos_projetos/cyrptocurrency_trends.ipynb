{
 "cells": [
  {
   "cell_type": "markdown",
   "id": "8299bfae",
   "metadata": {},
   "source": [
    "# Cryptotrending: há relação entre pesquisas por criptomoedas e seus preços?\n",
    "\n",
    "No mercado de capitais há uma metáfora chamada de _\"shoeshine boy indicator\"_, ou \"indicador do garoto engraxate\" em português. Ela surgiu na história contada por Joseph Patrick Kennedy (o pai do presidente norte-americano JFK), que diz que conseguiu prever a crise no mercado de ações de 1929 devido a uma intuição que sentiu ao receber dicas de ações do garoto que engraxava seus sapatos. Com o passar do tempo e a popularização da história, a expressão passou a ser usada por investidores e analistas quando certas tendências de investimento se tornavam conhecidas a ponto de pessoas que não tinham familiaridade alguma com finanças começarem a se interessar por elas. Esse momento, segundo alguns, indicava que era hora de sair desse mercado, porque quando pessoas distantes dos investimentos começavam a investir, sinalizava que não havia mais quem comprar o ativo, e que uma crise (ou _\"bear market\"_) era iminente.\n",
    "\n",
    "Hoje em dia há quem diga que esse indicador não funciona mais, e que certas tendências de investimentos são permanentes, mesmo que pessoas pouco familiarizadas com finanças conheçam e invistam nos ativos. Independente do \"shoeshine boy indicator\" ser funcional ou não, quem costuma investir ou acompanha os mercados financeiros já deve ter notado uma relação entre o preço de um ativo e sua popularidade. Mercados em alta (ou _\"bull markets\"_ ) atraem muitos novos investidores, e esse fenômeno social tem um impacto no quanto se fala sobre essas opções de investimento. Ou, talvez, o contrário seja verdade: a popularidade de um ativo novo atrai novos investidores, que pressionam os preços para cima. Possivelmente, acontece uma mistura dos dois efeitos. Você com certeza já ouviu falar sobre **Bitcoin**. Se for um pouco mais atento a tecnologia, deve conhecer também a rede Ethereum e sua criptomoeda **Ether**. Essas informações podem ter chegado até você por pessoas que não trabalham no mercado financeiro, ou que, até pouco tempo, não investiam em nada. Nesse mesmo período, o preço do Bitcoin disparou de pouco mais de 100 dólares em Abril de 2013 para mais de 4000 em Novembro de 2018. O que causou esse salto no preço é uma questão complexa, mas que houve uma relação entre a popularidade e o preço parece ser bem claro.\n",
    "\n",
    "Para testar a relação entre popularidade e preços de criptoativos, vamos comparar neste projeto a variação de preço de duas das principais criptomoedas, Bitcoin (BTC) e Ether (ETH), com os volumes transacionados e com suas taxas de pesquisa do Google Trends. Se por um lado não é possível afirmar uma relação de causalidade entre essas variáveis, é interessante observar como elas se correlacionam. Para isso utilizaremos o conjunto de dados [\"Cryptocurrency Market Data\"](https://www.kaggle.com/datasets/jessevent/all-crypto-currencies) com dados sobre preços de abertura, fechamento, máximo, mínimo, volume e capitalização diários de criptomoedas, dispobilizado no Kaggle, cobrindo o périodo de 28/04/2013 até 01/11/2018. Os dados de pesquisa extraímos do site [Google Trends](https://trends.google.com.br/trends/) as taxas de pesquisas mensais das duas criptomoedas, o período disponibilizado é de Janeiro de 2004 até o mês atual."
   ]
  },
  {
   "cell_type": "markdown",
   "id": "c767d8c4",
   "metadata": {},
   "source": [
    "## Pré-processamento dos dados\n",
    "\n",
    "Vamos começar importando algumas bibliotecas que serão úteis em nossa análise."
   ]
  },
  {
   "cell_type": "code",
   "execution_count": 1,
   "id": "19a3265f",
   "metadata": {},
   "outputs": [],
   "source": [
    "# pandas e datetime para criação e manipulação de DataFrames\n",
    "import pandas as pd\n",
    "import datetime as dt\n",
    "\n",
    "# matplotlib, seaborn e plotly para criação de diagramas e gráficos\n",
    "import matplotlib.pyplot as plt\n",
    "import seaborn as sns\n",
    "from plotly import graph_objects as go"
   ]
  },
  {
   "cell_type": "markdown",
   "id": "ecd2e158",
   "metadata": {},
   "source": [
    "Agora vamos carregar os dados das tendências de pesquisa de Bitcoin e Ether nos DataFrames ``btc_gt`` e ``eth_gt``. É importante esclarecer que os números das taxas de pesquisa são relativos, de modo que o período com mais pesquisas ganha o valor de 100 e os outros valores são calculados em relação ao número de pesquisas desse mês."
   ]
  },
  {
   "cell_type": "code",
   "execution_count": 2,
   "id": "74068744",
   "metadata": {},
   "outputs": [],
   "source": [
    "# Carregando os dados das pesquisas sobre Bitcoin\n",
    "btc_gt = pd.read_csv('C:/Users/atlas/documents/projetos_dados/datasets/bitcoin_trends.csv')\n",
    "\n",
    "# Carregando os dados das pesquisas sobre Ether\n",
    "eth_gt = pd.read_csv('C:/Users/atlas/documents/projetos_dados/datasets/ethereum_trends.csv')"
   ]
  },
  {
   "cell_type": "markdown",
   "id": "8dcd1001",
   "metadata": {},
   "source": [
    "Vejamos como ficaram nossas tabelas:"
   ]
  },
  {
   "cell_type": "code",
   "execution_count": 3,
   "id": "e40e9a41",
   "metadata": {},
   "outputs": [
    {
     "data": {
      "text/html": [
       "<div>\n",
       "<style scoped>\n",
       "    .dataframe tbody tr th:only-of-type {\n",
       "        vertical-align: middle;\n",
       "    }\n",
       "\n",
       "    .dataframe tbody tr th {\n",
       "        vertical-align: top;\n",
       "    }\n",
       "\n",
       "    .dataframe thead th {\n",
       "        text-align: right;\n",
       "    }\n",
       "</style>\n",
       "<table border=\"1\" class=\"dataframe\">\n",
       "  <thead>\n",
       "    <tr style=\"text-align: right;\">\n",
       "      <th></th>\n",
       "      <th>Categoria: Todas as categorias</th>\n",
       "    </tr>\n",
       "  </thead>\n",
       "  <tbody>\n",
       "    <tr>\n",
       "      <th>Mês</th>\n",
       "      <td>Bitcoin: (Todo o mundo)</td>\n",
       "    </tr>\n",
       "    <tr>\n",
       "      <th>2004-01</th>\n",
       "      <td>1</td>\n",
       "    </tr>\n",
       "    <tr>\n",
       "      <th>2004-02</th>\n",
       "      <td>1</td>\n",
       "    </tr>\n",
       "    <tr>\n",
       "      <th>2004-03</th>\n",
       "      <td>1</td>\n",
       "    </tr>\n",
       "    <tr>\n",
       "      <th>2004-04</th>\n",
       "      <td>1</td>\n",
       "    </tr>\n",
       "  </tbody>\n",
       "</table>\n",
       "</div>"
      ],
      "text/plain": [
       "        Categoria: Todas as categorias\n",
       "Mês            Bitcoin: (Todo o mundo)\n",
       "2004-01                              1\n",
       "2004-02                              1\n",
       "2004-03                              1\n",
       "2004-04                              1"
      ]
     },
     "execution_count": 3,
     "metadata": {},
     "output_type": "execute_result"
    }
   ],
   "source": [
    "# As primeiras linhas de \"btc_gt\"\n",
    "btc_gt.head()"
   ]
  },
  {
   "cell_type": "code",
   "execution_count": 4,
   "id": "2969a3a5",
   "metadata": {},
   "outputs": [
    {
     "data": {
      "text/html": [
       "<div>\n",
       "<style scoped>\n",
       "    .dataframe tbody tr th:only-of-type {\n",
       "        vertical-align: middle;\n",
       "    }\n",
       "\n",
       "    .dataframe tbody tr th {\n",
       "        vertical-align: top;\n",
       "    }\n",
       "\n",
       "    .dataframe thead th {\n",
       "        text-align: right;\n",
       "    }\n",
       "</style>\n",
       "<table border=\"1\" class=\"dataframe\">\n",
       "  <thead>\n",
       "    <tr style=\"text-align: right;\">\n",
       "      <th></th>\n",
       "      <th>Categoria: Todas as categorias</th>\n",
       "    </tr>\n",
       "  </thead>\n",
       "  <tbody>\n",
       "    <tr>\n",
       "      <th>Mês</th>\n",
       "      <td>Ethereum: (Todo o mundo)</td>\n",
       "    </tr>\n",
       "    <tr>\n",
       "      <th>2004-01</th>\n",
       "      <td>3</td>\n",
       "    </tr>\n",
       "    <tr>\n",
       "      <th>2004-02</th>\n",
       "      <td>3</td>\n",
       "    </tr>\n",
       "    <tr>\n",
       "      <th>2004-03</th>\n",
       "      <td>3</td>\n",
       "    </tr>\n",
       "    <tr>\n",
       "      <th>2004-04</th>\n",
       "      <td>3</td>\n",
       "    </tr>\n",
       "  </tbody>\n",
       "</table>\n",
       "</div>"
      ],
      "text/plain": [
       "        Categoria: Todas as categorias\n",
       "Mês           Ethereum: (Todo o mundo)\n",
       "2004-01                              3\n",
       "2004-02                              3\n",
       "2004-03                              3\n",
       "2004-04                              3"
      ]
     },
     "execution_count": 4,
     "metadata": {},
     "output_type": "execute_result"
    }
   ],
   "source": [
    "# As primeiras linhas de \"eth_gt\"\n",
    "eth_gt.head()"
   ]
  },
  {
   "cell_type": "markdown",
   "id": "42895d28",
   "metadata": {},
   "source": [
    "Vemos que existem duas colunas nas tabelas: o índice e a coluna \"Categoria: Todas as categorias\". A primeira linha no entanto contém os nomes das colunas, \"Mês\" e o nome da criptomoeda seguido pelo local. Precisamos transformar o índice em uma coluna e renomear as colunas. Em seguida, vamos deletar a primeira linha. Por fim, vamos unir as duas tabelas em uma só."
   ]
  },
  {
   "cell_type": "code",
   "execution_count": 5,
   "id": "a8a0df1f",
   "metadata": {},
   "outputs": [
    {
     "data": {
      "text/html": [
       "<div>\n",
       "<style scoped>\n",
       "    .dataframe tbody tr th:only-of-type {\n",
       "        vertical-align: middle;\n",
       "    }\n",
       "\n",
       "    .dataframe tbody tr th {\n",
       "        vertical-align: top;\n",
       "    }\n",
       "\n",
       "    .dataframe thead th {\n",
       "        text-align: right;\n",
       "    }\n",
       "</style>\n",
       "<table border=\"1\" class=\"dataframe\">\n",
       "  <thead>\n",
       "    <tr style=\"text-align: right;\">\n",
       "      <th></th>\n",
       "      <th>mês</th>\n",
       "      <th>btc_trend</th>\n",
       "      <th>eth_trend</th>\n",
       "    </tr>\n",
       "  </thead>\n",
       "  <tbody>\n",
       "    <tr>\n",
       "      <th>0</th>\n",
       "      <td>2004-01</td>\n",
       "      <td>1</td>\n",
       "      <td>3</td>\n",
       "    </tr>\n",
       "    <tr>\n",
       "      <th>1</th>\n",
       "      <td>2004-02</td>\n",
       "      <td>1</td>\n",
       "      <td>3</td>\n",
       "    </tr>\n",
       "    <tr>\n",
       "      <th>2</th>\n",
       "      <td>2004-03</td>\n",
       "      <td>1</td>\n",
       "      <td>3</td>\n",
       "    </tr>\n",
       "    <tr>\n",
       "      <th>3</th>\n",
       "      <td>2004-04</td>\n",
       "      <td>1</td>\n",
       "      <td>3</td>\n",
       "    </tr>\n",
       "    <tr>\n",
       "      <th>4</th>\n",
       "      <td>2004-05</td>\n",
       "      <td>1</td>\n",
       "      <td>3</td>\n",
       "    </tr>\n",
       "  </tbody>\n",
       "</table>\n",
       "</div>"
      ],
      "text/plain": [
       "       mês btc_trend eth_trend\n",
       "0  2004-01         1         3\n",
       "1  2004-02         1         3\n",
       "2  2004-03         1         3\n",
       "3  2004-04         1         3\n",
       "4  2004-05         1         3"
      ]
     },
     "execution_count": 5,
     "metadata": {},
     "output_type": "execute_result"
    }
   ],
   "source": [
    "# Resetando os índices das tabelas\n",
    "btc_gt.reset_index(inplace=True)\n",
    "eth_gt.reset_index(inplace=True)\n",
    "\n",
    "# Renomeando as colunas\n",
    "btc_gt.columns = ['mês', 'btc_trend']\n",
    "eth_gt.columns = ['mês', 'eth_trend']\n",
    "\n",
    "# Excluindo a primeira linha\n",
    "btc_gt.drop(axis=0, index=0, inplace=True)\n",
    "eth_gt.drop(axis=0, index=0, inplace=True)\n",
    "\n",
    "# Unindo as tabelas\n",
    "gt = btc_gt.merge(eth_gt, on='mês', how='outer')\n",
    "\n",
    "# Imprimindo as primeiras linhas\n",
    "gt.head()"
   ]
  },
  {
   "cell_type": "markdown",
   "id": "72b44c03",
   "metadata": {},
   "source": [
    "Agora vamos conferir as informações sobre a tabela resultante."
   ]
  },
  {
   "cell_type": "code",
   "execution_count": 6,
   "id": "6fed19e7",
   "metadata": {},
   "outputs": [
    {
     "name": "stdout",
     "output_type": "stream",
     "text": [
      "<class 'pandas.core.frame.DataFrame'>\n",
      "Int64Index: 227 entries, 0 to 226\n",
      "Data columns (total 3 columns):\n",
      " #   Column     Non-Null Count  Dtype \n",
      "---  ------     --------------  ----- \n",
      " 0   mês        227 non-null    object\n",
      " 1   btc_trend  227 non-null    object\n",
      " 2   eth_trend  227 non-null    object\n",
      "dtypes: object(3)\n",
      "memory usage: 7.1+ KB\n"
     ]
    }
   ],
   "source": [
    "gt.info()"
   ]
  },
  {
   "cell_type": "markdown",
   "id": "6d187fc0",
   "metadata": {},
   "source": [
    "A coluna \"mês\" está formatada como string, vamos convertê-la para \"datetime\". As colunas com as informações sobre as tendências de pesquisa também estão como string, vamos convertê-las para números inteiros (\"int\"). Mas antes, vamos conferir se há algum valor irregular nessas colunas, começando pela coluna \"mês\"."
   ]
  },
  {
   "cell_type": "code",
   "execution_count": 7,
   "id": "a4d8f51b",
   "metadata": {},
   "outputs": [
    {
     "data": {
      "text/plain": [
       "array(['2004-01', '2004-02', '2004-03', '2004-04', '2004-05', '2004-06',\n",
       "       '2004-07', '2004-08', '2004-09', '2004-10', '2004-11', '2004-12',\n",
       "       '2005-01', '2005-02', '2005-03', '2005-04', '2005-05', '2005-06',\n",
       "       '2005-07', '2005-08', '2005-09', '2005-10', '2005-11', '2005-12',\n",
       "       '2006-01', '2006-02', '2006-03', '2006-04', '2006-05', '2006-06',\n",
       "       '2006-07', '2006-08', '2006-09', '2006-10', '2006-11', '2006-12',\n",
       "       '2007-01', '2007-02', '2007-03', '2007-04', '2007-05', '2007-06',\n",
       "       '2007-07', '2007-08', '2007-09', '2007-10', '2007-11', '2007-12',\n",
       "       '2008-01', '2008-02', '2008-03', '2008-04', '2008-05', '2008-06',\n",
       "       '2008-07', '2008-08', '2008-09', '2008-10', '2008-11', '2008-12',\n",
       "       '2009-01', '2009-02', '2009-03', '2009-04', '2009-05', '2009-06',\n",
       "       '2009-07', '2009-08', '2009-09', '2009-10', '2009-11', '2009-12',\n",
       "       '2010-01', '2010-02', '2010-03', '2010-04', '2010-05', '2010-06',\n",
       "       '2010-07', '2010-08', '2010-09', '2010-10', '2010-11', '2010-12',\n",
       "       '2011-01', '2011-02', '2011-03', '2011-04', '2011-05', '2011-06',\n",
       "       '2011-07', '2011-08', '2011-09', '2011-10', '2011-11', '2011-12',\n",
       "       '2012-01', '2012-02', '2012-03', '2012-04', '2012-05', '2012-06',\n",
       "       '2012-07', '2012-08', '2012-09', '2012-10', '2012-11', '2012-12',\n",
       "       '2013-01', '2013-02', '2013-03', '2013-04', '2013-05', '2013-06',\n",
       "       '2013-07', '2013-08', '2013-09', '2013-10', '2013-11', '2013-12',\n",
       "       '2014-01', '2014-02', '2014-03', '2014-04', '2014-05', '2014-06',\n",
       "       '2014-07', '2014-08', '2014-09', '2014-10', '2014-11', '2014-12',\n",
       "       '2015-01', '2015-02', '2015-03', '2015-04', '2015-05', '2015-06',\n",
       "       '2015-07', '2015-08', '2015-09', '2015-10', '2015-11', '2015-12',\n",
       "       '2016-01', '2016-02', '2016-03', '2016-04', '2016-05', '2016-06',\n",
       "       '2016-07', '2016-08', '2016-09', '2016-10', '2016-11', '2016-12',\n",
       "       '2017-01', '2017-02', '2017-03', '2017-04', '2017-05', '2017-06',\n",
       "       '2017-07', '2017-08', '2017-09', '2017-10', '2017-11', '2017-12',\n",
       "       '2018-01', '2018-02', '2018-03', '2018-04', '2018-05', '2018-06',\n",
       "       '2018-07', '2018-08', '2018-09', '2018-10', '2018-11', '2018-12',\n",
       "       '2019-01', '2019-02', '2019-03', '2019-04', '2019-05', '2019-06',\n",
       "       '2019-07', '2019-08', '2019-09', '2019-10', '2019-11', '2019-12',\n",
       "       '2020-01', '2020-02', '2020-03', '2020-04', '2020-05', '2020-06',\n",
       "       '2020-07', '2020-08', '2020-09', '2020-10', '2020-11', '2020-12',\n",
       "       '2021-01', '2021-02', '2021-03', '2021-04', '2021-05', '2021-06',\n",
       "       '2021-07', '2021-08', '2021-09', '2021-10', '2021-11', '2021-12',\n",
       "       '2022-01', '2022-02', '2022-03', '2022-04', '2022-05', '2022-06',\n",
       "       '2022-07', '2022-08', '2022-09', '2022-10', '2022-11'],\n",
       "      dtype=object)"
      ]
     },
     "execution_count": 7,
     "metadata": {},
     "output_type": "execute_result"
    }
   ],
   "source": [
    "gt['mês'].unique()"
   ]
  },
  {
   "cell_type": "markdown",
   "id": "27ce65f9",
   "metadata": {},
   "source": [
    "Tudo certo com a coluna \"mês\". Vamos conferir agora a coluna \"btc_trend\":"
   ]
  },
  {
   "cell_type": "code",
   "execution_count": 8,
   "id": "2b2fd6dd",
   "metadata": {},
   "outputs": [
    {
     "data": {
      "text/plain": [
       "array(['1', '<1', '3', '8', '2', '4', '11', '12', '9', '7', '5', '6',\n",
       "       '16', '14', '21', '22', '23', '44', '100', '58', '40', '24', '19',\n",
       "       '15', '13', '10', '18', '77', '17', '26', '33', '67', '51', '54',\n",
       "       '69', '48', '35', '38', '37', '36', '47', '34', '25', '29'],\n",
       "      dtype=object)"
      ]
     },
     "execution_count": 8,
     "metadata": {},
     "output_type": "execute_result"
    }
   ],
   "source": [
    "gt['btc_trend'].unique()"
   ]
  },
  {
   "cell_type": "markdown",
   "id": "6b94713a",
   "metadata": {},
   "source": [
    "Vemos que há um \"<1\" entre os valores. Significa um valor relativo menor que 1. Como não sabemos o valor exato, vamos transformar esse valor em \"0\", indicando que o mês teve um total de pesquisas menor que 1."
   ]
  },
  {
   "cell_type": "code",
   "execution_count": 9,
   "id": "c4f6014f",
   "metadata": {},
   "outputs": [],
   "source": [
    "gt.loc[(gt['btc_trend']=='<1'), 'btc_trend'] = 0"
   ]
  },
  {
   "cell_type": "markdown",
   "id": "095798fc",
   "metadata": {},
   "source": [
    "Vejamos se há algum valor irregular na coluna \"eth_trend\"."
   ]
  },
  {
   "cell_type": "code",
   "execution_count": 10,
   "id": "47efefb2",
   "metadata": {},
   "outputs": [
    {
     "data": {
      "text/plain": [
       "array(['3', '2', '1', '4', '6', '5', '15', '31', '20', '18', '14', '23',\n",
       "       '44', '43', '13', '11', '12', '8', '7', '9', '10', '16', '53',\n",
       "       '60', '39', '54', '100', '45', '37', '48', '46', '55', '61', '51',\n",
       "       '38', '33', '34', '25'], dtype=object)"
      ]
     },
     "execution_count": 10,
     "metadata": {},
     "output_type": "execute_result"
    }
   ],
   "source": [
    "gt['eth_trend'].unique()"
   ]
  },
  {
   "cell_type": "markdown",
   "id": "c879c175",
   "metadata": {},
   "source": [
    "Apenas números, podemos partir para a conversão das colunas."
   ]
  },
  {
   "cell_type": "code",
   "execution_count": 11,
   "id": "fcd00c80",
   "metadata": {},
   "outputs": [
    {
     "name": "stdout",
     "output_type": "stream",
     "text": [
      "<class 'pandas.core.frame.DataFrame'>\n",
      "Int64Index: 227 entries, 0 to 226\n",
      "Data columns (total 3 columns):\n",
      " #   Column     Non-Null Count  Dtype         \n",
      "---  ------     --------------  -----         \n",
      " 0   mês        227 non-null    datetime64[ns]\n",
      " 1   btc_trend  227 non-null    int32         \n",
      " 2   eth_trend  227 non-null    int32         \n",
      "dtypes: datetime64[ns](1), int32(2)\n",
      "memory usage: 5.3 KB\n"
     ]
    }
   ],
   "source": [
    "# Convertendo as colunas\n",
    "gt['mês'] = gt['mês'].astype('datetime64[ns]')\n",
    "gt['btc_trend'] = gt['btc_trend'].astype('int')\n",
    "gt['eth_trend'] = gt['eth_trend'].astype('int')\n",
    "\n",
    "# Reconferindo as informações\n",
    "gt.info()"
   ]
  },
  {
   "cell_type": "markdown",
   "id": "6f82f150",
   "metadata": {},
   "source": [
    "E vamos ver como ficaram as primeiras linhas:"
   ]
  },
  {
   "cell_type": "code",
   "execution_count": 12,
   "id": "1f9abc61",
   "metadata": {},
   "outputs": [
    {
     "data": {
      "text/html": [
       "<div>\n",
       "<style scoped>\n",
       "    .dataframe tbody tr th:only-of-type {\n",
       "        vertical-align: middle;\n",
       "    }\n",
       "\n",
       "    .dataframe tbody tr th {\n",
       "        vertical-align: top;\n",
       "    }\n",
       "\n",
       "    .dataframe thead th {\n",
       "        text-align: right;\n",
       "    }\n",
       "</style>\n",
       "<table border=\"1\" class=\"dataframe\">\n",
       "  <thead>\n",
       "    <tr style=\"text-align: right;\">\n",
       "      <th></th>\n",
       "      <th>mês</th>\n",
       "      <th>btc_trend</th>\n",
       "      <th>eth_trend</th>\n",
       "    </tr>\n",
       "  </thead>\n",
       "  <tbody>\n",
       "    <tr>\n",
       "      <th>0</th>\n",
       "      <td>2004-01-01</td>\n",
       "      <td>1</td>\n",
       "      <td>3</td>\n",
       "    </tr>\n",
       "    <tr>\n",
       "      <th>1</th>\n",
       "      <td>2004-02-01</td>\n",
       "      <td>1</td>\n",
       "      <td>3</td>\n",
       "    </tr>\n",
       "    <tr>\n",
       "      <th>2</th>\n",
       "      <td>2004-03-01</td>\n",
       "      <td>1</td>\n",
       "      <td>3</td>\n",
       "    </tr>\n",
       "    <tr>\n",
       "      <th>3</th>\n",
       "      <td>2004-04-01</td>\n",
       "      <td>1</td>\n",
       "      <td>3</td>\n",
       "    </tr>\n",
       "    <tr>\n",
       "      <th>4</th>\n",
       "      <td>2004-05-01</td>\n",
       "      <td>1</td>\n",
       "      <td>3</td>\n",
       "    </tr>\n",
       "  </tbody>\n",
       "</table>\n",
       "</div>"
      ],
      "text/plain": [
       "         mês  btc_trend  eth_trend\n",
       "0 2004-01-01          1          3\n",
       "1 2004-02-01          1          3\n",
       "2 2004-03-01          1          3\n",
       "3 2004-04-01          1          3\n",
       "4 2004-05-01          1          3"
      ]
     },
     "execution_count": 12,
     "metadata": {},
     "output_type": "execute_result"
    }
   ],
   "source": [
    "gt.head()"
   ]
  },
  {
   "cell_type": "markdown",
   "id": "6440e8f1",
   "metadata": {},
   "source": [
    "Parece que não temos mais problemas por aqui. Vamos carregar agora os dados sobre as transações com criptomoedas."
   ]
  },
  {
   "cell_type": "code",
   "execution_count": 13,
   "id": "e8b6df4f",
   "metadata": {},
   "outputs": [
    {
     "data": {
      "text/html": [
       "<div>\n",
       "<style scoped>\n",
       "    .dataframe tbody tr th:only-of-type {\n",
       "        vertical-align: middle;\n",
       "    }\n",
       "\n",
       "    .dataframe tbody tr th {\n",
       "        vertical-align: top;\n",
       "    }\n",
       "\n",
       "    .dataframe thead th {\n",
       "        text-align: right;\n",
       "    }\n",
       "</style>\n",
       "<table border=\"1\" class=\"dataframe\">\n",
       "  <thead>\n",
       "    <tr style=\"text-align: right;\">\n",
       "      <th></th>\n",
       "      <th>slug</th>\n",
       "      <th>symbol</th>\n",
       "      <th>name</th>\n",
       "      <th>date</th>\n",
       "      <th>ranknow</th>\n",
       "      <th>open</th>\n",
       "      <th>high</th>\n",
       "      <th>low</th>\n",
       "      <th>close</th>\n",
       "      <th>volume</th>\n",
       "      <th>market</th>\n",
       "      <th>close_ratio</th>\n",
       "      <th>spread</th>\n",
       "    </tr>\n",
       "  </thead>\n",
       "  <tbody>\n",
       "    <tr>\n",
       "      <th>0</th>\n",
       "      <td>bitcoin</td>\n",
       "      <td>BTC</td>\n",
       "      <td>Bitcoin</td>\n",
       "      <td>2013-04-28</td>\n",
       "      <td>1</td>\n",
       "      <td>135.30</td>\n",
       "      <td>135.98</td>\n",
       "      <td>132.10</td>\n",
       "      <td>134.21</td>\n",
       "      <td>0.0</td>\n",
       "      <td>1.488567e+09</td>\n",
       "      <td>0.5438</td>\n",
       "      <td>3.88</td>\n",
       "    </tr>\n",
       "    <tr>\n",
       "      <th>1</th>\n",
       "      <td>bitcoin</td>\n",
       "      <td>BTC</td>\n",
       "      <td>Bitcoin</td>\n",
       "      <td>2013-04-29</td>\n",
       "      <td>1</td>\n",
       "      <td>134.44</td>\n",
       "      <td>147.49</td>\n",
       "      <td>134.00</td>\n",
       "      <td>144.54</td>\n",
       "      <td>0.0</td>\n",
       "      <td>1.603769e+09</td>\n",
       "      <td>0.7813</td>\n",
       "      <td>13.49</td>\n",
       "    </tr>\n",
       "    <tr>\n",
       "      <th>2</th>\n",
       "      <td>bitcoin</td>\n",
       "      <td>BTC</td>\n",
       "      <td>Bitcoin</td>\n",
       "      <td>2013-04-30</td>\n",
       "      <td>1</td>\n",
       "      <td>144.00</td>\n",
       "      <td>146.93</td>\n",
       "      <td>134.05</td>\n",
       "      <td>139.00</td>\n",
       "      <td>0.0</td>\n",
       "      <td>1.542813e+09</td>\n",
       "      <td>0.3843</td>\n",
       "      <td>12.88</td>\n",
       "    </tr>\n",
       "    <tr>\n",
       "      <th>3</th>\n",
       "      <td>bitcoin</td>\n",
       "      <td>BTC</td>\n",
       "      <td>Bitcoin</td>\n",
       "      <td>2013-05-01</td>\n",
       "      <td>1</td>\n",
       "      <td>139.00</td>\n",
       "      <td>139.89</td>\n",
       "      <td>107.72</td>\n",
       "      <td>116.99</td>\n",
       "      <td>0.0</td>\n",
       "      <td>1.298955e+09</td>\n",
       "      <td>0.2882</td>\n",
       "      <td>32.17</td>\n",
       "    </tr>\n",
       "    <tr>\n",
       "      <th>4</th>\n",
       "      <td>bitcoin</td>\n",
       "      <td>BTC</td>\n",
       "      <td>Bitcoin</td>\n",
       "      <td>2013-05-02</td>\n",
       "      <td>1</td>\n",
       "      <td>116.38</td>\n",
       "      <td>125.60</td>\n",
       "      <td>92.28</td>\n",
       "      <td>105.21</td>\n",
       "      <td>0.0</td>\n",
       "      <td>1.168517e+09</td>\n",
       "      <td>0.3881</td>\n",
       "      <td>33.32</td>\n",
       "    </tr>\n",
       "  </tbody>\n",
       "</table>\n",
       "</div>"
      ],
      "text/plain": [
       "      slug symbol     name        date  ranknow    open    high     low  \\\n",
       "0  bitcoin    BTC  Bitcoin  2013-04-28        1  135.30  135.98  132.10   \n",
       "1  bitcoin    BTC  Bitcoin  2013-04-29        1  134.44  147.49  134.00   \n",
       "2  bitcoin    BTC  Bitcoin  2013-04-30        1  144.00  146.93  134.05   \n",
       "3  bitcoin    BTC  Bitcoin  2013-05-01        1  139.00  139.89  107.72   \n",
       "4  bitcoin    BTC  Bitcoin  2013-05-02        1  116.38  125.60   92.28   \n",
       "\n",
       "    close  volume        market  close_ratio  spread  \n",
       "0  134.21     0.0  1.488567e+09       0.5438    3.88  \n",
       "1  144.54     0.0  1.603769e+09       0.7813   13.49  \n",
       "2  139.00     0.0  1.542813e+09       0.3843   12.88  \n",
       "3  116.99     0.0  1.298955e+09       0.2882   32.17  \n",
       "4  105.21     0.0  1.168517e+09       0.3881   33.32  "
      ]
     },
     "execution_count": 13,
     "metadata": {},
     "output_type": "execute_result"
    }
   ],
   "source": [
    "# Carregando os dados\n",
    "tsc = pd.read_csv('C:/Users/atlas/documents/projetos_dados/datasets/crypto-markets.csv')\n",
    "\n",
    "# Vendo as primeiras linhas da tabela\n",
    "tsc.head()"
   ]
  },
  {
   "cell_type": "markdown",
   "id": "7c8b9e01",
   "metadata": {},
   "source": [
    "Vamos ver as informações da tabela para saber se há valores ausentes ou algum irregularidde nos dados."
   ]
  },
  {
   "cell_type": "code",
   "execution_count": 14,
   "id": "12b3f547",
   "metadata": {},
   "outputs": [
    {
     "name": "stdout",
     "output_type": "stream",
     "text": [
      "<class 'pandas.core.frame.DataFrame'>\n",
      "RangeIndex: 942297 entries, 0 to 942296\n",
      "Data columns (total 13 columns):\n",
      " #   Column       Non-Null Count   Dtype  \n",
      "---  ------       --------------   -----  \n",
      " 0   slug         942297 non-null  object \n",
      " 1   symbol       942297 non-null  object \n",
      " 2   name         942297 non-null  object \n",
      " 3   date         942297 non-null  object \n",
      " 4   ranknow      942297 non-null  int64  \n",
      " 5   open         942297 non-null  float64\n",
      " 6   high         942297 non-null  float64\n",
      " 7   low          942297 non-null  float64\n",
      " 8   close        942297 non-null  float64\n",
      " 9   volume       942297 non-null  float64\n",
      " 10  market       942297 non-null  float64\n",
      " 11  close_ratio  942297 non-null  float64\n",
      " 12  spread       942297 non-null  float64\n",
      "dtypes: float64(8), int64(1), object(4)\n",
      "memory usage: 93.5+ MB\n"
     ]
    }
   ],
   "source": [
    "tsc.info()"
   ]
  },
  {
   "cell_type": "markdown",
   "id": "d4012e66",
   "metadata": {},
   "source": [
    "Não há valores ausentes em nossa tabela, mas a coluna \"date\" que contém a data das cotações está formatada como string. Vamos convertê-la e também criar uma coluna com o mês de cada negociação."
   ]
  },
  {
   "cell_type": "code",
   "execution_count": 15,
   "id": "281bd889",
   "metadata": {
    "scrolled": true
   },
   "outputs": [
    {
     "name": "stdout",
     "output_type": "stream",
     "text": [
      "<class 'pandas.core.frame.DataFrame'>\n",
      "RangeIndex: 942297 entries, 0 to 942296\n",
      "Data columns (total 14 columns):\n",
      " #   Column       Non-Null Count   Dtype         \n",
      "---  ------       --------------   -----         \n",
      " 0   slug         942297 non-null  object        \n",
      " 1   symbol       942297 non-null  object        \n",
      " 2   name         942297 non-null  object        \n",
      " 3   date         942297 non-null  datetime64[ns]\n",
      " 4   ranknow      942297 non-null  int64         \n",
      " 5   open         942297 non-null  float64       \n",
      " 6   high         942297 non-null  float64       \n",
      " 7   low          942297 non-null  float64       \n",
      " 8   close        942297 non-null  float64       \n",
      " 9   volume       942297 non-null  float64       \n",
      " 10  market       942297 non-null  float64       \n",
      " 11  close_ratio  942297 non-null  float64       \n",
      " 12  spread       942297 non-null  float64       \n",
      " 13  mês          942297 non-null  datetime64[ns]\n",
      "dtypes: datetime64[ns](2), float64(8), int64(1), object(3)\n",
      "memory usage: 100.6+ MB\n"
     ]
    }
   ],
   "source": [
    "# Convertendo a coluna\n",
    "tsc['date'] = tsc['date'].astype('datetime64[ns]')\n",
    "\n",
    "# Criando a coluna \"mês\"\n",
    "tsc['mês'] = tsc['date'].astype('datetime64[M]')\n",
    "\n",
    "# Conferindo as informações\n",
    "tsc.info()"
   ]
  },
  {
   "cell_type": "markdown",
   "id": "ba1fa2a1",
   "metadata": {},
   "source": [
    "Os formatos estão corretos agora, podemos começar nossa análise exploratória."
   ]
  },
  {
   "cell_type": "code",
   "execution_count": 16,
   "id": "035870f6",
   "metadata": {
    "scrolled": true
   },
   "outputs": [
    {
     "name": "stdout",
     "output_type": "stream",
     "text": [
      "<class 'pandas.core.frame.DataFrame'>\n",
      "Int64Index: 3253 entries, 0 to 5196\n",
      "Data columns (total 14 columns):\n",
      " #   Column       Non-Null Count  Dtype         \n",
      "---  ------       --------------  -----         \n",
      " 0   slug         3253 non-null   object        \n",
      " 1   symbol       3253 non-null   object        \n",
      " 2   name         3253 non-null   object        \n",
      " 3   date         3253 non-null   datetime64[ns]\n",
      " 4   ranknow      3253 non-null   int64         \n",
      " 5   open         3253 non-null   float64       \n",
      " 6   high         3253 non-null   float64       \n",
      " 7   low          3253 non-null   float64       \n",
      " 8   close        3253 non-null   float64       \n",
      " 9   volume       3253 non-null   float64       \n",
      " 10  market       3253 non-null   float64       \n",
      " 11  close_ratio  3253 non-null   float64       \n",
      " 12  spread       3253 non-null   float64       \n",
      " 13  mês          3253 non-null   datetime64[ns]\n",
      "dtypes: datetime64[ns](2), float64(8), int64(1), object(3)\n",
      "memory usage: 381.2+ KB\n"
     ]
    }
   ],
   "source": [
    "# Criando a fatia\n",
    "btc_eth = tsc[(tsc['symbol']=='BTC') | (tsc['symbol']=='ETH')]\n",
    "\n",
    "# Conferindo as informações\n",
    "btc_eth.info()"
   ]
  },
  {
   "cell_type": "markdown",
   "id": "e68e8a7a",
   "metadata": {},
   "source": [
    "## Análise exploratória de dados (EDA)"
   ]
  },
  {
   "cell_type": "markdown",
   "id": "503dddb3",
   "metadata": {},
   "source": [
    "Vamos iniciar nossa análise investigando o volume de Bitcoin e Ether em relação a todas os tokens em nosso dataset. Primeiro, vejamos em ordem quais as moedas mais negociadas do nosso conjunto:"
   ]
  },
  {
   "cell_type": "code",
   "execution_count": 17,
   "id": "6f315585",
   "metadata": {
    "scrolled": true
   },
   "outputs": [
    {
     "data": {
      "text/html": [
       "<div>\n",
       "<style scoped>\n",
       "    .dataframe tbody tr th:only-of-type {\n",
       "        vertical-align: middle;\n",
       "    }\n",
       "\n",
       "    .dataframe tbody tr th {\n",
       "        vertical-align: top;\n",
       "    }\n",
       "\n",
       "    .dataframe thead th {\n",
       "        text-align: right;\n",
       "    }\n",
       "</style>\n",
       "<table border=\"1\" class=\"dataframe\">\n",
       "  <thead>\n",
       "    <tr style=\"text-align: right;\">\n",
       "      <th></th>\n",
       "      <th>volume</th>\n",
       "    </tr>\n",
       "    <tr>\n",
       "      <th>symbol</th>\n",
       "      <th></th>\n",
       "    </tr>\n",
       "  </thead>\n",
       "  <tbody>\n",
       "    <tr>\n",
       "      <th>BTC</th>\n",
       "      <td>2.961191e+12</td>\n",
       "    </tr>\n",
       "    <tr>\n",
       "      <th>USDT</th>\n",
       "      <td>1.058689e+12</td>\n",
       "    </tr>\n",
       "    <tr>\n",
       "      <th>ETH</th>\n",
       "      <td>1.034702e+12</td>\n",
       "    </tr>\n",
       "    <tr>\n",
       "      <th>XRP</th>\n",
       "      <td>3.851715e+11</td>\n",
       "    </tr>\n",
       "    <tr>\n",
       "      <th>BCH</th>\n",
       "      <td>3.733380e+11</td>\n",
       "    </tr>\n",
       "  </tbody>\n",
       "</table>\n",
       "</div>"
      ],
      "text/plain": [
       "              volume\n",
       "symbol              \n",
       "BTC     2.961191e+12\n",
       "USDT    1.058689e+12\n",
       "ETH     1.034702e+12\n",
       "XRP     3.851715e+11\n",
       "BCH     3.733380e+11"
      ]
     },
     "execution_count": 17,
     "metadata": {},
     "output_type": "execute_result"
    }
   ],
   "source": [
    "tsc.groupby('symbol').agg({'volume':'sum'}).sort_values(by='volume', ascending=False).head()"
   ]
  },
  {
   "cell_type": "markdown",
   "id": "03bbbb6a",
   "metadata": {},
   "source": [
    "Temos Bitcoin disparado em primeiro lugar, seguido por Tether (USDT), uma _stablecoin_ que acompanha o valor do dólar e que é usada em diversas transações. Em seguida, com volume bem próximo, temos o Ether. As moedas seguintes tem volumes bem menos expressivos.\n",
    "\n",
    "Vamos analisar o volume total do Bitcoin e o percentual do total ao qual ele corresponde."
   ]
  },
  {
   "cell_type": "code",
   "execution_count": 18,
   "id": "3a13675f",
   "metadata": {},
   "outputs": [
    {
     "name": "stdout",
     "output_type": "stream",
     "text": [
      "Volume total de Bitcoin negociado no período: 2961191204703.0\n",
      "\n",
      "Percentual do volume de Bitcoin em relação ao volume total negociado: 36.04%\n"
     ]
    }
   ],
   "source": [
    "print('Volume total de Bitcoin negociado no período:', sum(tsc[(tsc['symbol']=='BTC')]['volume']))\n",
    "print()\n",
    "print('Percentual do volume de Bitcoin em relação ao volume total negociado: {0:.2f}%'.\n",
    "      format(((sum(tsc[(tsc['symbol']=='BTC')]['volume'])/(sum(tsc['volume']))) *100 )))"
   ]
  },
  {
   "cell_type": "markdown",
   "id": "4586ea5d",
   "metadata": {},
   "source": [
    "Mais de 36% do volume total negociado no período, entre as mais de 1500 moedas do nosso conjunto de dados, corresponde apenas as negociações de Bitcoin. Vamos conferir a mesma informação para Ether agora."
   ]
  },
  {
   "cell_type": "code",
   "execution_count": 19,
   "id": "ecdd5808",
   "metadata": {},
   "outputs": [
    {
     "name": "stdout",
     "output_type": "stream",
     "text": [
      "Volume total de Ether negociado no período: 1034702453425.0\n",
      "\n",
      "Percentual do volume de Ether em relação ao volume total negociado: 12.59%\n"
     ]
    }
   ],
   "source": [
    "print('Volume total de Ether negociado no período:', sum(tsc[(tsc['symbol']=='ETH')]['volume']))\n",
    "print()\n",
    "print('Percentual do volume de Ether em relação ao volume total negociado: {0:.2f}%'.\n",
    "      format(((sum(tsc[(tsc['symbol']=='ETH')]['volume'])/(sum(tsc['volume']))) *100 )))"
   ]
  },
  {
   "cell_type": "markdown",
   "id": "5b3c9d4c",
   "metadata": {},
   "source": [
    "O Ether é responsável por 12,59% das negociações do período. Somados, temos quase metade de todo mercado de criptomoedas do nosso conjunto de dados. Isso demonstra como essas duas moedas são representativas e termômetros do mercado.\n",
    "\n",
    "Vamos criar uma fatia dos nossos dados com as informações sobre o preço médio de fechamento e a soma do volume mensal do Bitcoin e criar dois gráficos: um com a variação do preço e outra com a variação do volume."
   ]
  },
  {
   "cell_type": "code",
   "execution_count": 20,
   "id": "0fea1aa2",
   "metadata": {},
   "outputs": [
    {
     "data": {
      "image/png": "[encoded data removed]",
      "text/plain": [
       "<Figure size 1000x600 with 1 Axes>"
      ]
     },
     "metadata": {},
     "output_type": "display_data"
    },
    {
     "data": {
      "image/png": "[encoded data removed]",
      "text/plain": [
       "<Figure size 1000x600 with 1 Axes>"
      ]
     },
     "metadata": {},
     "output_type": "display_data"
    }
   ],
   "source": [
    "# Criando a tabela \"btc_tsc\" com os dados sobre BTC agrupadas por mês\n",
    "btc_tsc = tsc[(tsc['symbol']=='BTC')].groupby('mês', as_index=False).agg({'close':'mean', 'volume':'sum'})\n",
    "\n",
    "# Criando os dois gráficos e exibindo\n",
    "plt.figure(figsize=(10,6))\n",
    "plt.plot(btc_tsc['mês'], btc_tsc['close'], marker='o', color='gold')\n",
    "plt.title('Variação de preço do Bitcoin por mês')\n",
    "plt.ylabel('Preço de fechamento')\n",
    "plt.xlabel('Meses')\n",
    "plt.show()\n",
    "plt.figure(figsize=(10,6))\n",
    "plt.bar(btc_tsc['mês'], btc_tsc['volume'], width=25, color='gold')\n",
    "plt.title('Variação de volume do Bitcoin por mês')\n",
    "plt.ylabel('Volume total mensal')\n",
    "plt.xlabel('Meses')\n",
    "plt.show()"
   ]
  },
  {
   "cell_type": "markdown",
   "id": "3e1c53dc",
   "metadata": {},
   "source": [
    "É visível a relação entre preço e volume, com os meses com maiores aumentos de preços coexistindo com os maiores volumes. Vamos ver se essa situação se repete com o Ether."
   ]
  },
  {
   "cell_type": "code",
   "execution_count": 21,
   "id": "7d79a76a",
   "metadata": {},
   "outputs": [
    {
     "data": {
      "image/png": "[encoded data removed]",
      "text/plain": [
       "<Figure size 1000x600 with 1 Axes>"
      ]
     },
     "metadata": {},
     "output_type": "display_data"
    },
    {
     "data": {
      "image/png": "[encoded data removed]",
      "text/plain": [
       "<Figure size 1000x600 with 1 Axes>"
      ]
     },
     "metadata": {},
     "output_type": "display_data"
    }
   ],
   "source": [
    "# Criando a tabela \"btc_tsc\" com os dados sobre BTC agrupadas por mês\n",
    "eth_tsc = tsc[(tsc['symbol']=='ETH')].groupby('mês', as_index=False).agg({'close':'mean', 'volume':'sum'})\n",
    "\n",
    "# Criando os dois gráficos e exibindo\n",
    "plt.figure(figsize=(10,6))\n",
    "plt.plot(eth_tsc['mês'], eth_tsc['close'], marker='o', color='grey')\n",
    "plt.title('Variação de preço do Ether por mês')\n",
    "plt.ylabel('Preço de fechamento')\n",
    "plt.xlabel('Meses')\n",
    "plt.show()\n",
    "plt.figure(figsize=(10,6))\n",
    "plt.bar(eth_tsc['mês'], eth_tsc['volume'], width=25, color='grey')\n",
    "plt.title('Variação de volume do Ether por mês')\n",
    "plt.ylabel('Volume total mensal')\n",
    "plt.xlabel('Meses')\n",
    "plt.show()"
   ]
  },
  {
   "cell_type": "markdown",
   "id": "d429e59f",
   "metadata": {},
   "source": [
    "A situação se repete para o Ether. Sem dúvida, volume alto é um indicativo da popularidade da moeda, já que significa que muitas pessoas a estão negociando. Porém, nos dois casos, há uma redução dos preços depois do pico no final de 2017/início de 2018, enquanto que o volume se reduz e mantém um nível bem maior que o anterior ao ponto máximo dos preços. Isso pode refletir como as moedas ganharam entusiastas e atraiu interesse de especuladores que mantém o volume alto mesmo com queda nos preços. Dessa forma, volume ajuda a entender a variação dos preços, mas não é o único fator determinante.\n",
    "\n",
    "Vamos passar agora para nossa análise principal: a comparação entre a variação dos preços das duas moedas e a sua taxa de pesquisa no Google. Vamos começar com o Bitcoin, montando um gráfico comparativo das duas variáveis. Primeiro, vamos ver se os nossos dois conjuntos de dados cobrem o mesmo período de tempo."
   ]
  },
  {
   "cell_type": "code",
   "execution_count": 22,
   "id": "5ffcc1d0",
   "metadata": {},
   "outputs": [
    {
     "name": "stdout",
     "output_type": "stream",
     "text": [
      "Informações sobre a distribuição dos dados sobre transações de BTC:\n",
      " count                               68\n",
      "mean     2016-01-15 21:10:35.294117632\n",
      "min                2013-04-01 00:00:00\n",
      "25%                2014-08-24 06:00:00\n",
      "50%                2016-01-16 12:00:00\n",
      "75%                2017-06-08 12:00:00\n",
      "max                2018-11-01 00:00:00\n",
      "Name: mês, dtype: object\n",
      "\n",
      "Informações sobre a distribuição dos dados sobre transações de ETH:\n",
      " count                     40\n",
      "mean     2017-03-17 02:24:00\n",
      "min      2015-08-01 00:00:00\n",
      "25%      2016-05-24 06:00:00\n",
      "50%      2017-03-16 12:00:00\n",
      "75%      2018-01-08 18:00:00\n",
      "max      2018-11-01 00:00:00\n",
      "Name: mês, dtype: object\n",
      "\n",
      "Informações sobre a distribuição dos dados sobre tendências de pesquisa:\n",
      " count                              227\n",
      "mean     2013-06-01 03:10:18.502202624\n",
      "min                2004-01-01 00:00:00\n",
      "25%                2008-09-16 00:00:00\n",
      "50%                2013-06-01 00:00:00\n",
      "75%                2018-02-15 00:00:00\n",
      "max                2022-11-01 00:00:00\n",
      "Name: mês, dtype: object\n"
     ]
    }
   ],
   "source": [
    "print('Informações sobre a distribuição dos dados sobre transações de BTC:\\n', btc_tsc['mês'].describe(datetime_is_numeric=True))\n",
    "print()\n",
    "print('Informações sobre a distribuição dos dados sobre transações de ETH:\\n', eth_tsc['mês'].describe(datetime_is_numeric=True))\n",
    "print()\n",
    "print('Informações sobre a distribuição dos dados sobre tendências de pesquisa:\\n', gt['mês'].describe(datetime_is_numeric=True))"
   ]
  },
  {
   "cell_type": "markdown",
   "id": "9c279e30",
   "metadata": {},
   "source": [
    "Os dados sobre as transações de Bitcoin vão de 04/2013 até 11/2018, os do Ether vão de 08/2015 a 11/2018. Já os dados sobre as tendências vão de 01/2004 a 11/2022. Logo, para que nossos gráficos descrevem o mesmo período, precisamos filtrar os dados sobre pesquisas pelo período coberto pelo conjunto de dados das transações de cada moeda."
   ]
  },
  {
   "cell_type": "code",
   "execution_count": 23,
   "id": "05482173",
   "metadata": {},
   "outputs": [],
   "source": [
    "# Filtrando os dados para BTC\n",
    "gt_btc = gt.loc[(gt['mês'] > '2013-04-01') & (gt['mês'] < '2018-11-01')].drop(columns='eth_trend', axis=1)\n",
    "\n",
    "# Filtrando os dados para ETH\n",
    "gt_eth = gt.loc[(gt['mês'] > '2015-08-01') & (gt['mês'] < '2018-11-01')].drop(columns='btc_trend', axis=1)"
   ]
  },
  {
   "cell_type": "markdown",
   "id": "c031c05c",
   "metadata": {},
   "source": [
    "Agora vamos montar nosso gráfico para o Bitcoin e sua taxa de pesquisa."
   ]
  },
  {
   "cell_type": "code",
   "execution_count": 24,
   "id": "34fc574c",
   "metadata": {},
   "outputs": [
    {
     "data": {
      "image/png": "[encoded data removed]",
      "text/plain": [
       "<Figure size 1000x600 with 2 Axes>"
      ]
     },
     "metadata": {},
     "output_type": "display_data"
    }
   ],
   "source": [
    "# Criando os objetos da figura e os eixos\n",
    "btc, btc_ax = plt.subplots(figsize=(10, 6))\n",
    "\n",
    "# Criando o gráfico para o preço\n",
    "btc_ax.plot(btc_tsc['mês'],\n",
    "            btc_tsc['close'],\n",
    "            color = 'gold',\n",
    "            marker='.',\n",
    "           label='Preço')\n",
    "btc_ax.legend(loc='upper left')\n",
    "\n",
    "# Criando o título dos primeiros eixos\n",
    "btc_ax.set_xlabel('Mês')\n",
    "btc_ax.set_ylabel('Preço do Bitcoin', color='gold')\n",
    "\n",
    "# Criando o segundo eixo\n",
    "btc_ax2 = btc_ax.twinx()\n",
    "\n",
    "# Criando o gráfico para as tendências e nomeando o segundo eixo\n",
    "btc_ax2.plot(gt_btc['mês'],\n",
    "            gt_btc['btc_trend'],\n",
    "            color='blue',\n",
    "            marker='.',\n",
    "            label='Pesquisas')\n",
    "btc_ax2.legend(loc='upper right')\n",
    "\n",
    "btc_ax2.set_ylabel('Pesquisas', color='blue')\n",
    "plt.show()"
   ]
  },
  {
   "cell_type": "markdown",
   "id": "43eccb66",
   "metadata": {},
   "source": [
    "A relação entre a popularidade relativa do Bitcoin nas pesquisas e o preço da moeda parecem seguir um caminho bem similar, com os dois gráficos tendo um pico no mesmo mês. As duas variáveis se movem em proximidade ao longo do período dos dados, com a popularidade oscilando para baixo de forma mais significativa depois do pico do que os preços. A alta na popularidade pode ter sido um efeito da curiosidade das pessoas sobre a moeda que, depois de aprenderem sobre o Bitcoin, não voltaram a pesquisar depois.\n",
    "\n",
    "Vamos ver como esse gráfico se parece para o Ether."
   ]
  },
  {
   "cell_type": "code",
   "execution_count": 25,
   "id": "5a347ac7",
   "metadata": {},
   "outputs": [
    {
     "data": {
      "image/png": "[encoded data removed]",
      "text/plain": [
       "<Figure size 1000x600 with 2 Axes>"
      ]
     },
     "metadata": {},
     "output_type": "display_data"
    }
   ],
   "source": [
    "# Criando os objetos da figura e os eixos\n",
    "eth, eth_ax = plt.subplots(figsize=(10, 6))\n",
    "\n",
    "# Criando o gráfico para o preço\n",
    "eth_ax.plot(eth_tsc['mês'],\n",
    "            eth_tsc['close'],\n",
    "            color = 'grey',\n",
    "            marker='.',\n",
    "           label='Preço')\n",
    "eth_ax.legend(loc='upper left')\n",
    "\n",
    "# Criando o título dos primeiros eixos\n",
    "eth_ax.set_xlabel('Mês')\n",
    "eth_ax.set_ylabel('Preço do Ether', color='grey')\n",
    "\n",
    "# Criando o segundo eixo\n",
    "eth_ax2 = eth_ax.twinx()\n",
    "\n",
    "# Criando o gráfico para as tendências e nomeando o segundo eixo\n",
    "eth_ax2.plot(gt_eth['mês'],\n",
    "            gt_eth['eth_trend'],\n",
    "            color='blue',\n",
    "            marker='.',\n",
    "            label='Pesquisas')\n",
    "eth_ax2.legend(loc='upper right')\n",
    "\n",
    "eth_ax2.set_ylabel('Pesquisas', color='blue')\n",
    "plt.show()"
   ]
  },
  {
   "cell_type": "markdown",
   "id": "263532ae",
   "metadata": {},
   "source": [
    "No caso do Ether a relação é menos linear: o aumento das pesquisas e do preço ocorre em um período similar, mas a oscilação das variáveis é bem maior. A diferença na dimensão das variações também é maior que no caso do Bitcoin.\n",
    "\n",
    "Para embasar um pouco mais nossa análise, vamos calcular o coeficiente de correlação linear entre as variáveis. Antes, vamos fundir nossas tabelas e excluir as colunas que não serão analisadas."
   ]
  },
  {
   "cell_type": "code",
   "execution_count": 26,
   "id": "50aca42c",
   "metadata": {},
   "outputs": [],
   "source": [
    "# Unindo as tabelas\n",
    "tsc_gt = tsc.merge(gt, on='mês', how='left')\n",
    "\n",
    "# Excluindo as colunas e os dados que não utilizaremos\n",
    "tsc_gt = tsc_gt[['symbol', 'close', 'volume', 'mês', 'btc_trend', 'eth_trend']]\n",
    "btc_corr = tsc_gt[(tsc_gt['symbol']=='BTC')]\n",
    "eth_corr =  tsc_gt[(tsc_gt['symbol']=='ETH')]"
   ]
  },
  {
   "cell_type": "markdown",
   "id": "fd93cb60",
   "metadata": {},
   "source": [
    "Agora vamos ver a matriz de correlação do Bitcoin:"
   ]
  },
  {
   "cell_type": "code",
   "execution_count": 27,
   "id": "f289cf0d",
   "metadata": {},
   "outputs": [
    {
     "data": {
      "text/html": [
       "<div>\n",
       "<style scoped>\n",
       "    .dataframe tbody tr th:only-of-type {\n",
       "        vertical-align: middle;\n",
       "    }\n",
       "\n",
       "    .dataframe tbody tr th {\n",
       "        vertical-align: top;\n",
       "    }\n",
       "\n",
       "    .dataframe thead th {\n",
       "        text-align: right;\n",
       "    }\n",
       "</style>\n",
       "<table border=\"1\" class=\"dataframe\">\n",
       "  <thead>\n",
       "    <tr style=\"text-align: right;\">\n",
       "      <th></th>\n",
       "      <th>close</th>\n",
       "      <th>volume</th>\n",
       "      <th>btc_trend</th>\n",
       "      <th>eth_trend</th>\n",
       "    </tr>\n",
       "  </thead>\n",
       "  <tbody>\n",
       "    <tr>\n",
       "      <th>close</th>\n",
       "      <td>1.000000</td>\n",
       "      <td>0.941103</td>\n",
       "      <td>0.851649</td>\n",
       "      <td>0.808777</td>\n",
       "    </tr>\n",
       "    <tr>\n",
       "      <th>volume</th>\n",
       "      <td>0.941103</td>\n",
       "      <td>1.000000</td>\n",
       "      <td>0.831755</td>\n",
       "      <td>0.785538</td>\n",
       "    </tr>\n",
       "    <tr>\n",
       "      <th>btc_trend</th>\n",
       "      <td>0.851649</td>\n",
       "      <td>0.831755</td>\n",
       "      <td>1.000000</td>\n",
       "      <td>0.894879</td>\n",
       "    </tr>\n",
       "    <tr>\n",
       "      <th>eth_trend</th>\n",
       "      <td>0.808777</td>\n",
       "      <td>0.785538</td>\n",
       "      <td>0.894879</td>\n",
       "      <td>1.000000</td>\n",
       "    </tr>\n",
       "  </tbody>\n",
       "</table>\n",
       "</div>"
      ],
      "text/plain": [
       "              close    volume  btc_trend  eth_trend\n",
       "close      1.000000  0.941103   0.851649   0.808777\n",
       "volume     0.941103  1.000000   0.831755   0.785538\n",
       "btc_trend  0.851649  0.831755   1.000000   0.894879\n",
       "eth_trend  0.808777  0.785538   0.894879   1.000000"
      ]
     },
     "execution_count": 27,
     "metadata": {},
     "output_type": "execute_result"
    }
   ],
   "source": [
    "btc_corr.corr()"
   ]
  },
  {
   "cell_type": "markdown",
   "id": "80254943",
   "metadata": {},
   "source": [
    "Vemos que há uma forte correlação linear tanto entre o volume e o preço, quanto entre as pesquisas e o preço do BTC. O mesmo podemos afirmar entre as pesquisas e o volume. Outro fator interessante, que demonstra a relação entre as duas criptomoedas que selecionados, é o coeficiente de 0,8 para a correlação das pesquisas sobre Ether e o preço do Bitcoin.\n",
    "\n",
    "Vejamos a matriz de correlação para o Ether agora:"
   ]
  },
  {
   "cell_type": "code",
   "execution_count": 28,
   "id": "1c9532ba",
   "metadata": {},
   "outputs": [
    {
     "data": {
      "text/html": [
       "<div>\n",
       "<style scoped>\n",
       "    .dataframe tbody tr th:only-of-type {\n",
       "        vertical-align: middle;\n",
       "    }\n",
       "\n",
       "    .dataframe tbody tr th {\n",
       "        vertical-align: top;\n",
       "    }\n",
       "\n",
       "    .dataframe thead th {\n",
       "        text-align: right;\n",
       "    }\n",
       "</style>\n",
       "<table border=\"1\" class=\"dataframe\">\n",
       "  <thead>\n",
       "    <tr style=\"text-align: right;\">\n",
       "      <th></th>\n",
       "      <th>close</th>\n",
       "      <th>volume</th>\n",
       "      <th>btc_trend</th>\n",
       "      <th>eth_trend</th>\n",
       "    </tr>\n",
       "  </thead>\n",
       "  <tbody>\n",
       "    <tr>\n",
       "      <th>close</th>\n",
       "      <td>1.000000</td>\n",
       "      <td>0.876529</td>\n",
       "      <td>0.721196</td>\n",
       "      <td>0.758807</td>\n",
       "    </tr>\n",
       "    <tr>\n",
       "      <th>volume</th>\n",
       "      <td>0.876529</td>\n",
       "      <td>1.000000</td>\n",
       "      <td>0.643372</td>\n",
       "      <td>0.689435</td>\n",
       "    </tr>\n",
       "    <tr>\n",
       "      <th>btc_trend</th>\n",
       "      <td>0.721196</td>\n",
       "      <td>0.643372</td>\n",
       "      <td>1.000000</td>\n",
       "      <td>0.889117</td>\n",
       "    </tr>\n",
       "    <tr>\n",
       "      <th>eth_trend</th>\n",
       "      <td>0.758807</td>\n",
       "      <td>0.689435</td>\n",
       "      <td>0.889117</td>\n",
       "      <td>1.000000</td>\n",
       "    </tr>\n",
       "  </tbody>\n",
       "</table>\n",
       "</div>"
      ],
      "text/plain": [
       "              close    volume  btc_trend  eth_trend\n",
       "close      1.000000  0.876529   0.721196   0.758807\n",
       "volume     0.876529  1.000000   0.643372   0.689435\n",
       "btc_trend  0.721196  0.643372   1.000000   0.889117\n",
       "eth_trend  0.758807  0.689435   0.889117   1.000000"
      ]
     },
     "execution_count": 28,
     "metadata": {},
     "output_type": "execute_result"
    }
   ],
   "source": [
    "eth_corr.corr()"
   ]
  },
  {
   "cell_type": "markdown",
   "id": "21401da5",
   "metadata": {},
   "source": [
    "Aqui, como era previsto, não temos uma correlação tão forte entre o preço e as pesquisas, mas ela existe. De maneira similar, vemos como as pesquisas por Bitcoin se relacionam ao preço do Ether, e como as pesquisas se correlacionam entre si. Porém, é importante salientar, que essa correlação estimada é apenas linear, ou seja, pode existir outras formas de correlação que apontem relações ainda mais fortes entre as variáveis."
   ]
  },
  {
   "cell_type": "markdown",
   "id": "09175e19",
   "metadata": {},
   "source": [
    "## Conclusões\n",
    "\n",
    "Vimos como Bitcoin e Ether são responsáveis por uma fatia considerável do mercado cripto: quase 50% do volume de transações das mais de 1500 moedas do nosso conjunto de dados. Essa característica faz dessas duas moedas boas representantes desse mercado.\n",
    "\n",
    "No périodo dos dados, o volume de transações acompanhou de perto as variações de preço, o que demonstra a relação entre a quantidade de pessoas negociando (e os montantes negociado) e as variações de preço das moedas.\n",
    "\n",
    "Além do volume, pudemos conferir como as pesquisas no Google pelo nome da criptomoeda está correlacionada ao seu preço. Esse fenômeno se mostrou mais intenso em relação ao Bitcoin, mas o Ether não ficou tão atrás. Tanto os gráficos, como o coeficiente de correlação linear, demonstram a existência dessa relação.\n",
    "\n",
    "Em conclusão, notamos como a popularidade dessas moedas se relaciona com seu preço e podemos confirmar a impressão que muitos investidores tem de que, quando os preços sobem, todo mundo começa a comentar sobre as moedas. Seja o preço afetado pela popularidade, a popularidade afetada pelo preço, ou se os dois variam juntos por força de alguma outra variável, não é possível afirmar no âmbito dessa análise."
   ]
  },
  {
   "cell_type": "markdown",
   "id": "c30d434d",
   "metadata": {},
   "source": [
    "### Para saber mais\n",
    "\n",
    "* [CryptoZombies](https://cryptozombies.io/pt/course \"CryptoZombies - Tutorial de Solidity e blockchain de Ethereum\"): O CryptoZombies é uma plataforma de ensino interativa onde você pode aprender desde os conceitos básicos sobre blockchain e criptomoedas, até ideias avançadas sobre contratos inteligentes e NFTs.\n",
    "* [If You Can: How Millennials Can Get Rich Slowly](http://efficientfrontier.com/ef/0adhoc/ifyoucan.pdf \"If You Can How Millennials Can Get Rich Slowly por William J. Bernstein\"): Se você se interessa por investimentos e não sabe por onde começar, esse livreto escrito pelo pesquisador estadunidense William J. Bernstein, dispobilizado gratuitamente, traz uma introdução aos principais conceitos e sugestões financeiras que você pode seguir de forma prática e segura."
   ]
  }
 ],
 "metadata": {
  "kernelspec": {
   "display_name": "Python 3 (ipykernel)",
   "language": "python",
   "name": "python3"
  },
  "language_info": {
   "codemirror_mode": {
    "name": "ipython",
    "version": 3
   },
   "file_extension": ".py",
   "mimetype": "text/x-python",
   "name": "python",
   "nbconvert_exporter": "python",
   "pygments_lexer": "ipython3",
   "version": "3.8.8"
  }
 },
 "nbformat": 4,
 "nbformat_minor": 5
}
